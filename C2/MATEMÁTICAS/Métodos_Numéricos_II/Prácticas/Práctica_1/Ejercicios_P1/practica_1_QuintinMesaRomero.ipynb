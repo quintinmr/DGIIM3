{
  "metadata": {
    "kernelspec": {
      "name": "python",
      "display_name": "Python (Pyodide)",
      "language": "python"
    },
    "language_info": {
      "codemirror_mode": {
        "name": "python",
        "version": 3
      },
      "file_extension": ".py",
      "mimetype": "text/x-python",
      "name": "python",
      "nbconvert_exporter": "python",
      "pygments_lexer": "ipython3",
      "version": "3.8"
    }
  },
  "nbformat_minor": 4,
  "nbformat": 4,
  "cells": [
    {
      "cell_type": "markdown",
      "source": "# PRÁCTICA 1",
      "metadata": {}
    },
    {
      "cell_type": "code",
      "source": "#Importacion de la biblioteca de numpy con el alias np\nimport numpy as np\n#Importacion de la biblioteca matplotlib con el alias plt\n%matplotlib inline\nimport matplotlib.pyplot as plt\n#Importacion de la biblioteca sympy con el alias sp\nimport sympy as sp\n#Importacion de la biblioteca decimal (trabajar con precision ajustada)\nfrom decimal import *\nmporig = getcontext().prec\n#Importación de la función fsolve\nfrom scipy.optimize import fsolve\n#Importación de los solucionadores de sympy\nfrom sympy.solvers import solve, nsolve, solveset\n#Importación de los métodos ceil y floor de la biblioteca Math\nfrom math import ceil, floor\n\nx = sp.Symbol('x')",
      "metadata": {
        "trusted": true
      },
      "execution_count": 123,
      "outputs": []
    },
    {
      "cell_type": "markdown",
      "source": "## Ejercicio 0\nEn este ejercicio planteo otra forma de escribir el código del método de bisección para la resolución de ecuaciones no lineales.\nNo difiere mucho del código original. El objetivo de hacer este ejercicio es para familiarizarme con el lenguaje y con el métido en sí.",
      "metadata": {}
    },
    {
      "cell_type": "code",
      "source": "# Método de bisección\n'''\nnum_it = 0\n\n\nfor i in range(nmax):\n    c = (a+b)/2\n    num_it=num_it+1\n    if (abs(f(c)) < prec):\n        print(\"Se ha alcanzado la precisión requerida. Posible sol: \", c) \n        break\n    if (f(a)*f(c) < 0):\n         b = c\n    else: \n        a = c\n    if b-a < tol:\n        print(\"Intervalo con mucha precisión. Aproximación solicitada: \", c) \n        break\n\nprint(\"Solución exacta: \", sol_exact)\nprint(\"Numero de iteraciones requerido: \", num_it)\n\n'''",
      "metadata": {
        "vscode": {
          "languageId": "python"
        },
        "trusted": true
      },
      "execution_count": 124,
      "outputs": [
        {
          "execution_count": 124,
          "output_type": "execute_result",
          "data": {
            "text/plain": "'\\nnum_it = 0\\n\\n\\nfor i in range(nmax):\\n    c = (a+b)/2\\n    num_it=num_it+1\\n    if (abs(f(c)) < prec):\\n        print(\"Se ha alcanzado la precisión requerida. Posible sol: \", c) \\n        break\\n    if (f(a)*f(c) < 0):\\n         b = c\\n    else: \\n        a = c\\n    if b-a < tol:\\n        print(\"Intervalo con mucha precisión. Aproximación solicitada: \", c) \\n        break\\n\\nprint(\"Solución exacta: \", sol_exact)\\nprint(\"Numero de iteraciones requerido: \", num_it)\\n\\n'"
          },
          "metadata": {}
        }
      ]
    },
    {
      "cell_type": "markdown",
      "source": "## Ejercicio 0.5\n\nModifique cualquiera de estos códigos con el objeto de implementar el conocido algoritmo de regula-falsi, en el que se obtiene el punto $c$ no como el punto medio entre $a$ y $b$, sino como el punto de corte con el eje $Ox$ de la recta que une los puntos $(a,f(a))$ y $(b,f(b))$, tal y como se muestra también en el siguiente método de la secante.",
      "metadata": {}
    },
    {
      "cell_type": "code",
      "source": "# Método regula-falsi\n'''\nnum_it = 0\n\nfor i in range(nmax):\n    c = b - ((a-b)*f(b))/(f(a)-f(b))\n    num_it=num_it+1\n    if (abs(f(c)) < prec):\n        print(\"Se ha alcanzado la precisión requerida. Posible sol: \", c) \n        break\n    if (f(a)*f(c) < 0):\n         b = c\n    else: \n        a = c\n    if b-a < tol:\n        print(\"Intervalo con mucha precisión. Aproximación solicitada: \", c) \n        break\n\nprint(\"Solución exacta: \", sol_exact)\nprint(\"Numero de iteraciones requerido: \", num_it)\n'''",
      "metadata": {
        "vscode": {
          "languageId": "python"
        },
        "trusted": true
      },
      "execution_count": 125,
      "outputs": [
        {
          "execution_count": 125,
          "output_type": "execute_result",
          "data": {
            "text/plain": "'\\nnum_it = 0\\n\\nfor i in range(nmax):\\n    c = b - ((a-b)*f(b))/(f(a)-f(b))\\n    num_it=num_it+1\\n    if (abs(f(c)) < prec):\\n        print(\"Se ha alcanzado la precisión requerida. Posible sol: \", c) \\n        break\\n    if (f(a)*f(c) < 0):\\n         b = c\\n    else: \\n        a = c\\n    if b-a < tol:\\n        print(\"Intervalo con mucha precisión. Aproximación solicitada: \", c) \\n        break\\n\\nprint(\"Solución exacta: \", sol_exact)\\nprint(\"Numero de iteraciones requerido: \", num_it)\\n'"
          },
          "metadata": {}
        }
      ]
    },
    {
      "cell_type": "markdown",
      "source": "#### Salida:\n    Intervalo con mucha precisión. Aproximación solicitada:  1.0986122886618854\n\n    Solución exacta:  log(3)\n\n    Numero de iteraciones requerido:  1",
      "metadata": {}
    },
    {
      "cell_type": "markdown",
      "source": "---------------------------------------------------------------------------------------------------------------------------\n\n# RELACIÓN DE EJERCICIOS\n\n---------------------------------------------------------------------------------------------------------------------------",
      "metadata": {}
    },
    {
      "cell_type": "markdown",
      "source": "Función destinada al cálculo de raíces de una función dada, en una variable dada.",
      "metadata": {}
    },
    {
      "cell_type": "code",
      "source": "def sol_exact(f,x,todas=True):\n    # Función que calcula las soluciones de una ecuación\n    try:\n        soluciones = sp.solve(f(x),x)\n        num_sols   = len(soluciones)\n        if todas==True:\n            print(\"Se han encontrado : {} soluciones\".format(num_sols))\n            for i in range(num_sols):\n                print(\"Solución {}: {}\".format(i+1,soluciones[i].evalf()))\n        return soluciones,num_sols\n    except NotImplementedError:\n        print(\"No existen soluciones para esta ecuación : {}\".format(f(x))) ",
      "metadata": {
        "vscode": {
          "languageId": "python"
        },
        "trusted": true
      },
      "execution_count": 126,
      "outputs": []
    },
    {
      "cell_type": "code",
      "source": "# Función que, en caso de que en la llamada al método de bisección, no se aporten cifras de precision, calcula\n# estas en función de la precisión indicada como argumento.\ndef calc_cifras(precision):\n    \n    return int(np.ceil(abs(np.log10(precision))))",
      "metadata": {
        "vscode": {
          "languageId": "python"
        },
        "trusted": true
      },
      "execution_count": 127,
      "outputs": []
    },
    {
      "cell_type": "code",
      "source": "#Función que permite calcular el número de iteraciones necesarias en el método de bisección para llegar a la aproximación de la solución, con un\n#error dado\ndef num_iter(a,b,cifras):\n    \n    n = np.log((b-a)/10**(-cifras))/np.log(2) - 1\n    return ceil(n)",
      "metadata": {
        "vscode": {
          "languageId": "python"
        },
        "trusted": true
      },
      "execution_count": 128,
      "outputs": []
    },
    {
      "cell_type": "markdown",
      "source": "### Método de Bisección",
      "metadata": {}
    },
    {
      "cell_type": "code",
      "source": "# Método de bisección\n# Vamos a encapsular el método de bisección en una función\n\ndef biseccion (a, b, f, cifras=16,muestra=True, nmax=100, prec=10**(-16)):\n\n    niter = 0\n    terms = []\n\n    if (cifras <= 0):\n        cifras = calc_cifras(prec)\n     \n    tol = 10**(-cifras+1)\n    getcontext().prec = cifras\n    \n    a=Decimal(a)\n    b=Decimal(b)\n\n    for i in range(nmax):\n        niter = niter + 1\n        c = (a+b)/2\n        terms.append(float(c))\n        if (abs(f(c)) < prec):\n            p = \"Precision\"\n            break\n        if (f(a)*f(c) <= 0):\n            b = c\n        else: \n            a = c\n        if b-a < tol:\n            p = \"Tolerance\"\n            break\n    \n    if (muestra):\n        print(\"MÉTODO DE BISECCIÓN APLICADO A LA ECUACIÓN: \", f(x))\n        \n        if (p == \"Precision\"):\n            print(\"Se ha alcanzado la precisión requerida. Posible solución exacta: \", c )\n        elif niter < nmax:\n            print(\"Aproximación con decimales: \", c)\n        else:\n            print(\"Intervalo con maxima tolerancia. Aproximación solicitada: \", c)\n\n        print(\"Numero de iteraciones requerido: \", niter)\n\n    return terms\n",
      "metadata": {
        "vscode": {
          "languageId": "python"
        },
        "trusted": true
      },
      "execution_count": 129,
      "outputs": []
    },
    {
      "cell_type": "markdown",
      "source": "### Método de Newton-Raphson",
      "metadata": {}
    },
    {
      "cell_type": "code",
      "source": "# Método de Newton-Raphson\n# Vamos a encapsular el método de Newton-Raphson en una función\ndef newton_raphson(b, f, deriv, cifras=16, muestra=True, nmax=100, prec=10**(-16)):\n\n    x0=Decimal(b)\n    \n    tol = 10**(-cifras+1)\n\n    getcontext().prec = cifras\n\n    niter = 0\n    terms = [b]\n\n    for k in range(nmax):\n        niter = niter + 1\n        x1 = x0 - f(x0)/deriv(x0)  # método de Newton-Raphson\n        terms.append(float(x1))\n        if abs(x1-x0) < tol:\n            p = 'tolerancia'\n            break\n        if abs(f(x1)) < prec:\n            p = 'precision'\n            break\n        else:\n            x0 = x1\n\n    if (muestra):\n        #print(\"MÉTODO DE NEWTON-RAPHSON APLICADO A LA ECUACIÓN: \", f(x))\n        if (p == \"Precision\"):\n            print(\"Se ha alcanzado la precisión requerida. Posible aproximación: \", x1)\n        else:\n            print(\"Intervalo con maxima tolerancia. Aproximación solicitada: \", x1)\n\n        print(\"Numero de iteraciones requerido: \", niter)\n\n    getcontext().prec = mporig # Se restaura la precisión por defecto\n\n    return terms",
      "metadata": {
        "vscode": {
          "languageId": "python"
        },
        "trusted": true
      },
      "execution_count": 130,
      "outputs": []
    },
    {
      "cell_type": "code",
      "source": "# Función que determina si una función cambia de signo en un intervalo dado:\ndef sgn(f,a,b):\n    if f(a)*f(b) < 0:\n        print(\"Sí hay cambio de signo: Hay raíz\")\n    else:\n        print(\"No hay cambio de signo: No hay raíz\")",
      "metadata": {
        "vscode": {
          "languageId": "python"
        },
        "trusted": true
      },
      "execution_count": 131,
      "outputs": []
    },
    {
      "cell_type": "markdown",
      "source": "# EJERCICIO 1\n\nDemuestre que la ecuación  $x^3+4 x^2=10  $  tiene una única raíz en el intervalo $[1,2]$.  Aproxime dicha raíz con el método de bisección con al menos 3 cifras decimales exactas. ¿Cuántas iteraciones serán necesarias para conseguir 5 cifras decimales exactas (tol =$10^{-5}$)?  Aproxime también la raíz con el método de Newton-Raphson partiendo del extremo adecuado hasta que la diferencia en valor absoluto, entre dos aproximaciones consecutivas sea  inferior a  $10^{-3}$.",
      "metadata": {}
    },
    {
      "cell_type": "markdown",
      "source": "Probemos en primer lugar que dicha ecuación posee una única ecuación. Sea $f: [1,2] \\rightarrow [1,2]$ la aplicación dada por $f(x) = x^{3} + 4x^{2} - 10$, la cual claramente es continua en todo el intervalo y además derivable por ser una función polinómica (en particular es derivable en todo $\\mathbb{R}$). Es por ello que podemos aplicar el **teorema de Bolzano** para comprobar que la ecuación tiene **al menos** una raíz real: si $f(1) \\cdot f(2) < 0$ entonces la función posee al menos una raíz real en el intervalo $[1,2]$. Veámoslo haciendo uso de una función de python que determina si hay cambio de signo en el intervalo y, por consiguiente, si hay raíz dentro del mismo:\n\n\n\n",
      "metadata": {}
    },
    {
      "cell_type": "code",
      "source": "a = 1; b = 2",
      "metadata": {
        "vscode": {
          "languageId": "python"
        },
        "trusted": true
      },
      "execution_count": 132,
      "outputs": []
    },
    {
      "cell_type": "code",
      "source": "def f(x):\n\n    return x**3 + 4*x**2 - 10",
      "metadata": {
        "vscode": {
          "languageId": "python"
        },
        "trusted": true
      },
      "execution_count": 133,
      "outputs": []
    },
    {
      "cell_type": "code",
      "source": "sgn(f,a,b)",
      "metadata": {
        "vscode": {
          "languageId": "python"
        },
        "trusted": true
      },
      "execution_count": 134,
      "outputs": [
        {
          "name": "stdout",
          "text": "Sí hay cambio de signo: Hay raíz\n",
          "output_type": "stream"
        }
      ]
    },
    {
      "cell_type": "markdown",
      "source": "La función nos informa por tanto de que $f(1)\\cdot f(2) < 0$ así que el Teorema de Bolzano nos dice que la función posee al menos una raíz en el intervalo $[1,2]$.\n\nProbemos ahora que dicha solución, necesariamente ha de ser única. Calculemos la derivada de $f$:\n\n> $f^{'}(x) = 3x^{2} + 8x^{2}$\n\nClaramente, $f'(x) > 0 \\forall x \\in [1,2]$. Es por ello que la función $f$ es estrictamente creciente en dicho intervalo y, por consiguiente, de cortar al eje $OX$, solo lo hará una única vez. Concluimos por tanto que la raíz que el teorema de Bolzano afirmaba que existía, es única.\n\nA continuación, vamos a aproximar dicha raíz con al menos 3 cifras decimales exactas, aplicando para ello el método de bisección:",
      "metadata": {}
    },
    {
      "cell_type": "code",
      "source": "sol,n = sol_exact(f,x)",
      "metadata": {
        "vscode": {
          "languageId": "python"
        },
        "trusted": true
      },
      "execution_count": 135,
      "outputs": [
        {
          "name": "stdout",
          "text": "Se han encontrado : 3 soluciones\nSolución 1: -2.68261500670705 - 0.358259359924043*I\nSolución 2: -2.68261500670705 + 0.358259359924043*I\nSolución 3: 1.36523001341410\n",
          "output_type": "stream"
        }
      ]
    },
    {
      "cell_type": "code",
      "source": "# Calculemos la aproximación de la solución requerida\n\n# Número de cifras significativas\ncifras = 4\n#Aplicamos método de Bisección\nbise = biseccion(a,b,f,cifras,True)",
      "metadata": {
        "vscode": {
          "languageId": "python"
        },
        "trusted": true
      },
      "execution_count": 136,
      "outputs": [
        {
          "name": "stdout",
          "text": "MÉTODO DE BISECCIÓN APLICADO A LA ECUACIÓN:  x**3 + 4*x**2 - 10\nAproximación con decimales:  1.365\nNumero de iteraciones requerido:  10\n",
          "output_type": "stream"
        }
      ]
    },
    {
      "cell_type": "markdown",
      "source": "A continuación vamos a estimar el número de iteraciones necesarias para conseguir 5 cifras decimales exactas (tol =$10^{-5}$).\n\nEl método de bisección nos permite calcular previamente el número de iteraciones necesarias para obtener la solución con un error inferior a uno dado. Efectivamente, si partimos por ejemplo del único intervalo de amplitud unidad en el que se encuentra la solución $s$, el $[1,2]$ y deseamos una solución con error menor que $10^{-5}$, entonces, teniendo en cuenta que según el Teorema que expone las propiedades del método de bisección: \"La sucesión de errores $\\{e_{n}\\}_{n\\geq 0}$ cumple $|e_{n}| < \\frac{1}{2^{n+1}} (b-a)$\", podemos imponer\n\n<center>\n\n$|e_{n}| < \\frac{2-1}{2^{n+1}} \\leq 10^{-5}$\n\n</center>\n\nde donde\n\n<center>\n\n$2^{n+1} \\geq \\frac{1}{10^{-5}} \\Rightarrow n \\geq log_{2}\\frac{1}{10^{-5}} - 1 = \\frac{ln \\frac{1}{10^{-5}}}{ln 2} - 1$\n\n</center>\n\nAsí, obtenemos que \n\n<center>\n\n$n \\geq \\frac{ln \\frac{1}{10^{-5}}}{ln 2} - 1 \\Longleftrightarrow n \\geq 15.60964047 ... \\Rightarrow n = 16$\n\n</center>\n\nPara obtener un error inferior a $10^{-5}$ con el método de bisección son necesarias $16$ iteraciones.",
      "metadata": {}
    },
    {
      "cell_type": "markdown",
      "source": "Hecho que podemos comprobar con la salida de la función:",
      "metadata": {}
    },
    {
      "cell_type": "code",
      "source": "cifras = 5\nprint(\"Número de iteraciones necesarias para obtener un error inferior a 10⁻⁵: \", num_iter(a,b,cifras) )",
      "metadata": {
        "vscode": {
          "languageId": "python"
        },
        "trusted": true
      },
      "execution_count": 137,
      "outputs": [
        {
          "name": "stdout",
          "text": "Número de iteraciones necesarias para obtener un error inferior a 10⁻⁵:  16\n",
          "output_type": "stream"
        }
      ]
    },
    {
      "cell_type": "markdown",
      "source": "Por último vamos a hallar la aproximación de la solución con el método de Newton-Raphson hasta conseguir un error inferior a $10^{-3}$",
      "metadata": {}
    },
    {
      "cell_type": "code",
      "source": "def deriv(x):\n    return 3*x**2+8*x",
      "metadata": {
        "vscode": {
          "languageId": "python"
        },
        "trusted": true
      },
      "execution_count": 138,
      "outputs": []
    },
    {
      "cell_type": "code",
      "source": "# Calculemos la aproximación de la solución requerida\nv0 = 1\ncifras = 4\nnr = newton_raphson(v0,f,deriv,cifras,True)",
      "metadata": {
        "vscode": {
          "languageId": "python"
        },
        "trusted": true
      },
      "execution_count": 139,
      "outputs": [
        {
          "name": "stdout",
          "text": "Intervalo con maxima tolerancia. Aproximación solicitada:  1.365\nNumero de iteraciones requerido:  4\n",
          "output_type": "stream"
        }
      ]
    },
    {
      "cell_type": "markdown",
      "source": "# EJERCICIO 2\n\nEncuentre una aproximación de la raíz cúbica de 25 con dos decimales exactos (tol =$10^{-2}$), usando el algoritmo de bisección.\n",
      "metadata": {}
    },
    {
      "cell_type": "markdown",
      "source": "Sea $g: \\mathbb{R} \\longrightarrow \\mathbb{R}$ una aplicación dada por $g(x) = \\sqrt[3]{x}$, que es claramente continua y derivable en todo su dominio de definición. Vamos a hacer una aproximación de dicha función aplicada al valor $25$ con dos decimales exactos. Es por ello que previamente a llevar a cabo dicho proceso de aproximación, vamos a ver cuál es el valor exacto de la raíz que se nos pide:",
      "metadata": {}
    },
    {
      "cell_type": "code",
      "source": "# Definición de la función raíz cúbica de x\ndef g(x):\n    return x**(1/3)\n\ncifras = 3 # tres cifras significativas de precisión.\ngetcontext().prec = int(cifras)\n\nn = float(25)\ng(n)\n# comprobamos la solución exacta\nprint(\"Valor exacto: \", round(g(n), cifras-1))",
      "metadata": {
        "vscode": {
          "languageId": "python"
        },
        "trusted": true
      },
      "execution_count": 140,
      "outputs": [
        {
          "name": "stdout",
          "text": "Valor exacto:  2.92\n",
          "output_type": "stream"
        }
      ]
    },
    {
      "cell_type": "markdown",
      "source": "Procedamos ahora a aplicar el método de bisección para aproximar dicha raíz a dos decimales exactos. Para ello, en primer lugar, observamos que podemos ver el enunciado del ejercicio desde otra perspectiva:\n\nSea $x$ el valor que buscamos\n\n<center>\n\n$x = \\sqrt[3]{25} \\Longleftrightarrow x^{3} - 25 = 0$\n\n</center>\n\nAhora sea $h: \\mathbb{R} \\longrightarrow \\mathbb{R}$ la aplicación dada por $h(x) = x^{3} - 25$, continua y derivable también en su dominio. El ejercicio se reduce a calcular una de sus raíces reales. Apliquemos entonces el método de bisección a esta función en el intervalo $[2,3]$:\n",
      "metadata": {}
    },
    {
      "cell_type": "code",
      "source": "def h(x):\n    \n    return x**3 - 25\n\nv1 = 2; v2 = 3",
      "metadata": {
        "vscode": {
          "languageId": "python"
        },
        "trusted": true
      },
      "execution_count": 141,
      "outputs": []
    },
    {
      "cell_type": "code",
      "source": "bise = biseccion(v1,v2,h,cifras,True)",
      "metadata": {
        "vscode": {
          "languageId": "python"
        },
        "trusted": true
      },
      "execution_count": 142,
      "outputs": [
        {
          "name": "stdout",
          "text": "MÉTODO DE BISECCIÓN APLICADO A LA ECUACIÓN:  x**3 - 25\nAproximación con decimales:  2.93\nNumero de iteraciones requerido:  7\n",
          "output_type": "stream"
        }
      ]
    },
    {
      "cell_type": "markdown",
      "source": "# EJERCICIO 3",
      "metadata": {}
    },
    {
      "cell_type": "markdown",
      "source": "Use el método de Newton-Raphson para aproximar las soluciones de las siguientes ecuaciones con tolerancia $10^{-5}$ , partiendo de un valor adecuado, próximo a cada una de ellas en cada caso.\n\ni) $x^3-x-1 = 0$  en $[1,2]$.\n\nii) $3x=2+x^2-e^x$.\n\niii) $x^2+10\\, cos x+x=0$.\n",
      "metadata": {}
    },
    {
      "cell_type": "markdown",
      "source": "Definamos en primer lugar todas las funciones dadas junto con su funcion derivada. Cada una de ellas es continua y derivable en $\\mathbb{R}$:",
      "metadata": {}
    },
    {
      "cell_type": "code",
      "source": "def f_1(x):\n\n    return x**3 - x - 1\n\ndef df_1(x):\n\n    return 3*x**2 - 1\n\ndef f_2(x):\n\n    return 3*x-2-x**2+np.exp(x)\n\ndef f_2_S(x):\n\n    return 3*x-2-x**2+sp.exp(x)\n\ndef df_2(x):\n\n    return 3 -2*x + np.exp(x)\n\ndef f_3(x):\n\n    return x**2+10*np.cos(x) + x\n\ndef f_3_S(x):\n\n    return x**2+10*sp.cos(x) + x\n\ndef df_3(x):\n\n    return 2*x-10*sp.sin(x) + 1\n",
      "metadata": {
        "vscode": {
          "languageId": "python"
        },
        "trusted": true
      },
      "execution_count": 143,
      "outputs": []
    },
    {
      "cell_type": "markdown",
      "source": "#### Función 1:",
      "metadata": {}
    },
    {
      "cell_type": "markdown",
      "source": "Hallemos en primer lugar las zaíces de la función 1:",
      "metadata": {}
    },
    {
      "cell_type": "code",
      "source": "v1 = sol_exact(f_1,x,todas=True)",
      "metadata": {
        "vscode": {
          "languageId": "python"
        },
        "trusted": true
      },
      "execution_count": 144,
      "outputs": [
        {
          "name": "stdout",
          "text": "Se han encontrado : 3 soluciones\nSolución 1: -0.662358978622373 - 0.562279512062301*I\nSolución 2: -0.662358978622373 + 0.562279512062301*I\nSolución 3: 1.32471795724475\n",
          "output_type": "stream"
        }
      ]
    },
    {
      "cell_type": "markdown",
      "source": "Nos centramos en la zaíz real que posee: **1.32471795724475**. Apliquemos entonces el Método de Newton-Raphson a dicha función para aproximar la solución que acabamos de ver en su forma exacta, con 6 cifras significativas (*tol*=$10^{-5}$) y partiendo de la semilla $x_{0} = 1.25$ por ejemplo:",
      "metadata": {}
    },
    {
      "cell_type": "code",
      "source": "# Calculemos la aproximación de la solución requerida\nv_inic = 1.25\ncifras = 6\nnr = newton_raphson(v_inic,f_1,df_1,cifras,True)\nprint(\"Solución exacta: \", float(v1[0][2]))",
      "metadata": {
        "vscode": {
          "languageId": "python"
        },
        "trusted": true
      },
      "execution_count": 145,
      "outputs": [
        {
          "name": "stdout",
          "text": "Intervalo con maxima tolerancia. Aproximación solicitada:  1.32472\nNumero de iteraciones requerido:  4\nSolución exacta:  1.324717957244746\n",
          "output_type": "stream"
        }
      ]
    },
    {
      "cell_type": "markdown",
      "source": "#### Función 2",
      "metadata": {}
    },
    {
      "cell_type": "markdown",
      "source": "Hallemos las raíces de esta seguna función:",
      "metadata": {}
    },
    {
      "cell_type": "code",
      "source": "v2 = sol_exact(f_2_S,x,todas=True)",
      "metadata": {
        "vscode": {
          "languageId": "python"
        },
        "trusted": true
      },
      "execution_count": 146,
      "outputs": [
        {
          "name": "stdout",
          "text": "No existen soluciones para esta ecuación : -x**2 + 3*x + exp(x) - 2\n",
          "output_type": "stream"
        }
      ]
    },
    {
      "cell_type": "markdown",
      "source": "Observamos que python no tiene una forma relativamente buena para calcular las razíces de esta función, aunque por la gráfica podemos ver que sí corta al eje $OX$",
      "metadata": {}
    },
    {
      "cell_type": "code",
      "source": "sp.plot(f_2_S(x),xlim=(-2.0,2.0),ylim=(-20,20))",
      "metadata": {
        "vscode": {
          "languageId": "python"
        },
        "trusted": true
      },
      "execution_count": 147,
      "outputs": [
        {
          "output_type": "display_data",
          "data": {
            "text/plain": "<Figure size 640x480 with 1 Axes>",
            "image/png": "[encoded data removed]"
          },
          "metadata": {}
        },
        {
          "execution_count": 147,
          "output_type": "execute_result",
          "data": {
            "text/plain": "<sympy.plotting.plot.Plot at 0x6162ba0>"
          },
          "metadata": {}
        }
      ]
    },
    {
      "cell_type": "markdown",
      "source": "Para obtener una aproximación de la solución dada la imposibilidad de calcularla de forma exacta, vamos a usar el Método de NR, utilizando una semilla adecuada para ello. Dicha semilla estará dentro del intervalo en el que se encuentre la solución (en el que haya un cambio de signo). Para ver dónde está la solución, ampliemos el gráfico",
      "metadata": {}
    },
    {
      "cell_type": "code",
      "source": "sp.plot(f_2_S(x),xlim=(0.0,0.5),ylim=(-1.0,1.0))",
      "metadata": {
        "vscode": {
          "languageId": "python"
        },
        "trusted": true
      },
      "execution_count": 148,
      "outputs": [
        {
          "output_type": "display_data",
          "data": {
            "text/plain": "<Figure size 640x480 with 1 Axes>",
            "image/png": "[encoded data removed]"
          },
          "metadata": {}
        },
        {
          "execution_count": 148,
          "output_type": "execute_result",
          "data": {
            "text/plain": "<sympy.plotting.plot.Plot at 0x624a520>"
          },
          "metadata": {}
        }
      ]
    },
    {
      "cell_type": "markdown",
      "source": "Claramente observamos que la función posee su raíz en el intervalo de amplitud 1, $[0.2,0.3]$. De hecho: ",
      "metadata": {}
    },
    {
      "cell_type": "code",
      "source": "sgn(f_2,0.2,0.3)",
      "metadata": {
        "vscode": {
          "languageId": "python"
        },
        "trusted": true
      },
      "execution_count": 149,
      "outputs": [
        {
          "name": "stdout",
          "text": "Sí hay cambio de signo: Hay raíz\n",
          "output_type": "stream"
        }
      ]
    },
    {
      "cell_type": "markdown",
      "source": "Es por ello que elegiremos la semilla en este intervalo. Sea $x_{0} = 0.3$. Apliquemos el método de NR para hallar la aproximación de la solución con la tolerancia indicada:",
      "metadata": {}
    },
    {
      "cell_type": "code",
      "source": "# Calculemos la aproximación de la solución requerida\nv_inic = 0.3\ncifras = 6\nnr = newton_raphson(v_inic,f_2,df_2,cifras,True)",
      "metadata": {
        "vscode": {
          "languageId": "python"
        },
        "trusted": true
      },
      "execution_count": 150,
      "outputs": [
        {
          "name": "stdout",
          "text": "Intervalo con maxima tolerancia. Aproximación solicitada:  0.257530\nNumero de iteraciones requerido:  2\n",
          "output_type": "stream"
        }
      ]
    },
    {
      "cell_type": "markdown",
      "source": "### Función 3",
      "metadata": {}
    },
    {
      "cell_type": "markdown",
      "source": "Hallemos en primer lugar las raíces de la función:",
      "metadata": {}
    },
    {
      "cell_type": "code",
      "source": "v3 = sol_exact(f_3_S,x,todas=True)",
      "metadata": {
        "vscode": {
          "languageId": "python"
        },
        "trusted": true
      },
      "execution_count": 151,
      "outputs": [
        {
          "name": "stdout",
          "text": "Se han encontrado : 0 soluciones\n",
          "output_type": "stream"
        }
      ]
    },
    {
      "cell_type": "markdown",
      "source": "Veamos que aunque la función nos diga que no hay ninguna solución, sí que las hay. Prueba de ello viene dada por el siguiente gráfico:",
      "metadata": {}
    },
    {
      "cell_type": "code",
      "source": "sp.plot(f_3_S(x),xlim=(-7.5,7.5),ylim=(-50,50))",
      "metadata": {
        "vscode": {
          "languageId": "python"
        },
        "trusted": true
      },
      "execution_count": 152,
      "outputs": [
        {
          "output_type": "display_data",
          "data": {
            "text/plain": "<Figure size 640x480 with 1 Axes>",
            "image/png": "[encoded data removed]"
          },
          "metadata": {}
        },
        {
          "execution_count": 152,
          "output_type": "execute_result",
          "data": {
            "text/plain": "<sympy.plotting.plot.Plot at 0x7f8ac40>"
          },
          "metadata": {}
        }
      ]
    },
    {
      "cell_type": "markdown",
      "source": "Gráficamente observamos que corta al eje $OX$ en dos ocasiones. Una en el intervalo $[-4,-3]$ y otra en el intervalo $[-2,-1]$:",
      "metadata": {}
    },
    {
      "cell_type": "code",
      "source": "# Primer cambio de signo:\nsgn(f_3,-4,-3)",
      "metadata": {
        "vscode": {
          "languageId": "python"
        },
        "trusted": true
      },
      "execution_count": 153,
      "outputs": [
        {
          "name": "stdout",
          "text": "Sí hay cambio de signo: Hay raíz\n",
          "output_type": "stream"
        }
      ]
    },
    {
      "cell_type": "code",
      "source": "# Segundo cambio de signo:\nsgn(f_3,-2,-1)",
      "metadata": {
        "vscode": {
          "languageId": "python"
        },
        "trusted": true
      },
      "execution_count": 154,
      "outputs": [
        {
          "name": "stdout",
          "text": "Sí hay cambio de signo: Hay raíz\n",
          "output_type": "stream"
        }
      ]
    },
    {
      "cell_type": "markdown",
      "source": "Ampliemos la gráfica para tener una mejor visión a la hora de escoger semillas:",
      "metadata": {}
    },
    {
      "cell_type": "code",
      "source": "sp.plot(f_3_S(x),xlim=(-5,0),ylim=(-5.0,5.0))",
      "metadata": {
        "vscode": {
          "languageId": "python"
        },
        "trusted": true
      },
      "execution_count": 155,
      "outputs": [
        {
          "output_type": "display_data",
          "data": {
            "text/plain": "<Figure size 640x480 with 1 Axes>",
            "image/png": "[encoded data removed]"
          },
          "metadata": {}
        },
        {
          "execution_count": 155,
          "output_type": "execute_result",
          "data": {
            "text/plain": "<sympy.plotting.plot.Plot at 0x8036830>"
          },
          "metadata": {}
        }
      ]
    },
    {
      "cell_type": "markdown",
      "source": "#### Primera raíz (intervalo $[-4,-3]$)",
      "metadata": {}
    },
    {
      "cell_type": "markdown",
      "source": "Sea $x_{0} = -3.2$ la semilla para encontrar mediante NR la raíz del intervalo de amplitud unidad $[-4,-3]$. Apliquemos dicho método:",
      "metadata": {}
    },
    {
      "cell_type": "code",
      "source": "# Calculemos la aproximación de la solución requerida\nv_inic = -3.2\ncifras = 6\nnr = newton_raphson(v_inic,f_3_S,df_3,cifras,True)",
      "metadata": {
        "vscode": {
          "languageId": "python"
        },
        "trusted": true
      },
      "execution_count": 156,
      "outputs": [
        {
          "name": "stdout",
          "text": "Intervalo con maxima tolerancia. Aproximación solicitada:  -3.56233149723641\nNumero de iteraciones requerido:  5\n",
          "output_type": "stream"
        }
      ]
    },
    {
      "cell_type": "markdown",
      "source": "#### Segunda raíz (intervalo $[-2,-1]$)",
      "metadata": {}
    },
    {
      "cell_type": "markdown",
      "source": "Sea $x_{0} = -1.6$ la semilla para encontrar mediante NR la raíz del intervalo de amplitud unidad $[-2,-1]$. Apliquemos dicho método:",
      "metadata": {}
    },
    {
      "cell_type": "code",
      "source": "# Calculemos la aproximación de la solución requerida\nv_inic = -1.6\ncifras = 6\nnr = newton_raphson(v_inic,f_3_S,df_3,cifras,True)",
      "metadata": {
        "vscode": {
          "languageId": "python"
        },
        "trusted": true
      },
      "execution_count": 157,
      "outputs": [
        {
          "name": "stdout",
          "text": "Intervalo con maxima tolerancia. Aproximación solicitada:  -1.68693989979922\nNumero de iteraciones requerido:  3\n",
          "output_type": "stream"
        }
      ]
    },
    {
      "cell_type": "markdown",
      "source": "# EJERCICIO 4",
      "metadata": {}
    },
    {
      "cell_type": "markdown",
      "source": "Para la función  $ f(x)= 3 x^2+e^x-1$, \n\ni) encuentre, mediante el método de bisección una aproximación de la raíz en $[0,1]$ con, al menos, cuatro decimales exactos (tol =$10^{-4}$), y determine el número de iteraciones realizadas;\n\nii) encuentre, mediante el método de Newton-Raphson, una aproximación de la raíz en $[0,1]$ con una tolerancia de $10^{-4}$, partiendo de $x_0=0$, y determine el número de iteraciones realizadas.",
      "metadata": {}
    },
    {
      "cell_type": "markdown",
      "source": "Sea $f:\\mathbb{R} \\longrightarrow \\mathbb{R}$ la aplicación dada por $f(x) = 3x^{2} + e^{x} -1$, continua y derivable ne todo su dominio de definición.",
      "metadata": {}
    },
    {
      "cell_type": "markdown",
      "source": "### Apartado i",
      "metadata": {}
    },
    {
      "cell_type": "code",
      "source": "# Definamos la función\ndef f_4(x):\n\n    return 3*x**2 + np.exp(x) - 1\n\ndef f_4_S(x):\n\n    return 3*x**2 + sp.exp(x) - 1\n\ndef df_4(x):\n\n    return 6*x + np.exp(x)",
      "metadata": {
        "vscode": {
          "languageId": "python"
        },
        "trusted": true
      },
      "execution_count": 158,
      "outputs": []
    },
    {
      "cell_type": "markdown",
      "source": "En primer lugar vamos a comprobar que dicha función posee alguna raíz en el intervalo $[0,1]$. Para ello, vamos a comprobar si hay algún cabio de signo en dicho intervalo:",
      "metadata": {}
    },
    {
      "cell_type": "code",
      "source": "sgn(f_4,0,1)",
      "metadata": {
        "vscode": {
          "languageId": "python"
        },
        "trusted": true
      },
      "execution_count": 159,
      "outputs": [
        {
          "name": "stdout",
          "text": "No hay cambio de signo: No hay raíz\n",
          "output_type": "stream"
        }
      ]
    },
    {
      "cell_type": "code",
      "source": "sp.plot(f_4_S(x),xlim=(-0.5,0.2),ylim=(-1.0,1.0))",
      "metadata": {
        "vscode": {
          "languageId": "python"
        },
        "trusted": true
      },
      "execution_count": 160,
      "outputs": [
        {
          "output_type": "display_data",
          "data": {
            "text/plain": "<Figure size 640x480 with 1 Axes>",
            "image/png": "[encoded data removed]"
          },
          "metadata": {}
        },
        {
          "execution_count": 160,
          "output_type": "execute_result",
          "data": {
            "text/plain": "<sympy.plotting.plot.Plot at 0x7936b80>"
          },
          "metadata": {}
        }
      ]
    },
    {
      "cell_type": "markdown",
      "source": "Observamos que en $x = 0$",
      "metadata": {}
    },
    {
      "cell_type": "code",
      "source": "f_4(0)",
      "metadata": {
        "vscode": {
          "languageId": "python"
        },
        "trusted": true
      },
      "execution_count": 161,
      "outputs": [
        {
          "execution_count": 161,
          "output_type": "execute_result",
          "data": {
            "text/plain": "0.0"
          },
          "metadata": {}
        }
      ]
    },
    {
      "cell_type": "markdown",
      "source": "Y por consiguiente, deducimos que tiene una raíz en el intervalo $[0,1]$ es $x=0$. En teoría no podríamos aplicar el método de bisección en el intervalo $[0,1]$ porque $f(0)\\cdot f(1) = 0$. Es por ello que vamos a considerar el intervalo $[0 + \\epsilon, 1]$ doonde $\\epsilon$ va a ser un número positivo tan pequeño como queramos. Sea $\\epsilon = 10^{-16}$. Vamos a aproximarnos a dicha solución con:",
      "metadata": {}
    },
    {
      "cell_type": "markdown",
      "source": "### Método de Bisección:",
      "metadata": {}
    },
    {
      "cell_type": "code",
      "source": "# Calculemos la aproximación de la solución requerida\nepsilon = 10**(-20)\ncifras = 4\nv_inic, v_fin = epsilon,1\nbise = biseccion(v_inic,v_fin,f_4_S,cifras,True)",
      "metadata": {
        "vscode": {
          "languageId": "python"
        },
        "trusted": true
      },
      "execution_count": 162,
      "outputs": [
        {
          "name": "stdout",
          "text": "MÉTODO DE BISECCIÓN APLICADO A LA ECUACIÓN:  3*x**2 + exp(x) - 1\nAproximación con decimales:  0.000976\nNumero de iteraciones requerido:  10\n",
          "output_type": "stream"
        }
      ]
    },
    {
      "cell_type": "markdown",
      "source": "### Método de Newton-Raphson",
      "metadata": {}
    },
    {
      "cell_type": "code",
      "source": "# Calculemos la aproximación de la solución requerida\nv_inic = 0\ncifras = 6\nnr = newton_raphson(v_inic,f_4,df_4,cifras,True)",
      "metadata": {
        "vscode": {
          "languageId": "python"
        },
        "trusted": true
      },
      "execution_count": 163,
      "outputs": [
        {
          "name": "stdout",
          "text": "Intervalo con maxima tolerancia. Aproximación solicitada:  0\nNumero de iteraciones requerido:  1\n",
          "output_type": "stream"
        }
      ]
    },
    {
      "cell_type": "markdown",
      "source": "# EJERCICIO 5",
      "metadata": {}
    },
    {
      "cell_type": "markdown",
      "source": "Utilice las órdenes apropiadas de Python para aproximar todos los puntos donde se anulan las funciones siguientes (si es necesario, represéntelas gráficamente):\n\ni) $f(x)=x^7-x^4+2$ ,\n\nii) $f(x)=x^7+\\cos  x-3$.",
      "metadata": {}
    },
    {
      "cell_type": "markdown",
      "source": "### Apartado i",
      "metadata": {}
    },
    {
      "cell_type": "markdown",
      "source": "Sea $f : \\mathbb{R} \\longrightarrow \\mathbb{R}$ la aplicación dada por $f(x) = x^{7} - x^{4} + 2$, continua y derivable en todo su dominio.\n\nVamos a visualizar gráficamente los puntos en los que la función se anula. El teorema Fundamental del Álgebra nos dice que la función posee a lo sumo $7$ raíces, de las que nos interesan sólo las reales.",
      "metadata": {}
    },
    {
      "cell_type": "code",
      "source": "# Definición de la función y su derivada\ndef f_5i(x):\n\n    return x**7 - x**4 + 2\n\ndef df_5i(x):\n\n    return 7*x**6 - 4*x**3",
      "metadata": {
        "vscode": {
          "languageId": "python"
        },
        "trusted": true
      },
      "execution_count": 164,
      "outputs": []
    },
    {
      "cell_type": "markdown",
      "source": "Intentemos calcular de forma exacta dichas raíces previa visualización gráfica con nuestra función de python:",
      "metadata": {}
    },
    {
      "cell_type": "code",
      "source": "v5 = sol_exact(f_5i,x,todas=True)",
      "metadata": {
        "vscode": {
          "languageId": "python"
        },
        "trusted": true
      },
      "execution_count": 165,
      "outputs": [
        {
          "name": "stdout",
          "text": "Se han encontrado : 7 soluciones\nSolución 1: -1.00000000000000\nSolución 2: -0.713102145851293 - 0.98823188827156*I\nSolución 3: -0.713102145851293 + 0.98823188827156*I\nSolución 4: 1.06110281046036 - 0.376384046559108*I\nSolución 5: 1.06110281046036 + 0.376384046559108*I\nSolución 6: 0.151999335390936 - 1.01945594669063*I\nSolución 7: 0.151999335390936 + 1.01945594669063*I\n",
          "output_type": "stream"
        }
      ]
    },
    {
      "cell_type": "markdown",
      "source": "Observamos que nuestra función ha encontrado $1$ raíz real:\n\n* $x_{1} = -1$\n\nProcederemos entonces a aproximar dicha solución mediante el método de Newton-Raphson, por ejemplo. Elección que viene justificada por la rapidez (cuadrática) de este método frente al de bisección. Pero antes, observemos dicha raíz gráficamente:\n",
      "metadata": {}
    },
    {
      "cell_type": "code",
      "source": "sp.plot(f_5i(x),xlim=(-2.0,2.0),ylim=(-5.0,5.0))",
      "metadata": {
        "vscode": {
          "languageId": "python"
        },
        "trusted": true
      },
      "execution_count": 166,
      "outputs": [
        {
          "output_type": "display_data",
          "data": {
            "text/plain": "<Figure size 640x480 with 1 Axes>",
            "image/png": "[encoded data removed]"
          },
          "metadata": {}
        },
        {
          "execution_count": 166,
          "output_type": "execute_result",
          "data": {
            "text/plain": "<sympy.plotting.plot.Plot at 0x74b77b8>"
          },
          "metadata": {}
        }
      ]
    },
    {
      "cell_type": "markdown",
      "source": "Observamos que:\n\n* $x_{1} = -1 \\in [-1.5,-0.5]$",
      "metadata": {}
    },
    {
      "cell_type": "markdown",
      "source": "Aproximemos por tanto por el método de Newton-Raphson dicha raíz.\n\nPara ello, tomemos como semilla $x_{0} = -0.8$:",
      "metadata": {}
    },
    {
      "cell_type": "code",
      "source": "# Calculemos la aproximación de la solución requerida\nv_inic = -0.8\ncifras = 6\nnr = newton_raphson(v_inic,f_5i,df_5i,cifras,True)",
      "metadata": {
        "vscode": {
          "languageId": "python"
        },
        "trusted": true
      },
      "execution_count": 167,
      "outputs": [
        {
          "name": "stdout",
          "text": "Intervalo con maxima tolerancia. Aproximación solicitada:  -1.00000\nNumero de iteraciones requerido:  5\n",
          "output_type": "stream"
        }
      ]
    },
    {
      "cell_type": "markdown",
      "source": "### Apartado ii",
      "metadata": {}
    },
    {
      "cell_type": "markdown",
      "source": "Sea $f : \\mathbb{R} \\longrightarrow \\mathbb{R}$ la aplicación dada por $f(x) = x^{7} + cos(x) -3$, continua y derivable en todo su dominio.\n\nVamos a visualizar gráficamente los puntos en los que la función se anula. El teorema Fundamental del Álgebra nos dice que la función posee a lo sumo $7$ raíces, de las que nos interesan sólo las reales.",
      "metadata": {}
    },
    {
      "cell_type": "code",
      "source": "# Definición de la función y su derivada\ndef f_5ii(x):\n\n    return x**7 + sp.cos(x) - 3\n\ndef df_5ii(x):\n\n    return 7*x**6 - sp.sin(x)",
      "metadata": {
        "vscode": {
          "languageId": "python"
        },
        "trusted": true
      },
      "execution_count": 168,
      "outputs": []
    },
    {
      "cell_type": "markdown",
      "source": "Intentemos calcular de forma exacta dichas raíces previa visualización gráfica con nuestra función de python:",
      "metadata": {}
    },
    {
      "cell_type": "code",
      "source": "v5ii = sol_exact(f_5ii,x,todas=True)",
      "metadata": {
        "vscode": {
          "languageId": "python"
        },
        "trusted": true
      },
      "execution_count": 169,
      "outputs": [
        {
          "name": "stdout",
          "text": "No existen soluciones para esta ecuación : x**7 + cos(x) - 3\n",
          "output_type": "stream"
        }
      ]
    },
    {
      "cell_type": "markdown",
      "source": "Observamos que nuestra función no ha sido capaz de determinar si la función tiene raíces reales o no. Es por ello que vamos a graficarla para observar como se comporta:",
      "metadata": {}
    },
    {
      "cell_type": "code",
      "source": "sp.plot(f_5ii(x),xlim=(-2.5,2.5),ylim=(-5.0,5.0))",
      "metadata": {
        "vscode": {
          "languageId": "python"
        },
        "trusted": true
      },
      "execution_count": 170,
      "outputs": [
        {
          "output_type": "display_data",
          "data": {
            "text/plain": "<Figure size 640x480 with 1 Axes>",
            "image/png": "[encoded data removed]"
          },
          "metadata": {}
        },
        {
          "execution_count": 170,
          "output_type": "execute_result",
          "data": {
            "text/plain": "<sympy.plotting.plot.Plot at 0x80b3ba8>"
          },
          "metadata": {}
        }
      ]
    },
    {
      "cell_type": "markdown",
      "source": "\nClaramente se observa que la función tiene una raíz real en el intervalo $[1,2]$. Aproximémosla mediante el método de Newton-Raphson eligiendo como semilla el valor $x_{0} = 1.3$ por ejemplo:",
      "metadata": {}
    },
    {
      "cell_type": "code",
      "source": "# Calculemos la aproximación de la solución requerida\nv_inic = 1.3\ncifras = 6\nnr = newton_raphson(v_inic,f_5ii,df_5ii,cifras,True)",
      "metadata": {
        "vscode": {
          "languageId": "python"
        },
        "trusted": true
      },
      "execution_count": 171,
      "outputs": [
        {
          "name": "stdout",
          "text": "Intervalo con maxima tolerancia. Aproximación solicitada:  1.14545980727001\nNumero de iteraciones requerido:  5\n",
          "output_type": "stream"
        }
      ]
    },
    {
      "cell_type": "markdown",
      "source": "# EJERCICIO 6",
      "metadata": {}
    },
    {
      "cell_type": "markdown",
      "source": "Aplicar los métodos de aceleración de la convergencia de Aitken y Steffensen (según los apuntes) a las sucesiones obtenidas para los distintos métodos programados en esta práctica y comparar los resultados. Para aplicar el método de aceleración de Steffensen, recuerde que para transformar cualquier ecuación de la forma  $ f(x)=0 $  en un problema de puntos fijos  $ g(x)=x $, la forma más simple puede ser definir  $g(x)=x \\pm f(x)$.",
      "metadata": {}
    },
    {
      "cell_type": "markdown",
      "source": "Hemos modificado los métodos de bisección y Newton-Raphson para que devuelvan en forma de lista los elementos de las sucesiones $\\{m_{n}\\}_{n \\geq 0}$ y $\\{x_{n}\\}_{n \\geq 0}$ que generan dichos métodos respectivamente. Basándonos en dichas sucesiones se van a elaborar dos funciones de aceleración: una para la aceleración de Aitken y otra para la de Steffensen:",
      "metadata": {}
    },
    {
      "cell_type": "code",
      "source": "# Función de aceleración de la convergencia de Aitken.\ndef aceleraAitken(xn):\n\n    x_new = []\n    for i in range (len(xn)-2):\n        x_new.append((xn[i]-(xn[i+1]-xn[i])**2/(xn[i+2]-2*xn[i+1]+xn[i])))\n\n    return x_new",
      "metadata": {
        "vscode": {
          "languageId": "python"
        },
        "trusted": true
      },
      "execution_count": 172,
      "outputs": []
    },
    {
      "cell_type": "code",
      "source": "# Función de aceleración de la convergencia de Steffensen.\ndef aceleraSteffensen(niter,f,x0):\n    g = lambda x: x - f(x)\n    x_appx = [x0,f(x0),g(g(x0))]\n    x_new  = []\n\n    for i in range(niter):\n        x0 = x_appx[0]-(x_appx[1]-x_appx[0])**2/(x_appx[2]-2*x_appx[1]+x_appx[0])\n        x_appx = [x0,g(x0),g(g(x0))]\n        x_new  = x_new + [x_appx[-1]]\n\n    return x_new",
      "metadata": {
        "vscode": {
          "languageId": "python"
        },
        "trusted": true
      },
      "execution_count": 173,
      "outputs": []
    },
    {
      "cell_type": "markdown",
      "source": "A continuación aplicaremos el método de Bisección y el de Newton-Raphson a la función del primer ejercicio:\n\n$f: \\mathbb{R} \\longrightarrow \\mathbb{R}$ tal que $f(x) = x^{3} + 4x^{2} -10$",
      "metadata": {}
    },
    {
      "cell_type": "code",
      "source": "print(\"La función a la que se le aplica la aceleración es: \", f(x))\n\n#Aplicación g del método de Steffensen\ndef g(x):\n\n    return x-f(x)",
      "metadata": {
        "vscode": {
          "languageId": "python"
        },
        "trusted": true
      },
      "execution_count": 174,
      "outputs": [
        {
          "name": "stdout",
          "text": "La función a la que se le aplica la aceleración es:  x**3 + 4*x**2 - 10\n",
          "output_type": "stream"
        }
      ]
    },
    {
      "cell_type": "code",
      "source": "help(biseccion)",
      "metadata": {
        "vscode": {
          "languageId": "python"
        },
        "trusted": true
      },
      "execution_count": 175,
      "outputs": [
        {
          "name": "stdout",
          "text": "Help on function biseccion in module __main__:\n\nbiseccion(a, b, f, cifras=16, muestra=True, nmax=100, prec=1e-16)\n\n",
          "output_type": "stream"
        }
      ]
    },
    {
      "cell_type": "markdown",
      "source": "Comencemos en primer lugar con el método de **bisección**",
      "metadata": {}
    },
    {
      "cell_type": "code",
      "source": "# Intervalo en el que vamos a movernos:\na,b=1,2\n\n#Aplicamos método de bisección\nbisection = biseccion(a,b,f,False)",
      "metadata": {
        "vscode": {
          "languageId": "python"
        },
        "trusted": true
      },
      "execution_count": 176,
      "outputs": [
        {
          "name": "stdout",
          "text": "MÉTODO DE BISECCIÓN APLICADO A LA ECUACIÓN:  x**3 + 4*x**2 - 10\nSe ha alcanzado la precisión requerida. Posible solución exacta:  1.365230013414097\nNumero de iteraciones requerido:  50\n",
          "output_type": "stream"
        }
      ]
    },
    {
      "cell_type": "code",
      "source": "# Iteraciones realizadas por el método de Bisección:\nprint(\"Iteraciones biseccion: {}\".format((bisection)))",
      "metadata": {
        "vscode": {
          "languageId": "python"
        },
        "trusted": true
      },
      "execution_count": 177,
      "outputs": [
        {
          "name": "stdout",
          "text": "Iteraciones biseccion: [1.5, 1.25, 1.375, 1.3125, 1.34375, 1.359375, 1.3671875, 1.36328125, 1.365234375, 1.3642578125, 1.36474609375, 1.364990234375, 1.3651123046875, 1.36517333984375, 1.365203857421875, 1.365219116210938, 1.365226745605469, 1.365230560302734, 1.365228652954102, 1.365229606628418, 1.365230083465576, 1.365229845046997, 1.365229964256286, 1.365230023860931, 1.365229994058608, 1.36523000895977, 1.36523001641035, 1.36523001268506, 1.365230014547705, 1.365230013616382, 1.365230013150721, 1.365230013383552, 1.365230013499967, 1.36523001344176, 1.365230013412656, 1.365230013427208, 1.365230013419932, 1.365230013416294, 1.365230013414475, 1.365230013413566, 1.36523001341402, 1.365230013414248, 1.365230013414134, 1.365230013414077, 1.365230013414106, 1.365230013414092, 1.365230013414099, 1.365230013414096, 1.365230013414098, 1.365230013414097]\n",
          "output_type": "stream"
        }
      ]
    },
    {
      "cell_type": "code",
      "source": "#Aceleramos la convergencia con Aitken:\naceleradorAitken = aceleraAitken(bisection)\n\nprint(\"Iteraciones aceleradas. Aitken: {}\".format(aceleradorAitken))",
      "metadata": {
        "vscode": {
          "languageId": "python"
        },
        "trusted": true
      },
      "execution_count": 178,
      "outputs": [
        {
          "name": "stdout",
          "text": "Iteraciones aceleradas. Aitken: [1.3333333333333333, 1.3333333333333333, 1.3333333333333333, 1.375, 1.375, 1.3645833333333333, 1.3645833333333333, 1.3645833333333333, 1.3645833333333333, 1.365234375, 1.365234375, 1.365234375, 1.365234375, 1.3652343750000018, 1.3652343749999991, 1.3652343749999978, 1.3652292887369792, 1.3652292887369792, 1.365230560302734, 1.3652299245198567, 1.3652299245198565, 1.365230083465577, 1.3652300039927157, 1.3652300039927159, 1.3652300238609276, 1.3652300139268234, 1.3652300139268234, 1.3652300139268232, 1.3652300126850607, 1.3652300133059414, 1.3652300136163813, 1.3652300134611624, 1.3652300133835509, 1.3652300134223574, 1.3652300134223574, 1.365230013412656, 1.365230013412656, 1.3652300134126578, 1.3652300134138688, 1.3652300134144781, 1.365230013414172, 1.3652300134140198, 1.3652300134140962, 1.3652300134140964, 1.3652300134140967, 1.3652300134140969, 1.365230013414097, 1.3652300134140973]\n",
          "output_type": "stream"
        }
      ]
    },
    {
      "cell_type": "code",
      "source": "help(aceleraSteffensen)",
      "metadata": {
        "vscode": {
          "languageId": "python"
        },
        "trusted": true
      },
      "execution_count": 179,
      "outputs": [
        {
          "name": "stdout",
          "text": "Help on function aceleraSteffensen in module __main__:\n\naceleraSteffensen(niter, f, x0)\n    # Función de aceleración de la convergencia de Steffensen.\n\n",
          "output_type": "stream"
        }
      ]
    },
    {
      "cell_type": "code",
      "source": "#Ahora vamos con Steffensen\nx0 = 1.0\nn  = 10\naceleradorSteffensen = aceleraSteffensen(10,f,x0)\n\nprint(\"Iteraciones aceleradas. Steffensen: {}\".format(aceleradorSteffensen))",
      "metadata": {
        "vscode": {
          "languageId": "python"
        },
        "trusted": true
      },
      "execution_count": 180,
      "outputs": [
        {
          "name": "stdout",
          "text": "Iteraciones aceleradas. Steffensen: [-191.7937760557271, -113.94577794657883, -57.09002701691815, -21.928629252692133, -4.989896652361394, 0.5268441739443108, 1.3445191345636853, 1.3652164826036757, 1.3652300134083228, 1.3652300134140969]\n",
          "output_type": "stream"
        }
      ]
    },
    {
      "cell_type": "markdown",
      "source": "Veamos unaa comparación de los últimos elementos obtenidos con Bisección, Aitken y Steffensen:",
      "metadata": {}
    },
    {
      "cell_type": "code",
      "source": "print(\"Último elemento Bisección: \", bisection[len(bisection)-1])\nprint(\"\\n\")\nprint(\"Último elemento Aitken: \", aceleradorAitken[len(aceleradorAitken)-1])\nprint(\"\\n\")\nprint(\"Último elemento Steffensen: \", aceleradorSteffensen[len(aceleradorSteffensen)-1])\n",
      "metadata": {
        "vscode": {
          "languageId": "python"
        },
        "trusted": true
      },
      "execution_count": 181,
      "outputs": [
        {
          "name": "stdout",
          "text": "Último elemento Bisección:  1.365230013414097\n\n\nÚltimo elemento Aitken:  1.3652300134140973\n\n\nÚltimo elemento Steffensen:  1.3652300134140969\n",
          "output_type": "stream"
        }
      ]
    },
    {
      "cell_type": "markdown",
      "source": "Es el turno ahora de **Newton-Rahpson**:",
      "metadata": {}
    },
    {
      "cell_type": "code",
      "source": "help(newton_raphson)",
      "metadata": {
        "vscode": {
          "languageId": "python"
        },
        "trusted": true
      },
      "execution_count": 182,
      "outputs": [
        {
          "name": "stdout",
          "text": "Help on function newton_raphson in module __main__:\n\nnewton_raphson(b, f, deriv, cifras=16, muestra=True, nmax=100, prec=1e-16)\n    # Método de Newton-Raphson\n    # Vamos a encapsular el método de Newton-Raphson en una función\n\n",
          "output_type": "stream"
        }
      ]
    },
    {
      "cell_type": "code",
      "source": "# Necesitamos:\nx0 = 1.0\ncifras = 16\nnr = newton_raphson(x0,f,deriv,cifras,False)",
      "metadata": {
        "vscode": {
          "languageId": "python"
        },
        "trusted": true
      },
      "execution_count": 183,
      "outputs": []
    },
    {
      "cell_type": "code",
      "source": "# Iteraciones del método:\nprint(\"Iteraciones Newton-Raphson: {}\".format(nr))",
      "metadata": {
        "vscode": {
          "languageId": "python"
        },
        "trusted": true
      },
      "execution_count": 184,
      "outputs": [
        {
          "name": "stdout",
          "text": "Iteraciones Newton-Raphson: [1.0, 1.454545454545454, 1.368900401069519, 1.365236600202116, 1.365230013435367, 1.365230013414097]\n",
          "output_type": "stream"
        }
      ]
    },
    {
      "cell_type": "code",
      "source": "#Aceleramos por Aitek:\naceleradorAitkenNR = aceleraAitken(nr)\nprint(\"Itraciones aceleradas Aitken: {}\".format(aceleradorAitkenNR))",
      "metadata": {
        "vscode": {
          "languageId": "python"
        },
        "trusted": true
      },
      "execution_count": 185,
      "outputs": [
        {
          "name": "stdout",
          "text": "Itraciones aceleradas Aitken: [1.3824790831751388, 1.3650728623185282, 1.3652300015723764, 1.365230013414097]\n",
          "output_type": "stream"
        }
      ]
    },
    {
      "cell_type": "code",
      "source": "#Aceleramos por Steffensen:\naceleradorSteffensenNR = aceleraSteffensen(10,f,x0)\nprint(\"Iteraciones aceleradas Steffensen: {}\".format(aceleradorSteffensenNR))",
      "metadata": {
        "vscode": {
          "languageId": "python"
        },
        "trusted": true
      },
      "execution_count": 186,
      "outputs": [
        {
          "name": "stdout",
          "text": "Iteraciones aceleradas Steffensen: [-191.7937760557271, -113.94577794657883, -57.09002701691815, -21.928629252692133, -4.989896652361394, 0.5268441739443108, 1.3445191345636853, 1.3652164826036757, 1.3652300134083228, 1.3652300134140969]\n",
          "output_type": "stream"
        }
      ]
    },
    {
      "cell_type": "markdown",
      "source": "Veamos unaa comparación de los últimos elementos obtenidos con Bisección, Aitken y Steffensen:",
      "metadata": {}
    },
    {
      "cell_type": "code",
      "source": "print(\"Último elemento Newton-Raphson: \", nr[len(nr)-1])\nprint(\"\\n\")\nprint(\"Último elemento Aitken: \", aceleradorAitkenNR[len(aceleradorAitkenNR)-1])\nprint(\"\\n\")\nprint(\"Último elemento Steffensen: \", aceleradorSteffensenNR[len(aceleradorSteffensenNR)-1])",
      "metadata": {
        "vscode": {
          "languageId": "python"
        },
        "trusted": true
      },
      "execution_count": 187,
      "outputs": [
        {
          "name": "stdout",
          "text": "Último elemento Newton-Raphson:  1.365230013414097\n\n\nÚltimo elemento Aitken:  1.365230013414097\n\n\nÚltimo elemento Steffensen:  1.3652300134140969\n",
          "output_type": "stream"
        }
      ]
    },
    {
      "cell_type": "markdown",
      "source": "# EJERCICIO 7",
      "metadata": {}
    },
    {
      "cell_type": "markdown",
      "source": "Programar el método de Newton-Raphson acelerado, partiendo de cierto $x_0$ adecuado: $$x_{n+1}=x_n - m\\frac{f(x_n)}{f'(x_n)}, \\quad n=0,1,2,\\ldots$$ para el caso de una raíz múltiple (de multiplicidad $m\\in\\mathbb{N}$) de una ecuación del tipo $f(x)=0$ y comparar los resultados\ncon los que se obtienen mediante el empleo de los métodos de aceleración habituales de Aitken y Steffensen (según los apuntes).",
      "metadata": {}
    },
    {
      "cell_type": "markdown",
      "source": "Sea la función $f: \\mathbb{R} \\longrightarrow \\mathbb{R}$ dada por $f(x) = (x-\\sqrt{6})\\cdot (x-\\sqrt{3})^{3}$.\n\n Vamos a centrar el problema en aproximar la raíz $x=\\sqrt{3}$, con multiplicidad $m=3$, mediante el método de Newton-Raphson que habrá que modificar convenientemente como se indica en el enunciado, y compararemos los resultados con los obtenidos al acelerar por Aitken y Steffensen.",
      "metadata": {}
    },
    {
      "cell_type": "markdown",
      "source": "Tomemos el código del método de Newton-Raphson que hemos estado utilizando hasta ahora e introduzcamos la modificación que lo acelera:",
      "metadata": {}
    },
    {
      "cell_type": "code",
      "source": "# Método de Newton-Raphson acelerado\ndef newton_raphson_acelerado(b, f, deriv, m, cifras=16, muestra=True, nmax=100, prec=10**(-16)):\n\n    x0=Decimal(b)\n    \n    tol = 10**(-cifras+1)\n\n    getcontext().prec = cifras\n\n    niter = 0\n    terms = [b]\n\n    for k in range(nmax):\n        niter = niter + 1\n        x1 = x0 - m*f(x0)/deriv(x0)  # método de Newton-Raphson\n        terms.append(float(x1))\n        if abs(x1-x0) < tol:\n            p = 'tolerancia'\n            break\n        if abs(f(x1)) < prec:\n            p = 'precision'\n            break\n        else:\n            x0 = x1\n\n    if (muestra):\n        #print(\"MÉTODO DE NEWTON-RAPHSON APLICADO A LA ECUACIÓN: \", f(x))\n        if (p == \"Precision\"):\n            print(\"Se ha alcanzado la precisión requerida. Posible aproximación: \", x1)\n        else:\n            print(\"Intervalo con maxima tolerancia. Aproximación solicitada: \", x1)\n\n        print(\"Numero de iteraciones requerido: \", niter)\n\n    getcontext().prec = mporig # Se restaura la precisión por defecto\n\n    return terms",
      "metadata": {
        "vscode": {
          "languageId": "python"
        },
        "trusted": true
      },
      "execution_count": 188,
      "outputs": []
    },
    {
      "cell_type": "markdown",
      "source": "Definamos con código python la funció con la que vamos a desarrollas el ejercicio:",
      "metadata": {}
    },
    {
      "cell_type": "code",
      "source": "#Definimos f_7(x)\ndef f_7(x):\n\n    return (x+120)*(x-3)**3",
      "metadata": {
        "vscode": {
          "languageId": "python"
        },
        "trusted": true
      },
      "execution_count": 189,
      "outputs": []
    },
    {
      "cell_type": "code",
      "source": "sp.diff((x+120)*(x-3)**3,x)",
      "metadata": {
        "vscode": {
          "languageId": "python"
        },
        "trusted": true
      },
      "execution_count": 190,
      "outputs": [
        {
          "execution_count": 190,
          "output_type": "execute_result",
          "data": {
            "text/plain": "(x - 3)**3 + 3*(x - 3)**2*(x + 120)",
            "text/latex": "$\\displaystyle \\left(x - 3\\right)^{3} + 3 \\left(x - 3\\right)^{2} \\left(x + 120\\right)$"
          },
          "metadata": {}
        }
      ]
    },
    {
      "cell_type": "code",
      "source": "#Definimos derivada de f_7\ndef df_7(x):\n\n    return (x-3)**3 + 3*(x-3)** 2*(x+120)",
      "metadata": {
        "vscode": {
          "languageId": "python"
        },
        "trusted": true
      },
      "execution_count": 191,
      "outputs": []
    },
    {
      "cell_type": "code",
      "source": "sp.plot(df_7(x),xlim=(2.0,5.0),ylim=(-500.0,500.0))",
      "metadata": {
        "vscode": {
          "languageId": "python"
        },
        "trusted": true
      },
      "execution_count": 192,
      "outputs": [
        {
          "output_type": "display_data",
          "data": {
            "text/plain": "<Figure size 640x480 with 1 Axes>",
            "image/png": "[encoded data removed]"
          },
          "metadata": {}
        },
        {
          "execution_count": 192,
          "output_type": "execute_result",
          "data": {
            "text/plain": "<sympy.plotting.plot.Plot at 0x777e198>"
          },
          "metadata": {}
        }
      ]
    },
    {
      "cell_type": "markdown",
      "source": "Comprobemos cuáles son las soluciones de forma exacta:",
      "metadata": {}
    },
    {
      "cell_type": "code",
      "source": "help(sol_exact)",
      "metadata": {
        "vscode": {
          "languageId": "python"
        },
        "trusted": true
      },
      "execution_count": 193,
      "outputs": [
        {
          "name": "stdout",
          "text": "Help on function sol_exact in module __main__:\n\nsol_exact(f, x, todas=True)\n\n",
          "output_type": "stream"
        }
      ]
    },
    {
      "cell_type": "code",
      "source": "sol = sol_exact(f_7,x)\n",
      "metadata": {
        "vscode": {
          "languageId": "python"
        },
        "trusted": true
      },
      "execution_count": 194,
      "outputs": [
        {
          "name": "stdout",
          "text": "Se han encontrado : 2 soluciones\nSolución 1: -120.000000000000\nSolución 2: 3.00000000000000\n",
          "output_type": "stream"
        }
      ]
    },
    {
      "cell_type": "markdown",
      "source": "Claramente, al observar cómo hemos definido la función (expresada como producto de factores primos).",
      "metadata": {}
    },
    {
      "cell_type": "markdown",
      "source": "Apliquemos entonces el método de Newton-Raphson acelerado para aproximar la raíz $x=8$ tomando como semilla $x_{0} = 7.8$:",
      "metadata": {}
    },
    {
      "cell_type": "code",
      "source": "v7 = 7.9\ncifras = 6\nnra = newton_raphson_acelerado(v7,f_7,df_7,3,cifras)",
      "metadata": {
        "vscode": {
          "languageId": "python"
        },
        "trusted": true
      },
      "execution_count": 195,
      "outputs": [
        {
          "name": "stdout",
          "text": "Intervalo con maxima tolerancia. Aproximación solicitada:  3.00000\nNumero de iteraciones requerido:  3\n",
          "output_type": "stream"
        }
      ]
    },
    {
      "cell_type": "code",
      "source": "print(\"Iteraciones: {}\".format(nra))",
      "metadata": {
        "vscode": {
          "languageId": "python"
        },
        "trusted": true
      },
      "execution_count": 196,
      "outputs": [
        {
          "name": "stdout",
          "text": "Iteraciones: [7.9, 3.06179, 3.00001, 3.0]\n",
          "output_type": "stream"
        }
      ]
    },
    {
      "cell_type": "markdown",
      "source": "Calculemos ahora las iteraciones de Aitke y de Steffensen:",
      "metadata": {}
    },
    {
      "cell_type": "code",
      "source": "help(aceleraSteffensen)",
      "metadata": {
        "vscode": {
          "languageId": "python"
        },
        "trusted": true
      },
      "execution_count": 197,
      "outputs": [
        {
          "name": "stdout",
          "text": "Help on function aceleraSteffensen in module __main__:\n\naceleraSteffensen(niter, f, x0)\n    # Función de aceleración de la convergencia de Steffensen.\n\n",
          "output_type": "stream"
        }
      ]
    },
    {
      "cell_type": "code",
      "source": "aitken = aceleraAitken(nra)\nsteffe = aceleraSteffensen(len(nra),f_7,v7)",
      "metadata": {
        "vscode": {
          "languageId": "python"
        },
        "trusted": true
      },
      "execution_count": 198,
      "outputs": []
    },
    {
      "cell_type": "code",
      "source": "print(\"N-R: {}\".format(nra))\nprint(\"Aitken:{}\".format(aitken))\nprint(\"Steffensen: {}\".format(steffe))",
      "metadata": {
        "vscode": {
          "languageId": "python"
        },
        "trusted": true
      },
      "execution_count": 199,
      "outputs": [
        {
          "name": "stdout",
          "text": "N-R: [7.9, 3.06179, 3.00001, 3.0]\nAitken:[2.999210916081677, 2.999999998381091]\nSteffensen: [-5.07812729674046e+16, -5.078127353026771e+16, -5.078127409313086e+16, -5.078127465599398e+16]\n",
          "output_type": "stream"
        }
      ]
    },
    {
      "cell_type": "markdown",
      "source": "# EJERCICIO 8",
      "metadata": {}
    },
    {
      "cell_type": "markdown",
      "source": "Programar el conocido algoritmo de Horner para la evaluación de un polinomio y emplearlo de forma reiterativa para el cálculo del desarrollo de Taylor de orden $ n$ de un polinomio cualquiera. Aprovecharlo también para programar una versión especial del método de Newton-Raphson para polinomios, evaluando tanto  $ p(x_k ) $ como $ p'(x_k)$ mediante el citado algoritmo y aplicarlo para aproximar alguna de las raíces reales del siguiente polinomio\n\n$$p(x)=d_0 + d_1 x + d_2 x^2 + d_3 x^3+ d_4 x^4 + d_5 x^5 + d_6 x^6 + d_7 x^7 $$\n(siendo $d_0, d_1, \\ldots, d_7$ los dígitos ordenados de su DNI, pasaporte o tarjeta de residente).\n\nProgramar y construir también una sucesión de Sturm para dicho polinomio.",
      "metadata": {}
    },
    {
      "cell_type": "markdown",
      "source": "Sea el polinomio asociado a mi DNI:",
      "metadata": {}
    },
    {
      "cell_type": "code",
      "source": "#Defino el DNI\nDNI = [7,8,0,0,6,0,1,1]",
      "metadata": {
        "vscode": {
          "languageId": "python"
        },
        "trusted": true
      },
      "execution_count": 200,
      "outputs": []
    },
    {
      "cell_type": "code",
      "source": "#Defino el polinomio asociado a mi DNI\ndef f_8(x):\n    \n    return 1+x+6*x**3+8*x**6+7*x**7\n\n#Defino derivada de dicho polinomio\ndef df_8(x):\n\n    return 1+18*x**2+48*x**5+49*x**6",
      "metadata": {
        "trusted": true
      },
      "execution_count": 201,
      "outputs": []
    },
    {
      "cell_type": "markdown",
      "source": "Programemos entonces el algoritmo de Horner, para el que tendremos que extraer los coeficientes del polinomio. Para ello, vamos a crear una función de python que haga lo dicho:",
      "metadata": {}
    },
    {
      "cell_type": "code",
      "source": "#Función que extrae los coeficientes de un polinomio dado\ndef extrae_coef(poli):\n\n    pol = str(poli)\n    p = sp.Poly(pol)\n    coeficientes = p.all_coeffs()\n    return coeficientes ",
      "metadata": {
        "vscode": {
          "languageId": "python"
        },
        "trusted": true
      },
      "execution_count": 202,
      "outputs": []
    },
    {
      "cell_type": "code",
      "source": "coeficients = extrae_coef(f_8(x))\ndfcoeficients = extrae_coef(df_8(x))\ncoeficients,dfcoeficients",
      "metadata": {
        "vscode": {
          "languageId": "python"
        },
        "trusted": true
      },
      "execution_count": 203,
      "outputs": [
        {
          "execution_count": 203,
          "output_type": "execute_result",
          "data": {
            "text/plain": "([7, 8, 0, 0, 6, 0, 1, 1], [49, 48, 0, 0, 18, 0, 1])"
          },
          "metadata": {}
        }
      ]
    },
    {
      "cell_type": "markdown",
      "source": "Del mismo modo, será necesaria una función que haga la operación inversa: a partir de los coeficientes, halle el polinomio:",
      "metadata": {}
    },
    {
      "cell_type": "code",
      "source": "def makePolinomio(x,coefs):\n    pol = coefs[0]\n    for i in range(1,len(coefs)):\n        pol = pol + coefs[i]*x**(i)\n\n    return pol",
      "metadata": {
        "trusted": true
      },
      "execution_count": 204,
      "outputs": []
    },
    {
      "cell_type": "markdown",
      "source": "Programemos ahora el algoritmo de Horner. El algoritmo de Horner consiste en aplicar la regla de Ruffini en un punto dado $x$, de manera que el resto que se obtiene al aplicar dicha regla coincide con el valor de $f(x)$. Expresemos esto en código python:",
      "metadata": {}
    },
    {
      "cell_type": "code",
      "source": "#Función para el Algoritmo de Horner\ndef horner(x0, coeficients, v=True):\n\n    r = 0\n    resultado = []\n    \n    for i in range(len(coeficients)):\n        r = r*x0 + coeficients[i]\n        resultado.append(r)\n        \n    resultado.pop()\n    resultado.reverse()\n    \n    if v == False:\n        return resultado, r\n\n    return resultado[0],r",
      "metadata": {
        "vscode": {
          "languageId": "python"
        },
        "trusted": true
      },
      "execution_count": 205,
      "outputs": []
    },
    {
      "cell_type": "markdown",
      "source": "En primer lugar, vamos a calcular la expansión de Taylor del polinomio que tenemos entre manos, haciendo uso del algoritmo de Horner. Si bien sabemos, el desarrollo de Taylor de un polinomio de orden n, centrado en un punto a se define así:\n\n\n$$P_{n}(x,a) = \\sum_{k=0}^{n} \\frac{f^{k}(a)}{k!}(x-a)^{k}$$\n\nLo curioso de esto es que los mismos restos obtenidos en el algoritmo de Horner coinciden con los coeficientes del desarrollo de Taylor: $\\frac{f^{k}(a)}{k!}$. Teniendo esto en cuenta, vamos a implementar una función que lleve a cabo la expansión de Taylor:",
      "metadata": {}
    },
    {
      "cell_type": "code",
      "source": "#Función para la expansión de Taylor\ndef expansionTaylor(x,p,coeficientes):\n    \n    resultado,r = horner(p,coeficientes,False)\n    resultado.reverse()\n    coefi = [r]\n \n    while (len(resultado)!=0):\n        resultado, r = horner(p,resultado,False)\n        resultado.reverse()\n        coefi.append(r)\n    \n    poliTay = makePolinomio(x-p,coefi)\n    \n    return poliTay\n        ",
      "metadata": {
        "trusted": true
      },
      "execution_count": 206,
      "outputs": []
    },
    {
      "cell_type": "markdown",
      "source": "Apliquemoslo entonces a un polinomio cualquiera. Sea por ejemplo el polinomio:\n\n$$ p(x) = -2+3x-2x^{2}+5x^{3} $$\n\nSea el punto a = 1",
      "metadata": {}
    },
    {
      "cell_type": "code",
      "source": "def p_8(x):\n    \n    return -2 + 3*x -2*x**2+5*x**3",
      "metadata": {
        "trusted": true
      },
      "execution_count": 207,
      "outputs": []
    },
    {
      "cell_type": "code",
      "source": "a = 1\nc = extrae_coef(p_8(x))\nc",
      "metadata": {
        "trusted": true
      },
      "execution_count": 208,
      "outputs": [
        {
          "execution_count": 208,
          "output_type": "execute_result",
          "data": {
            "text/plain": "[5, -2, 3, -2]"
          },
          "metadata": {}
        }
      ]
    },
    {
      "cell_type": "code",
      "source": "expansionTaylor(x,a,c)",
      "metadata": {
        "trusted": true
      },
      "execution_count": 209,
      "outputs": [
        {
          "execution_count": 209,
          "output_type": "execute_result",
          "data": {
            "text/plain": "14*x + 5*(x - 1)**3 + 13*(x - 1)**2 - 10",
            "text/latex": "$\\displaystyle 14 x + 5 \\left(x - 1\\right)^{3} + 13 \\left(x - 1\\right)^{2} - 10$"
          },
          "metadata": {}
        }
      ]
    },
    {
      "cell_type": "markdown",
      "source": "Apliquémoslo al Método de Newton-Raphson",
      "metadata": {}
    },
    {
      "cell_type": "code",
      "source": "# Método de Newton-Raphson con Horner\ndef nrHorner(b, coeficients, dfcoeficients, cifras=16, muestra=True, nmax=100, prec=10**(-16)):\n\n    x0=Decimal(b)\n    tol = 10**(-cifras+1)\n    p = \"\"\n    if cifras <= 0:\n        cifras = calc_cifras(prec)\n\n    niter = 0\n    terms = [b]\n\n    for k in range(nmax):\n        niter = niter + 1\n        coc1,res1 = horner(x0, coeficients)\n        res1,coc1 = Decimal(str(res1)),Decimal(str(coc1))\n        coc2,res2 = horner(x0, dfcoeficients)\n        res2,coc2 = Decimal(str(res2)),Decimal(str(coc2))\n        x1 = x0 - (coc1*(x0-x0)+res1)/(coc2*(x0-x0)+res2)  # método de Newton-Raphson\n        terms.append(float(x1))\n        coeficients.reverse()\n        if abs(x1-x0) < tol:\n            p = 'tolerancia'\n            break\n        if abs(f(x1)) < prec:\n            p = 'precision'\n            break\n        else:\n            x0 = x1\n        coeficients.reverse()\n\n    if (muestra):\n        #print(\"MÉTODO DE NEWTON-RAPHSON APLICADO A LA ECUACIÓN: \", f(x))\n        if (p == \"Precision\"):\n            print(\"Se ha alcanzado la precisión requerida. Posible aproximación: \", x1)\n        else:\n            print(\"Intervalo con maxima tolerancia. Aproximación solicitada: \", x1)\n\n        print(\"Numero de iteraciones requerido: \", niter)\n\n    getcontext().prec = mporig # Se restaura la precisión por defecto\n\n    return niter,terms",
      "metadata": {
        "vscode": {
          "languageId": "python"
        },
        "trusted": true
      },
      "execution_count": 210,
      "outputs": []
    },
    {
      "cell_type": "markdown",
      "source": "Una vez definido este método, vamos a proceder a lo que se nos pide en el ejercicio:",
      "metadata": {}
    },
    {
      "cell_type": "markdown",
      "source": "Dado el polinomio de coeficientes los dígitos de nuestro DNI, $f_8(x)$, vamos a calcular con nuestra función python $exact\\_sol$, las raíces de dicho polinomio. Elegiremos una de ellas y aplicaremos el método que acabamos de programar: **nrHorner**:",
      "metadata": {}
    },
    {
      "cell_type": "code",
      "source": "#Calculamos raíces del polinomio\nsol = sol_exact(f_8,x)",
      "metadata": {
        "trusted": true
      },
      "execution_count": 211,
      "outputs": [
        {
          "name": "stdout",
          "text": "Se han encontrado : 7 soluciones\nSolución 1: -0.460296567020067\nSolución 2: -1.0553689564424 - 0.537058091016701*I\nSolución 3: -1.0553689564424 + 0.537058091016701*I\nSolución 4: 0.570014555886356 - 0.526228211118041*I\nSolución 5: 0.570014555886356 + 0.526228211118041*I\nSolución 6: 0.144074112637507 - 0.589071553454556*I\nSolución 7: 0.144074112637507 + 0.589071553454556*I\n",
          "output_type": "stream"
        }
      ]
    },
    {
      "cell_type": "markdown",
      "source": "De siete soluciones que tiene, solo una es real. Comprobemos este hecho gŕaficamente:",
      "metadata": {}
    },
    {
      "cell_type": "code",
      "source": "sp.plot(f_8(x),xlim=(-1,0),ylim=(-10,10))",
      "metadata": {
        "trusted": true
      },
      "execution_count": 212,
      "outputs": [
        {
          "output_type": "display_data",
          "data": {
            "text/plain": "<Figure size 640x480 with 1 Axes>",
            "image/png": "[encoded data removed]"
          },
          "metadata": {}
        },
        {
          "execution_count": 212,
          "output_type": "execute_result",
          "data": {
            "text/plain": "<sympy.plotting.plot.Plot at 0x694f688>"
          },
          "metadata": {}
        }
      ]
    },
    {
      "cell_type": "code",
      "source": "#Aplicamos el método de N-R con Horner\n#Identificamos semilla\nk = -0.6\n#Aplicamos el método de NR\nc = coeficients.reverse()\nd = dfcoeficients.reverse()\nn, iteraciones = nrHorner(k, coeficients, dfcoeficients)",
      "metadata": {
        "vscode": {
          "languageId": "python"
        },
        "trusted": true
      },
      "execution_count": 213,
      "outputs": [
        {
          "name": "stdout",
          "text": "Intervalo con maxima tolerancia. Aproximación solicitada:  -2.172512401024282268744377538\nNumero de iteraciones requerido:  61\n",
          "output_type": "stream"
        }
      ]
    },
    {
      "cell_type": "markdown",
      "source": "Por último, vamos a programar el algoritmo para la obtención de los polinomios de Sturm y se aplicará al polinomio de coeficientes los dígitos de nuestro DNI. Una sucesión de Sturn consta de: el polinomio, su derivada, y a continuación el resto cambiado de signo de la división del término $n-2$ y el $n-1$. El último elemento de la sucesión ha de ser constante:",
      "metadata": {}
    },
    {
      "cell_type": "code",
      "source": "# Función que calcula la sucesión de Sturm de un polinomio dado\ndef sturm(poli,x):\n    \n    f0 = poli\n    f1 = sp.Poly(sp.diff(poli,x))\n    \n    #Sucesion de sturm\n    st = [f0,f1]\n    \n    #Siguiente elemento\n    fn = f0 % f1\n    fn = sp.Poly(-fn) #Cambiar signo\n    \n    #Se seguirá calculando hasta que se llegue a una constante o hasta que el\n    # cociente sea 0\n    while((sp.degree(fn,x) != -sp.oo) or (fn == f0)):\n        st.append(fn)\n        f0,f1 = f1,fn\n        #Hacemos lo mismo que antes\n        fn = f0 % f1\n        fn = sp.Poly(-fn) #Cambiar signo\n        \n    #Devolvemos objeto\n    return st",
      "metadata": {
        "trusted": true
      },
      "execution_count": 214,
      "outputs": []
    },
    {
      "cell_type": "code",
      "source": "#Polinomio que nos incumbe\npoli_dni = sp.Poly(makePolinomio(x,coeficients),x)\n\n#Sucesión de Sturm\ns = sturm(poli_dni,x)\nfor i in range(len(s)):\n    print(\"f{}(x) = {}\".format(i+1,s[i].as_expr()))",
      "metadata": {
        "trusted": true
      },
      "execution_count": 215,
      "outputs": [
        {
          "name": "stdout",
          "text": "f1(x) = x**7 + x**6 + 6*x**4 + 8*x + 7\nf2(x) = 7*x**6 + 6*x**5 + 24*x**3 + 8\nf3(x) = 6*x**5/49 - 18*x**4/7 + 24*x**3/49 - 48*x/7 - 335/49\nf4(x) = -3185*x**4 + 588*x**3 - 392*x**2 - 53753*x/6 - 17101/2\nf5(x) = -864*x**3/207025 + 6361*x**2/207025 + 3414*x/207025 - 1216/207025\nf6(x) = 135328309025*x**2/746496 + 11795663425*x/124416 - 275550275/11664\nf7(x) = 1719564609024*x/1360946836488785 + 28046822552064/17692308874354205\nf8(x) = -20361891979817719948020775/142597533015425442816\n",
          "output_type": "stream"
        }
      ]
    }
  ]
}