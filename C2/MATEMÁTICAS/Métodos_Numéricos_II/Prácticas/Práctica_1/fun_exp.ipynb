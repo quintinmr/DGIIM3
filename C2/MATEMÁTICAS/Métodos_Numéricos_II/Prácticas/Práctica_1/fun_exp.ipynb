{
 "cells": [
  {
   "cell_type": "markdown",
   "id": "e1fcb638-a1ec-4d46-b5e9-97f97ae011d2",
   "metadata": {},
   "source": [
    "# EXAMEN PRÁCTICA 1"
   ]
  },
  {
   "cell_type": "markdown",
   "id": "66f0b59f-576f-41b9-a837-5b875368c43d",
   "metadata": {},
   "source": [
    "> **Alumno**: Quintín Mesa Romero\n",
    "\n",
    ">  **Curso**: 3º DGIIM\n",
    "  \n",
    ">  **DNI**: 78006011Q\n",
    "  \n",
    ">  **Correo**: quintinmr@correo.ugr.es"
   ]
  },
  {
   "cell_type": "markdown",
   "id": "8874848a-9575-400a-92be-f4d3969d524b",
   "metadata": {},
   "source": [
    "## Enunciado"
   ]
  },
  {
   "cell_type": "markdown",
   "id": "811fe022-3a75-4bb6-8e0b-0dea5159f82c",
   "metadata": {},
   "source": [
    "Resuelve la ecuación cúbica:\n",
    "\n",
    "\n",
    "$x^{3} + (media\\_digits)x + (suma\\_digits)$"
   ]
  },
  {
   "cell_type": "markdown",
   "id": "a234d2b5-fcb5-4ee7-b1c4-00a7f12de17d",
   "metadata": {},
   "source": [
    "_________________________________________________________________"
   ]
  },
  {
   "cell_type": "code",
   "execution_count": 1,
   "id": "deced617-09e2-451a-9175-5c045a0c57b2",
   "metadata": {},
   "outputs": [],
   "source": [
    "#Importacion de la biblioteca de numpy con el alias np\n",
    "import numpy as np\n",
    "#Importacion de la biblioteca matplotlib con el alias plt\n",
    "%matplotlib inline\n",
    "import matplotlib.pyplot as plt\n",
    "#Importacion de la biblioteca sympy con el alias sp\n",
    "import sympy as sp\n",
    "#Importacion de la biblioteca decimal (trabajar con precision ajustada)\n",
    "from decimal import *\n",
    "mporig = getcontext().prec\n",
    "#Importación de la función fsolve\n",
    "from scipy.optimize import fsolve\n",
    "#Importación de los solucionadores de sympy\n",
    "from sympy.solvers import solve, nsolve, solveset\n",
    "#Importación de los métodos ceil y floor de la biblioteca Math\n",
    "from math import ceil, floor"
   ]
  },
  {
   "cell_type": "markdown",
   "id": "f448d88d-075b-4b04-b54b-ad95fadf4c99",
   "metadata": {},
   "source": [
    "### Definimos una serie de funciones que nos van a hacer falta a la hora de calcular las soluciones de la ecuación y de sus aproximaciones."
   ]
  },
  {
   "cell_type": "code",
   "execution_count": 2,
   "id": "48873ed4-65c2-49ab-8d8a-d18d4628e015",
   "metadata": {},
   "outputs": [],
   "source": [
    "#Función que calcula la suma de una serie de números\n",
    "def suma (v):\n",
    "    \n",
    "    sum = 0\n",
    "    for i in range (len(v)):\n",
    "        sum = sum + v[i]\n",
    "    \n",
    "    return sum"
   ]
  },
  {
   "cell_type": "code",
   "execution_count": 3,
   "id": "d3bdcc74-e361-4157-b3e1-4df2d052e515",
   "metadata": {},
   "outputs": [],
   "source": [
    "#Función que calcula la media de los elementos de un vector\n",
    "def mean (v):\n",
    "    \n",
    "    media = suma(v)\n",
    "    \n",
    "    return media/8"
   ]
  },
  {
   "cell_type": "code",
   "execution_count": 4,
   "id": "a65186eb-cbaf-4b5e-8e44-5f3f5edd5996",
   "metadata": {},
   "outputs": [],
   "source": [
    "# Función que determina si una función cambia de signo en un intervalo dado:\n",
    "def sgn(f,a,b):\n",
    "    if f(a)*f(b) < 0:\n",
    "        print(\"Sí hay cambio de signo: Hay raíz\")\n",
    "    else:\n",
    "        print(\"No hay cambio de signo: No hay raíz\")"
   ]
  },
  {
   "cell_type": "code",
   "execution_count": 5,
   "id": "29e0fff0-50d1-4b04-87a8-374b2fbfe2d4",
   "metadata": {},
   "outputs": [],
   "source": [
    "def calc_cifras(precision):\n",
    "    \n",
    "    return int(np.ceil(abs(np.log10(precision))))"
   ]
  },
  {
   "cell_type": "code",
   "execution_count": 6,
   "id": "60c9a4dd-7110-44da-a0bb-76d9e7d8b23d",
   "metadata": {},
   "outputs": [],
   "source": [
    "# Definimos de forma simbólica la variable x\n",
    "x=sp.Symbol(\"x\") #Variable Simbólica x"
   ]
  },
  {
   "cell_type": "code",
   "execution_count": 7,
   "id": "333d8262-1a11-4d35-a2d3-50f5ed5f8be8",
   "metadata": {},
   "outputs": [],
   "source": [
    "# Función destinada al cálculo de las raíces de una ecuación, en una variable dada:\n",
    "def sol_exact(f,x,todas=True):\n",
    "    try:\n",
    "        soluciones = sp.solve(f(x),x)\n",
    "        num_sols   = len(soluciones)\n",
    "        if todas==True:\n",
    "            print(\"Se han encontrado : {} soluciones\".format(num_sols))\n",
    "            for i in range(num_sols):\n",
    "                print(\"Solución {}: {}\".format(i+1,soluciones[i].evalf()))\n",
    "        return soluciones,num_sols\n",
    "    except NotImplementedError:\n",
    "        print(\"No existen soluciones para esta ecuación : {}\".format(f(x))) \n"
   ]
  },
  {
   "cell_type": "code",
   "execution_count": 8,
   "id": "ba004c28-96cc-4cc3-8ef0-9648950790b9",
   "metadata": {},
   "outputs": [],
   "source": [
    "# Método de bisección\n",
    "# Vamos a encapsular el método de bisección en una función\n",
    "\n",
    "def biseccion (a, b, f, cifras=16,muestra=True, nmax=100, prec=10**(-16)):\n",
    "\n",
    "    a=Decimal(a)\n",
    "    b=Decimal(b)\n",
    "    niter = 0\n",
    "    terms = []\n",
    "\n",
    "    if (cifras <= 0):\n",
    "        cifras = calc_cifras(prec)\n",
    "     \n",
    "    tol = 10**(-cifras+1)\n",
    "    getcontext().prec = cifras\n",
    "\n",
    "    for i in range(nmax):\n",
    "        niter = niter + 1\n",
    "        c = (a+b)/2\n",
    "        terms.append(float(c))\n",
    "        if (abs(f(c)) < prec):\n",
    "            p = \"Precision\"\n",
    "            break\n",
    "        if (f(a)*f(c) <= 0):\n",
    "            b = c\n",
    "        else: \n",
    "            a = c\n",
    "        if b-a < tol:\n",
    "            p = \"Tolerance\"\n",
    "            break\n",
    "    \n",
    "    if (muestra):\n",
    "        print(\"MÉTODO DE BISECCIÓN APLICADO A LA ECUACIÓN: \", f(x))\n",
    "        \n",
    "        if (p == \"Precision\"):\n",
    "            print(\"Se ha alcanzado la precisión requerida. Posible solución exacta: \", c )\n",
    "        elif niter < nmax:\n",
    "            print(\"Aproximación con decimales: \", c)\n",
    "        else:\n",
    "            print(\"Intervalo con maxima tolerancia. Aproximación solicitada: \", c)\n",
    "\n",
    "        print(\"Numero de iteraciones requerido: \", niter)\n",
    "\n",
    "    return terms"
   ]
  },
  {
   "cell_type": "code",
   "execution_count": 9,
   "id": "75148029-89b8-4cb0-9b53-bbe1eec009fb",
   "metadata": {},
   "outputs": [],
   "source": [
    "# Método de Newton-Raphson\n",
    "# Vamos a encapsular el método de Newton-Raphson en una función\n",
    "def newton_raphson( b, f, deriv, cifras=16, muestra=True, nmax=100, prec=10**(-16)):\n",
    "\n",
    "    x0=Decimal(b)\n",
    "    \n",
    "    tol = 10**(-cifras+1)\n",
    "    getcontext().prec = cifras\n",
    "\n",
    "    niter = 0\n",
    "    terms = [b]\n",
    "\n",
    "    for k in range(nmax):\n",
    "        niter = niter + 1\n",
    "        x1 = x0 - f(x0)/deriv(x0)  # método de Newton-Raphson\n",
    "        terms.append(float(x1))\n",
    "        if abs(x1-x0) < tol:\n",
    "            p = 'tolerancia'\n",
    "            break\n",
    "        if abs(f(x1)) < prec:\n",
    "            p = 'precision'\n",
    "            break\n",
    "        else:\n",
    "            x0 = x1\n",
    "\n",
    "    if (muestra):\n",
    "        #print(\"MÉTODO DE NEWTON-RAPHSON APLICADO A LA ECUACIÓN: \", f(x))\n",
    "        if (p == \"Precision\"):\n",
    "            print(\"Se ha alcanzado la precisión requerida. Posible aproximación: \", x1)\n",
    "        else:\n",
    "            print(\"Intervalo con maxima tolerancia. Aproximación solicitada: \", x1)\n",
    "\n",
    "        print(\"Numero de iteraciones requerido: \", niter)\n",
    "\n",
    "    getcontext().prec = mporig # Se restaura la precisión por defecto\n",
    "\n",
    "    return terms"
   ]
  },
  {
   "cell_type": "code",
   "execution_count": 10,
   "id": "00152ae9-2b8d-4e9e-bb85-be7aed417fb2",
   "metadata": {},
   "outputs": [],
   "source": [
    "#Función que permite calcular el número de iteraciones necesarias en el método de bisección para llegar a la aproximación de la solución, con un\n",
    "#error dado\n",
    "def num_iter(a,b,cifras):\n",
    "    \n",
    "    n = np.log((b-a)/10**(-5))/np.log(2) - 1\n",
    "    return ceil(n)\n",
    "\n"
   ]
  },
  {
   "cell_type": "markdown",
   "id": "85fbfee5-5ef2-4fcf-a33c-6849d6afab5a",
   "metadata": {},
   "source": [
    "--------------------------------------------"
   ]
  },
  {
   "cell_type": "markdown",
   "id": "e3371890-470b-48a1-a40e-29662ebb4bf6",
   "metadata": {},
   "source": [
    "---------------------------------------------------"
   ]
  },
  {
   "cell_type": "markdown",
   "id": "f0220e8b-00b4-4be8-9398-397a894ffb3c",
   "metadata": {},
   "source": [
    "Una vez definidas las funciones necesarias para el desarrollo del ejercicio, procedemos a resolverlo:"
   ]
  },
  {
   "cell_type": "markdown",
   "id": "9f1b17a8-b5a3-43d8-8788-2cdcf7cdacf8",
   "metadata": {},
   "source": [
    "### **Definición de la función:**"
   ]
  },
  {
   "cell_type": "code",
   "execution_count": 11,
   "id": "455c1105-cbe9-4461-8216-5bd02efed6e7",
   "metadata": {},
   "outputs": [],
   "source": [
    "#Defino el DNI\n",
    "DNI = [7,8,0,0,6,0,1,1]"
   ]
  },
  {
   "cell_type": "code",
   "execution_count": 12,
   "id": "971df1e0-67f3-47e6-aa67-621788059fe1",
   "metadata": {},
   "outputs": [
    {
     "name": "stdout",
     "output_type": "stream",
     "text": [
      "Polinomio asociado al DNI [7, 8, 0, 0, 6, 0, 1, 1]: x**3 + 2.875*exp(x) + 23\n"
     ]
    }
   ],
   "source": [
    "#Defino el polinomio asociado a mi DNI\n",
    "def f(x):\n",
    "    \n",
    "    return x**3 + Decimal(mean(DNI))*sp.exp(x) + suma(DNI)\n",
    "\n",
    "print(\"Polinomio asociado al DNI {}: {}\".format(DNI,f(x)))"
   ]
  },
  {
   "cell_type": "markdown",
   "id": "43ae7b8b-ebd5-4dbe-877a-8dd251fd4835",
   "metadata": {},
   "source": [
    "### **Cálulo exacto de soluciones**"
   ]
  },
  {
   "cell_type": "markdown",
   "id": "7be26afa-4a96-435e-bfa6-5551c87f0ff6",
   "metadata": {},
   "source": [
    "Observamos gráficamente que solo tiene una raíz real, y en el intervalo $[-3,-2]$."
   ]
  },
  {
   "cell_type": "code",
   "execution_count": 13,
   "id": "4ef1e424-ad8b-4814-b003-ecb822c0edc6",
   "metadata": {},
   "outputs": [
    {
     "data": {
      "image/png": "[encoded data removed]",
      "text/plain": [
       "<Figure size 640x480 with 1 Axes>"
      ]
     },
     "metadata": {},
     "output_type": "display_data"
    },
    {
     "data": {
      "text/plain": [
       "<sympy.plotting.plot.Plot at 0x7f944ef3e070>"
      ]
     },
     "execution_count": 13,
     "metadata": {},
     "output_type": "execute_result"
    }
   ],
   "source": [
    "sp.plot(f(x),xlim=(-5.0,0.0),ylim=(-5.0,5.0))"
   ]
  },
  {
   "cell_type": "markdown",
   "id": "75b72510-652c-4d96-9ac5-042eaf29a781",
   "metadata": {},
   "source": [
    "Comprobémoslo de forma analitica con la función **nsolve** (la función que hemos confeccionado para el cálculo de raíces no nos sirve para funciones en las que aparezcan funciones trigonométricas o exponenciales):"
   ]
  },
  {
   "cell_type": "code",
   "execution_count": 14,
   "id": "a207f184-47c8-40be-a56a-0d67e69a30f9",
   "metadata": {},
   "outputs": [
    {
     "data": {
      "text/latex": [
       "$\\displaystyle -2.85069998418095$"
      ],
      "text/plain": [
       "-2.85069998418095"
      ]
     },
     "execution_count": 14,
     "metadata": {},
     "output_type": "execute_result"
    }
   ],
   "source": [
    "#Calculamos la raíz real que posee la ecuación:\n",
    "sol = nsolve(f(x),x,-3)\n",
    "sol"
   ]
  },
  {
   "cell_type": "markdown",
   "id": "3bd387a4-3bf7-4113-88ae-0e7819f40da4",
   "metadata": {},
   "source": [
    "### Método de Bisección"
   ]
  },
  {
   "cell_type": "markdown",
   "id": "ef628f70-a7e2-4a8e-8303-229cc6aac383",
   "metadata": {},
   "source": [
    "Vamos a calcular una aproximación de la solución real anteriormente obtenida en el intervalo $[-3,-2]$, con una toleracia de $10^{-5}$, es decir, con una precisión de $5$ cifras decimales. Pero ante,s aunque es obvio, veamos que verifica las condiciones del Teorema de Bolzano para así, poder aplicar Bisección:"
   ]
  },
  {
   "cell_type": "code",
   "execution_count": 15,
   "id": "9a9a01b3-2d43-4c6d-8ca0-65c3928bd1a2",
   "metadata": {},
   "outputs": [
    {
     "name": "stdout",
     "output_type": "stream",
     "text": [
      "Sí hay cambio de signo: Hay raíz\n"
     ]
    }
   ],
   "source": [
    "sgn(f, -3,-2)"
   ]
  },
  {
   "cell_type": "markdown",
   "id": "eb4bbd75-3816-4824-bb92-5885a56c5acd",
   "metadata": {},
   "source": [
    "Como la funcion cambia de signo en dicho intervalo, donde además es continua y derivable por ser una función polinómica, verifica el Teorema de Bolzano."
   ]
  },
  {
   "cell_type": "code",
   "execution_count": 16,
   "id": "8eb4a453-736c-42a4-892b-a9f8312ab63b",
   "metadata": {},
   "outputs": [
    {
     "name": "stdout",
     "output_type": "stream",
     "text": [
      "MÉTODO DE BISECCIÓN APLICADO A LA ECUACIÓN:  x**3 + 2.875*exp(x) + 23\n",
      "Aproximación con decimales:  -2.85069\n",
      "Numero de iteraciones requerido:  17\n"
     ]
    }
   ],
   "source": [
    "#Aplicamos método de Bisección\n",
    "a,b=-3,-2\n",
    "cifras=6\n",
    "bise = biseccion(a,b,f,cifras,True)"
   ]
  },
  {
   "cell_type": "code",
   "execution_count": 17,
   "id": "a17e25a4-f41c-4040-a3fa-e83c94ec44a8",
   "metadata": {},
   "outputs": [
    {
     "data": {
      "text/plain": [
       "16"
      ]
     },
     "execution_count": 17,
     "metadata": {},
     "output_type": "execute_result"
    }
   ],
   "source": [
    "#Comprobemos el número de iteraciones requerido para este método:\n",
    "num_iter(a,b,cifras)"
   ]
  },
  {
   "cell_type": "markdown",
   "id": "27c5d040-8c0d-47ca-89bf-9b8c9b44979c",
   "metadata": {},
   "source": [
    "### Método de Newton-Raphson"
   ]
  },
  {
   "cell_type": "markdown",
   "id": "6ef93a0b-3527-4e12-a69f-24969244a78c",
   "metadata": {},
   "source": [
    "A continuación vamos a aplicar el método de Newton-Raphson a la ecuación que tenemos entre manos. Para ello, vamos a tomar en primer lugar una semilla $x_{0} = -2.4$ la cual sabemos que es válida por la gráfica de la función y por el resultado exacto obtenido anteriormente."
   ]
  },
  {
   "cell_type": "code",
   "execution_count": 19,
   "id": "3c43b4c8-e685-4deb-a126-04efe3ad96d9",
   "metadata": {},
   "outputs": [],
   "source": [
    "#Definimos la derivada:\n",
    "def df(x):\n",
    "    \n",
    "    return 3*x**2 + Decimal(2.875)*sp.exp(x)"
   ]
  },
  {
   "cell_type": "code",
   "execution_count": 20,
   "id": "5e52eb62-a2b2-47cf-86a1-9df8233824fb",
   "metadata": {},
   "outputs": [
    {
     "name": "stdout",
     "output_type": "stream",
     "text": [
      "Intervalo con maxima tolerancia. Aproximación solicitada:  -2.85069998418263\n",
      "Numero de iteraciones requerido:  4\n"
     ]
    }
   ],
   "source": [
    "#Aplicamos el método de Newton-Raphson\n",
    "v0 = -2.4\n",
    "cifras = 6\n",
    "nr = newton_raphson(v0,f,df,cifras,True)\n"
   ]
  }
 ],
 "metadata": {
  "kernelspec": {
   "display_name": "Python 3 (ipykernel)",
   "language": "python",
   "name": "python3"
  },
  "language_info": {
   "codemirror_mode": {
    "name": "ipython",
    "version": 3
   },
   "file_extension": ".py",
   "mimetype": "text/x-python",
   "name": "python",
   "nbconvert_exporter": "python",
   "pygments_lexer": "ipython3",
   "version": "3.9.13"
  }
 },
 "nbformat": 4,
 "nbformat_minor": 5
}
