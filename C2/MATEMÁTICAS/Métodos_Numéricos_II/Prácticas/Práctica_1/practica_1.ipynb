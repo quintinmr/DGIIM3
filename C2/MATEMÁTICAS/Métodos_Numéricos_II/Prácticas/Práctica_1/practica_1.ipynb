{
 "cells": [
  {
   "cell_type": "markdown",
   "metadata": {},
   "source": [
    "# PRÁCTICA 1"
   ]
  },
  {
   "cell_type": "markdown",
   "metadata": {},
   "source": [
    "## Ejercicio 0\n",
    "En este ejercicio planteo otra forma de escribir el código del método de bisección para la resolución de ecuaciones no lineales.\n",
    "No difiere mucho del código original. El objetivo de hacer este ejercicio es para familiarizarme con el lenguaje y con el métido en sí."
   ]
  },
  {
   "cell_type": "code",
   "execution_count": 1,
   "metadata": {},
   "outputs": [
    {
     "ename": "NameError",
     "evalue": "name 'nmax' is not defined",
     "output_type": "error",
     "traceback": [
      "\u001b[0;31m---------------------------------------------------------------------------\u001b[0m",
      "\u001b[0;31mNameError\u001b[0m                                 Traceback (most recent call last)",
      "\u001b[0;32m/tmp/ipykernel_12756/3662701950.py\u001b[0m in \u001b[0;36m<module>\u001b[0;34m\u001b[0m\n\u001b[1;32m      2\u001b[0m \u001b[0mnum_it\u001b[0m \u001b[0;34m=\u001b[0m \u001b[0;36m0\u001b[0m\u001b[0;34m\u001b[0m\u001b[0;34m\u001b[0m\u001b[0m\n\u001b[1;32m      3\u001b[0m \u001b[0;34m\u001b[0m\u001b[0m\n\u001b[0;32m----> 4\u001b[0;31m \u001b[0;32mfor\u001b[0m \u001b[0mi\u001b[0m \u001b[0;32min\u001b[0m \u001b[0mrange\u001b[0m\u001b[0;34m(\u001b[0m\u001b[0mnmax\u001b[0m\u001b[0;34m)\u001b[0m\u001b[0;34m:\u001b[0m\u001b[0;34m\u001b[0m\u001b[0;34m\u001b[0m\u001b[0m\n\u001b[0m\u001b[1;32m      5\u001b[0m     \u001b[0mc\u001b[0m \u001b[0;34m=\u001b[0m \u001b[0;34m(\u001b[0m\u001b[0ma\u001b[0m\u001b[0;34m+\u001b[0m\u001b[0mb\u001b[0m\u001b[0;34m)\u001b[0m\u001b[0;34m/\u001b[0m\u001b[0;36m2\u001b[0m\u001b[0;34m\u001b[0m\u001b[0;34m\u001b[0m\u001b[0m\n\u001b[1;32m      6\u001b[0m     \u001b[0mnum_it\u001b[0m\u001b[0;34m=\u001b[0m\u001b[0mnum_it\u001b[0m\u001b[0;34m+\u001b[0m\u001b[0;36m1\u001b[0m\u001b[0;34m\u001b[0m\u001b[0;34m\u001b[0m\u001b[0m\n",
      "\u001b[0;31mNameError\u001b[0m: name 'nmax' is not defined"
     ]
    }
   ],
   "source": [
    "# Método de bisección\n",
    "num_it = 0\n",
    "\n",
    "for i in range(nmax):\n",
    "    c = (a+b)/2\n",
    "    num_it=num_it+1\n",
    "    if (abs(f(c)) < prec):\n",
    "        print(\"Se ha alcanzado la precisión requerida. Posible sol: \", c) \n",
    "        break\n",
    "    if (f(a)*f(c) < 0):\n",
    "         b = c\n",
    "    else: \n",
    "        a = c\n",
    "    if b-a < tol:\n",
    "        print(\"Intervalo con mucha precisión. Aproximación solicitada: \", c) \n",
    "        break\n",
    "\n",
    "print(\"Solución exacta: \", sol_exact)\n",
    "print(\"Numero de iteraciones requerido: \", num_it)"
   ]
  },
  {
   "cell_type": "markdown",
   "metadata": {},
   "source": [
    "## Ejercicio 0.5\n",
    "\n",
    "Modifique cualquiera de estos códigos con el objeto de implementar el conocido algoritmo de regula-falsi, en el que se obtiene el punto $c$ no como el punto medio entre $a$ y $b$, sino como el punto de corte con el eje $Ox$ de la recta que une los puntos $(a,f(a))$ y $(b,f(b))$, tal y como se muestra también en el siguiente método de la secante."
   ]
  },
  {
   "cell_type": "code",
   "execution_count": null,
   "metadata": {},
   "outputs": [],
   "source": [
    "# Método regula-falsi\n",
    "num_it = 0\n",
    "\n",
    "for i in range(nmax):\n",
    "    c = b - ((a-b)*f(b))/(f(a)-f(b))\n",
    "    num_it=num_it+1\n",
    "    if (abs(f(c)) < prec):\n",
    "        print(\"Se ha alcanzado la precisión requerida. Posible sol: \", c) \n",
    "        break\n",
    "    if (f(a)*f(c) < 0):\n",
    "         b = c\n",
    "    else: \n",
    "        a = c\n",
    "    if b-a < tol:\n",
    "        print(\"Intervalo con mucha precisión. Aproximación solicitada: \", c) \n",
    "        break\n",
    "\n",
    "print(\"Solución exacta: \", sol_exact)\n",
    "print(\"Numero de iteraciones requerido: \", num_it)"
   ]
  },
  {
   "cell_type": "markdown",
   "metadata": {},
   "source": [
    "#### Salida:\n",
    "    Intervalo con mucha precisión. Aproximación solicitada:  1.0986122886618854\n",
    "\n",
    "    Solución exacta:  log(3)\n",
    "\n",
    "    Numero de iteraciones requerido:  1"
   ]
  },
  {
   "cell_type": "markdown",
   "metadata": {},
   "source": [
    "---------------------------------------------------------------------------------------------------------------------------\n",
    "\n",
    "# RELACIÓN DE EJERCICIOS\n",
    "\n",
    "---------------------------------------------------------------------------------------------------------------------------"
   ]
  },
  {
   "cell_type": "code",
   "execution_count": 2,
   "metadata": {},
   "outputs": [],
   "source": [
    "#Importacion de la biblioteca de numpy con el alias np\n",
    "import numpy as np\n",
    "#Importacion de la biblioteca matplotlib con el alias plt\n",
    "%matplotlib inline\n",
    "import matplotlib.pyplot as plt\n",
    "#Importacion de la biblioteca sympy con el alias sp\n",
    "import sympy as sp\n",
    "#Importacion de la biblioteca decimal (trabajar con precision ajustada)\n",
    "from decimal import *\n",
    "mporig = getcontext().prec\n",
    "#Importación de la función fsolve\n",
    "from scipy.optimize import fsolve\n",
    "#Importación de los solucionadores de sympy\n",
    "from sympy.solvers import solve, nsolve, solveset\n",
    "#Importación de los métodos ceil y floor de la biblioteca Math\n",
    "from math import ceil, floor"
   ]
  },
  {
   "cell_type": "markdown",
   "metadata": {},
   "source": [
    "Función destinada al cálculo de raíces de una función dada, en una variable dada."
   ]
  },
  {
   "cell_type": "code",
   "execution_count": 3,
   "metadata": {},
   "outputs": [],
   "source": [
    "x=sp.Symbol(\"x\") #Variable Simbólica x"
   ]
  },
  {
   "cell_type": "code",
   "execution_count": 4,
   "metadata": {},
   "outputs": [],
   "source": [
    "def sol_exact(f,x,todas=True):\n",
    "    # Función que calcula las soluciones de una ecuación\n",
    "    try:\n",
    "        soluciones = sp.solve(f(x),x)\n",
    "        num_sols   = len(soluciones)\n",
    "        if todas==True:\n",
    "            print(\"Se han encontrado : {} soluciones\".format(num_sols))\n",
    "            for i in range(num_sols):\n",
    "                print(\"Solución {}: {}\".format(i+1,soluciones[i].evalf()))\n",
    "        return soluciones,num_sols\n",
    "    except NotImplementedError:\n",
    "        print(\"No existen soluciones para esta ecuación : {}\".format(f(x))) "
   ]
  },
  {
   "cell_type": "markdown",
   "metadata": {},
   "source": [
    "### Método de Bisección"
   ]
  },
  {
   "cell_type": "code",
   "execution_count": 71,
   "metadata": {},
   "outputs": [],
   "source": [
    "# Método de bisección\n",
    "# Vamos a encapsular el método de bisección en una función\n",
    "\n",
    "def biseccion ( a, b, f, cifras=16,muestra=True, nmax=100, prec=10**(-16)):\n",
    "\n",
    "    a=Decimal(a)\n",
    "    b=Decimal(b)\n",
    "    niter = 0\n",
    "    terms = []\n",
    "\n",
    "    if (cifras <= 0):\n",
    "        cifras = calc_cifras(prec)\n",
    "     \n",
    "    tol = 10**(-cifras+1)\n",
    "    getcontext().prec = cifras\n",
    "\n",
    "    for i in range(nmax):\n",
    "        niter = niter + 1\n",
    "        c = (a+b)/2\n",
    "        terms.append(float(c))\n",
    "        if (abs(f(c)) < prec):\n",
    "            p = \"Precision\"\n",
    "            break\n",
    "        if (f(a)*f(c) <= 0):\n",
    "            b = c\n",
    "        else: \n",
    "            a = c\n",
    "        if b-a < tol:\n",
    "            p = \"Tolerance\"\n",
    "            break\n",
    "    \n",
    "    if (muestra):\n",
    "        print(\"MÉTODO DE BISECCIÓN APLICADO A LA ECUACIÓN: \", f(x))\n",
    "        \n",
    "        if (p == \"Precision\"):\n",
    "            print(\"Se ha alcanzado la precisión requerida. Posible solución exacta: \", c )\n",
    "        elif niter < nmax:\n",
    "            print(\"Aproximación con decimales: \", c)\n",
    "        else:\n",
    "            print(\"Intervalo con maxima tolerancia. Aproximación solicitada: \", c)\n",
    "\n",
    "        print(\"Numero de iteraciones requerido: \", niter)\n",
    "\n",
    "    return terms\n"
   ]
  },
  {
   "cell_type": "markdown",
   "metadata": {},
   "source": [
    "### Método de Newton-Raphson"
   ]
  },
  {
   "cell_type": "code",
   "execution_count": 70,
   "metadata": {},
   "outputs": [],
   "source": [
    "# Método de Newton-Raphson\n",
    "# Vamos a encapsular el método de Newton-Raphson en una función\n",
    "def newton_raphson( b, f, deriv, cifras=16, muestra=True, nmax=100, prec=10**(-16)):\n",
    "\n",
    "    x0=Decimal(b)\n",
    "    \n",
    "    tol = 10**(-cifras+1)\n",
    "    getcontext().prec = cifras\n",
    "\n",
    "    niter = 0\n",
    "    terms = [b]\n",
    "\n",
    "    for k in range(nmax):\n",
    "        niter = niter + 1\n",
    "        x1 = x0 - f(x0)/deriv(x0)  # método de Newton-Raphson\n",
    "        terms.append(float(x1))\n",
    "        if abs(x1-x0) < tol:\n",
    "            p = 'tolerancia'\n",
    "            break\n",
    "        if abs(f(x1)) < prec:\n",
    "            p = 'precision'\n",
    "            break\n",
    "        else:\n",
    "            x0 = x1\n",
    "\n",
    "    if (muestra):\n",
    "        #print(\"MÉTODO DE NEWTON-RAPHSON APLICADO A LA ECUACIÓN: \", f(x))\n",
    "        if (p == \"Precision\"):\n",
    "            print(\"Se ha alcanzado la precisión requerida. Posible aproximación: \", x1)\n",
    "        else:\n",
    "            print(\"Intervalo con maxima tolerancia. Aproximación solicitada: \", x1)\n",
    "\n",
    "        print(\"Numero de iteraciones requerido: \", niter)\n",
    "\n",
    "    getcontext().prec = mporig # Se restaura la precisión por defecto\n",
    "\n",
    "    return terms"
   ]
  },
  {
   "cell_type": "code",
   "execution_count": 7,
   "metadata": {},
   "outputs": [],
   "source": [
    "# Función que determina si una función cambia de signo en un intervalo dado:\n",
    "def sgn(f,a,b):\n",
    "    if f(a)*f(b) < 0:\n",
    "        print(\"Sí hay cambio de signo: Hay raíz\")\n",
    "    else:\n",
    "        print(\"No hay cambio de signo: No hay raíz\")"
   ]
  },
  {
   "cell_type": "code",
   "execution_count": 8,
   "metadata": {},
   "outputs": [],
   "source": [
    "def calc_cifras(precision):\n",
    "    \n",
    "    return int(np.ceil(abs(np.log10(precision))))"
   ]
  },
  {
   "cell_type": "markdown",
   "metadata": {},
   "source": [
    "# EJERCICIO 1\n",
    "\n",
    "Demuestre que la ecuación  $x^3+4 x^2=10  $  tiene una única raíz en el intervalo $[1,2]$.  Aproxime dicha raíz con el método de bisección con al menos 3 cifras decimales exactas. ¿Cuántas iteraciones serán necesarias para conseguir 5 cifras decimales exactas (tol =$10^{-5}$)?  Aproxime también la raíz con el método de Newton-Raphson partiendo del extremo adecuado hasta que la diferencia en valor absoluto, entre dos aproximaciones consecutivas sea  inferior a  $10^{-3}$."
   ]
  },
  {
   "cell_type": "markdown",
   "metadata": {},
   "source": [
    "Probemos en primer lugar que dicha ecuación posee una única ecuación. Sea $f: [1,2] \\rightarrow [1,2]$ la aplicación dada por $f(x) = x^{3} + 4x^{2} - 10$, la cual claramente es continua en todo el intervalo y además derivable por ser una función polinómica (en particular es derivable en todo $\\mathbb{R}$). Es por ello que podemos aplicar el **teorema de Bolzano** para comprobar que la ecuación tiene **al menos** una raíz real: si $f(1) \\cdot f(2) < 0$ entonces la función posee al menos una raíz real en el intervalo $[1,2]$. Veámoslo haciendo uso de una función de python que determina si hay cambio de signo en el intervalo y, por consiguiente, si hay raíz dentro del mismo:\n",
    "\n",
    "\n",
    "\n"
   ]
  },
  {
   "cell_type": "code",
   "execution_count": 9,
   "metadata": {},
   "outputs": [],
   "source": [
    "a = 1; b = 2"
   ]
  },
  {
   "cell_type": "code",
   "execution_count": 10,
   "metadata": {},
   "outputs": [],
   "source": [
    "def f(x):\n",
    "\n",
    "    return x**3 + 4*x**2 - 10"
   ]
  },
  {
   "cell_type": "code",
   "execution_count": 11,
   "metadata": {},
   "outputs": [
    {
     "name": "stdout",
     "output_type": "stream",
     "text": [
      "Sí hay cambio de signo: Hay raíz\n"
     ]
    }
   ],
   "source": [
    "sgn(f,a,b)"
   ]
  },
  {
   "cell_type": "markdown",
   "metadata": {},
   "source": [
    "La función nos informa por tanto de que $f(1)\\cdot f(2) < 0$ así que el Teorema de Bolzano nos dice que la función posee al menos una raíz en el intervalo $[1,2]$.\n",
    "\n",
    "Probemos ahora que dicha solución, necesariamente ha de ser única. Calculemos la derivada de $f$:\n",
    "\n",
    "> $f^{'}(x) = 3x^{2} + 8x^{2}$\n",
    "\n",
    "Claramente, $f'(x) > 0 \\forall x \\in [1,2]$. Es por ello que la función $f$ es estrictamente creciente en dicho intervalo y, por consiguiente, de cortar al eje $OX$, solo lo hará una única vez. Concluimos por tanto que la raíz que el teorema de Bolzano afirmaba que existía, es única.\n",
    "\n",
    "A continuación, vamos a aproximar dicha raíz con al menos 3 cifras decimales exactas, aplicando para ello el método de bisección:"
   ]
  },
  {
   "cell_type": "code",
   "execution_count": 12,
   "metadata": {},
   "outputs": [
    {
     "name": "stdout",
     "output_type": "stream",
     "text": [
      "Se han encontrado : 3 soluciones\n",
      "Solución 1: -2.68261500670705 - 0.358259359924043*I\n",
      "Solución 2: -2.68261500670705 + 0.358259359924043*I\n",
      "Solución 3: 1.36523001341410\n"
     ]
    }
   ],
   "source": [
    "sol,n = sol_exact(f,x)"
   ]
  },
  {
   "cell_type": "code",
   "execution_count": 13,
   "metadata": {},
   "outputs": [
    {
     "name": "stdout",
     "output_type": "stream",
     "text": [
      "MÉTODO DE BISECCIÓN APLICADO A LA ECUACIÓN:  x**3 + 4*x**2 - 10\n",
      "Aproximación con decimales:  1.365\n",
      "Numero de iteraciones requerido:  10\n",
      "Solución exacta con 3 cifras decimales:1.365 \n"
     ]
    }
   ],
   "source": [
    "# Calculemos la aproximación de la solución requerida\n",
    "cifras = 4\n",
    "biseccion(a,b,f,cifras,True)\n",
    "print(\"Solución exacta con {} cifras decimales:{} \".format(cifras-1, sol_exact(f,x,False)[0][2].evalf(cifras)))"
   ]
  },
  {
   "cell_type": "markdown",
   "metadata": {},
   "source": [
    "A continuación vamos a estimar el número de iteraciones necesarias para conseguir 5 cifras decimales exactas (tol =$10^{-5}$).\n",
    "\n",
    "El método de bisección nos permite calcular previamente el número de iteraciones necesarias para obtener la solución con un error inferior a uno dado. Efectivamente, si partimos por ejemplo del único intervalo de amplitud unidad en el que se encuentra la solución $s$, el $[1,2]$ y deseamos una solución con error menor que $10^{-5}$, entonces, teniendo en cuenta que según el Teorema que expone las propiedades del método de bisección: \"La sucesión de errores $\\{e_{n}\\}_{n\\geq 0}$ cumple $|e_{n}| < \\frac{1}{2^{n+1}} (b-a)$\", podemos imponer\n",
    "\n",
    "<center>\n",
    "\n",
    "$|e_{n}| < \\frac{2-1}{2^{n+1}} \\leq 10^{-5}$\n",
    "\n",
    "</center>\n",
    "\n",
    "de donde\n",
    "\n",
    "<center>\n",
    "\n",
    "$2^{n+1} \\geq \\frac{1}{10^{-5}} \\Rightarrow n \\geq log_{2}\\frac{1}{10^{-5}} - 1 = \\frac{ln \\frac{1}{10^{-5}}}{ln 2} - 1$\n",
    "\n",
    "</center>\n",
    "\n",
    "Así, obtenemos que \n",
    "\n",
    "<center>\n",
    "\n",
    "$n \\geq \\frac{ln \\frac{1}{10^{-5}}}{ln 2} - 1 \\Longleftrightarrow n \\geq 15.60964047 ... \\Rightarrow n = 16$\n",
    "\n",
    "</center>\n",
    "\n",
    "Para obtener un error inferior a $10^{-5}$ con el método de bisección son necesarias $16$ iteraciones."
   ]
  },
  {
   "cell_type": "markdown",
   "metadata": {},
   "source": [
    "Por último vamos a hallar la aproximación de la solución con el método de Newton-Raphson hasta conseguir un error inferior "
   ]
  },
  {
   "cell_type": "code",
   "execution_count": 14,
   "metadata": {},
   "outputs": [],
   "source": [
    "def deriv(x):\n",
    "    return 3*x**2+8*x"
   ]
  },
  {
   "cell_type": "code",
   "execution_count": 15,
   "metadata": {},
   "outputs": [
    {
     "name": "stdout",
     "output_type": "stream",
     "text": [
      "Intervalo con maxima tolerancia. Aproximación solicitada:  1.365\n",
      "Numero de iteraciones requerido:  4\n",
      "Solución exacta con 3 decimales:1.365 \n"
     ]
    }
   ],
   "source": [
    "# Calculemos la aproximación de la solución requerida\n",
    "v_inic = 1\n",
    "cifras = 4\n",
    "newton_raphson(v_inic, f, deriv, cifras, True)\n",
    "print(\"Solución exacta con {} decimales:{} \".format(cifras-1, sol_exact(f,x,False)[0][2].evalf(cifras)))"
   ]
  },
  {
   "cell_type": "markdown",
   "metadata": {},
   "source": [
    "# EJERCICIO 2\n",
    "\n",
    "Encuentre una aproximación de la raíz cúbica de 25 con dos decimales exactos (tol =$10^{-2}$), usando el algoritmo de bisección.\n"
   ]
  },
  {
   "cell_type": "markdown",
   "metadata": {},
   "source": [
    "Sea $g: \\mathbb{R} \\longrightarrow \\mathbb{R}$ una aplicación dada por $g(x) = \\sqrt[3]{x}$, que es claramente continua y derivable en todo su dominio de definición. Vamos a hacer una aproximación de dicha función aplicada al valor $25$ con dos decimales exactos. Es por ello que previamente a llevar a cabo dicho proceso de aproximación, vamos a ver cuál es el valor exacto de la raíz que se nos pide:"
   ]
  },
  {
   "cell_type": "code",
   "execution_count": 16,
   "metadata": {},
   "outputs": [
    {
     "name": "stdout",
     "output_type": "stream",
     "text": [
      "Valor exacto con 3 decimales: 2.92\n"
     ]
    }
   ],
   "source": [
    "# Definición de la función raíz cúbica de x\n",
    "def g(x):\n",
    "    return x**(Decimal(1)/Decimal(3))\n",
    "\n",
    "cifras = 3 # tres cifras de precisión\n",
    "getcontext().prec = cifras\n",
    "\n",
    "n = 25\n",
    "g(n)\n",
    "# comprobamos la solución exacta\n",
    "print(\"Valor exacto con {} decimales: {}\".format(cifras, g(n)))"
   ]
  },
  {
   "cell_type": "markdown",
   "metadata": {},
   "source": [
    "Procedamos ahora a aplicar el método de bisección para aproximar dicha raíz a dos decimales exactos. Para ello, en primer lugar, observamos que podemos ver el enunciado del ejercicio desde otra perspectiva:\n",
    "\n",
    "Sea $x$ el valor que buscamos\n",
    "\n",
    "<center>\n",
    "\n",
    "$x = \\sqrt[3]{25} \\Longleftrightarrow x^{3} - 25 = 0$\n",
    "\n",
    "</center>\n",
    "\n",
    "Ahora sea $h: \\mathbb{R} \\longrightarrow \\mathbb{R}$ la aplicación dada por $h(x) = x^{3} - 25$, continua y derivable también en su dominio. El ejercicio se reduce a calcular una de sus raíces reales. Apliquemos entonces el método de bisección a esta función en el intervalo $[2,3]$:\n"
   ]
  },
  {
   "cell_type": "code",
   "execution_count": 17,
   "metadata": {},
   "outputs": [],
   "source": [
    "def h(x):\n",
    "    \n",
    "    return x**3 - 25\n",
    "\n",
    "v1 = 2; v2 = 3"
   ]
  },
  {
   "cell_type": "code",
   "execution_count": 18,
   "metadata": {},
   "outputs": [
    {
     "name": "stdout",
     "output_type": "stream",
     "text": [
      "MÉTODO DE BISECCIÓN APLICADO A LA ECUACIÓN:  x**3 - 25\n",
      "Aproximación con decimales:  2.93\n",
      "Numero de iteraciones requerido:  7\n"
     ]
    },
    {
     "data": {
      "text/plain": [
       "[2.5, 2.75, 2.88, 2.94, 2.91, 2.92, 2.93]"
      ]
     },
     "execution_count": 18,
     "metadata": {},
     "output_type": "execute_result"
    }
   ],
   "source": [
    "biseccion(v1,v2,h, cifras,True)"
   ]
  },
  {
   "cell_type": "markdown",
   "metadata": {},
   "source": [
    "# EJERCICIO 3"
   ]
  },
  {
   "cell_type": "markdown",
   "metadata": {},
   "source": [
    "Use el método de Newton-Raphson para aproximar las soluciones de las siguientes ecuaciones con tolerancia $10^{-5}$ , partiendo de un valor adecuado, próximo a cada una de ellas en cada caso.\n",
    "\n",
    "i) $x^3-x-1 = 0$  en $[1,2]$.\n",
    "\n",
    "ii) $3x=2+x^2-e^x$.\n",
    "\n",
    "iii) $x^2+10\\, cos x+x=0$.\n"
   ]
  },
  {
   "cell_type": "markdown",
   "metadata": {},
   "source": [
    "Definamos en primer lugar todas las funciones dadas junto con su funcion derivada. Cada una de ellas es continua y derivable en $\\mathbb{R}$:"
   ]
  },
  {
   "cell_type": "code",
   "execution_count": 19,
   "metadata": {},
   "outputs": [],
   "source": [
    "def f_1(x):\n",
    "\n",
    "    return x**3 - x - 1\n",
    "\n",
    "def df_1(x):\n",
    "\n",
    "    return 3*x**2 - 1\n",
    "\n",
    "def f_2(x):\n",
    "\n",
    "    return 3*x-2-x**2+sp.exp(x)\n",
    "\n",
    "def fnum_2(x):\n",
    "    \n",
    "    return 3*x-2-x**2+np.exp(x)\n",
    "\n",
    "def df_2(x):\n",
    "\n",
    "    return 3 -2*x + np.exp(x)\n",
    "\n",
    "def f_3(x):\n",
    "\n",
    "    return x**2+10*sp.cos(x) + x\n",
    "\n",
    "def fnum_3(x):\n",
    "\n",
    "    return x**2+10*Decimal(np.cos(float(x))) + x\n",
    "\n",
    "def df_3(x):\n",
    "\n",
    "    return 2*x-10*Decimal(np.sin(float(x))) + 1\n"
   ]
  },
  {
   "cell_type": "markdown",
   "metadata": {},
   "source": [
    "#### Función 1:"
   ]
  },
  {
   "cell_type": "markdown",
   "metadata": {},
   "source": [
    "Hallemos en primer lugar las zaíces de la función 1:"
   ]
  },
  {
   "cell_type": "code",
   "execution_count": 20,
   "metadata": {},
   "outputs": [
    {
     "name": "stdout",
     "output_type": "stream",
     "text": [
      "Se han encontrado : 3 soluciones\n",
      "Solución 1: -0.662358978622373 - 0.562279512062301*I\n",
      "Solución 2: -0.662358978622373 + 0.562279512062301*I\n",
      "Solución 3: 1.32471795724475\n"
     ]
    }
   ],
   "source": [
    "v1 = sol_exact(f_1,x,todas=True)"
   ]
  },
  {
   "cell_type": "markdown",
   "metadata": {},
   "source": [
    "Nos centramos en la zaíz real que posee: **1.32471795724475**. Apliquemos entonces el Método de Newton-Raphson a dicha función para aproximar la solución que acabamos de ver en su forma exacta, con 6 cifras significativas (*tol*=$10^{-5}$) y partiendo de la semilla $x_{0} = 1.25$ por ejemplo:"
   ]
  },
  {
   "cell_type": "code",
   "execution_count": 21,
   "metadata": {},
   "outputs": [
    {
     "name": "stdout",
     "output_type": "stream",
     "text": [
      "Intervalo con maxima tolerancia. Aproximación solicitada:  1.32475\n",
      "Numero de iteraciones requerido:  2\n",
      "Solución exacta: 1.32471795724475\n"
     ]
    }
   ],
   "source": [
    "# Calculemos la aproximación de la solución requerida\n",
    "v_inic = 1.25\n",
    "cifras = 6\n",
    "newton_raphson(v_inic, f_1, df_1, cifras, True)\n",
    "print(\"Solución exacta: {}\".format(v1[0][2].evalf()))"
   ]
  },
  {
   "cell_type": "markdown",
   "metadata": {},
   "source": [
    "#### Función 2"
   ]
  },
  {
   "cell_type": "markdown",
   "metadata": {},
   "source": [
    "Hallemos las raíces de esta seguna función:"
   ]
  },
  {
   "cell_type": "code",
   "execution_count": 22,
   "metadata": {},
   "outputs": [
    {
     "name": "stdout",
     "output_type": "stream",
     "text": [
      "No existen soluciones para esta ecuación : -x**2 + 3*x + exp(x) - 2\n"
     ]
    }
   ],
   "source": [
    "v2 = sol_exact(f_2,x,todas=True)"
   ]
  },
  {
   "cell_type": "markdown",
   "metadata": {},
   "source": [
    "Observamos que python no tiene una forma relativamente buena para calcular las razíces de esta función, que se evidencia que tiene por la gráfica"
   ]
  },
  {
   "cell_type": "code",
   "execution_count": 23,
   "metadata": {},
   "outputs": [
    {
     "data": {
      "image/png": "[encoded data removed]",
      "text/plain": [
       "<Figure size 640x480 with 1 Axes>"
      ]
     },
     "metadata": {},
     "output_type": "display_data"
    },
    {
     "data": {
      "text/plain": [
       "<sympy.plotting.plot.Plot at 0x7fac15855850>"
      ]
     },
     "execution_count": 23,
     "metadata": {},
     "output_type": "execute_result"
    }
   ],
   "source": [
    "sp.plot(f_2(x),xlim=(-5.0,5.0),ylim=(-50,50))"
   ]
  },
  {
   "cell_type": "markdown",
   "metadata": {},
   "source": [
    "Para obtener una aproximación de la solución dada la imposibilidad de calcularla de forma exacta, vamos a usar el Método de NR, utilizando una semilla adecuada para ello. Dicha semilla estará dentro del intervalo en el que se encuentre la solución (en el que haya un cambio de signo). Para ver dónde está la solución, ampliemos el gráfico"
   ]
  },
  {
   "cell_type": "code",
   "execution_count": 24,
   "metadata": {},
   "outputs": [
    {
     "data": {
      "image/png": "[encoded data removed]",
      "text/plain": [
       "<Figure size 640x480 with 1 Axes>"
      ]
     },
     "metadata": {},
     "output_type": "display_data"
    },
    {
     "data": {
      "text/plain": [
       "<sympy.plotting.plot.Plot at 0x7fac157c3e80>"
      ]
     },
     "execution_count": 24,
     "metadata": {},
     "output_type": "execute_result"
    }
   ],
   "source": [
    "sp.plot(f_2(x),xlim=(0.0,4.0),ylim=(-5.0,5.0))"
   ]
  },
  {
   "cell_type": "markdown",
   "metadata": {},
   "source": [
    "Claramente observamos que la función posee su raíz en el intervalo de amplitud 1, $[0,1]$. De hecho: "
   ]
  },
  {
   "cell_type": "code",
   "execution_count": 25,
   "metadata": {},
   "outputs": [
    {
     "name": "stdout",
     "output_type": "stream",
     "text": [
      "Sí hay cambio de signo: Hay raíz\n"
     ]
    }
   ],
   "source": [
    "sgn(f_2,0,1)"
   ]
  },
  {
   "cell_type": "markdown",
   "metadata": {},
   "source": [
    "Es por ello que elegiremos la semilla en este intervalo. Sea $x_{0} = 0.5$. Apliquemos el método de NR para hallar la aproximación de la solución con la tolerancia indicada:"
   ]
  },
  {
   "cell_type": "code",
   "execution_count": 26,
   "metadata": {},
   "outputs": [
    {
     "name": "stdout",
     "output_type": "stream",
     "text": [
      "Intervalo con maxima tolerancia. Aproximación solicitada:  0.25752\n",
      "Numero de iteraciones requerido:  2\n"
     ]
    },
    {
     "data": {
      "text/plain": [
       "[0.5, 0.25369, 0.25752]"
      ]
     },
     "execution_count": 26,
     "metadata": {},
     "output_type": "execute_result"
    }
   ],
   "source": [
    "# Calculemos la aproximación de la solución requerida\n",
    "v_inic = 0.5\n",
    "cifras = 5\n",
    "newton_raphson(v_inic, fnum_2, df_2, cifras, True)"
   ]
  },
  {
   "cell_type": "markdown",
   "metadata": {},
   "source": [
    "### Función 3"
   ]
  },
  {
   "cell_type": "markdown",
   "metadata": {},
   "source": [
    "Hallemos en primer lugar las raíces de la función:"
   ]
  },
  {
   "cell_type": "code",
   "execution_count": 27,
   "metadata": {},
   "outputs": [
    {
     "name": "stdout",
     "output_type": "stream",
     "text": [
      "Se han encontrado : 0 soluciones\n"
     ]
    }
   ],
   "source": [
    "v3 = sol_exact(f_3,x,todas=True)"
   ]
  },
  {
   "cell_type": "markdown",
   "metadata": {},
   "source": [
    "Veamos que aunque la función nos diga que no hay ninguna solución, sí que las hay. Prueba de ello viene dada por el siguiente gráfico:"
   ]
  },
  {
   "cell_type": "code",
   "execution_count": 28,
   "metadata": {},
   "outputs": [
    {
     "data": {
      "image/png": "[encoded data removed]",
      "text/plain": [
       "<Figure size 640x480 with 1 Axes>"
      ]
     },
     "metadata": {},
     "output_type": "display_data"
    },
    {
     "data": {
      "text/plain": [
       "<sympy.plotting.plot.Plot at 0x7fac14bf7340>"
      ]
     },
     "execution_count": 28,
     "metadata": {},
     "output_type": "execute_result"
    }
   ],
   "source": [
    "sp.plot(f_3(x),xlim=(-7.5,7.5),ylim=(-50,50))"
   ]
  },
  {
   "cell_type": "markdown",
   "metadata": {},
   "source": [
    "Gráficamente observamos que corta al eje $OX$ en dos ocasiones. Una en el intervalo $[-4,-3]$ y otra en el intervalo $[-2,-1]$:"
   ]
  },
  {
   "cell_type": "code",
   "execution_count": 29,
   "metadata": {},
   "outputs": [
    {
     "name": "stdout",
     "output_type": "stream",
     "text": [
      "Sí hay cambio de signo: Hay raíz\n"
     ]
    }
   ],
   "source": [
    "# Primer cambio de signo:\n",
    "sgn(f_3,-4,-3)"
   ]
  },
  {
   "cell_type": "code",
   "execution_count": 30,
   "metadata": {},
   "outputs": [
    {
     "name": "stdout",
     "output_type": "stream",
     "text": [
      "Sí hay cambio de signo: Hay raíz\n"
     ]
    }
   ],
   "source": [
    "# Segundo cambio de signo:\n",
    "sgn(f_3,-2,-1)"
   ]
  },
  {
   "cell_type": "markdown",
   "metadata": {},
   "source": [
    "Ampliemos la gráfica para tener una mejor visión a la hora de escoger semillas:"
   ]
  },
  {
   "cell_type": "code",
   "execution_count": 31,
   "metadata": {},
   "outputs": [
    {
     "data": {
      "image/png": "[encoded data removed]",
      "text/plain": [
       "<Figure size 640x480 with 1 Axes>"
      ]
     },
     "metadata": {},
     "output_type": "display_data"
    },
    {
     "data": {
      "text/plain": [
       "<sympy.plotting.plot.Plot at 0x7fac14b2f310>"
      ]
     },
     "execution_count": 31,
     "metadata": {},
     "output_type": "execute_result"
    }
   ],
   "source": [
    "sp.plot(f_3(x),xlim=(-5,0),ylim=(-5.0,5.0))"
   ]
  },
  {
   "cell_type": "markdown",
   "metadata": {},
   "source": [
    "#### Primera raíz (intervalo $[-4,-3]$)"
   ]
  },
  {
   "cell_type": "markdown",
   "metadata": {},
   "source": [
    "Sea $x_{0} = -3.2$ la semilla para encontrar mediante NR la raíz del intervalo de amplitud unidad $[-4,-3]$. Apliquemos dicho método:"
   ]
  },
  {
   "cell_type": "code",
   "execution_count": 32,
   "metadata": {},
   "outputs": [
    {
     "name": "stdout",
     "output_type": "stream",
     "text": [
      "Intervalo con maxima tolerancia. Aproximación solicitada:  -3.56237\n",
      "Numero de iteraciones requerido:  3\n"
     ]
    },
    {
     "data": {
      "text/plain": [
       "[-3.2, -3.69183, -3.57009, -3.56237]"
      ]
     },
     "execution_count": 32,
     "metadata": {},
     "output_type": "execute_result"
    }
   ],
   "source": [
    "# Calculemos la aproximación de la solución requerida\n",
    "v_inic = -3.2\n",
    "cifras = 6\n",
    "newton_raphson(v_inic, fnum_3, df_3, cifras, True)"
   ]
  },
  {
   "cell_type": "markdown",
   "metadata": {},
   "source": [
    "#### Segunda raíz (intervalo $[-2,-1]$)"
   ]
  },
  {
   "cell_type": "markdown",
   "metadata": {},
   "source": [
    "Sea $x_{0} = -1.6$ la semilla para encontrar mediante NR la raíz del intervalo de amplitud unidad $[-2,-1]$. Apliquemos dicho método:"
   ]
  },
  {
   "cell_type": "code",
   "execution_count": 33,
   "metadata": {},
   "outputs": [
    {
     "name": "stdout",
     "output_type": "stream",
     "text": [
      "Intervalo con maxima tolerancia. Aproximación solicitada:  -1.68694\n",
      "Numero de iteraciones requerido:  2\n"
     ]
    },
    {
     "data": {
      "text/plain": [
       "[-1.6, -1.68569, -1.68694]"
      ]
     },
     "execution_count": 33,
     "metadata": {},
     "output_type": "execute_result"
    }
   ],
   "source": [
    "# Calculemos la aproximación de la solución requerida\n",
    "v_inic = -1.6\n",
    "cifras = 6\n",
    "newton_raphson(v_inic, fnum_3, df_3, cifras, True)"
   ]
  },
  {
   "cell_type": "markdown",
   "metadata": {},
   "source": [
    "# EJERCICIO 4"
   ]
  },
  {
   "cell_type": "markdown",
   "metadata": {},
   "source": [
    "Para la función  $ f(x)= 3 x^2+e^x-1$, \n",
    "\n",
    "i) encuentre, mediante el método de bisección una aproximación de la raíz en $[0,1]$ con, al menos, cuatro decimales exactos (tol =$10^{-4}$), y determine el número de iteraciones realizadas;\n",
    "\n",
    "ii) encuentre, mediante el método de Newton-Raphson, una aproximación de la raíz en $[0,1]$ con una tolerancia de $10^{-4}$, partiendo de $x_0=0$, y determine el número de iteraciones realizadas."
   ]
  },
  {
   "cell_type": "markdown",
   "metadata": {},
   "source": [
    "Sea $f:\\mathbb{R} \\longrightarrow \\mathbb{R}$ la aplicación dada por $f(x) = 3x^{2} + e^{x} -1$, continua y derivable ne todo su dominio de definición."
   ]
  },
  {
   "cell_type": "markdown",
   "metadata": {},
   "source": [
    "### Apartado i"
   ]
  },
  {
   "cell_type": "code",
   "execution_count": 34,
   "metadata": {},
   "outputs": [],
   "source": [
    "# Definamos la función\n",
    "def f_4(x):\n",
    "\n",
    "    return 3*x**2 + sp.exp(x) - 1\n",
    "\n",
    "def fnum_4(x):\n",
    "\n",
    "    return 3*x**2 + np.exp(x) - 1\n",
    "\n",
    "def df_4(x):\n",
    "\n",
    "    return 6*x + np.exp(x)"
   ]
  },
  {
   "cell_type": "markdown",
   "metadata": {},
   "source": [
    "En primer lugar vamos a comprobar que dicha función posee alguna raíz en el intervalo $[0,1]$. Para ello, vamos a comprobar si hay algún cabio de signo en dicho intervalo:"
   ]
  },
  {
   "cell_type": "code",
   "execution_count": 35,
   "metadata": {},
   "outputs": [
    {
     "name": "stdout",
     "output_type": "stream",
     "text": [
      "No hay cambio de signo: No hay raíz\n"
     ]
    }
   ],
   "source": [
    "sgn(f_4,0,1)"
   ]
  },
  {
   "cell_type": "code",
   "execution_count": 36,
   "metadata": {},
   "outputs": [
    {
     "data": {
      "image/png": "[encoded data removed]",
      "text/plain": [
       "<Figure size 640x480 with 1 Axes>"
      ]
     },
     "metadata": {},
     "output_type": "display_data"
    },
    {
     "data": {
      "text/plain": [
       "<sympy.plotting.plot.Plot at 0x7fac14b8c5e0>"
      ]
     },
     "execution_count": 36,
     "metadata": {},
     "output_type": "execute_result"
    }
   ],
   "source": [
    "sp.plot(f_4(x),xlim=(-0.5,0.2),ylim=(-1.0,1.0))"
   ]
  },
  {
   "cell_type": "markdown",
   "metadata": {},
   "source": [
    "Observamos que en $x = 0$"
   ]
  },
  {
   "cell_type": "code",
   "execution_count": 37,
   "metadata": {},
   "outputs": [
    {
     "data": {
      "text/latex": [
       "$\\displaystyle 0$"
      ],
      "text/plain": [
       "0"
      ]
     },
     "execution_count": 37,
     "metadata": {},
     "output_type": "execute_result"
    }
   ],
   "source": [
    "f_4(0)"
   ]
  },
  {
   "cell_type": "code",
   "execution_count": 38,
   "metadata": {},
   "outputs": [
    {
     "name": "stdout",
     "output_type": "stream",
     "text": [
      "Raíz de f4(x) en el intervalo [0,1] : 0\n"
     ]
    }
   ],
   "source": [
    "#En Python se dispone de un resolutor de ecuaciones utilizando una aproximación,se llama nsolve. Lo utilizaremos en\n",
    "#esta ocasión\n",
    "x1 = nsolve(f_4(x),x,0)\n",
    "#Impresion\n",
    "print(\"Raíz de f4(x) en el intervalo [0,1] : {}\".format(x1))"
   ]
  },
  {
   "cell_type": "markdown",
   "metadata": {},
   "source": [
    "Y por consiguiente, deducimos que tiene una raíz en el intervalo $[0,1]$ es $x=0$. No se puede aplicar Bisección porque no se cumple el teorema de Bolzano (pq el extremo inferior del intervalo es la propia solución, pero podemos hallar el número de iteraciones de esta forma:"
   ]
  },
  {
   "cell_type": "code",
   "execution_count": 39,
   "metadata": {},
   "outputs": [
    {
     "name": "stdout",
     "output_type": "stream",
     "text": [
      ">>> Valor de n : 12.287712379549449\n",
      ">>> Número de iteraciones necesarias : 13\n"
     ]
    }
   ],
   "source": [
    "#Definimos los extremos del intervalo\n",
    "a,b = 0,1\n",
    "#En nuestro caso tenemos [a,b] = [1,2] y tolerancia tol=10**(-4)\n",
    "n = np.log((b-a)/10**(-4))/np.log(2) - 1\n",
    "#Mostramos el valor exacto\n",
    "print(\">>> Valor de n : {}\".format(n))\n",
    "#Ajustamos el resultado redondeando el valor n\n",
    "iteraciones = ceil(n)\n",
    "print(\">>> Número de iteraciones necesarias : {}\".format(iteraciones))"
   ]
  },
  {
   "cell_type": "markdown",
   "metadata": {},
   "source": [
    "### Método de Newton-Raphson"
   ]
  },
  {
   "cell_type": "code",
   "execution_count": 40,
   "metadata": {},
   "outputs": [
    {
     "name": "stdout",
     "output_type": "stream",
     "text": [
      "Intervalo con maxima tolerancia. Aproximación solicitada:  0.000745\n",
      "Numero de iteraciones requerido:  3\n"
     ]
    },
    {
     "data": {
      "text/plain": [
       "[0.25, 0.08064, 0.014624, 0.000745]"
      ]
     },
     "execution_count": 40,
     "metadata": {},
     "output_type": "execute_result"
    }
   ],
   "source": [
    "# Calculemos la aproximación de la solución requerida\n",
    "v_inic = 0.25\n",
    "cifras = 5\n",
    "newton_raphson(v_inic, fnum_4, df_4, cifras, True)"
   ]
  },
  {
   "cell_type": "markdown",
   "metadata": {},
   "source": [
    "# EJERCICIO 5"
   ]
  },
  {
   "cell_type": "markdown",
   "metadata": {},
   "source": [
    "Utilice las órdenes apropiadas de Python para aproximar todos los puntos donde se anulan las funciones siguientes (si es necesario, represéntelas gráficamente):\n",
    "\n",
    "i) $f(x)=x^7-x^4+2$ ,\n",
    "\n",
    "ii) $f(x)=x^7+\\cos  x-3$."
   ]
  },
  {
   "cell_type": "markdown",
   "metadata": {},
   "source": [
    "### Apartado i"
   ]
  },
  {
   "cell_type": "markdown",
   "metadata": {},
   "source": [
    "Sea $f : \\mathbb{R} \\longrightarrow \\mathbb{R}$ la aplicación dada por $f(x) = x^{7} - x^{4} + 2$, continua y derivable en todo su dominio.\n",
    "\n",
    "Vamos a visualizar gráficamente los puntos en los que la función se anula. El teorema Fundamental del Álgebra nos dice que la función posee a lo sumo $7$ raíces, de las que nos interesan sólo las reales."
   ]
  },
  {
   "cell_type": "code",
   "execution_count": 41,
   "metadata": {},
   "outputs": [],
   "source": [
    "# Definición de la función y su derivada\n",
    "def f_5i(x):\n",
    "\n",
    "    return x**7 - x**4 + 2\n",
    "\n",
    "def df_5i(x):\n",
    "\n",
    "    return 7*x**6 - 4*x**3"
   ]
  },
  {
   "cell_type": "markdown",
   "metadata": {},
   "source": [
    "Intentemos calcular de forma exacta dichas raíces previa visualización gráfica con nuestra función de python:"
   ]
  },
  {
   "cell_type": "code",
   "execution_count": 42,
   "metadata": {},
   "outputs": [
    {
     "name": "stdout",
     "output_type": "stream",
     "text": [
      "Se han encontrado : 7 soluciones\n",
      "Solución 1: -1.00000000000000\n",
      "Solución 2: -0.713102145851293 - 0.98823188827156*I\n",
      "Solución 3: -0.713102145851293 + 0.98823188827156*I\n",
      "Solución 4: 1.06110281046036 - 0.376384046559108*I\n",
      "Solución 5: 1.06110281046036 + 0.376384046559108*I\n",
      "Solución 6: 0.151999335390936 - 1.01945594669063*I\n",
      "Solución 7: 0.151999335390936 + 1.01945594669063*I\n"
     ]
    }
   ],
   "source": [
    "v5 = sol_exact(f_5i,x,todas=True)"
   ]
  },
  {
   "cell_type": "markdown",
   "metadata": {},
   "source": [
    "Observamos que nuestra función ha encontrado $1$ raíz real:\n",
    "\n",
    "* $x_{1} = -1$\n",
    "\n",
    "Procederemos entonces a aproximar dicha solución mediante el método de Newton-Raphson, por ejemplo. Elección que viene justificada por la rapidez (cuadrática) de este método frente al de bisección. Pero antes, observemos dicha raíz gráficamente:\n"
   ]
  },
  {
   "cell_type": "code",
   "execution_count": 43,
   "metadata": {},
   "outputs": [
    {
     "data": {
      "image/png": "[encoded data removed]",
      "text/plain": [
       "<Figure size 640x480 with 1 Axes>"
      ]
     },
     "metadata": {},
     "output_type": "display_data"
    },
    {
     "data": {
      "text/plain": [
       "<sympy.plotting.plot.Plot at 0x7fac14a09430>"
      ]
     },
     "execution_count": 43,
     "metadata": {},
     "output_type": "execute_result"
    }
   ],
   "source": [
    "sp.plot(f_5i(x),xlim=(-2.0,2.0),ylim=(-5.0,5.0))"
   ]
  },
  {
   "cell_type": "markdown",
   "metadata": {},
   "source": [
    "Observamos que:\n",
    "\n",
    "* $x_{1} = -1 \\in [-1.5,-0.5]$"
   ]
  },
  {
   "cell_type": "markdown",
   "metadata": {},
   "source": [
    "Aproximemos por tanto por el método de Newton-Raphson dicha raíz.\n",
    "\n",
    "Para ello, tomemos como semilla $x_{0} = -0.8$:"
   ]
  },
  {
   "cell_type": "code",
   "execution_count": 44,
   "metadata": {},
   "outputs": [
    {
     "name": "stdout",
     "output_type": "stream",
     "text": [
      "Intervalo con maxima tolerancia. Aproximación solicitada:  -1.00005\n",
      "Numero de iteraciones requerido:  4\n"
     ]
    },
    {
     "data": {
      "text/plain": [
       "[-0.8, -1.15557, -1.0446, -1.00447, -1.00005]"
      ]
     },
     "execution_count": 44,
     "metadata": {},
     "output_type": "execute_result"
    }
   ],
   "source": [
    "# Calculemos la aproximación de la solución requerida\n",
    "v_inic = -0.8\n",
    "cifras = 6\n",
    "newton_raphson(v_inic, f_5i, df_5i, cifras, True)"
   ]
  },
  {
   "cell_type": "markdown",
   "metadata": {},
   "source": [
    "### Apartado ii"
   ]
  },
  {
   "cell_type": "markdown",
   "metadata": {},
   "source": [
    "Sea $f : \\mathbb{R} \\longrightarrow \\mathbb{R}$ la aplicación dada por $f(x) = x^{7} + cos(x) -3$, continua y derivable en todo su dominio.\n",
    "\n",
    "Vamos a visualizar gráficamente los puntos en los que la función se anula. El teorema Fundamental del Álgebra nos dice que la función posee a lo sumo $7$ raíces, de las que nos interesan sólo las reales."
   ]
  },
  {
   "cell_type": "code",
   "execution_count": 45,
   "metadata": {},
   "outputs": [],
   "source": [
    "# Definición de la función y su derivada\n",
    "def f_5ii(x):\n",
    "\n",
    "    return x**7 + sp.cos(x) - 3\n",
    "\n",
    "def fnum_5ii(x):\n",
    "\n",
    "    return x**7 + Decimal(np.cos(float(x))) - 3\n",
    "\n",
    "def df_5ii(x):\n",
    "\n",
    "    return 7*x**6 - Decimal(np.sin(float(x)))"
   ]
  },
  {
   "cell_type": "markdown",
   "metadata": {},
   "source": [
    "Intentemos calcular de forma exacta dichas raíces previa visualización gráfica con nuestra función de python:"
   ]
  },
  {
   "cell_type": "code",
   "execution_count": 46,
   "metadata": {},
   "outputs": [
    {
     "name": "stdout",
     "output_type": "stream",
     "text": [
      "No existen soluciones para esta ecuación : x**7 + cos(x) - 3\n"
     ]
    }
   ],
   "source": [
    "v5ii = sol_exact(f_5ii,x,todas=True)"
   ]
  },
  {
   "cell_type": "markdown",
   "metadata": {},
   "source": [
    "Observamos que nuestra función no ha sido capaz de determinar si la función tiene raíces reales o no. Es por ello que vamos a graficarla para observar como se comporta:"
   ]
  },
  {
   "cell_type": "code",
   "execution_count": 47,
   "metadata": {},
   "outputs": [
    {
     "data": {
      "image/png": "[encoded data removed]",
      "text/plain": [
       "<Figure size 640x480 with 1 Axes>"
      ]
     },
     "metadata": {},
     "output_type": "display_data"
    },
    {
     "data": {
      "text/plain": [
       "<sympy.plotting.plot.Plot at 0x7fac1491aa90>"
      ]
     },
     "execution_count": 47,
     "metadata": {},
     "output_type": "execute_result"
    }
   ],
   "source": [
    "sp.plot(f_5ii(x),xlim=(-2.5,2.5),ylim=(-5.0,5.0))"
   ]
  },
  {
   "cell_type": "markdown",
   "metadata": {},
   "source": [
    "\n",
    "Claramente se observa que la función tiene una raíz real en el intervalo $[1,2]$. Aproximémosla mediante el método de Newton-Raphson eligiendo como semilla el valor $x_{0} = 1.3$ por ejemplo:"
   ]
  },
  {
   "cell_type": "code",
   "execution_count": 48,
   "metadata": {},
   "outputs": [
    {
     "name": "stdout",
     "output_type": "stream",
     "text": [
      "Intervalo con maxima tolerancia. Aproximación solicitada:  1.14546\n",
      "Numero de iteraciones requerido:  4\n"
     ]
    },
    {
     "data": {
      "text/plain": [
       "[1.3, 1.19208, 1.15081, 1.14554, 1.14546]"
      ]
     },
     "execution_count": 48,
     "metadata": {},
     "output_type": "execute_result"
    }
   ],
   "source": [
    "# Calculemos la aproximación de la solución requerida\n",
    "v_inic = 1.3\n",
    "cifras = 6\n",
    "newton_raphson(v_inic, fnum_5ii, df_5ii, cifras, True)"
   ]
  },
  {
   "cell_type": "markdown",
   "metadata": {},
   "source": [
    "# EJERCICIO 6"
   ]
  },
  {
   "cell_type": "markdown",
   "metadata": {},
   "source": [
    "Aplicar los métodos de aceleración de la convergencia de Aitken y Steffensen (según los apuntes) a las sucesiones obtenidas para los distintos métodos programados en esta práctica y comparar los resultados. Para aplicar el método de aceleración de Steffensen, recuerde que para transformar cualquier ecuación de la forma  $ f(x)=0 $  en un problema de puntos fijos  $ g(x)=x $, la forma más simple puede ser definir  $g(x)=x \\pm f(x)$."
   ]
  },
  {
   "cell_type": "markdown",
   "metadata": {},
   "source": [
    "Hemos modificado los métodos de bisección y Newton-Raphson para que devuelvan en forma de lista los elementos de las sucesiones $\\{m_{n}\\}_{n \\geq 0}$ y $\\{x_{n}\\}_{n \\geq 0}$ que generan dichos métodos respectivamente. Basándonos en dichas sucesiones se van a elaborar dos funciones de aceleración: una para la aceleración de Aitken y otra para la de Steffensen:"
   ]
  },
  {
   "cell_type": "code",
   "execution_count": 83,
   "metadata": {},
   "outputs": [],
   "source": [
    "# Función de aceleración de la convergencia de Aitken.\n",
    "def aceleraAitken(xn):\n",
    "\n",
    "    x_new = []\n",
    "    for i in range (len(xn)-2):\n",
    "        x_new.append((xn[i]-(xn[i+1]-xn[i])**2/(xn[i+2]-2*xn[i+1]+xn[i])))\n",
    "\n",
    "    return x_new"
   ]
  },
  {
   "cell_type": "code",
   "execution_count": 84,
   "metadata": {},
   "outputs": [],
   "source": [
    "# Función de aceleración de la convergencia de Steffensen.\n",
    "def aceleraSteffensen(niter,f,x0):\n",
    "\n",
    "    x_appx = [x0,f(x0),g(g(x0))]\n",
    "    x_new  = []\n",
    "\n",
    "    for i in range(niter):\n",
    "        x0 = x_appx[0]-(x_appx[1]-x_appx[0])**2/(x_appx[2]-2*x_appx[1]+x_appx[0])\n",
    "        x_appx = [x0,g(x0),g(g(x0))]\n",
    "        x_new  = x_new + [x_appx[-1]]\n",
    "\n",
    "    return x_new"
   ]
  },
  {
   "cell_type": "markdown",
   "metadata": {},
   "source": [
    "A continuación aplicaremos el método de Bisección y el de Newton-Raphson a la función del primer ejercicio:\n",
    "\n",
    "$f: \\mathbb{R} \\longrightarrow \\mathbb{R}$ tal que $f(x) = x^{3} + 4x^{2} -10$"
   ]
  },
  {
   "cell_type": "code",
   "execution_count": 228,
   "metadata": {},
   "outputs": [
    {
     "name": "stdout",
     "output_type": "stream",
     "text": [
      "La función a la que se le aplica la aceleración es:  x**3 + 4*x**2 - 10\n"
     ]
    }
   ],
   "source": [
    "print(\"La función a la que se le aplica la aceleración es: \", f(x))\n",
    "\n",
    "#Aplicación g del método de Steffensen\n",
    "def g(x):\n",
    "\n",
    "    return x-f(x)"
   ]
  },
  {
   "cell_type": "code",
   "execution_count": 229,
   "metadata": {},
   "outputs": [
    {
     "name": "stdout",
     "output_type": "stream",
     "text": [
      "Help on function biseccion in module __main__:\n",
      "\n",
      "biseccion(a, b, f, cifras, muestra, nmax=100, prec=1e-05)\n",
      "\n"
     ]
    }
   ],
   "source": [
    "help(biseccion)"
   ]
  },
  {
   "cell_type": "markdown",
   "metadata": {},
   "source": [
    "Comencemos en primer lugar con el método de **bisección**"
   ]
  },
  {
   "cell_type": "code",
   "execution_count": 238,
   "metadata": {},
   "outputs": [],
   "source": [
    "# Intervalo en el que vamos a movernos:\n",
    "a,b=1,2\n",
    "cifras=5\n",
    "\n",
    "#Aplicamos método de bisección\n",
    "bisection = biseccion(a,b,f,cifras,False)"
   ]
  },
  {
   "cell_type": "code",
   "execution_count": 239,
   "metadata": {},
   "outputs": [
    {
     "name": "stdout",
     "output_type": "stream",
     "text": [
      "Iteraciones biseccion:  [1.5, 1.25, 1.375, 1.3125, 1.3438, 1.3594, 1.3672, 1.3633, 1.3652, 1.3662, 1.3657, 1.3654, 1.3653]\n"
     ]
    }
   ],
   "source": [
    "# Iteraciones realizadas por el método de Bisección:\n",
    "print(\"Iteraciones biseccion: \", bisection)"
   ]
  },
  {
   "cell_type": "code",
   "execution_count": 240,
   "metadata": {},
   "outputs": [
    {
     "name": "stdout",
     "output_type": "stream",
     "text": [
      "Iteraciones aceleradas. Aitken: [1.3333333333333333, 1.3333333333333333, 1.3333555437100213, 1.3749006369426746, 1.3750000000000002, 1.3646, 1.3645775862068965, 1.3673111111111116, 1.3658666666666666, 1.3649500000000006, 1.36525]\n"
     ]
    }
   ],
   "source": [
    "#Aceleramos la convergencia con Aitken:\n",
    "aceleradorAitken = aceleraAitken(bisection)\n",
    "\n",
    "print(\"Iteraciones aceleradas. Aitken: {}\".format(aceleradorAitken))"
   ]
  },
  {
   "cell_type": "code",
   "execution_count": 33,
   "metadata": {},
   "outputs": [
    {
     "name": "stdout",
     "output_type": "stream",
     "text": [
      "Help on function aceleraSteffensen in module __main__:\n",
      "\n",
      "aceleraSteffensen(niter, f, x0)\n",
      "    # Función de aceleración de la convergencia de Steffensen.\n",
      "\n"
     ]
    }
   ],
   "source": [
    "help(aceleraSteffensen)"
   ]
  },
  {
   "cell_type": "code",
   "execution_count": 241,
   "metadata": {},
   "outputs": [
    {
     "name": "stdout",
     "output_type": "stream",
     "text": [
      "Iteraciones aceleradas. Steffensen: [-241.0300928009288, -153.23710198055755, -84.82681234122165, -38.1825791158813, -12.17286940322107, -1.4575174171721488, 1.1620779740762863, 1.3639484492294194, 1.3652299615170354, 1.3652300134140969]\n"
     ]
    }
   ],
   "source": [
    "#Ahora vamos con Steffensen\n",
    "x0 = 1.0\n",
    "n  = 10\n",
    "aceleradorSteffensen = aceleraSteffensen(n, g, x0)\n",
    "\n",
    "print(\"Iteraciones aceleradas. Steffensen: {}\".format(aceleradorSteffensen))"
   ]
  },
  {
   "cell_type": "markdown",
   "metadata": {},
   "source": [
    "Veamos unaa comparación de los últimos elementos obtenidos con Bisección, Aitken y Steffensen:"
   ]
  },
  {
   "cell_type": "code",
   "execution_count": 242,
   "metadata": {},
   "outputs": [
    {
     "name": "stdout",
     "output_type": "stream",
     "text": [
      "Último elemento Bisección:  1.3653\n",
      "\n",
      "\n",
      "Último elemento Aitken:  1.36525\n",
      "\n",
      "\n",
      "Último elemento Steffensen:  1.3652300134140969\n"
     ]
    }
   ],
   "source": [
    "print(\"Último elemento Bisección: \", bisection[len(bisection)-1])\n",
    "print(\"\\n\")\n",
    "print(\"Último elemento Aitken: \", aceleradorAitken[len(aceleradorAitken)-1])\n",
    "print(\"\\n\")\n",
    "print(\"Último elemento Steffensen: \", aceleradorSteffensen[len(aceleradorSteffensen)-1])\n"
   ]
  },
  {
   "cell_type": "markdown",
   "metadata": {},
   "source": [
    "Es el turno ahora de **Newton-Rahpson**:"
   ]
  },
  {
   "cell_type": "code",
   "execution_count": 39,
   "metadata": {},
   "outputs": [
    {
     "name": "stdout",
     "output_type": "stream",
     "text": [
      "Help on function newton_raphson in module __main__:\n",
      "\n",
      "newton_raphson(b, f, deriv, muestra, cifras=16, nmax=100, prec=1/1000)\n",
      "    # Método de Newton-Raphson\n",
      "    # Vamos a encapsular el método de Newton-Raphson en una función\n",
      "\n"
     ]
    }
   ],
   "source": [
    "help(newton_raphson)"
   ]
  },
  {
   "cell_type": "code",
   "execution_count": 243,
   "metadata": {},
   "outputs": [],
   "source": [
    "# Necesitamos:\n",
    "x0 = 1.0\n",
    "cifras=5\n",
    "nr = newton_raphson(x0,f,deriv,cifras,False)\n"
   ]
  },
  {
   "cell_type": "code",
   "execution_count": 244,
   "metadata": {},
   "outputs": [
    {
     "name": "stdout",
     "output_type": "stream",
     "text": [
      "Iteraciones Newton-Raphson: [1.0, 1.4546, 1.3689, 1.3652]\n"
     ]
    }
   ],
   "source": [
    "# Iteraciones del método:\n",
    "print(\"Iteraciones Newton-Raphson: {}\".format(nr))"
   ]
  },
  {
   "cell_type": "code",
   "execution_count": 245,
   "metadata": {},
   "outputs": [
    {
     "name": "stdout",
     "output_type": "stream",
     "text": [
      "Itraciones aceleradas Aitken: [1.3824933555432166, 1.3650330487804878]\n"
     ]
    }
   ],
   "source": [
    "#Aceleramos por Aitek:\n",
    "aceleradorAitkenNR = aceleraAitken(nr)\n",
    "print(\"Itraciones aceleradas Aitken: {}\".format(aceleradorAitkenNR))"
   ]
  },
  {
   "cell_type": "code",
   "execution_count": 246,
   "metadata": {},
   "outputs": [
    {
     "name": "stdout",
     "output_type": "stream",
     "text": [
      "Iteraciones aceleradas Steffensen: [-241.0300928009288, -153.23710198055755, -84.82681234122165, -38.1825791158813, -12.17286940322107, -1.4575174171721488, 1.1620779740762863, 1.3639484492294194, 1.3652299615170354, 1.3652300134140969]\n"
     ]
    }
   ],
   "source": [
    "#Aceleramos por Steffensen:\n",
    "aceleradorSteffensenNR = aceleraSteffensen(10,g,x0)\n",
    "print(\"Iteraciones aceleradas Steffensen: {}\".format(aceleradorSteffensenNR))"
   ]
  },
  {
   "cell_type": "markdown",
   "metadata": {},
   "source": [
    "Veamos unaa comparación de los últimos elementos obtenidos con Bisección, Aitken y Steffensen:"
   ]
  },
  {
   "cell_type": "code",
   "execution_count": 247,
   "metadata": {},
   "outputs": [
    {
     "name": "stdout",
     "output_type": "stream",
     "text": [
      "Último elemento Newton-Raphson:  1.3652\n",
      "\n",
      "\n",
      "Último elemento Aitken:  1.3650330487804878\n",
      "\n",
      "\n",
      "Último elemento Steffensen:  1.3652300134140969\n"
     ]
    }
   ],
   "source": [
    "print(\"Último elemento Newton-Raphson: \", nr[len(nr)-1])\n",
    "print(\"\\n\")\n",
    "print(\"Último elemento Aitken: \", aceleradorAitkenNR[len(aceleradorAitkenNR)-1])\n",
    "print(\"\\n\")\n",
    "print(\"Último elemento Steffensen: \", aceleradorSteffensenNR[len(aceleradorSteffensenNR)-1])"
   ]
  },
  {
   "cell_type": "markdown",
   "metadata": {},
   "source": [
    "# EJERCICIO 7"
   ]
  },
  {
   "cell_type": "code",
   "execution_count": 80,
   "metadata": {},
   "outputs": [],
   "source": [
    "def f_7(x):\n",
    "    \n",
    "    return (x-Decimal(1.25))*((x-Decimal(2.5))**2)*((x-Decimal(3.75))**3)\n",
    "\n",
    "def f_7F(x):\n",
    "    \n",
    "    return (x-1.25)*((x-2.5)**2)*((x-3.75)**3)"
   ]
  },
  {
   "cell_type": "code",
   "execution_count": 78,
   "metadata": {},
   "outputs": [
    {
     "name": "stdout",
     "output_type": "stream",
     "text": [
      "f_expand:  1.0*x**6 - 17.5*x**5 + 125.0*x**4 - 464.84375*x**3 + 944.82421875*x**2 - 988.76953125*x + 411.9873046875\n",
      "diff:  6.0*x**5 - 87.5*x**4 + 500.0*x**3 - 1394.53125*x**2 + 1889.6484375*x - 988.76953125\n"
     ]
    }
   ],
   "source": [
    "f_expand = sp.expand(f_7(x),x)\n",
    "print(\"f_expand: \", f_expand)\n",
    "print(\"diff: \", sp.diff(f_expand,x))"
   ]
  },
  {
   "cell_type": "code",
   "execution_count": 64,
   "metadata": {},
   "outputs": [],
   "source": [
    "def df_7(x):\n",
    "    \n",
    "    return Decimal(6.0)*x**5 - Decimal(87.5)*x**4 + Decimal(500.0)*x**3 - Decimal(1394.53125)*x**2 + Decimal(1889.6484375)*x - Decimal(988.76953125)\n"
   ]
  },
  {
   "cell_type": "code",
   "execution_count": 73,
   "metadata": {},
   "outputs": [
    {
     "name": "stdout",
     "output_type": "stream",
     "text": [
      "Intervalo con maxima tolerancia. Aproximación solicitada:  1.250000000000000\n",
      "Numero de iteraciones requerido:  6\n",
      "\n",
      "\n",
      "Intervalo con maxima tolerancia. Aproximación solicitada:  2.499999994489037\n",
      "Numero de iteraciones requerido:  27\n",
      "\n",
      "\n",
      "Intervalo con maxima tolerancia. Aproximación solicitada:  3.750002537558468\n",
      "Numero de iteraciones requerido:  29\n",
      "\n",
      "\n"
     ]
    }
   ],
   "source": [
    "a,b,c = 1,2,4\n",
    "\n",
    "v1 = newton_raphson(a,f_7,df_7)\n",
    "print(\"\\n\")\n",
    "v2 = newton_raphson(b,f_7,df_7)\n",
    "print(\"\\n\")\n",
    "v3 = newton_raphson(c,f_7,df_7)\n",
    "print(\"\\n\")"
   ]
  },
  {
   "cell_type": "markdown",
   "metadata": {},
   "source": [
    "Podemos observar que la convergencia del método para raíces simples es muy buena, pero cuando la multiplicidad es superior a 1, no se llega a aproximar de forma exacta. Es por ello que necesitamos aplicar el factor de multiplicidad al método:"
   ]
  },
  {
   "cell_type": "markdown",
   "metadata": {},
   "source": [
    "**Método de Newton-Raphson acelerado**:"
   ]
  },
  {
   "cell_type": "code",
   "execution_count": 76,
   "metadata": {},
   "outputs": [],
   "source": [
    "def newton_raphson_acel( b, f, deriv, m, cifras=16, muestra=True, nmax=100, prec=10**(-16)):\n",
    "\n",
    "    x0=Decimal(b)\n",
    "    \n",
    "    tol = 10**(-cifras+1)\n",
    "    getcontext().prec = cifras\n",
    "\n",
    "    niter = 0\n",
    "    terms = [b]\n",
    "\n",
    "    for k in range(nmax):\n",
    "        niter = niter + 1\n",
    "        x1 = x0 - m*f(x0)/deriv(x0)  # método de Newton-Raphson (m multiplicidad)\n",
    "        terms.append(float(x1))\n",
    "        if abs(x1-x0) < tol:\n",
    "            p = 'tolerancia'\n",
    "            break\n",
    "        if abs(f(x1)) < prec:\n",
    "            p = 'precision'\n",
    "            break\n",
    "        else:\n",
    "            x0 = x1\n",
    "\n",
    "    if (muestra):\n",
    "        #print(\"MÉTODO DE NEWTON-RAPHSON APLICADO A LA ECUACIÓN: \", f(x))\n",
    "        if (p == \"Precision\"):\n",
    "            print(\"Se ha alcanzado la precisión requerida. Posible aproximación: \", x1)\n",
    "        else:\n",
    "            print(\"Intervalo con maxima tolerancia. Aproximación solicitada: \", x1)\n",
    "\n",
    "        print(\"Numero de iteraciones requerido: \", niter)\n",
    "\n",
    "    getcontext().prec = mporig # Se restaura la precisión por defecto\n",
    "\n",
    "    return terms"
   ]
  },
  {
   "cell_type": "markdown",
   "metadata": {},
   "source": [
    "Definimos las multiplicidades de las raíces y aplicamos el método acelerado:"
   ]
  },
  {
   "cell_type": "code",
   "execution_count": 79,
   "metadata": {},
   "outputs": [
    {
     "name": "stdout",
     "output_type": "stream",
     "text": [
      "Intervalo con maxima tolerancia. Aproximación solicitada:  1.250000000000000\n",
      "Numero de iteraciones requerido:  6\n",
      "\n",
      "\n",
      "Intervalo con maxima tolerancia. Aproximación solicitada:  2.499999999998831\n",
      "Numero de iteraciones requerido:  4\n",
      "\n",
      "\n",
      "Intervalo con maxima tolerancia. Aproximación solicitada:  3.750000250272676\n",
      "Numero de iteraciones requerido:  3\n",
      "\n",
      "\n"
     ]
    }
   ],
   "source": [
    "m1,m2,m3=1,2,3\n",
    "\n",
    "v1 = newton_raphson(a,f_7,df_7,m1)\n",
    "print(\"\\n\")\n",
    "v2 = newton_raphson(b,f_7,df_7,m2)\n",
    "print(\"\\n\")\n",
    "v3 = newton_raphson(c,f_7,df_7,m3)\n",
    "print(\"\\n\")"
   ]
  },
  {
   "cell_type": "markdown",
   "metadata": {},
   "source": [
    "Apliquemos ahora la aceleración de Aitken y Steffensen (para la raíz 2.5):"
   ]
  },
  {
   "cell_type": "code",
   "execution_count": 81,
   "metadata": {},
   "outputs": [],
   "source": [
    "# Definiremos la función para ajustar el problema a uno de punto fijo\n",
    "def g(x):\n",
    "    \n",
    "    return x-f_7F(x)"
   ]
  },
  {
   "cell_type": "code",
   "execution_count": 85,
   "metadata": {},
   "outputs": [],
   "source": [
    "#Aceleración de Aitken\n",
    "aceleAit = aceleraAitken(v2)\n",
    "\n",
    "#Aceleración de Steffensen\n",
    "x0=2.1\n",
    "aceleSte = aceleraSteffensen(15,g,x0)"
   ]
  },
  {
   "cell_type": "code",
   "execution_count": 86,
   "metadata": {},
   "outputs": [
    {
     "name": "stdout",
     "output_type": "stream",
     "text": [
      "Aceleradas de Aitken:  [2.502915175419654, 2.5000441099411925, 2.5000000016179316]\n",
      "Aceleradas de Steffensen:  [3.0756538402050264, 2.518208785239499, 2.508798827202029, 2.5043247792489285, 2.5021439351362327, 2.5010673785529502, 2.5005325450412235, 2.5002659868740733, 2.5001329222119977, 2.500066442620299, 2.500033214255708, 2.5000166056843343, 2.500008310597319, 2.5000040429103563, 2.50000225012457]\n"
     ]
    }
   ],
   "source": [
    "print(\"Aceleradas de Aitken: \", aceleAit)\n",
    "print(\"Aceleradas de Steffensen: \", aceleSte)"
   ]
  },
  {
   "cell_type": "markdown",
   "metadata": {},
   "source": [
    "Apliquemos ahora la aceleración de Aitken y Steffensen  (para la raíz 3.75):"
   ]
  },
  {
   "cell_type": "code",
   "execution_count": 88,
   "metadata": {},
   "outputs": [],
   "source": [
    "#Aceleración de Aitken\n",
    "aceleAit = aceleraAitken(v3)\n",
    "\n",
    "#Aceleración de Steffensen\n",
    "x0=2\n",
    "aceleSte = aceleraSteffensen(15,g,x0)"
   ]
  },
  {
   "cell_type": "code",
   "execution_count": 89,
   "metadata": {},
   "outputs": [
    {
     "name": "stdout",
     "output_type": "stream",
     "text": [
      "Aceleradas de Aitken:  [3.745727678694875, 3.7499876183816414]\n",
      "Aceleradas de Steffensen:  [3.4632360086959566, 3.599711678840925, 3.652429923218316, 3.6862420211108122, 3.7081372956263845, 3.7224010819127424, 3.731745839521715, 3.7378973623924256, 3.7419619608868895, 3.7446550206231204, 3.746442837775688, 3.7476312992539835, 3.7484221257765626, 3.7489490816330657, 3.7492982846817346]\n"
     ]
    }
   ],
   "source": [
    "print(\"Aceleradas de Aitken: \", aceleAit)\n",
    "print(\"Aceleradas de Steffensen: \", aceleSte)"
   ]
  },
  {
   "cell_type": "markdown",
   "metadata": {},
   "source": [
    "# EJERCICIO 8"
   ]
  },
  {
   "cell_type": "markdown",
   "metadata": {},
   "source": [
    "Programar el conocido algoritmo de Horner para la evaluación de un polinomio y emplearlo de forma reiterativa para el cálculo del desarrollo de Taylor de orden $ n$ de un polinomio cualquiera. Aprovecharlo también para programar una versión especial del método de Newton-Raphson para polinomios, evaluando tanto  $ p(x_k ) $ como $ p'(x_k)$ mediante el citado algoritmo y aplicarlo para aproximar alguna de las raíces reales del siguiente polinomio\n",
    "\n",
    "$$p(x)=d_0 + d_1 x + d_2 x^2 + d_3 x^3+ d_4 x^4 + d_5 x^5 + d_6 x^6 + d_7 x^7 $$\n",
    "(siendo $d_0, d_1, \\ldots, d_7$ los dígitos ordenados de su DNI, pasaporte o tarjeta de residente).\n",
    "\n",
    "Programar y construir también una sucesión de Sturm para dicho polinomio.\n"
   ]
  },
  {
   "cell_type": "code",
   "execution_count": null,
   "metadata": {},
   "outputs": [],
   "source": [
    "#Definamos una función destinada a la construcción de polinomios a partir\n",
    "#de sus coeficientes, desde menor grado hasta mayor\n",
    "def makepoli(x,array_coefs):\n",
    "    \n",
    "    polinomio = array_coefs[0]\n",
    "    \n",
    "    for i in range("
   ]
  }
 ],
 "metadata": {
  "kernelspec": {
   "display_name": "Python 3 (ipykernel)",
   "language": "python",
   "name": "python3"
  },
  "language_info": {
   "codemirror_mode": {
    "name": "ipython",
    "version": 3
   },
   "file_extension": ".py",
   "mimetype": "text/x-python",
   "name": "python",
   "nbconvert_exporter": "python",
   "pygments_lexer": "ipython3",
   "version": "3.9.13"
  }
 },
 "nbformat": 4,
 "nbformat_minor": 4
}
