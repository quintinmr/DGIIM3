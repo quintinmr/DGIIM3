{
 "cells": [
  {
   "attachments": {},
   "cell_type": "markdown",
   "metadata": {},
   "source": [
    "# PRÁCTICA 1"
   ]
  },
  {
   "attachments": {},
   "cell_type": "markdown",
   "metadata": {},
   "source": [
    "## Ejercicio 0\n",
    "En este ejercicio planteo otra forma de escribir el código del método de bisección para la resolución de ecuaciones no lineales.\n",
    "No difiere mucho del código original. El objetivo de hacer este ejercicio es para familiarizarme con el lenguaje y con el métido en sí."
   ]
  },
  {
   "cell_type": "code",
   "execution_count": null,
   "metadata": {
    "vscode": {
     "languageId": "python"
    }
   },
   "outputs": [],
   "source": [
    "# Método de bisección\n",
    "num_it = 0\n",
    "\n",
    "for i in range(nmax):\n",
    "    c = (a+b)/2\n",
    "    num_it=num_it+1\n",
    "    if (abs(f(c)) < prec):\n",
    "        print(\"Se ha alcanzado la precisión requerida. Posible sol: \", c) \n",
    "        break\n",
    "    if (f(a)*f(c) < 0):\n",
    "         b = c\n",
    "    else: \n",
    "        a = c\n",
    "    if b-a < tol:\n",
    "        print(\"Intervalo con mucha precisión. Aproximación solicitada: \", c) \n",
    "        break\n",
    "\n",
    "print(\"Solución exacta: \", sol_exact)\n",
    "print(\"Numero de iteraciones requerido: \", num_it)"
   ]
  },
  {
   "attachments": {},
   "cell_type": "markdown",
   "metadata": {},
   "source": [
    "## Ejercicio 0.5\n",
    "\n",
    "Modifique cualquiera de estos códigos con el objeto de implementar el conocido algoritmo de regula-falsi, en el que se obtiene el punto $c$ no como el punto medio entre $a$ y $b$, sino como el punto de corte con el eje $Ox$ de la recta que une los puntos $(a,f(a))$ y $(b,f(b))$, tal y como se muestra también en el siguiente método de la secante."
   ]
  },
  {
   "cell_type": "code",
   "execution_count": null,
   "metadata": {
    "vscode": {
     "languageId": "python"
    }
   },
   "outputs": [],
   "source": [
    "# Método regula-falsi\n",
    "num_it = 0\n",
    "\n",
    "for i in range(nmax):\n",
    "    c = b - ((a-b)*f(b))/(f(a)-f(b))\n",
    "    num_it=num_it+1\n",
    "    if (abs(f(c)) < prec):\n",
    "        print(\"Se ha alcanzado la precisión requerida. Posible sol: \", c) \n",
    "        break\n",
    "    if (f(a)*f(c) < 0):\n",
    "         b = c\n",
    "    else: \n",
    "        a = c\n",
    "    if b-a < tol:\n",
    "        print(\"Intervalo con mucha precisión. Aproximación solicitada: \", c) \n",
    "        break\n",
    "\n",
    "print(\"Solución exacta: \", sol_exact)\n",
    "print(\"Numero de iteraciones requerido: \", num_it)"
   ]
  },
  {
   "attachments": {},
   "cell_type": "markdown",
   "metadata": {},
   "source": [
    "#### Salida:\n",
    "    Intervalo con mucha precisión. Aproximación solicitada:  1.0986122886618854\n",
    "\n",
    "    Solución exacta:  log(3)\n",
    "\n",
    "    Numero de iteraciones requerido:  1"
   ]
  },
  {
   "attachments": {},
   "cell_type": "markdown",
   "metadata": {},
   "source": [
    "---------------------------------------------------------------------------------------------------------------------------\n",
    "\n",
    "# RELACIÓN DE EJERCICIOS\n",
    "\n",
    "---------------------------------------------------------------------------------------------------------------------------"
   ]
  },
  {
   "attachments": {},
   "cell_type": "markdown",
   "metadata": {},
   "source": [
    "# EJERCICIO 1\n",
    "\n",
    "Demuestre que la ecuación  $x^3+4 x^2=10  $  tiene una única raíz en el intervalo $[1,2]$.  Aproxime dicha raíz con el método de bisección con al menos 3 cifras decimales exactas. ¿Cuántas iteraciones serán necesarias para conseguir 5 cifras decimales exactas (tol =$10^{-5}$)?  Aproxime también la raíz con el método de Newton-Raphson partiendo del extremo adecuado hasta que la diferencia en valor absoluto, entre dos aproximaciones consecutivas sea  inferior a  $10^{-3}$."
   ]
  },
  {
   "attachments": {},
   "cell_type": "markdown",
   "metadata": {},
   "source": [
    "Probemos en primer lugar que dicha ecuación posee una única ecuación. Sea $f: [1,2] \\rightarrow [1,2]$ la aplicación dada por $f(x) = x^{3} + 4x^{2} - 10$, la cual claramente es continua en todo el intervalo y además derivable por ser una función polinómica (en particular es derivable en todo $\\mathbb{R}$). Es por ello que podemos aplicar el **teorema de Bolzano** para comprobar que la ecuación tiene **al menos** una raíz real:\n",
    "\n",
    "> $f(1) = 1+4-10 = -5 < 0$\n",
    "\n",
    "> $f(2) = 8 + 16 -10 = 14 > 0$\n",
    "\n",
    "Como $f(1)\\cdot f(2) < 0$, el Teorema de Bolzano nos dice que la función posee al menos una raíz en el intervalo $[1,2]$.\n",
    "\n",
    "Probemos ahora que dicha solución, necesariamente ha de ser única. Calculemos la derivada de $f$:\n",
    "\n",
    "> $f^{'}(x) = 3x^{2} + 8x^{2}$\n",
    "\n",
    "Claramente, $f'(x) > 0 \\forall x \\in [1,2]$. Es por ello que la función $f$ es estrictamente creciente en dicho intervalo y, por consiguiente, de cortar al eje $OX$, solo lo hará una única vez. Concluimos por tanto que la raíz que el teorema de Bolzano afirmaba que existía, es única."
   ]
  },
  {
   "attachments": {},
   "cell_type": "markdown",
   "metadata": {},
   "source": [
    "# EJERCICIO 2\n",
    "\n",
    "Encuentre una aproximación de la raíz cúbica de 25 con dos decimales exactos (tol =$10^{-2}$), usando el algoritmo de bisección.\n"
   ]
  }
 ],
 "metadata": {
  "kernelspec": {
   "display_name": "SageMath 9.0",
   "language": "sage",
   "name": "sagemath"
  },
  "language_info": {
   "codemirror_mode": {
    "name": "ipython",
    "version": 3
   },
   "file_extension": ".py",
   "mimetype": "text/x-python",
   "name": "sage",
   "nbconvert_exporter": "python",
   "pygments_lexer": "ipython3",
   "version": "3.8.10"
  },
  "orig_nbformat": 4
 },
 "nbformat": 4,
 "nbformat_minor": 2
}
