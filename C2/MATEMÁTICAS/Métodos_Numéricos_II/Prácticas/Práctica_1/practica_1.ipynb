{
 "cells": [
  {
   "cell_type": "markdown",
   "metadata": {},
   "source": [
    "# PRÁCTICA 1"
   ]
  },
  {
   "cell_type": "markdown",
   "metadata": {},
   "source": [
    "## Ejercicio 0\n",
    "En este ejercicio planteo otra forma de escribir el código del método de bisección para la resolución de ecuaciones no lineales.\n",
    "No difiere mucho del código original. El objetivo de hacer este ejercicio es para familiarizarme con el lenguaje y con el métido en sí."
   ]
  },
  {
   "cell_type": "code",
   "execution_count": null,
   "metadata": {
    "vscode": {
     "languageId": "python"
    }
   },
   "outputs": [],
   "source": [
    "# Método de bisección\n",
    "num_it = 0\n",
    "\n",
    "for i in range(nmax):\n",
    "    c = (a+b)/2\n",
    "    num_it=num_it+1\n",
    "    if (abs(f(c)) < prec):\n",
    "        print(\"Se ha alcanzado la precisión requerida. Posible sol: \", c) \n",
    "        break\n",
    "    if (f(a)*f(c) < 0):\n",
    "         b = c\n",
    "    else: \n",
    "        a = c\n",
    "    if b-a < tol:\n",
    "        print(\"Intervalo con mucha precisión. Aproximación solicitada: \", c) \n",
    "        break\n",
    "\n",
    "print(\"Solución exacta: \", sol_exact)\n",
    "print(\"Numero de iteraciones requerido: \", num_it)"
   ]
  },
  {
   "cell_type": "markdown",
   "metadata": {},
   "source": [
    "## Ejercicio 0.5\n",
    "\n",
    "Modifique cualquiera de estos códigos con el objeto de implementar el conocido algoritmo de regula-falsi, en el que se obtiene el punto $c$ no como el punto medio entre $a$ y $b$, sino como el punto de corte con el eje $Ox$ de la recta que une los puntos $(a,f(a))$ y $(b,f(b))$, tal y como se muestra también en el siguiente método de la secante."
   ]
  },
  {
   "cell_type": "code",
   "execution_count": null,
   "metadata": {
    "vscode": {
     "languageId": "python"
    }
   },
   "outputs": [],
   "source": [
    "# Método regula-falsi\n",
    "num_it = 0\n",
    "\n",
    "for i in range(nmax):\n",
    "    c = b - ((a-b)*f(b))/(f(a)-f(b))\n",
    "    num_it=num_it+1\n",
    "    if (abs(f(c)) < prec):\n",
    "        print(\"Se ha alcanzado la precisión requerida. Posible sol: \", c) \n",
    "        break\n",
    "    if (f(a)*f(c) < 0):\n",
    "         b = c\n",
    "    else: \n",
    "        a = c\n",
    "    if b-a < tol:\n",
    "        print(\"Intervalo con mucha precisión. Aproximación solicitada: \", c) \n",
    "        break\n",
    "\n",
    "print(\"Solución exacta: \", sol_exact)\n",
    "print(\"Numero de iteraciones requerido: \", num_it)"
   ]
  },
  {
   "cell_type": "markdown",
   "metadata": {},
   "source": [
    "#### Salida:\n",
    "    Intervalo con mucha precisión. Aproximación solicitada:  1.0986122886618854\n",
    "\n",
    "    Solución exacta:  log(3)\n",
    "\n",
    "    Numero de iteraciones requerido:  1"
   ]
  },
  {
   "cell_type": "markdown",
   "metadata": {},
   "source": [
    "---------------------------------------------------------------------------------------------------------------------------\n",
    "\n",
    "# RELACIÓN DE EJERCICIOS\n",
    "\n",
    "---------------------------------------------------------------------------------------------------------------------------"
   ]
  },
  {
   "cell_type": "code",
   "execution_count": 378,
   "metadata": {
    "vscode": {
     "languageId": "python"
    }
   },
   "outputs": [],
   "source": [
    "#Importacion de la biblioteca de numpy con el alias np\n",
    "import numpy as np\n",
    "#Importacion de la biblioteca matplotlib con el alias plt\n",
    "%matplotlib inline\n",
    "import matplotlib.pyplot as plt\n",
    "#Importacion de la biblioteca sympy con el alias sp\n",
    "import sympy as sp\n",
    "#Importacion de la biblioteca decimal (trabajar con precision ajustada)\n",
    "from decimal import *\n",
    "mporig = getcontext().prec\n",
    "#Importación de la función fsolve\n",
    "from scipy.optimize import fsolve\n",
    "#Importación de los solucionadores de sympy\n",
    "from sympy.solvers import solve, nsolve, solveset\n",
    "#Importación de los métodos ceil y floor de la biblioteca Math\n",
    "from math import ceil, floor\n",
    "\n",
    "x = sp.Symbol('x')"
   ]
  },
  {
   "cell_type": "markdown",
   "metadata": {},
   "source": [
    "Función destinada al cálculo de raíces de una función dada, en una variable dada."
   ]
  },
  {
   "cell_type": "code",
   "execution_count": 27,
   "metadata": {
    "vscode": {
     "languageId": "python"
    }
   },
   "outputs": [],
   "source": [
    "def sol_exact(f,x,todas=True):\n",
    "    # Función que calcula las soluciones de una ecuación\n",
    "    try:\n",
    "        soluciones = sp.solve(f(x),x)\n",
    "        num_sols   = len(soluciones)\n",
    "        if todas==True:\n",
    "            print(\"Se han encontrado : {} soluciones\".format(num_sols))\n",
    "            for i in range(num_sols):\n",
    "                print(\"Solución {}: {}\".format(i+1,soluciones[i].evalf()))\n",
    "        return soluciones,num_sols\n",
    "    except NotImplementedError:\n",
    "        print(\"No existen soluciones para esta ecuación : {}\".format(f(x))) "
   ]
  },
  {
   "cell_type": "code",
   "execution_count": 28,
   "metadata": {
    "vscode": {
     "languageId": "python"
    }
   },
   "outputs": [],
   "source": [
    "# Función que, en caso de que en la llamada al método de bisección, no se aporten cifras de precision, calcula\n",
    "# estas en función de la precisión indicada como argumento.\n",
    "def calc_cifras(precision):\n",
    "    \n",
    "    return int(np.ceil(abs(np.log10(precision))))"
   ]
  },
  {
   "cell_type": "code",
   "execution_count": 39,
   "metadata": {
    "vscode": {
     "languageId": "python"
    }
   },
   "outputs": [],
   "source": [
    "#Función que permite calcular el número de iteraciones necesarias en el método de bisección para llegar a la aproximación de la solución, con un\n",
    "#error dado\n",
    "def num_iter(a,b,cifras):\n",
    "    \n",
    "    n = np.log((b-a)/10**(-cifras))/np.log(2) - 1\n",
    "    return ceil(n)"
   ]
  },
  {
   "cell_type": "markdown",
   "metadata": {},
   "source": [
    "### Método de Bisección"
   ]
  },
  {
   "cell_type": "code",
   "execution_count": 29,
   "metadata": {
    "vscode": {
     "languageId": "python"
    }
   },
   "outputs": [],
   "source": [
    "# Método de bisección\n",
    "# Vamos a encapsular el método de bisección en una función\n",
    "\n",
    "def biseccion (a, b, f, cifras=16,muestra=True, nmax=100, prec=10**(-16)):\n",
    "\n",
    "    niter = 0\n",
    "    terms = []\n",
    "\n",
    "    if (cifras <= 0):\n",
    "        cifras = calc_cifras(prec)\n",
    "     \n",
    "    tol = 10**(-cifras+1)\n",
    "    getcontext().prec = cifras\n",
    "    \n",
    "    a=Decimal(a)\n",
    "    b=Decimal(b)\n",
    "\n",
    "    for i in range(nmax):\n",
    "        niter = niter + 1\n",
    "        c = (a+b)/2\n",
    "        terms.append(float(c))\n",
    "        if (abs(f(c)) < prec):\n",
    "            p = \"Precision\"\n",
    "            break\n",
    "        if (f(a)*f(c) <= 0):\n",
    "            b = c\n",
    "        else: \n",
    "            a = c\n",
    "        if b-a < tol:\n",
    "            p = \"Tolerance\"\n",
    "            break\n",
    "    \n",
    "    if (muestra):\n",
    "        print(\"MÉTODO DE BISECCIÓN APLICADO A LA ECUACIÓN: \", f(x))\n",
    "        \n",
    "        if (p == \"Precision\"):\n",
    "            print(\"Se ha alcanzado la precisión requerida. Posible solución exacta: \", c )\n",
    "        elif niter < nmax:\n",
    "            print(\"Aproximación con decimales: \", c)\n",
    "        else:\n",
    "            print(\"Intervalo con maxima tolerancia. Aproximación solicitada: \", c)\n",
    "\n",
    "        print(\"Numero de iteraciones requerido: \", niter)\n",
    "\n",
    "    return terms\n"
   ]
  },
  {
   "cell_type": "markdown",
   "metadata": {},
   "source": [
    "### Método de Newton-Raphson"
   ]
  },
  {
   "cell_type": "code",
   "execution_count": 213,
   "metadata": {
    "vscode": {
     "languageId": "python"
    }
   },
   "outputs": [],
   "source": [
    "# Método de Newton-Raphson\n",
    "# Vamos a encapsular el método de Newton-Raphson en una función\n",
    "def newton_raphson(b, f, deriv, cifras=16, muestra=True, nmax=100, prec=10**(-16)):\n",
    "\n",
    "    x0=Decimal(b)\n",
    "    \n",
    "    tol = 10**(-cifras+1)\n",
    "\n",
    "    getcontext().prec = cifras\n",
    "\n",
    "    niter = 0\n",
    "    terms = [b]\n",
    "\n",
    "    for k in range(nmax):\n",
    "        niter = niter + 1\n",
    "        x1 = x0 - f(x0)/deriv(x0)  # método de Newton-Raphson\n",
    "        terms.append(float(x1))\n",
    "        if abs(x1-x0) < tol:\n",
    "            p = 'tolerancia'\n",
    "            break\n",
    "        if abs(f(x1)) < prec:\n",
    "            p = 'precision'\n",
    "            break\n",
    "        else:\n",
    "            x0 = x1\n",
    "\n",
    "    if (muestra):\n",
    "        #print(\"MÉTODO DE NEWTON-RAPHSON APLICADO A LA ECUACIÓN: \", f(x))\n",
    "        if (p == \"Precision\"):\n",
    "            print(\"Se ha alcanzado la precisión requerida. Posible aproximación: \", x1)\n",
    "        else:\n",
    "            print(\"Intervalo con maxima tolerancia. Aproximación solicitada: \", x1)\n",
    "\n",
    "        print(\"Numero de iteraciones requerido: \", niter)\n",
    "\n",
    "    getcontext().prec = mporig # Se restaura la precisión por defecto\n",
    "\n",
    "    return terms"
   ]
  },
  {
   "cell_type": "code",
   "execution_count": 30,
   "metadata": {
    "vscode": {
     "languageId": "python"
    }
   },
   "outputs": [],
   "source": [
    "# Función que determina si una función cambia de signo en un intervalo dado:\n",
    "def sgn(f,a,b):\n",
    "    if f(a)*f(b) < 0:\n",
    "        print(\"Sí hay cambio de signo: Hay raíz\")\n",
    "    else:\n",
    "        print(\"No hay cambio de signo: No hay raíz\")"
   ]
  },
  {
   "cell_type": "markdown",
   "metadata": {},
   "source": [
    "# EJERCICIO 1\n",
    "\n",
    "Demuestre que la ecuación  $x^3+4 x^2=10  $  tiene una única raíz en el intervalo $[1,2]$.  Aproxime dicha raíz con el método de bisección con al menos 3 cifras decimales exactas. ¿Cuántas iteraciones serán necesarias para conseguir 5 cifras decimales exactas (tol =$10^{-5}$)?  Aproxime también la raíz con el método de Newton-Raphson partiendo del extremo adecuado hasta que la diferencia en valor absoluto, entre dos aproximaciones consecutivas sea  inferior a  $10^{-3}$."
   ]
  },
  {
   "cell_type": "markdown",
   "metadata": {},
   "source": [
    "Probemos en primer lugar que dicha ecuación posee una única ecuación. Sea $f: [1,2] \\rightarrow [1,2]$ la aplicación dada por $f(x) = x^{3} + 4x^{2} - 10$, la cual claramente es continua en todo el intervalo y además derivable por ser una función polinómica (en particular es derivable en todo $\\mathbb{R}$). Es por ello que podemos aplicar el **teorema de Bolzano** para comprobar que la ecuación tiene **al menos** una raíz real: si $f(1) \\cdot f(2) < 0$ entonces la función posee al menos una raíz real en el intervalo $[1,2]$. Veámoslo haciendo uso de una función de python que determina si hay cambio de signo en el intervalo y, por consiguiente, si hay raíz dentro del mismo:\n",
    "\n",
    "\n",
    "\n"
   ]
  },
  {
   "cell_type": "code",
   "execution_count": 32,
   "metadata": {
    "vscode": {
     "languageId": "python"
    }
   },
   "outputs": [],
   "source": [
    "a = 1; b = 2"
   ]
  },
  {
   "cell_type": "code",
   "execution_count": 33,
   "metadata": {
    "vscode": {
     "languageId": "python"
    }
   },
   "outputs": [],
   "source": [
    "def f(x):\n",
    "\n",
    "    return x**3 + 4*x**2 - 10"
   ]
  },
  {
   "cell_type": "code",
   "execution_count": 34,
   "metadata": {
    "vscode": {
     "languageId": "python"
    }
   },
   "outputs": [
    {
     "name": "stdout",
     "output_type": "stream",
     "text": [
      "Sí hay cambio de signo: Hay raíz\n"
     ]
    }
   ],
   "source": [
    "sgn(f,a,b)"
   ]
  },
  {
   "cell_type": "markdown",
   "metadata": {},
   "source": [
    "La función nos informa por tanto de que $f(1)\\cdot f(2) < 0$ así que el Teorema de Bolzano nos dice que la función posee al menos una raíz en el intervalo $[1,2]$.\n",
    "\n",
    "Probemos ahora que dicha solución, necesariamente ha de ser única. Calculemos la derivada de $f$:\n",
    "\n",
    "> $f^{'}(x) = 3x^{2} + 8x^{2}$\n",
    "\n",
    "Claramente, $f'(x) > 0 \\forall x \\in [1,2]$. Es por ello que la función $f$ es estrictamente creciente en dicho intervalo y, por consiguiente, de cortar al eje $OX$, solo lo hará una única vez. Concluimos por tanto que la raíz que el teorema de Bolzano afirmaba que existía, es única.\n",
    "\n",
    "A continuación, vamos a aproximar dicha raíz con al menos 3 cifras decimales exactas, aplicando para ello el método de bisección:"
   ]
  },
  {
   "cell_type": "code",
   "execution_count": 35,
   "metadata": {
    "vscode": {
     "languageId": "python"
    }
   },
   "outputs": [
    {
     "name": "stdout",
     "output_type": "stream",
     "text": [
      "Se han encontrado : 3 soluciones\n",
      "Solución 1: -2.68261500670705 - 0.358259359924043*I\n",
      "Solución 2: -2.68261500670705 + 0.358259359924043*I\n",
      "Solución 3: 1.36523001341410\n"
     ]
    }
   ],
   "source": [
    "sol,n = sol_exact(f,x)"
   ]
  },
  {
   "cell_type": "code",
   "execution_count": 38,
   "metadata": {
    "vscode": {
     "languageId": "python"
    }
   },
   "outputs": [
    {
     "name": "stdout",
     "output_type": "stream",
     "text": [
      "MÉTODO DE BISECCIÓN APLICADO A LA ECUACIÓN:  x**3 + 4*x**2 - 10\n",
      "Aproximación con decimales:  1.365\n",
      "Numero de iteraciones requerido:  10\n"
     ]
    }
   ],
   "source": [
    "# Calculemos la aproximación de la solución requerida\n",
    "\n",
    "# Número de cifras significativas\n",
    "cifras = 4\n",
    "#Aplicamos método de Bisección\n",
    "bise = biseccion(a,b,f,cifras,True)"
   ]
  },
  {
   "cell_type": "markdown",
   "metadata": {},
   "source": [
    "A continuación vamos a estimar el número de iteraciones necesarias para conseguir 5 cifras decimales exactas (tol =$10^{-5}$).\n",
    "\n",
    "El método de bisección nos permite calcular previamente el número de iteraciones necesarias para obtener la solución con un error inferior a uno dado. Efectivamente, si partimos por ejemplo del único intervalo de amplitud unidad en el que se encuentra la solución $s$, el $[1,2]$ y deseamos una solución con error menor que $10^{-5}$, entonces, teniendo en cuenta que según el Teorema que expone las propiedades del método de bisección: \"La sucesión de errores $\\{e_{n}\\}_{n\\geq 0}$ cumple $|e_{n}| < \\frac{1}{2^{n+1}} (b-a)$\", podemos imponer\n",
    "\n",
    "<center>\n",
    "\n",
    "$|e_{n}| < \\frac{2-1}{2^{n+1}} \\leq 10^{-5}$\n",
    "\n",
    "</center>\n",
    "\n",
    "de donde\n",
    "\n",
    "<center>\n",
    "\n",
    "$2^{n+1} \\geq \\frac{1}{10^{-5}} \\Rightarrow n \\geq log_{2}\\frac{1}{10^{-5}} - 1 = \\frac{ln \\frac{1}{10^{-5}}}{ln 2} - 1$\n",
    "\n",
    "</center>\n",
    "\n",
    "Así, obtenemos que \n",
    "\n",
    "<center>\n",
    "\n",
    "$n \\geq \\frac{ln \\frac{1}{10^{-5}}}{ln 2} - 1 \\Longleftrightarrow n \\geq 15.60964047 ... \\Rightarrow n = 16$\n",
    "\n",
    "</center>\n",
    "\n",
    "Para obtener un error inferior a $10^{-5}$ con el método de bisección son necesarias $16$ iteraciones."
   ]
  },
  {
   "attachments": {},
   "cell_type": "markdown",
   "metadata": {},
   "source": [
    "Hecho que podemos comprobar con la salida de la función:"
   ]
  },
  {
   "cell_type": "code",
   "execution_count": 40,
   "metadata": {
    "vscode": {
     "languageId": "python"
    }
   },
   "outputs": [
    {
     "name": "stdout",
     "output_type": "stream",
     "text": [
      "Número de iteraciones necesarias para obtener un error inferior a 10⁻⁵:  16\n"
     ]
    }
   ],
   "source": [
    "cifras = 5\n",
    "print(\"Número de iteraciones necesarias para obtener un error inferior a 10⁻⁵: \", num_iter(a,b,cifras) )"
   ]
  },
  {
   "cell_type": "markdown",
   "metadata": {},
   "source": [
    "Por último vamos a hallar la aproximación de la solución con el método de Newton-Raphson hasta conseguir un error inferior a $10^{-3}$"
   ]
  },
  {
   "cell_type": "code",
   "execution_count": 42,
   "metadata": {
    "vscode": {
     "languageId": "python"
    }
   },
   "outputs": [],
   "source": [
    "def deriv(x):\n",
    "    return 3*x**2+8*x"
   ]
  },
  {
   "cell_type": "code",
   "execution_count": 140,
   "metadata": {
    "vscode": {
     "languageId": "python"
    }
   },
   "outputs": [
    {
     "name": "stdout",
     "output_type": "stream",
     "text": [
      "Intervalo con maxima tolerancia. Aproximación solicitada:  1.365\n",
      "Numero de iteraciones requerido:  4\n"
     ]
    }
   ],
   "source": [
    "# Calculemos la aproximación de la solución requerida\n",
    "v0 = 1\n",
    "cifras = 4\n",
    "nr = newton_raphson(v0,f,deriv,cifras,True)"
   ]
  },
  {
   "cell_type": "markdown",
   "metadata": {},
   "source": [
    "# EJERCICIO 2\n",
    "\n",
    "Encuentre una aproximación de la raíz cúbica de 25 con dos decimales exactos (tol =$10^{-2}$), usando el algoritmo de bisección.\n"
   ]
  },
  {
   "cell_type": "markdown",
   "metadata": {},
   "source": [
    "Sea $g: \\mathbb{R} \\longrightarrow \\mathbb{R}$ una aplicación dada por $g(x) = \\sqrt[3]{x}$, que es claramente continua y derivable en todo su dominio de definición. Vamos a hacer una aproximación de dicha función aplicada al valor $25$ con dos decimales exactos. Es por ello que previamente a llevar a cabo dicho proceso de aproximación, vamos a ver cuál es el valor exacto de la raíz que se nos pide:"
   ]
  },
  {
   "cell_type": "code",
   "execution_count": 44,
   "metadata": {
    "vscode": {
     "languageId": "python"
    }
   },
   "outputs": [
    {
     "name": "stdout",
     "output_type": "stream",
     "text": [
      "Valor exacto:  2.92\n"
     ]
    }
   ],
   "source": [
    "# Definición de la función raíz cúbica de x\n",
    "def g(x):\n",
    "    return x**(1/3)\n",
    "\n",
    "cifras = 3 # tres cifras significativas de precisión.\n",
    "getcontext().prec = int(cifras)\n",
    "\n",
    "n = float(25)\n",
    "g(n)\n",
    "# comprobamos la solución exacta\n",
    "print(\"Valor exacto: \", round(g(n), cifras-1))"
   ]
  },
  {
   "cell_type": "markdown",
   "metadata": {},
   "source": [
    "Procedamos ahora a aplicar el método de bisección para aproximar dicha raíz a dos decimales exactos. Para ello, en primer lugar, observamos que podemos ver el enunciado del ejercicio desde otra perspectiva:\n",
    "\n",
    "Sea $x$ el valor que buscamos\n",
    "\n",
    "<center>\n",
    "\n",
    "$x = \\sqrt[3]{25} \\Longleftrightarrow x^{3} - 25 = 0$\n",
    "\n",
    "</center>\n",
    "\n",
    "Ahora sea $h: \\mathbb{R} \\longrightarrow \\mathbb{R}$ la aplicación dada por $h(x) = x^{3} - 25$, continua y derivable también en su dominio. El ejercicio se reduce a calcular una de sus raíces reales. Apliquemos entonces el método de bisección a esta función en el intervalo $[2,3]$:\n"
   ]
  },
  {
   "cell_type": "code",
   "execution_count": 48,
   "metadata": {
    "vscode": {
     "languageId": "python"
    }
   },
   "outputs": [],
   "source": [
    "def h(x):\n",
    "    \n",
    "    return x**3 - 25\n",
    "\n",
    "v1 = 2; v2 = 3"
   ]
  },
  {
   "cell_type": "code",
   "execution_count": 49,
   "metadata": {
    "vscode": {
     "languageId": "python"
    }
   },
   "outputs": [
    {
     "name": "stdout",
     "output_type": "stream",
     "text": [
      "MÉTODO DE BISECCIÓN APLICADO A LA ECUACIÓN:  x**3 - 25\n",
      "Aproximación con decimales:  2.93\n",
      "Numero de iteraciones requerido:  7\n"
     ]
    }
   ],
   "source": [
    "bise = biseccion(v1,v2,h,cifras,True)"
   ]
  },
  {
   "cell_type": "markdown",
   "metadata": {},
   "source": [
    "# EJERCICIO 3"
   ]
  },
  {
   "cell_type": "markdown",
   "metadata": {},
   "source": [
    "Use el método de Newton-Raphson para aproximar las soluciones de las siguientes ecuaciones con tolerancia $10^{-5}$ , partiendo de un valor adecuado, próximo a cada una de ellas en cada caso.\n",
    "\n",
    "i) $x^3-x-1 = 0$  en $[1,2]$.\n",
    "\n",
    "ii) $3x=2+x^2-e^x$.\n",
    "\n",
    "iii) $x^2+10\\, cos x+x=0$.\n"
   ]
  },
  {
   "cell_type": "markdown",
   "metadata": {},
   "source": [
    "Definamos en primer lugar todas las funciones dadas junto con su funcion derivada. Cada una de ellas es continua y derivable en $\\mathbb{R}$:"
   ]
  },
  {
   "cell_type": "code",
   "execution_count": 145,
   "metadata": {
    "vscode": {
     "languageId": "python"
    }
   },
   "outputs": [],
   "source": [
    "def f_1(x):\n",
    "\n",
    "    return x**3 - x - 1\n",
    "\n",
    "def df_1(x):\n",
    "\n",
    "    return 3*x**2 - 1\n",
    "\n",
    "def f_2(x):\n",
    "\n",
    "    return 3*x-2-x**2+np.exp(x)\n",
    "\n",
    "def f_2_S(x):\n",
    "\n",
    "    return 3*x-2-x**2+sp.exp(x)\n",
    "\n",
    "def df_2(x):\n",
    "\n",
    "    return 3 -2*x + np.exp(x)\n",
    "\n",
    "def f_3(x):\n",
    "\n",
    "    return x**2+10*np.cos(x) + x\n",
    "\n",
    "def f_3_S(x):\n",
    "\n",
    "    return x**2+10*sp.cos(x) + x\n",
    "\n",
    "def df_3(x):\n",
    "\n",
    "    return 2*x-10*sp.sin(x) + 1\n"
   ]
  },
  {
   "cell_type": "markdown",
   "metadata": {},
   "source": [
    "#### Función 1:"
   ]
  },
  {
   "cell_type": "markdown",
   "metadata": {},
   "source": [
    "Hallemos en primer lugar las zaíces de la función 1:"
   ]
  },
  {
   "cell_type": "code",
   "execution_count": 51,
   "metadata": {
    "vscode": {
     "languageId": "python"
    }
   },
   "outputs": [
    {
     "name": "stdout",
     "output_type": "stream",
     "text": [
      "Se han encontrado : 3 soluciones\n",
      "Solución 1: -0.662358978622373 - 0.562279512062301*I\n",
      "Solución 2: -0.662358978622373 + 0.562279512062301*I\n",
      "Solución 3: 1.32471795724475\n"
     ]
    }
   ],
   "source": [
    "v1 = sol_exact(f_1,x,todas=True)"
   ]
  },
  {
   "cell_type": "markdown",
   "metadata": {},
   "source": [
    "Nos centramos en la zaíz real que posee: **1.32471795724475**. Apliquemos entonces el Método de Newton-Raphson a dicha función para aproximar la solución que acabamos de ver en su forma exacta, con 6 cifras significativas (*tol*=$10^{-5}$) y partiendo de la semilla $x_{0} = 1.25$ por ejemplo:"
   ]
  },
  {
   "cell_type": "code",
   "execution_count": 214,
   "metadata": {
    "vscode": {
     "languageId": "python"
    }
   },
   "outputs": [
    {
     "name": "stdout",
     "output_type": "stream",
     "text": [
      "Intervalo con maxima tolerancia. Aproximación solicitada:  1.32472\n",
      "Numero de iteraciones requerido:  4\n",
      "Solución exacta:  1.324717957244746\n"
     ]
    }
   ],
   "source": [
    "# Calculemos la aproximación de la solución requerida\n",
    "v_inic = 1.25\n",
    "cifras = 6\n",
    "nr = newton_raphson(v_inic,f_1,df_1,cifras,True)\n",
    "print(\"Solución exacta: \", float(v1[0][2]))"
   ]
  },
  {
   "cell_type": "markdown",
   "metadata": {},
   "source": [
    "#### Función 2"
   ]
  },
  {
   "cell_type": "markdown",
   "metadata": {},
   "source": [
    "Hallemos las raíces de esta seguna función:"
   ]
  },
  {
   "cell_type": "code",
   "execution_count": 112,
   "metadata": {
    "vscode": {
     "languageId": "python"
    }
   },
   "outputs": [
    {
     "name": "stdout",
     "output_type": "stream",
     "text": [
      "No existen soluciones para esta ecuación : -x**2 + 3*x + exp(x) - 2\n"
     ]
    }
   ],
   "source": [
    "v2 = sol_exact(f_2_S,x,todas=True)"
   ]
  },
  {
   "attachments": {},
   "cell_type": "markdown",
   "metadata": {},
   "source": [
    "Observamos que python no tiene una forma relativamente buena para calcular las razíces de esta función, aunque por la gráfica podemos ver que sí corta al eje $OX$"
   ]
  },
  {
   "cell_type": "code",
   "execution_count": 114,
   "metadata": {
    "vscode": {
     "languageId": "python"
    }
   },
   "outputs": [
    {
     "data": {
      "image/png": "[encoded data removed]",
      "text/plain": [
       "<Figure size 432x288 with 1 Axes>"
      ]
     },
     "metadata": {
      "needs_background": "light"
     },
     "output_type": "display_data"
    },
    {
     "data": {
      "text/plain": [
       "<sympy.plotting.plot.Plot at 0x7fe694a8bf10>"
      ]
     },
     "execution_count": 114,
     "metadata": {},
     "output_type": "execute_result"
    }
   ],
   "source": [
    "sp.plot(f_2_S(x),xlim=(-2.0,2.0),ylim=(-20,20))"
   ]
  },
  {
   "cell_type": "markdown",
   "metadata": {},
   "source": [
    "Para obtener una aproximación de la solución dada la imposibilidad de calcularla de forma exacta, vamos a usar el Método de NR, utilizando una semilla adecuada para ello. Dicha semilla estará dentro del intervalo en el que se encuentre la solución (en el que haya un cambio de signo). Para ver dónde está la solución, ampliemos el gráfico"
   ]
  },
  {
   "cell_type": "code",
   "execution_count": 115,
   "metadata": {
    "vscode": {
     "languageId": "python"
    }
   },
   "outputs": [
    {
     "data": {
      "image/png": "[encoded data removed]",
      "text/plain": [
       "<Figure size 432x288 with 1 Axes>"
      ]
     },
     "metadata": {
      "needs_background": "light"
     },
     "output_type": "display_data"
    },
    {
     "data": {
      "text/plain": [
       "<sympy.plotting.plot.Plot at 0x7fe694a7f280>"
      ]
     },
     "execution_count": 115,
     "metadata": {},
     "output_type": "execute_result"
    }
   ],
   "source": [
    "sp.plot(f_2_S(x),xlim=(0.0,0.5),ylim=(-1.0,1.0))"
   ]
  },
  {
   "attachments": {},
   "cell_type": "markdown",
   "metadata": {},
   "source": [
    "Claramente observamos que la función posee su raíz en el intervalo de amplitud 1, $[0.2,0.3]$. De hecho: "
   ]
  },
  {
   "cell_type": "code",
   "execution_count": 116,
   "metadata": {
    "vscode": {
     "languageId": "python"
    }
   },
   "outputs": [
    {
     "name": "stdout",
     "output_type": "stream",
     "text": [
      "Sí hay cambio de signo: Hay raíz\n"
     ]
    }
   ],
   "source": [
    "sgn(f_2,0.2,0.3)"
   ]
  },
  {
   "attachments": {},
   "cell_type": "markdown",
   "metadata": {},
   "source": [
    "Es por ello que elegiremos la semilla en este intervalo. Sea $x_{0} = 0.3$. Apliquemos el método de NR para hallar la aproximación de la solución con la tolerancia indicada:"
   ]
  },
  {
   "cell_type": "code",
   "execution_count": 215,
   "metadata": {
    "vscode": {
     "languageId": "python"
    }
   },
   "outputs": [
    {
     "name": "stdout",
     "output_type": "stream",
     "text": [
      "Intervalo con maxima tolerancia. Aproximación solicitada:  0.257530\n",
      "Numero de iteraciones requerido:  2\n"
     ]
    }
   ],
   "source": [
    "# Calculemos la aproximación de la solución requerida\n",
    "v_inic = 0.3\n",
    "cifras = 6\n",
    "nr = newton_raphson(v_inic,f_2,df_2,cifras,True)"
   ]
  },
  {
   "cell_type": "markdown",
   "metadata": {},
   "source": [
    "### Función 3"
   ]
  },
  {
   "cell_type": "markdown",
   "metadata": {},
   "source": [
    "Hallemos en primer lugar las raíces de la función:"
   ]
  },
  {
   "cell_type": "code",
   "execution_count": 131,
   "metadata": {
    "vscode": {
     "languageId": "python"
    }
   },
   "outputs": [
    {
     "name": "stdout",
     "output_type": "stream",
     "text": [
      "Se han encontrado : 0 soluciones\n"
     ]
    }
   ],
   "source": [
    "v3 = sol_exact(f_3_S,x,todas=True)"
   ]
  },
  {
   "cell_type": "markdown",
   "metadata": {},
   "source": [
    "Veamos que aunque la función nos diga que no hay ninguna solución, sí que las hay. Prueba de ello viene dada por el siguiente gráfico:"
   ]
  },
  {
   "cell_type": "code",
   "execution_count": 132,
   "metadata": {
    "vscode": {
     "languageId": "python"
    }
   },
   "outputs": [
    {
     "data": {
      "image/png": "[encoded data removed]",
      "text/plain": [
       "<Figure size 432x288 with 1 Axes>"
      ]
     },
     "metadata": {
      "needs_background": "light"
     },
     "output_type": "display_data"
    },
    {
     "data": {
      "text/plain": [
       "<sympy.plotting.plot.Plot at 0x7fe6949272b0>"
      ]
     },
     "execution_count": 132,
     "metadata": {},
     "output_type": "execute_result"
    }
   ],
   "source": [
    "sp.plot(f_3_S(x),xlim=(-7.5,7.5),ylim=(-50,50))"
   ]
  },
  {
   "cell_type": "markdown",
   "metadata": {},
   "source": [
    "Gráficamente observamos que corta al eje $OX$ en dos ocasiones. Una en el intervalo $[-4,-3]$ y otra en el intervalo $[-2,-1]$:"
   ]
  },
  {
   "cell_type": "code",
   "execution_count": 133,
   "metadata": {
    "vscode": {
     "languageId": "python"
    }
   },
   "outputs": [
    {
     "name": "stdout",
     "output_type": "stream",
     "text": [
      "Sí hay cambio de signo: Hay raíz\n"
     ]
    }
   ],
   "source": [
    "# Primer cambio de signo:\n",
    "sgn(f_3,-4,-3)"
   ]
  },
  {
   "cell_type": "code",
   "execution_count": 134,
   "metadata": {
    "vscode": {
     "languageId": "python"
    }
   },
   "outputs": [
    {
     "name": "stdout",
     "output_type": "stream",
     "text": [
      "Sí hay cambio de signo: Hay raíz\n"
     ]
    }
   ],
   "source": [
    "# Segundo cambio de signo:\n",
    "sgn(f_3,-2,-1)"
   ]
  },
  {
   "cell_type": "markdown",
   "metadata": {},
   "source": [
    "Ampliemos la gráfica para tener una mejor visión a la hora de escoger semillas:"
   ]
  },
  {
   "cell_type": "code",
   "execution_count": 135,
   "metadata": {
    "vscode": {
     "languageId": "python"
    }
   },
   "outputs": [
    {
     "data": {
      "image/png": "[encoded data removed]",
      "text/plain": [
       "<Figure size 432x288 with 1 Axes>"
      ]
     },
     "metadata": {
      "needs_background": "light"
     },
     "output_type": "display_data"
    },
    {
     "data": {
      "text/plain": [
       "<sympy.plotting.plot.Plot at 0x7fe6948b7970>"
      ]
     },
     "execution_count": 135,
     "metadata": {},
     "output_type": "execute_result"
    }
   ],
   "source": [
    "sp.plot(f_3_S(x),xlim=(-5,0),ylim=(-5.0,5.0))"
   ]
  },
  {
   "cell_type": "markdown",
   "metadata": {},
   "source": [
    "#### Primera raíz (intervalo $[-4,-3]$)"
   ]
  },
  {
   "cell_type": "markdown",
   "metadata": {},
   "source": [
    "Sea $x_{0} = -3.2$ la semilla para encontrar mediante NR la raíz del intervalo de amplitud unidad $[-4,-3]$. Apliquemos dicho método:"
   ]
  },
  {
   "cell_type": "code",
   "execution_count": 216,
   "metadata": {
    "vscode": {
     "languageId": "python"
    }
   },
   "outputs": [
    {
     "name": "stdout",
     "output_type": "stream",
     "text": [
      "Intervalo con maxima tolerancia. Aproximación solicitada:  -3.56233149723641\n",
      "Numero de iteraciones requerido:  5\n"
     ]
    }
   ],
   "source": [
    "# Calculemos la aproximación de la solución requerida\n",
    "v_inic = -3.2\n",
    "cifras = 6\n",
    "nr = newton_raphson(v_inic,f_3_S,df_3,cifras,True)"
   ]
  },
  {
   "cell_type": "markdown",
   "metadata": {},
   "source": [
    "#### Segunda raíz (intervalo $[-2,-1]$)"
   ]
  },
  {
   "cell_type": "markdown",
   "metadata": {},
   "source": [
    "Sea $x_{0} = -1.6$ la semilla para encontrar mediante NR la raíz del intervalo de amplitud unidad $[-2,-1]$. Apliquemos dicho método:"
   ]
  },
  {
   "cell_type": "code",
   "execution_count": 217,
   "metadata": {
    "vscode": {
     "languageId": "python"
    }
   },
   "outputs": [
    {
     "name": "stdout",
     "output_type": "stream",
     "text": [
      "Intervalo con maxima tolerancia. Aproximación solicitada:  -1.68693989979922\n",
      "Numero de iteraciones requerido:  3\n"
     ]
    }
   ],
   "source": [
    "# Calculemos la aproximación de la solución requerida\n",
    "v_inic = -1.6\n",
    "cifras = 6\n",
    "nr = newton_raphson(v_inic,f_3_S,df_3,cifras,True)"
   ]
  },
  {
   "cell_type": "markdown",
   "metadata": {},
   "source": [
    "# EJERCICIO 4"
   ]
  },
  {
   "cell_type": "markdown",
   "metadata": {},
   "source": [
    "Para la función  $ f(x)= 3 x^2+e^x-1$, \n",
    "\n",
    "i) encuentre, mediante el método de bisección una aproximación de la raíz en $[0,1]$ con, al menos, cuatro decimales exactos (tol =$10^{-4}$), y determine el número de iteraciones realizadas;\n",
    "\n",
    "ii) encuentre, mediante el método de Newton-Raphson, una aproximación de la raíz en $[0,1]$ con una tolerancia de $10^{-4}$, partiendo de $x_0=0$, y determine el número de iteraciones realizadas."
   ]
  },
  {
   "cell_type": "markdown",
   "metadata": {},
   "source": [
    "Sea $f:\\mathbb{R} \\longrightarrow \\mathbb{R}$ la aplicación dada por $f(x) = 3x^{2} + e^{x} -1$, continua y derivable ne todo su dominio de definición."
   ]
  },
  {
   "cell_type": "markdown",
   "metadata": {},
   "source": [
    "### Apartado i"
   ]
  },
  {
   "cell_type": "code",
   "execution_count": 149,
   "metadata": {
    "vscode": {
     "languageId": "python"
    }
   },
   "outputs": [],
   "source": [
    "# Definamos la función\n",
    "def f_4(x):\n",
    "\n",
    "    return 3*x**2 + np.exp(x) - 1\n",
    "\n",
    "def f_4_S(x):\n",
    "\n",
    "    return 3*x**2 + sp.exp(x) - 1\n",
    "\n",
    "def df_4(x):\n",
    "\n",
    "    return 6*x + np.exp(x)"
   ]
  },
  {
   "cell_type": "markdown",
   "metadata": {},
   "source": [
    "En primer lugar vamos a comprobar que dicha función posee alguna raíz en el intervalo $[0,1]$. Para ello, vamos a comprobar si hay algún cabio de signo en dicho intervalo:"
   ]
  },
  {
   "cell_type": "code",
   "execution_count": 150,
   "metadata": {
    "vscode": {
     "languageId": "python"
    }
   },
   "outputs": [
    {
     "name": "stdout",
     "output_type": "stream",
     "text": [
      "No hay cambio de signo: No hay raíz\n"
     ]
    }
   ],
   "source": [
    "sgn(f_4,0,1)"
   ]
  },
  {
   "cell_type": "code",
   "execution_count": 152,
   "metadata": {
    "vscode": {
     "languageId": "python"
    }
   },
   "outputs": [
    {
     "data": {
      "image/png": "[encoded data removed]",
      "text/plain": [
       "<Figure size 432x288 with 1 Axes>"
      ]
     },
     "metadata": {
      "needs_background": "light"
     },
     "output_type": "display_data"
    },
    {
     "data": {
      "text/plain": [
       "<sympy.plotting.plot.Plot at 0x7fe6949e4ac0>"
      ]
     },
     "execution_count": 152,
     "metadata": {},
     "output_type": "execute_result"
    }
   ],
   "source": [
    "sp.plot(f_4_S(x),xlim=(-0.5,0.2),ylim=(-1.0,1.0))"
   ]
  },
  {
   "cell_type": "markdown",
   "metadata": {},
   "source": [
    "Observamos que en $x = 0$"
   ]
  },
  {
   "cell_type": "code",
   "execution_count": 153,
   "metadata": {
    "vscode": {
     "languageId": "python"
    }
   },
   "outputs": [
    {
     "data": {
      "text/plain": [
       "0.0"
      ]
     },
     "execution_count": 153,
     "metadata": {},
     "output_type": "execute_result"
    }
   ],
   "source": [
    "f_4(0)"
   ]
  },
  {
   "attachments": {},
   "cell_type": "markdown",
   "metadata": {},
   "source": [
    "Y por consiguiente, deducimos que tiene una raíz en el intervalo $[0,1]$ es $x=0$. En teoría no podríamos aplicar el método de bisección en el intervalo $[0,1]$ porque $f(0)\\cdot f(1) = 0$. Es por ello que vamos a considerar el intervalo $[0 + \\epsilon, 1]$ doonde $\\epsilon$ va a ser un número positivo tan pequeño como queramos. Sea $\\epsilon = 10^{-16}$. Vamos a aproximarnos a dicha solución con:"
   ]
  },
  {
   "cell_type": "markdown",
   "metadata": {},
   "source": [
    "### Método de Bisección:"
   ]
  },
  {
   "cell_type": "code",
   "execution_count": 218,
   "metadata": {
    "vscode": {
     "languageId": "python"
    }
   },
   "outputs": [
    {
     "name": "stdout",
     "output_type": "stream",
     "text": [
      "MÉTODO DE BISECCIÓN APLICADO A LA ECUACIÓN:  3*x**2 + exp(x) - 1\n",
      "Aproximación con decimales:  0.000976\n",
      "Numero de iteraciones requerido:  10\n"
     ]
    }
   ],
   "source": [
    "# Calculemos la aproximación de la solución requerida\n",
    "epsilon = 10**(-20)\n",
    "cifras = 4\n",
    "v_inic, v_fin = epsilon,1\n",
    "bise = biseccion(v_inic,v_fin,f_4_S,cifras,True)"
   ]
  },
  {
   "cell_type": "markdown",
   "metadata": {},
   "source": [
    "### Método de Newton-Raphson"
   ]
  },
  {
   "cell_type": "code",
   "execution_count": 163,
   "metadata": {
    "vscode": {
     "languageId": "python"
    }
   },
   "outputs": [
    {
     "name": "stdout",
     "output_type": "stream",
     "text": [
      "Intervalo con maxima tolerancia. Aproximación solicitada:  0\n",
      "Numero de iteraciones requerido:  1\n"
     ]
    }
   ],
   "source": [
    "# Calculemos la aproximación de la solución requerida\n",
    "v_inic = 0\n",
    "cifras = 6\n",
    "nr = newton_raphson(v_inic,f_4,df_4,cifras,True)"
   ]
  },
  {
   "cell_type": "markdown",
   "metadata": {},
   "source": [
    "# EJERCICIO 5"
   ]
  },
  {
   "cell_type": "markdown",
   "metadata": {},
   "source": [
    "Utilice las órdenes apropiadas de Python para aproximar todos los puntos donde se anulan las funciones siguientes (si es necesario, represéntelas gráficamente):\n",
    "\n",
    "i) $f(x)=x^7-x^4+2$ ,\n",
    "\n",
    "ii) $f(x)=x^7+\\cos  x-3$."
   ]
  },
  {
   "cell_type": "markdown",
   "metadata": {},
   "source": [
    "### Apartado i"
   ]
  },
  {
   "cell_type": "markdown",
   "metadata": {},
   "source": [
    "Sea $f : \\mathbb{R} \\longrightarrow \\mathbb{R}$ la aplicación dada por $f(x) = x^{7} - x^{4} + 2$, continua y derivable en todo su dominio.\n",
    "\n",
    "Vamos a visualizar gráficamente los puntos en los que la función se anula. El teorema Fundamental del Álgebra nos dice que la función posee a lo sumo $7$ raíces, de las que nos interesan sólo las reales."
   ]
  },
  {
   "cell_type": "code",
   "execution_count": 164,
   "metadata": {
    "vscode": {
     "languageId": "python"
    }
   },
   "outputs": [],
   "source": [
    "# Definición de la función y su derivada\n",
    "def f_5i(x):\n",
    "\n",
    "    return x**7 - x**4 + 2\n",
    "\n",
    "def df_5i(x):\n",
    "\n",
    "    return 7*x**6 - 4*x**3"
   ]
  },
  {
   "cell_type": "markdown",
   "metadata": {},
   "source": [
    "Intentemos calcular de forma exacta dichas raíces previa visualización gráfica con nuestra función de python:"
   ]
  },
  {
   "cell_type": "code",
   "execution_count": 165,
   "metadata": {
    "vscode": {
     "languageId": "python"
    }
   },
   "outputs": [
    {
     "name": "stdout",
     "output_type": "stream",
     "text": [
      "Se han encontrado : 7 soluciones\n",
      "Solución 1: -1.00000000000000\n",
      "Solución 2: -0.713102145851293 - 0.98823188827156*I\n",
      "Solución 3: -0.713102145851293 + 0.98823188827156*I\n",
      "Solución 4: 1.06110281046036 - 0.376384046559108*I\n",
      "Solución 5: 1.06110281046036 + 0.376384046559108*I\n",
      "Solución 6: 0.151999335390936 - 1.01945594669063*I\n",
      "Solución 7: 0.151999335390936 + 1.01945594669063*I\n"
     ]
    }
   ],
   "source": [
    "v5 = sol_exact(f_5i,x,todas=True)"
   ]
  },
  {
   "cell_type": "markdown",
   "metadata": {},
   "source": [
    "Observamos que nuestra función ha encontrado $1$ raíz real:\n",
    "\n",
    "* $x_{1} = -1$\n",
    "\n",
    "Procederemos entonces a aproximar dicha solución mediante el método de Newton-Raphson, por ejemplo. Elección que viene justificada por la rapidez (cuadrática) de este método frente al de bisección. Pero antes, observemos dicha raíz gráficamente:\n"
   ]
  },
  {
   "cell_type": "code",
   "execution_count": 166,
   "metadata": {
    "vscode": {
     "languageId": "python"
    }
   },
   "outputs": [
    {
     "data": {
      "image/png": "[encoded data removed]",
      "text/plain": [
       "<Figure size 432x288 with 1 Axes>"
      ]
     },
     "metadata": {
      "needs_background": "light"
     },
     "output_type": "display_data"
    },
    {
     "data": {
      "text/plain": [
       "<sympy.plotting.plot.Plot at 0x7fe6948c12e0>"
      ]
     },
     "execution_count": 166,
     "metadata": {},
     "output_type": "execute_result"
    }
   ],
   "source": [
    "sp.plot(f_5i(x),xlim=(-2.0,2.0),ylim=(-5.0,5.0))"
   ]
  },
  {
   "cell_type": "markdown",
   "metadata": {},
   "source": [
    "Observamos que:\n",
    "\n",
    "* $x_{1} = -1 \\in [-1.5,-0.5]$"
   ]
  },
  {
   "cell_type": "markdown",
   "metadata": {},
   "source": [
    "Aproximemos por tanto por el método de Newton-Raphson dicha raíz.\n",
    "\n",
    "Para ello, tomemos como semilla $x_{0} = -0.8$:"
   ]
  },
  {
   "cell_type": "code",
   "execution_count": 219,
   "metadata": {
    "vscode": {
     "languageId": "python"
    }
   },
   "outputs": [
    {
     "name": "stdout",
     "output_type": "stream",
     "text": [
      "Intervalo con maxima tolerancia. Aproximación solicitada:  -1.00000\n",
      "Numero de iteraciones requerido:  5\n"
     ]
    }
   ],
   "source": [
    "# Calculemos la aproximación de la solución requerida\n",
    "v_inic = -0.8\n",
    "cifras = 6\n",
    "nr = newton_raphson(v_inic,f_5i,df_5i,cifras,True)"
   ]
  },
  {
   "cell_type": "markdown",
   "metadata": {},
   "source": [
    "### Apartado ii"
   ]
  },
  {
   "cell_type": "markdown",
   "metadata": {},
   "source": [
    "Sea $f : \\mathbb{R} \\longrightarrow \\mathbb{R}$ la aplicación dada por $f(x) = x^{7} + cos(x) -3$, continua y derivable en todo su dominio.\n",
    "\n",
    "Vamos a visualizar gráficamente los puntos en los que la función se anula. El teorema Fundamental del Álgebra nos dice que la función posee a lo sumo $7$ raíces, de las que nos interesan sólo las reales."
   ]
  },
  {
   "cell_type": "code",
   "execution_count": 185,
   "metadata": {
    "vscode": {
     "languageId": "python"
    }
   },
   "outputs": [],
   "source": [
    "# Definición de la función y su derivada\n",
    "def f_5ii(x):\n",
    "\n",
    "    return x**7 + sp.cos(x) - 3\n",
    "\n",
    "def df_5ii(x):\n",
    "\n",
    "    return 7*x**6 - sp.sin(x)"
   ]
  },
  {
   "cell_type": "markdown",
   "metadata": {},
   "source": [
    "Intentemos calcular de forma exacta dichas raíces previa visualización gráfica con nuestra función de python:"
   ]
  },
  {
   "cell_type": "code",
   "execution_count": 173,
   "metadata": {
    "vscode": {
     "languageId": "python"
    }
   },
   "outputs": [
    {
     "name": "stdout",
     "output_type": "stream",
     "text": [
      "No existen soluciones para esta ecuación : x**7 + cos(x) - 3\n"
     ]
    }
   ],
   "source": [
    "v5ii = sol_exact(f_5ii,x,todas=True)"
   ]
  },
  {
   "cell_type": "markdown",
   "metadata": {},
   "source": [
    "Observamos que nuestra función no ha sido capaz de determinar si la función tiene raíces reales o no. Es por ello que vamos a graficarla para observar como se comporta:"
   ]
  },
  {
   "cell_type": "code",
   "execution_count": 170,
   "metadata": {
    "vscode": {
     "languageId": "python"
    }
   },
   "outputs": [
    {
     "data": {
      "image/png": "[encoded data removed]",
      "text/plain": [
       "<Figure size 432x288 with 1 Axes>"
      ]
     },
     "metadata": {
      "needs_background": "light"
     },
     "output_type": "display_data"
    },
    {
     "data": {
      "text/plain": [
       "<sympy.plotting.plot.Plot at 0x7fe694bd9040>"
      ]
     },
     "execution_count": 170,
     "metadata": {},
     "output_type": "execute_result"
    }
   ],
   "source": [
    "sp.plot(f_5ii(x),xlim=(-2.5,2.5),ylim=(-5.0,5.0))"
   ]
  },
  {
   "cell_type": "markdown",
   "metadata": {},
   "source": [
    "\n",
    "Claramente se observa que la función tiene una raíz real en el intervalo $[1,2]$. Aproximémosla mediante el método de Newton-Raphson eligiendo como semilla el valor $x_{0} = 1.3$ por ejemplo:"
   ]
  },
  {
   "cell_type": "code",
   "execution_count": 220,
   "metadata": {
    "vscode": {
     "languageId": "python"
    }
   },
   "outputs": [
    {
     "name": "stdout",
     "output_type": "stream",
     "text": [
      "Intervalo con maxima tolerancia. Aproximación solicitada:  1.14545980727001\n",
      "Numero de iteraciones requerido:  5\n"
     ]
    }
   ],
   "source": [
    "# Calculemos la aproximación de la solución requerida\n",
    "v_inic = 1.3\n",
    "cifras = 6\n",
    "nr = newton_raphson(v_inic,f_5ii,df_5ii,cifras,True)"
   ]
  },
  {
   "cell_type": "markdown",
   "metadata": {},
   "source": [
    "# EJERCICIO 6"
   ]
  },
  {
   "cell_type": "markdown",
   "metadata": {},
   "source": [
    "Aplicar los métodos de aceleración de la convergencia de Aitken y Steffensen (según los apuntes) a las sucesiones obtenidas para los distintos métodos programados en esta práctica y comparar los resultados. Para aplicar el método de aceleración de Steffensen, recuerde que para transformar cualquier ecuación de la forma  $ f(x)=0 $  en un problema de puntos fijos  $ g(x)=x $, la forma más simple puede ser definir  $g(x)=x \\pm f(x)$."
   ]
  },
  {
   "cell_type": "markdown",
   "metadata": {},
   "source": [
    "Hemos modificado los métodos de bisección y Newton-Raphson para que devuelvan en forma de lista los elementos de las sucesiones $\\{m_{n}\\}_{n \\geq 0}$ y $\\{x_{n}\\}_{n \\geq 0}$ que generan dichos métodos respectivamente. Basándonos en dichas sucesiones se van a elaborar dos funciones de aceleración: una para la aceleración de Aitken y otra para la de Steffensen:"
   ]
  },
  {
   "cell_type": "code",
   "execution_count": 187,
   "metadata": {
    "vscode": {
     "languageId": "python"
    }
   },
   "outputs": [],
   "source": [
    "# Función de aceleración de la convergencia de Aitken.\n",
    "def aceleraAitken(xn):\n",
    "\n",
    "    x_new = []\n",
    "    for i in range (len(xn)-2):\n",
    "        x_new.append((xn[i]-(xn[i+1]-xn[i])**2/(xn[i+2]-2*xn[i+1]+xn[i])))\n",
    "\n",
    "    return x_new"
   ]
  },
  {
   "cell_type": "code",
   "execution_count": 358,
   "metadata": {
    "vscode": {
     "languageId": "python"
    }
   },
   "outputs": [],
   "source": [
    "# Función de aceleración de la convergencia de Steffensen.\n",
    "def aceleraSteffensen(niter,f,x0):\n",
    "    g = lambda x: x - f(x)\n",
    "    x_appx = [x0,f(x0),g(g(x0))]\n",
    "    x_new  = []\n",
    "\n",
    "    for i in range(niter):\n",
    "        x0 = x_appx[0]-(x_appx[1]-x_appx[0])**2/(x_appx[2]-2*x_appx[1]+x_appx[0])\n",
    "        x_appx = [x0,g(x0),g(g(x0))]\n",
    "        x_new  = x_new + [x_appx[-1]]\n",
    "\n",
    "    return x_new"
   ]
  },
  {
   "attachments": {},
   "cell_type": "markdown",
   "metadata": {},
   "source": [
    "A continuación aplicaremos el método de Bisección y el de Newton-Raphson a la función del primer ejercicio:\n",
    "\n",
    "$f: \\mathbb{R} \\longrightarrow \\mathbb{R}$ tal que $f(x) = x^{3} + 4x^{2} -10$"
   ]
  },
  {
   "cell_type": "code",
   "execution_count": 205,
   "metadata": {
    "vscode": {
     "languageId": "python"
    }
   },
   "outputs": [
    {
     "name": "stdout",
     "output_type": "stream",
     "text": [
      "La función a la que se le aplica la aceleración es:  x**3 + 4*x**2 - 10\n"
     ]
    }
   ],
   "source": [
    "print(\"La función a la que se le aplica la aceleración es: \", f(x))\n",
    "\n",
    "#Aplicación g del método de Steffensen\n",
    "def g(x):\n",
    "\n",
    "    return x-f(x)"
   ]
  },
  {
   "cell_type": "code",
   "execution_count": 190,
   "metadata": {
    "vscode": {
     "languageId": "python"
    }
   },
   "outputs": [
    {
     "name": "stdout",
     "output_type": "stream",
     "text": [
      "Help on function biseccion in module __main__:\n",
      "\n",
      "biseccion(a, b, f, cifras=16, muestra=True, nmax=100, prec=1e-16)\n",
      "\n"
     ]
    }
   ],
   "source": [
    "help(biseccion)"
   ]
  },
  {
   "cell_type": "markdown",
   "metadata": {},
   "source": [
    "Comencemos en primer lugar con el método de **bisección**"
   ]
  },
  {
   "cell_type": "code",
   "execution_count": 206,
   "metadata": {
    "vscode": {
     "languageId": "python"
    }
   },
   "outputs": [
    {
     "name": "stdout",
     "output_type": "stream",
     "text": [
      "MÉTODO DE BISECCIÓN APLICADO A LA ECUACIÓN:  x**3 + 4*x**2 - 10\n",
      "Se ha alcanzado la precisión requerida. Posible solución exacta:  1.365230013414097\n",
      "Numero de iteraciones requerido:  50\n"
     ]
    }
   ],
   "source": [
    "# Intervalo en el que vamos a movernos:\n",
    "a,b=1,2\n",
    "\n",
    "#Aplicamos método de bisección\n",
    "bisection = biseccion(a,b,f,False)"
   ]
  },
  {
   "cell_type": "code",
   "execution_count": 207,
   "metadata": {
    "vscode": {
     "languageId": "python"
    }
   },
   "outputs": [
    {
     "name": "stdout",
     "output_type": "stream",
     "text": [
      "Iteraciones biseccion: [1.5, 1.25, 1.375, 1.3125, 1.34375, 1.359375, 1.3671875, 1.36328125, 1.365234375, 1.3642578125, 1.36474609375, 1.364990234375, 1.3651123046875, 1.36517333984375, 1.365203857421875, 1.365219116210938, 1.365226745605469, 1.365230560302734, 1.365228652954102, 1.365229606628418, 1.365230083465576, 1.365229845046997, 1.365229964256286, 1.365230023860931, 1.365229994058608, 1.36523000895977, 1.36523001641035, 1.36523001268506, 1.365230014547705, 1.365230013616382, 1.365230013150721, 1.365230013383552, 1.365230013499967, 1.36523001344176, 1.365230013412656, 1.365230013427208, 1.365230013419932, 1.365230013416294, 1.365230013414475, 1.365230013413566, 1.36523001341402, 1.365230013414248, 1.365230013414134, 1.365230013414077, 1.365230013414106, 1.365230013414092, 1.365230013414099, 1.365230013414096, 1.365230013414098, 1.365230013414097]\n"
     ]
    }
   ],
   "source": [
    "# Iteraciones realizadas por el método de Bisección:\n",
    "print(\"Iteraciones biseccion: {}\".format((bisection)))"
   ]
  },
  {
   "cell_type": "code",
   "execution_count": 208,
   "metadata": {
    "vscode": {
     "languageId": "python"
    }
   },
   "outputs": [
    {
     "name": "stdout",
     "output_type": "stream",
     "text": [
      "Iteraciones aceleradas. Aitken: [1.3333333333333333, 1.3333333333333333, 1.3333333333333333, 1.375, 1.375, 1.3645833333333333, 1.3645833333333333, 1.3645833333333333, 1.3645833333333333, 1.365234375, 1.365234375, 1.365234375, 1.365234375, 1.3652343750000018, 1.3652343749999991, 1.3652343749999978, 1.3652292887369792, 1.3652292887369792, 1.365230560302734, 1.3652299245198567, 1.3652299245198565, 1.365230083465577, 1.3652300039927157, 1.3652300039927159, 1.3652300238609276, 1.3652300139268234, 1.3652300139268234, 1.3652300139268232, 1.3652300126850607, 1.3652300133059414, 1.3652300136163813, 1.3652300134611624, 1.3652300133835509, 1.3652300134223574, 1.3652300134223574, 1.365230013412656, 1.365230013412656, 1.3652300134126578, 1.3652300134138688, 1.3652300134144781, 1.365230013414172, 1.3652300134140198, 1.3652300134140962, 1.3652300134140964, 1.3652300134140967, 1.3652300134140969, 1.365230013414097, 1.3652300134140973]\n"
     ]
    }
   ],
   "source": [
    "#Aceleramos la convergencia con Aitken:\n",
    "aceleradorAitken = aceleraAitken(bisection)\n",
    "\n",
    "print(\"Iteraciones aceleradas. Aitken: {}\".format(aceleradorAitken))"
   ]
  },
  {
   "cell_type": "code",
   "execution_count": 349,
   "metadata": {
    "vscode": {
     "languageId": "python"
    }
   },
   "outputs": [
    {
     "name": "stdout",
     "output_type": "stream",
     "text": [
      "Help on function aceleraSteffensen in module __main__:\n",
      "\n",
      "aceleraSteffensen(f, x0, m, tol=1e-08, max_iter=100)\n",
      "\n"
     ]
    }
   ],
   "source": [
    "help(aceleraSteffensen)"
   ]
  },
  {
   "cell_type": "code",
   "execution_count": 359,
   "metadata": {
    "vscode": {
     "languageId": "python"
    }
   },
   "outputs": [
    {
     "name": "stdout",
     "output_type": "stream",
     "text": [
      "Iteraciones aceleradas. Steffensen: [-191.7937760557271, -113.94577794657883, -57.09002701691815, -21.928629252692133, -4.989896652361394, 0.5268441739443108, 1.3445191345636853, 1.3652164826036757, 1.3652300134083228, 1.3652300134140969]\n"
     ]
    }
   ],
   "source": [
    "#Ahora vamos con Steffensen\n",
    "x0 = 1.0\n",
    "n  = 10\n",
    "aceleradorSteffensen = aceleraSteffensen(10,f,x0)\n",
    "\n",
    "print(\"Iteraciones aceleradas. Steffensen: {}\".format(aceleradorSteffensen))"
   ]
  },
  {
   "cell_type": "markdown",
   "metadata": {},
   "source": [
    "Veamos unaa comparación de los últimos elementos obtenidos con Bisección, Aitken y Steffensen:"
   ]
  },
  {
   "cell_type": "code",
   "execution_count": 342,
   "metadata": {
    "vscode": {
     "languageId": "python"
    }
   },
   "outputs": [
    {
     "name": "stdout",
     "output_type": "stream",
     "text": [
      "Último elemento Bisección:  1.365230013414097\n",
      "\n",
      "\n",
      "Último elemento Aitken:  1.3652300134140973\n",
      "\n",
      "\n",
      "Último elemento Steffensen:  1.3652300134140969\n"
     ]
    }
   ],
   "source": [
    "print(\"Último elemento Bisección: \", bisection[len(bisection)-1])\n",
    "print(\"\\n\")\n",
    "print(\"Último elemento Aitken: \", aceleradorAitken[len(aceleradorAitken)-1])\n",
    "print(\"\\n\")\n",
    "print(\"Último elemento Steffensen: \", aceleradorSteffensen[len(aceleradorSteffensen)-1])\n"
   ]
  },
  {
   "cell_type": "markdown",
   "metadata": {},
   "source": [
    "Es el turno ahora de **Newton-Rahpson**:"
   ]
  },
  {
   "cell_type": "code",
   "execution_count": 202,
   "metadata": {
    "vscode": {
     "languageId": "python"
    }
   },
   "outputs": [
    {
     "name": "stdout",
     "output_type": "stream",
     "text": [
      "Help on function newton_raphson in module __main__:\n",
      "\n",
      "newton_raphson(b, f, deriv, cifras=16, muestra=True, nmax=100, prec=1e-16)\n",
      "    # Método de Newton-Raphson\n",
      "    # Vamos a encapsular el método de Newton-Raphson en una función\n",
      "\n"
     ]
    }
   ],
   "source": [
    "help(newton_raphson)"
   ]
  },
  {
   "cell_type": "code",
   "execution_count": 226,
   "metadata": {
    "vscode": {
     "languageId": "python"
    }
   },
   "outputs": [],
   "source": [
    "# Necesitamos:\n",
    "x0 = 1.0\n",
    "cifras = 16\n",
    "nr = newton_raphson(x0,f,deriv,cifras,False)"
   ]
  },
  {
   "cell_type": "code",
   "execution_count": 227,
   "metadata": {
    "vscode": {
     "languageId": "python"
    }
   },
   "outputs": [
    {
     "name": "stdout",
     "output_type": "stream",
     "text": [
      "Iteraciones Newton-Raphson: [1.0, 1.454545454545454, 1.368900401069519, 1.365236600202116, 1.365230013435367, 1.365230013414097]\n"
     ]
    }
   ],
   "source": [
    "# Iteraciones del método:\n",
    "print(\"Iteraciones Newton-Raphson: {}\".format(nr))"
   ]
  },
  {
   "cell_type": "code",
   "execution_count": 228,
   "metadata": {
    "vscode": {
     "languageId": "python"
    }
   },
   "outputs": [
    {
     "name": "stdout",
     "output_type": "stream",
     "text": [
      "Itraciones aceleradas Aitken: [1.3824790831751388, 1.3650728623185282, 1.3652300015723764, 1.365230013414097]\n"
     ]
    }
   ],
   "source": [
    "#Aceleramos por Aitek:\n",
    "aceleradorAitkenNR = aceleraAitken(nr)\n",
    "print(\"Itraciones aceleradas Aitken: {}\".format(aceleradorAitkenNR))"
   ]
  },
  {
   "cell_type": "code",
   "execution_count": 361,
   "metadata": {
    "vscode": {
     "languageId": "python"
    }
   },
   "outputs": [
    {
     "name": "stdout",
     "output_type": "stream",
     "text": [
      "Iteraciones aceleradas Steffensen: [-191.7937760557271, -113.94577794657883, -57.09002701691815, -21.928629252692133, -4.989896652361394, 0.5268441739443108, 1.3445191345636853, 1.3652164826036757, 1.3652300134083228, 1.3652300134140969]\n"
     ]
    }
   ],
   "source": [
    "#Aceleramos por Steffensen:\n",
    "aceleradorSteffensenNR = aceleraSteffensen(10,f,x0)\n",
    "print(\"Iteraciones aceleradas Steffensen: {}\".format(aceleradorSteffensenNR))"
   ]
  },
  {
   "cell_type": "markdown",
   "metadata": {},
   "source": [
    "Veamos unaa comparación de los últimos elementos obtenidos con Bisección, Aitken y Steffensen:"
   ]
  },
  {
   "cell_type": "code",
   "execution_count": 230,
   "metadata": {
    "vscode": {
     "languageId": "python"
    }
   },
   "outputs": [
    {
     "name": "stdout",
     "output_type": "stream",
     "text": [
      "Último elemento Newton-Raphson:  1.365230013414097\n",
      "\n",
      "\n",
      "Último elemento Aitken:  1.365230013414097\n",
      "\n",
      "\n",
      "Último elemento Steffensen:  1.3652300134140969\n"
     ]
    }
   ],
   "source": [
    "print(\"Último elemento Newton-Raphson: \", nr[len(nr)-1])\n",
    "print(\"\\n\")\n",
    "print(\"Último elemento Aitken: \", aceleradorAitkenNR[len(aceleradorAitkenNR)-1])\n",
    "print(\"\\n\")\n",
    "print(\"Último elemento Steffensen: \", aceleradorSteffensenNR[len(aceleradorSteffensenNR)-1])"
   ]
  },
  {
   "attachments": {},
   "cell_type": "markdown",
   "metadata": {},
   "source": [
    "# EJERCICIO 7"
   ]
  },
  {
   "attachments": {},
   "cell_type": "markdown",
   "metadata": {},
   "source": [
    "Programar el método de Newton-Raphson acelerado, partiendo de cierto $x_0$ adecuado: $$x_{n+1}=x_n - m\\frac{f(x_n)}{f'(x_n)}, \\quad n=0,1,2,\\ldots$$ para el caso de una raíz múltiple (de multiplicidad $m\\in\\mathbb{N}$) de una ecuación del tipo $f(x)=0$ y comparar los resultados\n",
    "con los que se obtienen mediante el empleo de los métodos de aceleración habituales de Aitken y Steffensen (según los apuntes)."
   ]
  },
  {
   "attachments": {},
   "cell_type": "markdown",
   "metadata": {},
   "source": [
    "Sea la función $f: \\mathbb{R} \\longrightarrow \\mathbb{R}$ dada por $f(x) = (x-\\sqrt{6})\\cdot (x-\\sqrt{3})^{3}$.\n",
    "\n",
    " Vamos a centrar el problema en aproximar la raíz $x=\\sqrt{3}$, con multiplicidad $m=3$, mediante el método de Newton-Raphson que habrá que modificar convenientemente como se indica en el enunciado, y compararemos los resultados con los obtenidos al acelerar por Aitken y Steffensen."
   ]
  },
  {
   "attachments": {},
   "cell_type": "markdown",
   "metadata": {},
   "source": [
    "Tomemos el código del método de Newton-Raphson que hemos estado utilizando hasta ahora e introduzcamos la modificación que lo acelera:"
   ]
  },
  {
   "cell_type": "code",
   "execution_count": 287,
   "metadata": {
    "vscode": {
     "languageId": "python"
    }
   },
   "outputs": [],
   "source": [
    "# Método de Newton-Raphson acelerado\n",
    "def newton_raphson_acelerado(b, f, deriv, m, cifras=16, muestra=True, nmax=100, prec=10**(-16)):\n",
    "\n",
    "    x0=Decimal(b)\n",
    "    \n",
    "    tol = 10**(-cifras+1)\n",
    "\n",
    "    getcontext().prec = cifras\n",
    "\n",
    "    niter = 0\n",
    "    terms = [b]\n",
    "\n",
    "    for k in range(nmax):\n",
    "        niter = niter + 1\n",
    "        x1 = x0 - m*f(x0)/deriv(x0)  # método de Newton-Raphson\n",
    "        terms.append(float(x1))\n",
    "        if abs(x1-x0) < tol:\n",
    "            p = 'tolerancia'\n",
    "            break\n",
    "        if abs(f(x1)) < prec:\n",
    "            p = 'precision'\n",
    "            break\n",
    "        else:\n",
    "            x0 = x1\n",
    "\n",
    "    if (muestra):\n",
    "        #print(\"MÉTODO DE NEWTON-RAPHSON APLICADO A LA ECUACIÓN: \", f(x))\n",
    "        if (p == \"Precision\"):\n",
    "            print(\"Se ha alcanzado la precisión requerida. Posible aproximación: \", x1)\n",
    "        else:\n",
    "            print(\"Intervalo con maxima tolerancia. Aproximación solicitada: \", x1)\n",
    "\n",
    "        print(\"Numero de iteraciones requerido: \", niter)\n",
    "\n",
    "    getcontext().prec = mporig # Se restaura la precisión por defecto\n",
    "\n",
    "    return terms"
   ]
  },
  {
   "attachments": {},
   "cell_type": "markdown",
   "metadata": {},
   "source": [
    "Definamos con código python la funció con la que vamos a desarrollas el ejercicio:"
   ]
  },
  {
   "cell_type": "code",
   "execution_count": 306,
   "metadata": {
    "vscode": {
     "languageId": "python"
    }
   },
   "outputs": [],
   "source": [
    "#Definimos f_7(x)\n",
    "def f_7(x):\n",
    "\n",
    "    return (x+120)*(x-3)**3"
   ]
  },
  {
   "cell_type": "code",
   "execution_count": 307,
   "metadata": {
    "vscode": {
     "languageId": "python"
    }
   },
   "outputs": [
    {
     "data": {
      "text/latex": [
       "$\\displaystyle \\left(x - 3\\right)^{3} + 3 \\left(x - 3\\right)^{2} \\left(x + 120\\right)$"
      ],
      "text/plain": [
       "(x - 3)**3 + 3*(x - 3)**2*(x + 120)"
      ]
     },
     "execution_count": 307,
     "metadata": {},
     "output_type": "execute_result"
    }
   ],
   "source": [
    "sp.diff((x+120)*(x-3)**3,x)"
   ]
  },
  {
   "cell_type": "code",
   "execution_count": 309,
   "metadata": {
    "vscode": {
     "languageId": "python"
    }
   },
   "outputs": [],
   "source": [
    "#Definimos derivada de f_7\n",
    "def df_7(x):\n",
    "\n",
    "    return (x-3)**3 + 3*(x-3)** 2*(x+120)"
   ]
  },
  {
   "cell_type": "code",
   "execution_count": 314,
   "metadata": {
    "vscode": {
     "languageId": "python"
    }
   },
   "outputs": [
    {
     "data": {
      "image/png": "[encoded data removed]",
      "text/plain": [
       "<Figure size 432x288 with 1 Axes>"
      ]
     },
     "metadata": {
      "needs_background": "light"
     },
     "output_type": "display_data"
    },
    {
     "data": {
      "text/plain": [
       "<sympy.plotting.plot.Plot at 0x7fe693adceb0>"
      ]
     },
     "execution_count": 314,
     "metadata": {},
     "output_type": "execute_result"
    }
   ],
   "source": [
    "sp.plot(df_7(x),xlim=(2.0,5.0),ylim=(-500.0,500.0))"
   ]
  },
  {
   "attachments": {},
   "cell_type": "markdown",
   "metadata": {},
   "source": [
    "Comprobemos cuáles son las soluciones de forma exacta:"
   ]
  },
  {
   "cell_type": "code",
   "execution_count": 277,
   "metadata": {
    "vscode": {
     "languageId": "python"
    }
   },
   "outputs": [
    {
     "name": "stdout",
     "output_type": "stream",
     "text": [
      "Help on function sol_exact in module __main__:\n",
      "\n",
      "sol_exact(f, x, todas=True)\n",
      "\n"
     ]
    }
   ],
   "source": [
    "help(sol_exact)"
   ]
  },
  {
   "cell_type": "code",
   "execution_count": 315,
   "metadata": {
    "vscode": {
     "languageId": "python"
    }
   },
   "outputs": [
    {
     "name": "stdout",
     "output_type": "stream",
     "text": [
      "Se han encontrado : 2 soluciones\n",
      "Solución 1: -120.000000000000\n",
      "Solución 2: 3.00000000000000\n"
     ]
    }
   ],
   "source": [
    "sol = sol_exact(f_7,x)\n"
   ]
  },
  {
   "attachments": {},
   "cell_type": "markdown",
   "metadata": {},
   "source": [
    "Claramente, al observar cómo hemos definido la función (expresada como producto de factores primos)."
   ]
  },
  {
   "attachments": {},
   "cell_type": "markdown",
   "metadata": {},
   "source": [
    "Apliquemos entonces el método de Newton-Raphson acelerado para aproximar la raíz $x=8$ tomando como semilla $x_{0} = 7.8$:"
   ]
  },
  {
   "cell_type": "code",
   "execution_count": 316,
   "metadata": {
    "vscode": {
     "languageId": "python"
    }
   },
   "outputs": [
    {
     "name": "stdout",
     "output_type": "stream",
     "text": [
      "Intervalo con maxima tolerancia. Aproximación solicitada:  3.00000\n",
      "Numero de iteraciones requerido:  3\n"
     ]
    }
   ],
   "source": [
    "v7 = 7.9\n",
    "cifras = 6\n",
    "nra = newton_raphson_acelerado(v7,f_7,df_7,3,cifras)"
   ]
  },
  {
   "cell_type": "code",
   "execution_count": 317,
   "metadata": {
    "vscode": {
     "languageId": "python"
    }
   },
   "outputs": [
    {
     "name": "stdout",
     "output_type": "stream",
     "text": [
      "Iteraciones: [7.9, 3.06179, 3.00001, 3.0]\n"
     ]
    }
   ],
   "source": [
    "print(\"Iteraciones: {}\".format(nra))"
   ]
  },
  {
   "attachments": {},
   "cell_type": "markdown",
   "metadata": {},
   "source": [
    "Calculemos ahora las iteraciones de Aitke y de Steffensen:"
   ]
  },
  {
   "cell_type": "code",
   "execution_count": 357,
   "metadata": {
    "vscode": {
     "languageId": "python"
    }
   },
   "outputs": [
    {
     "name": "stdout",
     "output_type": "stream",
     "text": [
      "Help on function aceleraSteffensen in module __main__:\n",
      "\n",
      "aceleraSteffensen(niter, f, x0)\n",
      "    # Función de aceleración de la convergencia de Steffensen.\n",
      "\n"
     ]
    }
   ],
   "source": [
    "help(aceleraSteffensen)"
   ]
  },
  {
   "cell_type": "code",
   "execution_count": 362,
   "metadata": {
    "vscode": {
     "languageId": "python"
    }
   },
   "outputs": [],
   "source": [
    "aitken = aceleraAitken(nra)\n",
    "steffe = aceleraSteffensen(len(nra),f_7,v7)"
   ]
  },
  {
   "cell_type": "code",
   "execution_count": 363,
   "metadata": {
    "vscode": {
     "languageId": "python"
    }
   },
   "outputs": [
    {
     "name": "stdout",
     "output_type": "stream",
     "text": [
      "N-R: [7.9, 3.06179, 3.00001, 3.0]\n",
      "Aitken:[2.999210916081677, 2.999999998381091]\n",
      "Steffensen: [-5.07812729674046e+16, -5.078127353026771e+16, -5.078127409313086e+16, -5.078127465599398e+16]\n"
     ]
    }
   ],
   "source": [
    "print(\"N-R: {}\".format(nra))\n",
    "print(\"Aitken:{}\".format(aitken))\n",
    "print(\"Steffensen: {}\".format(steffe))"
   ]
  },
  {
   "attachments": {},
   "cell_type": "markdown",
   "metadata": {},
   "source": [
    "# EJERCICIO 8"
   ]
  },
  {
   "attachments": {},
   "cell_type": "markdown",
   "metadata": {},
   "source": [
    "Programar el conocido algoritmo de Horner para la evaluación de un polinomio y emplearlo de forma reiterativa para el cálculo del desarrollo de Taylor de orden $ n$ de un polinomio cualquiera. Aprovecharlo también para programar una versión especial del método de Newton-Raphson para polinomios, evaluando tanto  $ p(x_k ) $ como $ p'(x_k)$ mediante el citado algoritmo y aplicarlo para aproximar alguna de las raíces reales del siguiente polinomio\n",
    "\n",
    "$$p(x)=d_0 + d_1 x + d_2 x^2 + d_3 x^3+ d_4 x^4 + d_5 x^5 + d_6 x^6 + d_7 x^7 $$\n",
    "(siendo $d_0, d_1, \\ldots, d_7$ los dígitos ordenados de su DNI, pasaporte o tarjeta de residente).\n",
    "\n",
    "Programar y construir también una sucesión de Sturm para dicho polinomio."
   ]
  },
  {
   "attachments": {},
   "cell_type": "markdown",
   "metadata": {},
   "source": [
    "Sea el polinomio asociado a mi DNI:"
   ]
  },
  {
   "cell_type": "code",
   "execution_count": 366,
   "metadata": {
    "vscode": {
     "languageId": "python"
    }
   },
   "outputs": [],
   "source": [
    "#Defino el DNI\n",
    "DNI = [7,8,0,0,6,0,1,1]"
   ]
  },
  {
   "cell_type": "code",
   "execution_count": 396,
   "metadata": {
    "vscode": {
     "languageId": "python"
    }
   },
   "outputs": [],
   "source": [
    "#Defino el polinomio asociado a mi DNI\n",
    "def f_8(x):\n",
    "    \n",
    "    return 1+x+6*x**3+8*x**6+7*x**7\n",
    "\n",
    "#Defino derivada de dicho polinomio\n",
    "def df_8(x):\n",
    "\n",
    "    return 1+18*x**2+48*x**5+49*x**6\n"
   ]
  },
  {
   "attachments": {},
   "cell_type": "markdown",
   "metadata": {},
   "source": [
    "Programemos entonces el algoritmo de Horner, para el que tendremos que extraer los coeficientes del polinomio. Para ello, vamos a crear una función de python que haga lo dicho:"
   ]
  },
  {
   "cell_type": "code",
   "execution_count": 397,
   "metadata": {
    "vscode": {
     "languageId": "python"
    }
   },
   "outputs": [],
   "source": [
    "#Función que extrae los coeficientes de un polinomio dado\n",
    "def extrae_coef(poli):\n",
    "\n",
    "    pol = str(poli)\n",
    "    p = sp.Poly(pol)\n",
    "    coeficientes = p.all_coeffs()\n",
    "    return coeficientes "
   ]
  },
  {
   "cell_type": "code",
   "execution_count": 398,
   "metadata": {
    "vscode": {
     "languageId": "python"
    }
   },
   "outputs": [
    {
     "name": "stdout",
     "output_type": "stream",
     "text": [
      "[7, 8, 0, 0, 6, 0, 1, 1]\n"
     ]
    }
   ],
   "source": [
    "coeficients = extrae_coef(pol)\n",
    "print(coeficients)"
   ]
  },
  {
   "attachments": {},
   "cell_type": "markdown",
   "metadata": {},
   "source": [
    "Programemos ahora el algoritmo de Horner:"
   ]
  },
  {
   "cell_type": "code",
   "execution_count": 399,
   "metadata": {
    "vscode": {
     "languageId": "python"
    }
   },
   "outputs": [],
   "source": [
    "#Función para el Algoritmo de Horner\n",
    "def horner(x0, pol):\n",
    "\n",
    "    coeficients = extrae_coef(pol)\n",
    "    extrd = coeficients[len(coeficients)-1]\n",
    "\n",
    "    for i in coeficients[-2::-1]:\n",
    "        extrd  = i + extrd*x0\n",
    "\n",
    "    return extrd"
   ]
  },
  {
   "attachments": {},
   "cell_type": "markdown",
   "metadata": {},
   "source": [
    "Apliquémoslo al Método de Newton-Raphson"
   ]
  },
  {
   "cell_type": "code",
   "execution_count": 404,
   "metadata": {
    "vscode": {
     "languageId": "python"
    }
   },
   "outputs": [],
   "source": [
    "# Método de Newton-Raphson con Horner\n",
    "def nrHorner(b, f, deriv, cifras=0, muestra=True, nmax=100, prec=10**(-16)):\n",
    "\n",
    "    x0=Decimal(b)\n",
    "    \n",
    "    tol = 10**(-cifras+1)\n",
    "\n",
    "    if cifras <= 0:\n",
    "        cifras = calc_cifras()\n",
    "\n",
    "    niter = 0\n",
    "    terms = [b]\n",
    "\n",
    "    for k in range(nmax):\n",
    "        niter = niter + 1\n",
    "        x1 = x0 - horner(x0,f)/horner(x0,deriv)  # método de Newton-Raphson\n",
    "        terms.append(float(x1))\n",
    "        if abs(x1-x0) < tol:\n",
    "            p = 'tolerancia'\n",
    "            break\n",
    "        if abs(f(x1)) < prec:\n",
    "            p = 'precision'\n",
    "            break\n",
    "        else:\n",
    "            x0 = x1\n",
    "\n",
    "    if (muestra):\n",
    "        #print(\"MÉTODO DE NEWTON-RAPHSON APLICADO A LA ECUACIÓN: \", f(x))\n",
    "        if (p == \"Precision\"):\n",
    "            print(\"Se ha alcanzado la precisión requerida. Posible aproximación: \", x1)\n",
    "        else:\n",
    "            print(\"Intervalo con maxima tolerancia. Aproximación solicitada: \", x1)\n",
    "\n",
    "        print(\"Numero de iteraciones requerido: \", niter)\n",
    "\n",
    "    getcontext().prec = mporig # Se restaura la precisión por defecto\n",
    "\n",
    "    return terms"
   ]
  },
  {
   "cell_type": "code",
   "execution_count": 405,
   "metadata": {
    "vscode": {
     "languageId": "python"
    }
   },
   "outputs": [
    {
     "ename": "ValueError",
     "evalue": "valid range for prec is [1, MAX_PREC]",
     "output_type": "error",
     "traceback": [
      "\u001b[0;31m---------------------------------------------------------------------------\u001b[0m",
      "\u001b[0;31mValueError\u001b[0m                                Traceback (most recent call last)",
      "\u001b[0;32m<ipython-input-405-de10a79f91c7>\u001b[0m in \u001b[0;36m<module>\u001b[0;34m\u001b[0m\n\u001b[1;32m      1\u001b[0m \u001b[0;31m#Aplicamos NR\u001b[0m\u001b[0;34m\u001b[0m\u001b[0;34m\u001b[0m\u001b[0;34m\u001b[0m\u001b[0m\n\u001b[1;32m      2\u001b[0m \u001b[0mx0\u001b[0m \u001b[0;34m=\u001b[0m \u001b[0;34m-\u001b[0m\u001b[0;36m1\u001b[0m\u001b[0;34m\u001b[0m\u001b[0;34m\u001b[0m\u001b[0m\n\u001b[0;32m----> 3\u001b[0;31m \u001b[0mnrH\u001b[0m \u001b[0;34m=\u001b[0m \u001b[0mnrHorner\u001b[0m\u001b[0;34m(\u001b[0m\u001b[0mx0\u001b[0m\u001b[0;34m,\u001b[0m\u001b[0mf_8\u001b[0m\u001b[0;34m,\u001b[0m\u001b[0mdf_8\u001b[0m\u001b[0;34m,\u001b[0m\u001b[0;32mFalse\u001b[0m\u001b[0;34m)\u001b[0m\u001b[0;34m\u001b[0m\u001b[0;34m\u001b[0m\u001b[0m\n\u001b[0m",
      "\u001b[0;32m<ipython-input-404-9fbfe045d393>\u001b[0m in \u001b[0;36mnrHorner\u001b[0;34m(b, f, deriv, cifras, muestra, nmax, prec)\u001b[0m\n\u001b[1;32m      6\u001b[0m     \u001b[0mtol\u001b[0m \u001b[0;34m=\u001b[0m \u001b[0;36m10\u001b[0m\u001b[0;34m**\u001b[0m\u001b[0;34m(\u001b[0m\u001b[0;34m-\u001b[0m\u001b[0mcifras\u001b[0m\u001b[0;34m+\u001b[0m\u001b[0;36m1\u001b[0m\u001b[0;34m)\u001b[0m\u001b[0;34m\u001b[0m\u001b[0;34m\u001b[0m\u001b[0m\n\u001b[1;32m      7\u001b[0m \u001b[0;34m\u001b[0m\u001b[0m\n\u001b[0;32m----> 8\u001b[0;31m     \u001b[0mgetcontext\u001b[0m\u001b[0;34m(\u001b[0m\u001b[0;34m)\u001b[0m\u001b[0;34m.\u001b[0m\u001b[0mprec\u001b[0m \u001b[0;34m=\u001b[0m \u001b[0mcifras\u001b[0m\u001b[0;34m\u001b[0m\u001b[0;34m\u001b[0m\u001b[0m\n\u001b[0m\u001b[1;32m      9\u001b[0m \u001b[0;34m\u001b[0m\u001b[0m\n\u001b[1;32m     10\u001b[0m     \u001b[0mniter\u001b[0m \u001b[0;34m=\u001b[0m \u001b[0;36m0\u001b[0m\u001b[0;34m\u001b[0m\u001b[0;34m\u001b[0m\u001b[0m\n",
      "\u001b[0;31mValueError\u001b[0m: valid range for prec is [1, MAX_PREC]"
     ]
    }
   ],
   "source": [
    "#Aplicamos NR\n",
    "x0 = -1\n",
    "nrH = nrHorner(x0,f_8,df_8,False)"
   ]
  }
 ],
 "metadata": {
  "kernelspec": {
   "display_name": "SageMath 9.0",
   "language": "sage",
   "name": "sagemath"
  },
  "language_info": {
   "codemirror_mode": {
    "name": "ipython",
    "version": 3
   },
   "file_extension": ".py",
   "mimetype": "text/x-python",
   "name": "sage",
   "nbconvert_exporter": "python",
   "pygments_lexer": "ipython3",
   "version": "3.9.13"
  }
 },
 "nbformat": 4,
 "nbformat_minor": 4
}
