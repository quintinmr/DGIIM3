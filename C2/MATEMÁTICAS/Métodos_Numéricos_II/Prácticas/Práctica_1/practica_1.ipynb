{
 "cells": [
  {
   "attachments": {},
   "cell_type": "markdown",
   "metadata": {},
   "source": [
    "# PRÁCTICA 1"
   ]
  },
  {
   "attachments": {},
   "cell_type": "markdown",
   "metadata": {},
   "source": [
    "## Ejercicio 0\n",
    "En este ejercicio planteo otra forma de escribir el código del método de bisección para la resolución de ecuaciones no lineales.\n",
    "No difiere mucho del código original. El objetivo de hacer este ejercicio es para familiarizarme con el lenguaje y con el métido en sí."
   ]
  },
  {
   "cell_type": "code",
   "execution_count": null,
   "metadata": {},
   "outputs": [],
   "source": [
    "# Método de bisección\n",
    "num_it = 0\n",
    "\n",
    "for i in range(nmax):\n",
    "    c = (a+b)/2\n",
    "    num_it=num_it+1\n",
    "    if (abs(f(c)) < prec):\n",
    "        print(\"Se ha alcanzado la precisión requerida. Posible sol: \", c) \n",
    "        break\n",
    "    if (f(a)*f(c) < 0):\n",
    "         b = c\n",
    "    else: \n",
    "        a = c\n",
    "    if b-a < tol:\n",
    "        print(\"Intervalo con mucha precisión. Aproximación solicitada: \", c) \n",
    "        break\n",
    "\n",
    "print(\"Solución exacta: \", sol_exact)\n",
    "print(\"Numero de iteraciones requerido: \", num_it)"
   ]
  },
  {
   "attachments": {},
   "cell_type": "markdown",
   "metadata": {},
   "source": [
    "## Ejercicio 0.5\n",
    "\n",
    "Modifique cualquiera de estos códigos con el objeto de implementar el conocido algoritmo de regula-falsi, en el que se obtiene el punto $c$ no como el punto medio entre $a$ y $b$, sino como el punto de corte con el eje $Ox$ de la recta que une los puntos $(a,f(a))$ y $(b,f(b))$, tal y como se muestra también en el siguiente método de la secante."
   ]
  },
  {
   "cell_type": "code",
   "execution_count": null,
   "metadata": {},
   "outputs": [],
   "source": [
    "# Método regula-falsi\n",
    "num_it = 0\n",
    "\n",
    "for i in range(nmax):\n",
    "    c = b - ((a-b)*f(b))/(f(a)-f(b))\n",
    "    num_it=num_it+1\n",
    "    if (abs(f(c)) < prec):\n",
    "        print(\"Se ha alcanzado la precisión requerida. Posible sol: \", c) \n",
    "        break\n",
    "    if (f(a)*f(c) < 0):\n",
    "         b = c\n",
    "    else: \n",
    "        a = c\n",
    "    if b-a < tol:\n",
    "        print(\"Intervalo con mucha precisión. Aproximación solicitada: \", c) \n",
    "        break\n",
    "\n",
    "print(\"Solución exacta: \", sol_exact)\n",
    "print(\"Numero de iteraciones requerido: \", num_it)"
   ]
  },
  {
   "attachments": {},
   "cell_type": "markdown",
   "metadata": {},
   "source": [
    "#### Salida:\n",
    "    Intervalo con mucha precisión. Aproximación solicitada:  1.0986122886618854\n",
    "\n",
    "    Solución exacta:  log(3)\n",
    "\n",
    "    Numero de iteraciones requerido:  1"
   ]
  },
  {
   "attachments": {},
   "cell_type": "markdown",
   "metadata": {},
   "source": [
    "---------------------------------------------------------------------------------------------------------------------------\n",
    "\n",
    "# RELACIÓN DE EJERCICIOS\n",
    "\n",
    "---------------------------------------------------------------------------------------------------------------------------"
   ]
  },
  {
   "cell_type": "code",
   "execution_count": 1,
   "metadata": {},
   "outputs": [],
   "source": [
    "import numpy as np\n",
    "import sympy as sp"
   ]
  },
  {
   "cell_type": "code",
   "execution_count": 2,
   "metadata": {},
   "outputs": [],
   "source": [
    "from decimal import Decimal, getcontext\n",
    "mporig = getcontext().prec"
   ]
  },
  {
   "cell_type": "code",
   "execution_count": 3,
   "metadata": {},
   "outputs": [],
   "source": [
    "from matplotlib import *"
   ]
  },
  {
   "attachments": {},
   "cell_type": "markdown",
   "metadata": {},
   "source": [
    "Función destinada al cálculo de raíces de una función dada, en una variable dada."
   ]
  },
  {
   "cell_type": "code",
   "execution_count": 4,
   "metadata": {},
   "outputs": [],
   "source": [
    "def sol_exact(f,x,todas=True):\n",
    "    # Función que calcula las soluciones de una ecuación\n",
    "    try:\n",
    "        soluciones = sp.solve(f(x),x)\n",
    "        num_sols   = len(soluciones)\n",
    "        if todas==True:\n",
    "            print(\"Se han encontrado : {} soluciones\".format(num_sols))\n",
    "            for i in range(num_sols):\n",
    "                print(\"Solución {}: {}\".format(i+1,soluciones[i].evalf()))\n",
    "        return soluciones,num_sols\n",
    "    except NotImplementedError:\n",
    "        print(\"No existen soluciones para esta ecuación : {}\".format(f(x))) "
   ]
  },
  {
   "attachments": {},
   "cell_type": "markdown",
   "metadata": {},
   "source": [
    "### Método de Bisección"
   ]
  },
  {
   "cell_type": "code",
   "execution_count": 27,
   "metadata": {},
   "outputs": [],
   "source": [
    "# Método de bisección\n",
    "# Vamos a encapsular el método de bisección en una función\n",
    "\n",
    "def biseccion ( a, b, f, muestra, cifras=16, nmax=100, prec=10**(-5)):\n",
    "\n",
    "    niter = 0\n",
    "    terms = []\n",
    "\n",
    "    if (cifras <= 0):\n",
    "        cifras = calc_cifras(prec)\n",
    "    getcontext().prec = int(cifras)\n",
    "    tol = 10**(-cifras+1)\n",
    "\n",
    "    for i in range(nmax):\n",
    "        niter = niter + 1\n",
    "        c = (a+b)/2\n",
    "        terms.append(float(c))\n",
    "        if (abs(f(c)) < prec):\n",
    "            p = \"Precision\"\n",
    "            break\n",
    "        if (f(a)*f(c) <= 0):\n",
    "            b = c\n",
    "        else: \n",
    "            a = c\n",
    "        if b-a < tol:\n",
    "            p = \"Tolerance\"\n",
    "            break\n",
    "    \n",
    "    if (muestra):\n",
    "        print(\"MÉTODO DE BISECCIÓN APLICADO A LA ECUACIÓN: \", f(x))\n",
    "        \n",
    "        if (p == \"Precision\"):\n",
    "            print(\"Se ha alcanzado la precisión requerida. Posible solución exacta: \", float(c))\n",
    "            print('Aproximación con {} decimales: {}'.format(cifras-1, round(c, cifras-1))) \n",
    "        elif niter < nmax:\n",
    "            print('Aproximación con {} decimales: {}'.format(cifras-1, round(c, cifras-1))) \n",
    "        else:\n",
    "            print(\"Intervalo con maxima tolerancia. Aproximación solicitada: \", float(c))\n",
    "\n",
    "        print(\"Numero de iteraciones requerido: \", niter)\n",
    "\n",
    "    return terms\n"
   ]
  },
  {
   "attachments": {},
   "cell_type": "markdown",
   "metadata": {},
   "source": [
    "### Método de Newton-Raphson"
   ]
  },
  {
   "cell_type": "code",
   "execution_count": 26,
   "metadata": {},
   "outputs": [],
   "source": [
    "# Método de Newton-Raphson\n",
    "# Vamos a encapsular el método de Newton-Raphson en una función\n",
    "def newton_raphson( b, f, deriv, muestra, cifras=16, nmax=100, prec=10**(-3)):\n",
    "\n",
    "    getcontext().prec = int(cifras)\n",
    "    tol = 10**(-cifras+1)\n",
    "    x0 = b; niter = 0\n",
    "    terms = []\n",
    "    terms.append(float(x0))\n",
    "\n",
    "    for k in range(nmax):\n",
    "        niter = niter + 1\n",
    "        x1 = x0 - f(x0)/deriv(x0)  # método de Newton-Raphson\n",
    "        terms.append(x1)\n",
    "        if abs(x1-x0) < tol:\n",
    "            p = 'tolerancia'\n",
    "            break\n",
    "        if abs(f(x1)) < prec:\n",
    "            p = 'precision'\n",
    "            break\n",
    "        else:\n",
    "            x0 = x1\n",
    "\n",
    "    if (muestra):\n",
    "        print(\"MÉTODO DE NEWTON-RAPHSON APLICADO A LA ECUACIÓN: \", f(x))\n",
    "        if (p == \"Precision\"):\n",
    "            print(\"Se ha alcanzado la precisión requerida. Posible solución: \", float(x1))\n",
    "            print('Aproximación con {} decimales: {}'.format(cifras-1, round(float(x1), cifras-1))) \n",
    "        else:\n",
    "            print(\"Intervalo con maxima tolerancia. Aproximación solicitada: \", float(x1))\n",
    "            print('Aproximación con {} decimales: {}'.format(cifras-1, round(float(x1), cifras-1))) \n",
    "\n",
    "        print(\"Numero de iteraciones requerido: \", niter)\n",
    "\n",
    "    getcontext().prec = mporig # Se restaura la precisión por defecto\n",
    "\n",
    "    return terms"
   ]
  },
  {
   "cell_type": "code",
   "execution_count": 9,
   "metadata": {},
   "outputs": [],
   "source": [
    "# Función que determina si una función cambia de signo en un intervalo dado:\n",
    "def sgn(f,a,b):\n",
    "    if f(a)*f(b) < 0:\n",
    "        print(\"Sí hay cambio de signo: Hay raíz\")\n",
    "    else:\n",
    "        print(\"No hay cambio de signo: No hay raíz\")"
   ]
  },
  {
   "cell_type": "code",
   "execution_count": 10,
   "metadata": {},
   "outputs": [],
   "source": [
    "def calc_cifras(precision):\n",
    "    \n",
    "    return int(np.ceil(abs(np.log10(precision))))"
   ]
  },
  {
   "attachments": {},
   "cell_type": "markdown",
   "metadata": {},
   "source": [
    "# EJERCICIO 1\n",
    "\n",
    "Demuestre que la ecuación  $x^3+4 x^2=10  $  tiene una única raíz en el intervalo $[1,2]$.  Aproxime dicha raíz con el método de bisección con al menos 3 cifras decimales exactas. ¿Cuántas iteraciones serán necesarias para conseguir 5 cifras decimales exactas (tol =$10^{-5}$)?  Aproxime también la raíz con el método de Newton-Raphson partiendo del extremo adecuado hasta que la diferencia en valor absoluto, entre dos aproximaciones consecutivas sea  inferior a  $10^{-3}$."
   ]
  },
  {
   "attachments": {},
   "cell_type": "markdown",
   "metadata": {},
   "source": [
    "Probemos en primer lugar que dicha ecuación posee una única ecuación. Sea $f: [1,2] \\rightarrow [1,2]$ la aplicación dada por $f(x) = x^{3} + 4x^{2} - 10$, la cual claramente es continua en todo el intervalo y además derivable por ser una función polinómica (en particular es derivable en todo $\\mathbb{R}$). Es por ello que podemos aplicar el **teorema de Bolzano** para comprobar que la ecuación tiene **al menos** una raíz real: si $f(1) \\cdot f(2) < 0$ entonces la función posee al menos una raíz real en el intervalo $[1,2]$. Veámoslo haciendo uso de una función de python que determina si hay cambio de signo en el intervalo y, por consiguiente, si hay raíz dentro del mismo:\n",
    "\n",
    "\n",
    "\n"
   ]
  },
  {
   "cell_type": "code",
   "execution_count": 8,
   "metadata": {},
   "outputs": [],
   "source": [
    "a = 1; b = 2"
   ]
  },
  {
   "cell_type": "code",
   "execution_count": 14,
   "metadata": {},
   "outputs": [],
   "source": [
    "def f(x):\n",
    "\n",
    "    return x**3 + 4*x**2 - 10"
   ]
  },
  {
   "cell_type": "code",
   "execution_count": 10,
   "metadata": {},
   "outputs": [
    {
     "name": "stdout",
     "output_type": "stream",
     "text": [
      "Sí hay cambio de signo: Hay raíz\n"
     ]
    }
   ],
   "source": [
    "sgn(f,a,b)"
   ]
  },
  {
   "attachments": {},
   "cell_type": "markdown",
   "metadata": {},
   "source": [
    "La función nos informa por tanto de que $f(1)\\cdot f(2) < 0$ así que el Teorema de Bolzano nos dice que la función posee al menos una raíz en el intervalo $[1,2]$.\n",
    "\n",
    "Probemos ahora que dicha solución, necesariamente ha de ser única. Calculemos la derivada de $f$:\n",
    "\n",
    "> $f^{'}(x) = 3x^{2} + 8x^{2}$\n",
    "\n",
    "Claramente, $f'(x) > 0 \\forall x \\in [1,2]$. Es por ello que la función $f$ es estrictamente creciente en dicho intervalo y, por consiguiente, de cortar al eje $OX$, solo lo hará una única vez. Concluimos por tanto que la raíz que el teorema de Bolzano afirmaba que existía, es única.\n",
    "\n",
    "A continuación, vamos a aproximar dicha raíz con al menos 3 cifras decimales exactas, aplicando para ello el método de bisección:"
   ]
  },
  {
   "cell_type": "code",
   "execution_count": 12,
   "metadata": {},
   "outputs": [
    {
     "name": "stdout",
     "output_type": "stream",
     "text": [
      "Se han encontrado : 3 soluciones\n",
      "Solución 1: -2.68261500670705 - 0.358259359924043*I\n",
      "Solución 2: -2.68261500670705 + 0.358259359924043*I\n",
      "Solución 3: 1.36523001341410\n"
     ]
    },
    {
     "data": {
      "text/plain": [
       "([-4/3 + (-1/2 - sqrt(3)*I/2)*(sqrt(105)/9 + 71/27)**(1/3) + 16/(9*(-1/2 - sqrt(3)*I/2)*(sqrt(105)/9 + 71/27)**(1/3)),\n",
       "  -4/3 + 16/(9*(-1/2 + sqrt(3)*I/2)*(sqrt(105)/9 + 71/27)**(1/3)) + (-1/2 + sqrt(3)*I/2)*(sqrt(105)/9 + 71/27)**(1/3),\n",
       "  -4/3 + 16/(9*(sqrt(105)/9 + 71/27)**(1/3)) + (sqrt(105)/9 + 71/27)**(1/3)],\n",
       " 3)"
      ]
     },
     "execution_count": 12,
     "metadata": {},
     "output_type": "execute_result"
    }
   ],
   "source": [
    "sol_exact(f,x)"
   ]
  },
  {
   "cell_type": "code",
   "execution_count": 13,
   "metadata": {},
   "outputs": [
    {
     "name": "stdout",
     "output_type": "stream",
     "text": [
      "MÉTODO DE BISECCIÓN APLICADO A LA ECUACIÓN:  x^3 + 4*x^2 - 10\n",
      "Aproximación con 3 decimales: 1.364\n",
      "Numero de iteraciones requerido:  10\n",
      "Solución exacta:  1.3652300134140969\n"
     ]
    }
   ],
   "source": [
    "# Calculemos la aproximación de la solución requerida\n",
    "cifras = 4\n",
    "biseccion(a,b,f,cifras)\n",
    "print(\"Solución exacta: \", float(sol_exact(f,x,False)[0][2]))"
   ]
  },
  {
   "attachments": {},
   "cell_type": "markdown",
   "metadata": {},
   "source": [
    "A continuación vamos a estimar el número de iteraciones necesarias para conseguir 5 cifras decimales exactas (tol =$10^{-5}$).\n",
    "\n",
    "El método de bisección nos permite calcular previamente el número de iteraciones necesarias para obtener la solución con un error inferior a uno dado. Efectivamente, si partimos por ejemplo del único intervalo de amplitud unidad en el que se encuentra la solución $s$, el $[1,2]$ y deseamos una solución con error menor que $10^{-5}$, entonces, teniendo en cuenta que según el Teorema que expone las propiedades del método de bisección: \"La sucesión de errores $\\{e_{n}\\}_{n\\geq 0}$ cumple $|e_{n}| < \\frac{1}{2^{n+1}} (b-a)$\", podemos imponer\n",
    "\n",
    "<center>\n",
    "\n",
    "$|e_{n}| < \\frac{2-1}{2^{n+1}} \\leq 10^{-5}$\n",
    "\n",
    "</center>\n",
    "\n",
    "de donde\n",
    "\n",
    "<center>\n",
    "\n",
    "$2^{n+1} \\geq \\frac{1}{10^{-5}} \\Rightarrow n \\geq log_{2}\\frac{1}{10^{-5}} - 1 = \\frac{ln \\frac{1}{10^{-5}}}{ln 2} - 1$\n",
    "\n",
    "</center>\n",
    "\n",
    "Así, obtenemos que \n",
    "\n",
    "<center>\n",
    "\n",
    "$n \\geq \\frac{ln \\frac{1}{10^{-5}}}{ln 2} - 1 \\Longleftrightarrow n \\geq 15.60964047 ... \\Rightarrow n = 16$\n",
    "\n",
    "</center>\n",
    "\n",
    "Para obtener un error inferior a $10^{-5}$ con el método de bisección son necesarias $16$ iteraciones."
   ]
  },
  {
   "attachments": {},
   "cell_type": "markdown",
   "metadata": {},
   "source": [
    "Por último vamos a hallar la aproximación de la solución con el método de Newton-Raphson hasta conseguir un error inferior "
   ]
  },
  {
   "cell_type": "code",
   "execution_count": 40,
   "metadata": {},
   "outputs": [],
   "source": [
    "def deriv(x):\n",
    "    return 3*x**2+8*x"
   ]
  },
  {
   "cell_type": "code",
   "execution_count": 41,
   "metadata": {},
   "outputs": [
    {
     "name": "stdout",
     "output_type": "stream",
     "text": [
      "MÉTODO DE NEWTON-RAPHSON APLICADO A LA ECUACIÓN:  x^3 + 4*x^2 - 10\n",
      "Intervalo con maxima tolerancia. Aproximación solicitada:  1.365236600202116\n",
      "Aproximación con 3 decimales: 1.365\n",
      "Numero de iteraciones requerido:  3\n",
      "Solución exacta:  1.3652300134140969\n"
     ]
    }
   ],
   "source": [
    "# Calculemos la aproximación de la solución requerida\n",
    "v_inic = 1\n",
    "cifras = 4\n",
    "newton_raphson(v_inic, f, deriv, cifras)\n",
    "print(\"Solución exacta: \", float(sol_exact(f,x,False)[0][2]))"
   ]
  },
  {
   "attachments": {},
   "cell_type": "markdown",
   "metadata": {},
   "source": [
    "# EJERCICIO 2\n",
    "\n",
    "Encuentre una aproximación de la raíz cúbica de 25 con dos decimales exactos (tol =$10^{-2}$), usando el algoritmo de bisección.\n"
   ]
  },
  {
   "attachments": {},
   "cell_type": "markdown",
   "metadata": {},
   "source": [
    "Sea $g: \\mathbb{R} \\longrightarrow \\mathbb{R}$ una aplicación dada por $g(x) = \\sqrt[3]{x}$, que es claramente continua y derivable en todo su dominio de definición. Vamos a hacer una aproximación de dicha función aplicada al valor $25$ con dos decimales exactos. Es por ello que previamente a llevar a cabo dicho proceso de aproximación, vamos a ver cuál es el valor exacto de la raíz que se nos pide:"
   ]
  },
  {
   "cell_type": "code",
   "execution_count": 243,
   "metadata": {},
   "outputs": [
    {
     "name": "stdout",
     "output_type": "stream",
     "text": [
      "Valor exacto:  2.92\n"
     ]
    }
   ],
   "source": [
    "# Definición de la función raíz cúbica de x\n",
    "def g(x):\n",
    "    return x**(1/3)\n",
    "\n",
    "cifras = 3 # tres cifras de precisión\n",
    "getcontext().prec = int(cifras)\n",
    "\n",
    "n = float(25)\n",
    "g(n)\n",
    "# comprobamos la solución exacta\n",
    "print(\"Valor exacto: \", round(g(n), cifras-1))"
   ]
  },
  {
   "attachments": {},
   "cell_type": "markdown",
   "metadata": {},
   "source": [
    "Procedamos ahora a aplicar el método de bisección para aproximar dicha raíz a dos decimales exactos. Para ello, en primer lugar, observamos que podemos ver el enunciado del ejercicio desde otra perspectiva:\n",
    "\n",
    "Sea $x$ el valor que buscamos\n",
    "\n",
    "<center>\n",
    "\n",
    "$x = \\sqrt[3]{25} \\Longleftrightarrow x^{3} - 25 = 0$\n",
    "\n",
    "</center>\n",
    "\n",
    "Ahora sea $h: \\mathbb{R} \\longrightarrow \\mathbb{R}$ la aplicación dada por $h(x) = x^{3} - 25$, continua y derivable también en su dominio. El ejercicio se reduce a calcular una de sus raíces reales. Apliquemos entonces el método de bisección a esta función en el intervalo $[2,3]$:\n"
   ]
  },
  {
   "cell_type": "code",
   "execution_count": 244,
   "metadata": {},
   "outputs": [],
   "source": [
    "def h(x):\n",
    "    \n",
    "    return x**3 - 25\n",
    "\n",
    "v1 = 2; v2 = 3"
   ]
  },
  {
   "cell_type": "code",
   "execution_count": 245,
   "metadata": {},
   "outputs": [
    {
     "name": "stdout",
     "output_type": "stream",
     "text": [
      "MÉTODO DE BISECCIÓN APLICADO A LA ECUACIÓN:  x**3 - 25\n",
      "Aproximación con 3 decimales: 2.925\n",
      "Numero de iteraciones requerido:  10\n"
     ]
    }
   ],
   "source": [
    "biseccion(v1,v2,h,cifras)"
   ]
  },
  {
   "attachments": {},
   "cell_type": "markdown",
   "metadata": {},
   "source": [
    "# EJERCICIO 3"
   ]
  },
  {
   "attachments": {},
   "cell_type": "markdown",
   "metadata": {},
   "source": [
    "Use el método de Newton-Raphson para aproximar las soluciones de las siguientes ecuaciones con tolerancia $10^{-5}$ , partiendo de un valor adecuado, próximo a cada una de ellas en cada caso.\n",
    "\n",
    "i) $x^3-x-1 = 0$  en $[1,2]$.\n",
    "\n",
    "ii) $3x=2+x^2-e^x$.\n",
    "\n",
    "iii) $x^2+10\\, cos x+x=0$.\n"
   ]
  },
  {
   "attachments": {},
   "cell_type": "markdown",
   "metadata": {},
   "source": [
    "Definamos en primer lugar todas las funciones dadas junto con su funcion derivada. Cada una de ellas es continua y derivable en $\\mathbb{R}$:"
   ]
  },
  {
   "cell_type": "code",
   "execution_count": 357,
   "metadata": {},
   "outputs": [],
   "source": [
    "def f_1(x):\n",
    "\n",
    "    return x**3 - x - 1\n",
    "\n",
    "def df_1(x):\n",
    "\n",
    "    return 3*x**2 - 1\n",
    "\n",
    "def f_2(x):\n",
    "\n",
    "    return 3*x-2-x**2+sp.exp(x)\n",
    "\n",
    "def df_2(x):\n",
    "\n",
    "    return 3 -2*x + sp.exp(x)\n",
    "\n",
    "def f_3(x):\n",
    "\n",
    "    return x**2+10*sp.cos(x) + x\n",
    "\n",
    "def df_3(x):\n",
    "\n",
    "    return 2*x-10*sp.sin(x) + 1\n"
   ]
  },
  {
   "attachments": {},
   "cell_type": "markdown",
   "metadata": {},
   "source": [
    "#### Función 1:"
   ]
  },
  {
   "cell_type": "markdown",
   "metadata": {},
   "source": [
    "Hallemos en primer lugar las zaíces de la función 1:"
   ]
  },
  {
   "cell_type": "code",
   "execution_count": 327,
   "metadata": {},
   "outputs": [
    {
     "name": "stdout",
     "output_type": "stream",
     "text": [
      "Se han encontrado : 3 soluciones\n",
      "Solución 1: -0.662358978622373 - 0.562279512062301*I\n",
      "Solución 2: -0.662358978622373 + 0.562279512062301*I\n",
      "Solución 3: 1.32471795724475\n"
     ]
    }
   ],
   "source": [
    "v1 = sol_exact(f_1,x,todas=True)"
   ]
  },
  {
   "attachments": {},
   "cell_type": "markdown",
   "metadata": {},
   "source": [
    "Nos centramos en la zaíz real que posee: **1.32471795724475**. Apliquemos entonces el Método de Newton-Raphson a dicha función para aproximar la solución que acabamos de ver en su forma exacta, con 6 cifras significativas (*tol*=$10^{-5}$) y partiendo de la semilla $x_{0} = 1.25$ por ejemplo:"
   ]
  },
  {
   "cell_type": "code",
   "execution_count": 328,
   "metadata": {},
   "outputs": [
    {
     "name": "stdout",
     "output_type": "stream",
     "text": [
      "MÉTODO DE NEWTON-RAPHSON APLICADO A LA ECUACIÓN:  x^3 - x - 1\n",
      "Intervalo con maxima tolerancia. Aproximación solicitada:  1.3247489592266466\n",
      "Aproximación con 5 decimales: 1.32475\n",
      "Numero de iteraciones requerido:  2\n",
      "Solución exacta:  1.324717957244746\n"
     ]
    }
   ],
   "source": [
    "# Calculemos la aproximación de la solución requerida\n",
    "v_inic = 1.25\n",
    "cifras = 6\n",
    "newton_raphson(v_inic, f_1, df_1, cifras)\n",
    "print(\"Solución exacta: \", float(v1[0][2]))"
   ]
  },
  {
   "attachments": {},
   "cell_type": "markdown",
   "metadata": {},
   "source": [
    "#### Función 2"
   ]
  },
  {
   "attachments": {},
   "cell_type": "markdown",
   "metadata": {},
   "source": [
    "Hallemos las raíces de esta seguna función:"
   ]
  },
  {
   "cell_type": "code",
   "execution_count": 360,
   "metadata": {},
   "outputs": [
    {
     "name": "stdout",
     "output_type": "stream",
     "text": [
      "No existen soluciones para esta ecuación : -x^2 + 3*x + e^x - 2\n"
     ]
    }
   ],
   "source": [
    "v2 = sol_exact(f_2,x,todas=True)"
   ]
  },
  {
   "attachments": {},
   "cell_type": "markdown",
   "metadata": {},
   "source": [
    "Observamos que python no tiene una forma relativamente buena para calcular las razíces de esta función, que se evidencia que tiene por la gráfica"
   ]
  },
  {
   "cell_type": "code",
   "execution_count": 348,
   "metadata": {},
   "outputs": [
    {
     "data": {
      "image/png": "[encoded data removed]",
      "text/plain": [
       "<Figure size 432x288 with 1 Axes>"
      ]
     },
     "metadata": {
      "needs_background": "light"
     },
     "output_type": "display_data"
    },
    {
     "data": {
      "text/plain": [
       "<sympy.plotting.plot.Plot object at 0x7f088558aaf0>"
      ]
     },
     "execution_count": 348,
     "metadata": {},
     "output_type": "execute_result"
    }
   ],
   "source": [
    "sp.plot(f_2(x),xlim=(-5.0,5.0),ylim=(-50,50))"
   ]
  },
  {
   "attachments": {},
   "cell_type": "markdown",
   "metadata": {},
   "source": [
    "Para obtener una aproximación de la solución dada la imposibilidad de calcularla de forma exacta, vamos a usar el Método de NR, utilizando una semilla adecuada para ello. Dicha semilla estará dentro del intervalo en el que se encuentre la solución (en el que haya un cambio de signo). Para ver dónde está la solución, ampliemos el gráfico"
   ]
  },
  {
   "cell_type": "code",
   "execution_count": 349,
   "metadata": {},
   "outputs": [
    {
     "data": {
      "image/png": "[encoded data removed]",
      "text/plain": [
       "<Figure size 432x288 with 1 Axes>"
      ]
     },
     "metadata": {
      "needs_background": "light"
     },
     "output_type": "display_data"
    },
    {
     "data": {
      "text/plain": [
       "<sympy.plotting.plot.Plot object at 0x7f08855486d0>"
      ]
     },
     "execution_count": 349,
     "metadata": {},
     "output_type": "execute_result"
    }
   ],
   "source": [
    "sp.plot(f_2(x),xlim=(0.0,4.0),ylim=(-5.0,5.0))"
   ]
  },
  {
   "attachments": {},
   "cell_type": "markdown",
   "metadata": {},
   "source": [
    "Claramente observamos que la función posee su raíz en el intervalo de amplitud 1, $[0,1]$. De hecho: "
   ]
  },
  {
   "cell_type": "code",
   "execution_count": 367,
   "metadata": {},
   "outputs": [
    {
     "name": "stdout",
     "output_type": "stream",
     "text": [
      "Sí hay cambio de signo: Hay raíz\n"
     ]
    }
   ],
   "source": [
    "sgn(f_2,0,1)"
   ]
  },
  {
   "attachments": {},
   "cell_type": "markdown",
   "metadata": {},
   "source": [
    "Es por ello que elegiremos la semilla en este intervalo. Sea $x_{0} = 0.5$. Apliquemos el método de NR para hallar la aproximación de la solución con la tolerancia indicada:"
   ]
  },
  {
   "cell_type": "code",
   "execution_count": 358,
   "metadata": {},
   "outputs": [
    {
     "name": "stdout",
     "output_type": "stream",
     "text": [
      "MÉTODO DE NEWTON-RAPHSON APLICADO A LA ECUACIÓN:  -x^2 + 3*x + e^x - 2\n",
      "Intervalo con maxima tolerancia. Aproximación solicitada:  0.2575289007947096\n",
      "Aproximación con 5 decimales: 0.25753\n",
      "Numero de iteraciones requerido:  2\n"
     ]
    }
   ],
   "source": [
    "# Calculemos la aproximación de la solución requerida\n",
    "v_inic = 0.5\n",
    "cifras = 6\n",
    "newton_raphson(v_inic, f_2, df_2, cifras)"
   ]
  },
  {
   "attachments": {},
   "cell_type": "markdown",
   "metadata": {},
   "source": [
    "### Función 3"
   ]
  },
  {
   "cell_type": "markdown",
   "metadata": {},
   "source": [
    "Hallemos en primer lugar las raíces de la función:"
   ]
  },
  {
   "cell_type": "code",
   "execution_count": 361,
   "metadata": {},
   "outputs": [
    {
     "name": "stdout",
     "output_type": "stream",
     "text": [
      "Se han encontrado : 0 soluciones\n"
     ]
    }
   ],
   "source": [
    "v3 = sol_exact(f_3,x,todas=True)"
   ]
  },
  {
   "attachments": {},
   "cell_type": "markdown",
   "metadata": {},
   "source": [
    "Veamos que aunque la función nos diga que no hay ninguna solución, sí que las hay. Prueba de ello viene dada por el siguiente gráfico:"
   ]
  },
  {
   "cell_type": "code",
   "execution_count": 364,
   "metadata": {},
   "outputs": [
    {
     "data": {
      "image/png": "[encoded data removed]",
      "text/plain": [
       "<Figure size 432x288 with 1 Axes>"
      ]
     },
     "metadata": {
      "needs_background": "light"
     },
     "output_type": "display_data"
    },
    {
     "data": {
      "text/plain": [
       "<sympy.plotting.plot.Plot object at 0x7f08843bbac0>"
      ]
     },
     "execution_count": 364,
     "metadata": {},
     "output_type": "execute_result"
    }
   ],
   "source": [
    "sp.plot(f_3(x),xlim=(-7.5,7.5),ylim=(-50,50))"
   ]
  },
  {
   "attachments": {},
   "cell_type": "markdown",
   "metadata": {},
   "source": [
    "Gráficamente observamos que corta al eje $OX$ en dos ocasiones. Una en el intervalo $[-4,-3]$ y otra en el intervalo $[-2,-1]$:"
   ]
  },
  {
   "cell_type": "code",
   "execution_count": 371,
   "metadata": {},
   "outputs": [
    {
     "name": "stdout",
     "output_type": "stream",
     "text": [
      "Sí hay cambio de signo: Hay raíz\n"
     ]
    }
   ],
   "source": [
    "# Primer cambio de signo:\n",
    "sgn(f_3,-4,-3)"
   ]
  },
  {
   "cell_type": "code",
   "execution_count": 373,
   "metadata": {},
   "outputs": [
    {
     "name": "stdout",
     "output_type": "stream",
     "text": [
      "Sí hay cambio de signo: Hay raíz\n"
     ]
    }
   ],
   "source": [
    "# Segundo cambio de signo:\n",
    "sgn(f_3,-2,-1)"
   ]
  },
  {
   "attachments": {},
   "cell_type": "markdown",
   "metadata": {},
   "source": [
    "Ampliemos la gráfica para tener una mejor visión a la hora de escoger semillas:"
   ]
  },
  {
   "cell_type": "code",
   "execution_count": 370,
   "metadata": {},
   "outputs": [
    {
     "data": {
      "image/png": "[encoded data removed]",
      "text/plain": [
       "<Figure size 432x288 with 1 Axes>"
      ]
     },
     "metadata": {
      "needs_background": "light"
     },
     "output_type": "display_data"
    },
    {
     "data": {
      "text/plain": [
       "<sympy.plotting.plot.Plot object at 0x7f0885ba98b0>"
      ]
     },
     "execution_count": 370,
     "metadata": {},
     "output_type": "execute_result"
    }
   ],
   "source": [
    "sp.plot(f_3(x),xlim=(-5,0),ylim=(-5.0,5.0))"
   ]
  },
  {
   "attachments": {},
   "cell_type": "markdown",
   "metadata": {},
   "source": [
    "#### Primera raíz (intervalo $[-4,-3]$)"
   ]
  },
  {
   "attachments": {},
   "cell_type": "markdown",
   "metadata": {},
   "source": [
    "Sea $x_{0} = -3.2$ la semilla para encontrar mediante NR la raíz del intervalo de amplitud unidad $[-4,-3]$. Apliquemos dicho método:"
   ]
  },
  {
   "cell_type": "code",
   "execution_count": 372,
   "metadata": {},
   "outputs": [
    {
     "name": "stdout",
     "output_type": "stream",
     "text": [
      "MÉTODO DE NEWTON-RAPHSON APLICADO A LA ECUACIÓN:  x^2 + x + 10*cos(x)\n",
      "Intervalo con maxima tolerancia. Aproximación solicitada:  -3.5623639166228513\n",
      "Aproximación con 5 decimales: -3.56236\n",
      "Numero de iteraciones requerido:  3\n"
     ]
    }
   ],
   "source": [
    "# Calculemos la aproximación de la solución requerida\n",
    "v_inic = -3.2\n",
    "cifras = 6\n",
    "newton_raphson(v_inic, f_3, df_3, cifras)"
   ]
  },
  {
   "attachments": {},
   "cell_type": "markdown",
   "metadata": {},
   "source": [
    "#### Segunda raíz (intervalo $[-2,-1]$)"
   ]
  },
  {
   "attachments": {},
   "cell_type": "markdown",
   "metadata": {},
   "source": [
    "Sea $x_{0} = -1.6$ la semilla para encontrar mediante NR la raíz del intervalo de amplitud unidad $[-2,-1]$. Apliquemos dicho método:"
   ]
  },
  {
   "cell_type": "code",
   "execution_count": 376,
   "metadata": {},
   "outputs": [
    {
     "name": "stdout",
     "output_type": "stream",
     "text": [
      "MÉTODO DE NEWTON-RAPHSON APLICADO A LA ECUACIÓN:  x^2 + x + 10*cos(x)\n",
      "Intervalo con maxima tolerancia. Aproximación solicitada:  -1.6869395735993222\n",
      "Aproximación con 5 decimales: -1.68694\n",
      "Numero de iteraciones requerido:  2\n"
     ]
    }
   ],
   "source": [
    "# Calculemos la aproximación de la solución requerida\n",
    "v_inic = -1.6\n",
    "cifras = 6\n",
    "newton_raphson(v_inic, f_3, df_3, cifras)"
   ]
  },
  {
   "attachments": {},
   "cell_type": "markdown",
   "metadata": {},
   "source": [
    "# EJERCICIO 4"
   ]
  },
  {
   "attachments": {},
   "cell_type": "markdown",
   "metadata": {},
   "source": [
    "Para la función  $ f(x)= 3 x^2+e^x-1$, \n",
    "\n",
    "i) encuentre, mediante el método de bisección una aproximación de la raíz en $[0,1]$ con, al menos, cuatro decimales exactos (tol =$10^{-4}$), y determine el número de iteraciones realizadas;\n",
    "\n",
    "ii) encuentre, mediante el método de Newton-Raphson, una aproximación de la raíz en $[0,1]$ con una tolerancia de $10^{-4}$, partiendo de $x_0=0$, y determine el número de iteraciones realizadas."
   ]
  },
  {
   "attachments": {},
   "cell_type": "markdown",
   "metadata": {},
   "source": [
    "Sea $f:\\mathbb{R} \\longrightarrow \\mathbb{R}$ la aplicación dada por $f(x) = 3x^{2} + e^{x} -1$, continua y derivable ne todo su dominio de definición."
   ]
  },
  {
   "attachments": {},
   "cell_type": "markdown",
   "metadata": {},
   "source": [
    "### Apartado i"
   ]
  },
  {
   "cell_type": "code",
   "execution_count": 43,
   "metadata": {},
   "outputs": [],
   "source": [
    "# Definamos la función\n",
    "def f_4(x):\n",
    "\n",
    "    return 3*x**2 + sp.exp(x) - 1\n",
    "\n",
    "def df_4(x):\n",
    "\n",
    "    return 6*x + sp.exp(x)"
   ]
  },
  {
   "attachments": {},
   "cell_type": "markdown",
   "metadata": {},
   "source": [
    "En primer lugar vamos a comprobar que dicha función posee alguna raíz en el intervalo $[0,1]$. Para ello, vamos a comprobar si hay algún cabio de signo en dicho intervalo:"
   ]
  },
  {
   "cell_type": "code",
   "execution_count": 23,
   "metadata": {},
   "outputs": [
    {
     "name": "stdout",
     "output_type": "stream",
     "text": [
      "No hay cambio de signo: No hay raíz\n"
     ]
    }
   ],
   "source": [
    "sgn(f_4,0,1)"
   ]
  },
  {
   "cell_type": "code",
   "execution_count": 22,
   "metadata": {},
   "outputs": [
    {
     "data": {
      "image/png": "[encoded data removed]",
      "text/plain": [
       "<Figure size 432x288 with 1 Axes>"
      ]
     },
     "metadata": {
      "needs_background": "light"
     },
     "output_type": "display_data"
    },
    {
     "data": {
      "text/plain": [
       "<sympy.plotting.plot.Plot object at 0x7fc971d1fb80>"
      ]
     },
     "execution_count": 22,
     "metadata": {},
     "output_type": "execute_result"
    }
   ],
   "source": [
    "sp.plot(f_4(x),xlim=(-0.5,0.2),ylim=(-1.0,1.0))"
   ]
  },
  {
   "attachments": {},
   "cell_type": "markdown",
   "metadata": {},
   "source": [
    "Observamos que en $x = 0$"
   ]
  },
  {
   "cell_type": "code",
   "execution_count": 15,
   "metadata": {},
   "outputs": [
    {
     "data": {
      "text/plain": [
       "0"
      ]
     },
     "execution_count": 15,
     "metadata": {},
     "output_type": "execute_result"
    }
   ],
   "source": [
    "f_4(0)"
   ]
  },
  {
   "attachments": {},
   "cell_type": "markdown",
   "metadata": {},
   "source": [
    "Y por consiguiente, deducimos que tiene una raíz en el intervalo $[0,1]$ es $x=0$. Vamos a aproximarnos a dicha solución con:"
   ]
  },
  {
   "attachments": {},
   "cell_type": "markdown",
   "metadata": {},
   "source": [
    "### Método de Bisección:"
   ]
  },
  {
   "cell_type": "code",
   "execution_count": 42,
   "metadata": {},
   "outputs": [
    {
     "name": "stdout",
     "output_type": "stream",
     "text": [
      "MÉTODO DE BISECCIÓN APLICADO A LA ECUACIÓN:  3*x^2 + e^x - 1\n",
      "Aproximación con 3 decimales: 0.001\n",
      "Numero de iteraciones requerido:  10\n"
     ]
    }
   ],
   "source": [
    "# Calculemos la aproximación de la solución requerida\n",
    "cifras = 4\n",
    "v_inic, v_fin = 0,1\n",
    "biseccion(v_inic, v_fin, f_4, cifras)"
   ]
  },
  {
   "attachments": {},
   "cell_type": "markdown",
   "metadata": {},
   "source": [
    "### Método de Newton-Raphson"
   ]
  },
  {
   "cell_type": "code",
   "execution_count": 44,
   "metadata": {},
   "outputs": [
    {
     "name": "stdout",
     "output_type": "stream",
     "text": [
      "MÉTODO DE NEWTON-RAPHSON APLICADO A LA ECUACIÓN:  3*x^2 + e^x - 1\n",
      "Intervalo con maxima tolerancia. Aproximación solicitada:  0.0006803652632759397\n",
      "Aproximación con 5 decimales: 0.00068\n",
      "Numero de iteraciones requerido:  3\n"
     ]
    }
   ],
   "source": [
    "# Calculemos la aproximación de la solución requerida\n",
    "v_inic = 0.25\n",
    "cifras = 6\n",
    "newton_raphson(v_inic, f_4, df_4, cifras)"
   ]
  },
  {
   "attachments": {},
   "cell_type": "markdown",
   "metadata": {},
   "source": [
    "# EJERCICIO 5"
   ]
  },
  {
   "attachments": {},
   "cell_type": "markdown",
   "metadata": {},
   "source": [
    "Utilice las órdenes apropiadas de Python para aproximar todos los puntos donde se anulan las funciones siguientes (si es necesario, represéntelas gráficamente):\n",
    "\n",
    "i) $f(x)=x^7-x^4+2$ ,\n",
    "\n",
    "ii) $f(x)=x^7+\\cos  x-3$."
   ]
  },
  {
   "attachments": {},
   "cell_type": "markdown",
   "metadata": {},
   "source": [
    "### Apartado i"
   ]
  },
  {
   "attachments": {},
   "cell_type": "markdown",
   "metadata": {},
   "source": [
    "Sea $f : \\mathbb{R} \\longrightarrow \\mathbb{R}$ la aplicación dada por $f(x) = x^{7} - x^{4} + 2$, continua y derivable en todo su dominio.\n",
    "\n",
    "Vamos a visualizar gráficamente los puntos en los que la función se anula. El teorema Fundamental del Álgebra nos dice que la función posee a lo sumo $7$ raíces, de las que nos interesan sólo las reales."
   ]
  },
  {
   "cell_type": "code",
   "execution_count": 21,
   "metadata": {},
   "outputs": [],
   "source": [
    "# Definición de la función y su derivada\n",
    "def f_5i(x):\n",
    "\n",
    "    return x**7 - x**4 + 2\n",
    "\n",
    "def df_5i(x):\n",
    "\n",
    "    return 7*x**6 - 4*x**3"
   ]
  },
  {
   "attachments": {},
   "cell_type": "markdown",
   "metadata": {},
   "source": [
    "Intentemos calcular de forma exacta dichas raíces previa visualización gráfica con nuestra función de python:"
   ]
  },
  {
   "cell_type": "code",
   "execution_count": 22,
   "metadata": {},
   "outputs": [
    {
     "name": "stdout",
     "output_type": "stream",
     "text": [
      "Se han encontrado : 7 soluciones\n",
      "Solución 1: -1.00000000000000\n",
      "Solución 2: -0.713102145851293 - 0.98823188827156*I\n",
      "Solución 3: -0.713102145851293 + 0.98823188827156*I\n",
      "Solución 4: 1.06110281046036 - 0.376384046559108*I\n",
      "Solución 5: 1.06110281046036 + 0.376384046559108*I\n",
      "Solución 6: 0.151999335390936 - 1.01945594669063*I\n",
      "Solución 7: 0.151999335390936 + 1.01945594669063*I\n"
     ]
    }
   ],
   "source": [
    "v5 = sol_exact(f_5i,x,todas=True)"
   ]
  },
  {
   "attachments": {},
   "cell_type": "markdown",
   "metadata": {},
   "source": [
    "Observamos que nuestra función ha encontrado $1$ raíz real:\n",
    "\n",
    "* $x_{1} = -1$\n",
    "\n",
    "Procederemos entonces a aproximar dicha solución mediante el método de Newton-Raphson, por ejemplo. Elección que viene justificada por la rapidez (cuadrática) de este método frente al de bisección. Pero antes, observemos dicha raíz gráficamente:\n"
   ]
  },
  {
   "cell_type": "code",
   "execution_count": 23,
   "metadata": {},
   "outputs": [
    {
     "data": {
      "image/png": "[encoded data removed]",
      "text/plain": [
       "<Figure size 432x288 with 1 Axes>"
      ]
     },
     "metadata": {
      "needs_background": "light"
     },
     "output_type": "display_data"
    },
    {
     "data": {
      "text/plain": [
       "<sympy.plotting.plot.Plot object at 0x7efc419d88b0>"
      ]
     },
     "execution_count": 23,
     "metadata": {},
     "output_type": "execute_result"
    }
   ],
   "source": [
    "sp.plot(f_5i(x),xlim=(-2.0,2.0),ylim=(-5.0,5.0))"
   ]
  },
  {
   "attachments": {},
   "cell_type": "markdown",
   "metadata": {},
   "source": [
    "Observamos que:\n",
    "\n",
    "* $x_{1} = -1 \\in [-1.5,-0.5]$"
   ]
  },
  {
   "attachments": {},
   "cell_type": "markdown",
   "metadata": {},
   "source": [
    "Aproximemos por tanto por el método de Newton-Raphson dicha raíz.\n",
    "\n",
    "Para ello, tomemos como semilla $x_{0} = -0.8$:"
   ]
  },
  {
   "cell_type": "code",
   "execution_count": 24,
   "metadata": {},
   "outputs": [
    {
     "name": "stdout",
     "output_type": "stream",
     "text": [
      "MÉTODO DE NEWTON-RAPHSON APLICADO A LA ECUACIÓN:  x^7 - x^4 + 2\n",
      "Intervalo con maxima tolerancia. Aproximación solicitada:  -1.0000486417318144\n",
      "Aproximación con 5 decimales: -1.00005\n",
      "Numero de iteraciones requerido:  4\n"
     ]
    }
   ],
   "source": [
    "# Calculemos la aproximación de la solución requerida\n",
    "v_inic = -0.8\n",
    "cifras = 6\n",
    "newton_raphson(v_inic, f_5i, df_5i, cifras)"
   ]
  },
  {
   "attachments": {},
   "cell_type": "markdown",
   "metadata": {},
   "source": [
    "### Apartado ii"
   ]
  },
  {
   "attachments": {},
   "cell_type": "markdown",
   "metadata": {},
   "source": [
    "Sea $f : \\mathbb{R} \\longrightarrow \\mathbb{R}$ la aplicación dada por $f(x) = x^{7} + cos(x) -3$, continua y derivable en todo su dominio.\n",
    "\n",
    "Vamos a visualizar gráficamente los puntos en los que la función se anula. El teorema Fundamental del Álgebra nos dice que la función posee a lo sumo $7$ raíces, de las que nos interesan sólo las reales."
   ]
  },
  {
   "cell_type": "code",
   "execution_count": 26,
   "metadata": {},
   "outputs": [],
   "source": [
    "# Definición de la función y su derivada\n",
    "def f_5ii(x):\n",
    "\n",
    "    return x**7 + sp.cos(x) - 3\n",
    "\n",
    "def df_5ii(x):\n",
    "\n",
    "    return 7*x**6 - sp.sin(x)"
   ]
  },
  {
   "attachments": {},
   "cell_type": "markdown",
   "metadata": {},
   "source": [
    "Intentemos calcular de forma exacta dichas raíces previa visualización gráfica con nuestra función de python:"
   ]
  },
  {
   "cell_type": "code",
   "execution_count": 28,
   "metadata": {},
   "outputs": [
    {
     "name": "stdout",
     "output_type": "stream",
     "text": [
      "No existen soluciones para esta ecuación : x^7 + cos(x) - 3\n"
     ]
    }
   ],
   "source": [
    "v5ii = sol_exact(f_5ii,x,todas=True)"
   ]
  },
  {
   "attachments": {},
   "cell_type": "markdown",
   "metadata": {},
   "source": [
    "Observamos que nuestra función no ha sido capaz de determinar si la función tiene raíces reales o no. Es por ello que vamos a graficarla para observar como se comporta:"
   ]
  },
  {
   "cell_type": "code",
   "execution_count": 32,
   "metadata": {},
   "outputs": [
    {
     "data": {
      "image/png": "[encoded data removed]",
      "text/plain": [
       "<Figure size 432x288 with 1 Axes>"
      ]
     },
     "metadata": {
      "needs_background": "light"
     },
     "output_type": "display_data"
    },
    {
     "data": {
      "text/plain": [
       "<sympy.plotting.plot.Plot object at 0x7efc379c7280>"
      ]
     },
     "execution_count": 32,
     "metadata": {},
     "output_type": "execute_result"
    }
   ],
   "source": [
    "sp.plot(f_5ii(x),xlim=(-2.5,2.5),ylim=(-5.0,5.0))"
   ]
  },
  {
   "attachments": {},
   "cell_type": "markdown",
   "metadata": {},
   "source": [
    "\n",
    "Claramente se observa que la función tiene una raíz real en el intervalo $[1,2]$. Aproximémosla mediante el método de Newton-Raphson eligiendo como semilla el valor $x_{0} = 1.3$ por ejemplo:"
   ]
  },
  {
   "cell_type": "code",
   "execution_count": 34,
   "metadata": {},
   "outputs": [
    {
     "name": "stdout",
     "output_type": "stream",
     "text": [
      "MÉTODO DE NEWTON-RAPHSON APLICADO A LA ECUACIÓN:  x^7 + cos(x) - 3\n",
      "Intervalo con maxima tolerancia. Aproximación solicitada:  1.1454598241657594\n",
      "Aproximación con 5 decimales: 1.14546\n",
      "Numero de iteraciones requerido:  4\n"
     ]
    }
   ],
   "source": [
    "# Calculemos la aproximación de la solución requerida\n",
    "v_inic = 1.3\n",
    "cifras = 6\n",
    "newton_raphson(v_inic, f_5ii, df_5ii, cifras)"
   ]
  },
  {
   "attachments": {},
   "cell_type": "markdown",
   "metadata": {},
   "source": [
    "# EJERCICIO 6"
   ]
  },
  {
   "attachments": {},
   "cell_type": "markdown",
   "metadata": {},
   "source": [
    "Aplicar los métodos de aceleración de la convergencia de Aitken y Steffensen (según los apuntes) a las sucesiones obtenidas para los distintos métodos programados en esta práctica y comparar los resultados. Para aplicar el método de aceleración de Steffensen, recuerde que para transformar cualquier ecuación de la forma  $ f(x)=0 $  en un problema de puntos fijos  $ g(x)=x $, la forma más simple puede ser definir  $g(x)=x \\pm f(x)$."
   ]
  },
  {
   "attachments": {},
   "cell_type": "markdown",
   "metadata": {},
   "source": [
    "Hemos modificado los métodos de bisección y Newton-Raphson para que devuelvan en forma de lista los elementos de las sucesiones $\\{m_{n}\\}_{n \\geq 0}$ y $\\{x_{n}\\}_{n \\geq 0}$ que generan dichos métodos respectivamente. Basándonos en dichas sucesiones se van a elaborar dos funciones de aceleración: una para la aceleración de Aitken y otra para la de Steffensen:"
   ]
  },
  {
   "cell_type": "code",
   "execution_count": 12,
   "metadata": {},
   "outputs": [],
   "source": [
    "# Función de aceleración de la convergencia de Aitken.\n",
    "def aceleraAitken(xn):\n",
    "\n",
    "    x_new = []\n",
    "    for i in range (len(xn)-2):\n",
    "        x_new.append((xn[i]-(xn[i+1]-xn[i])**2/(xn[i+2]-2*xn[i+1]+xn[i])))\n",
    "\n",
    "    return x_new"
   ]
  },
  {
   "cell_type": "code",
   "execution_count": 35,
   "metadata": {},
   "outputs": [],
   "source": [
    "# Función de aceleración de la convergencia de Steffensen.\n",
    "def aceleraSteffensen(niter,f,x0):\n",
    "\n",
    "    x_appx = [x0,f(x0),g(g(x0))]\n",
    "    x_new  = []\n",
    "\n",
    "    for i in range(niter):\n",
    "        x0 = x_appx[0]-(x_appx[1]-x_appx[0])**2/(x_appx[2]-2*x_appx[1]+x_appx[0])\n",
    "        x_appx = [x0,g(x0),g(g(x0))]\n",
    "        x_new  = x_new + [x_appx[-1]]\n",
    "\n",
    "    return x_new"
   ]
  },
  {
   "attachments": {},
   "cell_type": "markdown",
   "metadata": {},
   "source": [
    "A continuación aplicaremos el método de Bisección y el de Newton-Raphson a la función del primer ejercicio:\n",
    "\n",
    "$f \\mathbb{R} \\longrightarrow \\mathbb{R}$ tal que $f(x) = x^{3} + 4x^{2} -10$"
   ]
  },
  {
   "cell_type": "code",
   "execution_count": 16,
   "metadata": {},
   "outputs": [
    {
     "name": "stdout",
     "output_type": "stream",
     "text": [
      "La función a la que se le aplica la aceleración es:  x^3 + 4*x^2 - 10\n"
     ]
    }
   ],
   "source": [
    "print(\"La función a la que se le aplica la aceleración es: \", f(x))\n",
    "\n",
    "#Aplicación g del método de Steffensen\n",
    "def g(x):\n",
    "\n",
    "    return x-f(x)"
   ]
  },
  {
   "cell_type": "code",
   "execution_count": 18,
   "metadata": {},
   "outputs": [
    {
     "name": "stdout",
     "output_type": "stream",
     "text": [
      "Help on function biseccion in module __main__:\n",
      "\n",
      "biseccion(a, b, f, cifras=16, nmax=100, prec=1/100000, muestra=True)\n",
      "\n"
     ]
    }
   ],
   "source": [
    "help(biseccion)"
   ]
  },
  {
   "attachments": {},
   "cell_type": "markdown",
   "metadata": {},
   "source": [
    "Comencemos en primer lugar con el método de **bisección**"
   ]
  },
  {
   "cell_type": "code",
   "execution_count": 28,
   "metadata": {},
   "outputs": [],
   "source": [
    "# Intervalo en el que vamos a movernos:\n",
    "a,b=1,2\n",
    "\n",
    "#Aplicamos método de bisección\n",
    "bisection = biseccion(a,b,f,False)"
   ]
  },
  {
   "cell_type": "code",
   "execution_count": 29,
   "metadata": {},
   "outputs": [
    {
     "name": "stdout",
     "output_type": "stream",
     "text": [
      "Iteraciones biseccion: [1.5, 1.25, 1.375, 1.3125, 1.34375, 1.359375, 1.3671875, 1.36328125, 1.365234375, 1.3642578125, 1.36474609375, 1.364990234375, 1.3651123046875, 1.36517333984375, 1.365203857421875, 1.3652191162109375, 1.3652267456054688, 1.3652305603027344]\n"
     ]
    }
   ],
   "source": [
    "# Iteraciones realizadas por el método de Bisección:\n",
    "print(\"Iteraciones biseccion: {}\".format((bisection)))"
   ]
  },
  {
   "cell_type": "code",
   "execution_count": 32,
   "metadata": {},
   "outputs": [
    {
     "name": "stdout",
     "output_type": "stream",
     "text": [
      "Iteraciones aceleradas. Aitken: [1.3333333333333333, 1.3333333333333333, 1.3333333333333333, 1.375, 1.375, 1.3645833333333333, 1.3645833333333333, 1.3645833333333333, 1.3645833333333333, 1.365234375, 1.365234375, 1.365234375, 1.365234375, 1.365234375, 1.365234375, 1.365234375]\n"
     ]
    }
   ],
   "source": [
    "#Aceleramos la convergencia con Aitken:\n",
    "aceleradorAitken = aceleraAitken(bisection)\n",
    "\n",
    "print(\"Iteraciones aceleradas. Aitken: {}\".format(aceleradorAitken))"
   ]
  },
  {
   "cell_type": "code",
   "execution_count": 33,
   "metadata": {},
   "outputs": [
    {
     "name": "stdout",
     "output_type": "stream",
     "text": [
      "Help on function aceleraSteffensen in module __main__:\n",
      "\n",
      "aceleraSteffensen(niter, f, x0)\n",
      "    # Función de aceleración de la convergencia de Steffensen.\n",
      "\n"
     ]
    }
   ],
   "source": [
    "help(aceleraSteffensen)"
   ]
  },
  {
   "cell_type": "code",
   "execution_count": 36,
   "metadata": {},
   "outputs": [
    {
     "name": "stdout",
     "output_type": "stream",
     "text": [
      "Iteraciones aceleradas. Steffensen: [-241.030092800929, -153.237101980558, -84.8268123412217, -38.1825791158813, -12.1728694032211, -1.45751741717215, 1.16207797407629, 1.36394844922942, 1.36522996151704, 1.36523001341410]\n"
     ]
    }
   ],
   "source": [
    "#Ahora vamos con Steffensen\n",
    "x0 = 1.0\n",
    "n  = 10\n",
    "aceleradorSteffensen = aceleraSteffensen(n, g, x0)\n",
    "\n",
    "print(\"Iteraciones aceleradas. Steffensen: {}\".format(aceleradorSteffensen))"
   ]
  },
  {
   "attachments": {},
   "cell_type": "markdown",
   "metadata": {},
   "source": [
    "Veamos unaa comparación de los últimos elementos obtenidos con Bisección, Aitken y Steffensen:"
   ]
  },
  {
   "cell_type": "code",
   "execution_count": 38,
   "metadata": {},
   "outputs": [
    {
     "name": "stdout",
     "output_type": "stream",
     "text": [
      "Último elemento Bisección:  1.3652305603027344\n",
      "\n",
      "\n",
      "Último elemento Aitken:  1.365234375\n",
      "\n",
      "\n",
      "Último elemento Steffensen:  1.36523001341410\n"
     ]
    }
   ],
   "source": [
    "print(\"Último elemento Bisección: \", bisection[len(bisection)-1])\n",
    "print(\"\\n\")\n",
    "print(\"Último elemento Aitken: \", aceleradorAitken[len(aceleradorAitken)-1])\n",
    "print(\"\\n\")\n",
    "print(\"Último elemento Steffensen: \", aceleradorSteffensen[len(aceleradorSteffensen)-1])\n"
   ]
  },
  {
   "attachments": {},
   "cell_type": "markdown",
   "metadata": {},
   "source": [
    "Es el turno ahora de **Newton-Rahpson**:"
   ]
  },
  {
   "cell_type": "code",
   "execution_count": 39,
   "metadata": {},
   "outputs": [
    {
     "name": "stdout",
     "output_type": "stream",
     "text": [
      "Help on function newton_raphson in module __main__:\n",
      "\n",
      "newton_raphson(b, f, deriv, muestra, cifras=16, nmax=100, prec=1/1000)\n",
      "    # Método de Newton-Raphson\n",
      "    # Vamos a encapsular el método de Newton-Raphson en una función\n",
      "\n"
     ]
    }
   ],
   "source": [
    "help(newton_raphson)"
   ]
  },
  {
   "cell_type": "code",
   "execution_count": 41,
   "metadata": {},
   "outputs": [],
   "source": [
    "# Necesitamos:\n",
    "x0 = 1.0\n",
    "nr = newton_raphson(x0,f,deriv,False)\n"
   ]
  },
  {
   "cell_type": "code",
   "execution_count": 42,
   "metadata": {},
   "outputs": [
    {
     "name": "stdout",
     "output_type": "stream",
     "text": [
      "Iteraciones Newton-Raphson: [1.0, 1.45454545454545, 1.36890040106952, 1.36523660020212]\n"
     ]
    }
   ],
   "source": [
    "# Iteraciones del método:\n",
    "print(\"Iteraciones Newton-Raphson: {}\".format(nr))"
   ]
  },
  {
   "cell_type": "code",
   "execution_count": 44,
   "metadata": {},
   "outputs": [
    {
     "name": "stdout",
     "output_type": "stream",
     "text": [
      "Itraciones aceleradas Aitken: [1.38247908317514, 1.36507286231853]\n"
     ]
    }
   ],
   "source": [
    "#Aceleramos por Aitek:\n",
    "aceleradorAitkenNR = aceleraAitken(nr)\n",
    "print(\"Itraciones aceleradas Aitken: {}\".format(aceleradorAitkenNR))"
   ]
  },
  {
   "cell_type": "code",
   "execution_count": 45,
   "metadata": {},
   "outputs": [
    {
     "name": "stdout",
     "output_type": "stream",
     "text": [
      "Iteraciones aceleradas Steffensen: [-241.030092800929, -153.237101980558, -84.8268123412217, -38.1825791158813, -12.1728694032211, -1.45751741717215, 1.16207797407629, 1.36394844922942, 1.36522996151704, 1.36523001341410]\n"
     ]
    }
   ],
   "source": [
    "#Aceleramos por Steffensen:\n",
    "aceleradorSteffensenNR = aceleraSteffensen(10,g,x0)\n",
    "print(\"Iteraciones aceleradas Steffensen: {}\".format(aceleradorSteffensenNR))"
   ]
  },
  {
   "attachments": {},
   "cell_type": "markdown",
   "metadata": {},
   "source": [
    "Veamos unaa comparación de los últimos elementos obtenidos con Bisección, Aitken y Steffensen:"
   ]
  },
  {
   "cell_type": "code",
   "execution_count": 46,
   "metadata": {},
   "outputs": [
    {
     "name": "stdout",
     "output_type": "stream",
     "text": [
      "Último elemento Newton-Raphson:  1.36523660020212\n",
      "\n",
      "\n",
      "Último elemento Aitken:  1.36507286231853\n",
      "\n",
      "\n",
      "Último elemento Steffensen:  1.36523001341410\n"
     ]
    }
   ],
   "source": [
    "print(\"Último elemento Newton-Raphson: \", nr[len(nr)-1])\n",
    "print(\"\\n\")\n",
    "print(\"Último elemento Aitken: \", aceleradorAitkenNR[len(aceleradorAitkenNR)-1])\n",
    "print(\"\\n\")\n",
    "print(\"Último elemento Steffensen: \", aceleradorSteffensenNR[len(aceleradorSteffensenNR)-1])"
   ]
  }
 ],
 "metadata": {
  "kernelspec": {
   "display_name": "SageMath 9.0",
   "language": "sage",
   "name": "sagemath"
  },
  "language_info": {
   "codemirror_mode": {
    "name": "ipython",
    "version": 3
   },
   "file_extension": ".py",
   "mimetype": "text/x-python",
   "name": "python",
   "nbconvert_exporter": "python",
   "pygments_lexer": "ipython3",
   "version": "3.8.10"
  },
  "orig_nbformat": 4
 },
 "nbformat": 4,
 "nbformat_minor": 2
}
