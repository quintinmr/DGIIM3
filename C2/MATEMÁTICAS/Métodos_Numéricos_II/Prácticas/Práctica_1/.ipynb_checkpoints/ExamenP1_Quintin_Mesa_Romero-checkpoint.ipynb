{
 "cells": [
  {
   "cell_type": "markdown",
   "id": "cdb358ec-189e-4579-838b-6e61b763ae18",
   "metadata": {},
   "source": [
    "# **EXAMEN PRÁCTICA 1**"
   ]
  },
  {
   "cell_type": "markdown",
   "id": "f3723d2e-075a-4065-9773-89cfe4c0d24a",
   "metadata": {},
   "source": [
    "> **Alumno**: Quintín Mesa Romero\n",
    "\n",
    ">  **Curso**: 3º DGIIM\n",
    "  \n",
    ">  **DNI**: 78006011Q\n",
    "  \n",
    ">  **Correo**: quintinmr@correo.ugr.es"
   ]
  },
  {
   "cell_type": "markdown",
   "id": "8f54ff9f-6bd6-4886-b79c-58365c31f9f3",
   "metadata": {},
   "source": [
    "### Bibliotecas necesarias para la resolución de los problemas"
   ]
  },
  {
   "cell_type": "code",
   "execution_count": 3,
   "id": "541d8e69-e260-4033-a8d2-251527b04e03",
   "metadata": {},
   "outputs": [],
   "source": [
    "#Importacion de la biblioteca de numpy con el alias np\n",
    "import numpy as np\n",
    "#Importacion de la biblioteca matplotlib con el alias plt\n",
    "%matplotlib inline\n",
    "import matplotlib.pyplot as plt\n",
    "#Importacion de la biblioteca sympy con el alias sp\n",
    "import sympy as sp\n",
    "#Importacion de la biblioteca decimal (trabajar con precision ajustada)\n",
    "from decimal import *\n",
    "mporig = getcontext().prec\n",
    "#Importación de la función fsolve\n",
    "from scipy.optimize import fsolve\n",
    "#Importación de los solucionadores de sympy\n",
    "from sympy.solvers import solve, nsolve, solveset\n",
    "#Importación de los métodos ceil y floor de la biblioteca Math\n",
    "from math import ceil, floor"
   ]
  },
  {
   "cell_type": "markdown",
   "id": "fe0ed82e-d928-42da-989e-e6ebd2ea7a91",
   "metadata": {},
   "source": [
    "### Definimos una serie de funciones que nos van a hacer falta a la hora de desarrollar el problema. Se han definido todas las necesarias primero con el objetivo de modularizar y otorgar orden y limpieza en la resolución del problema."
   ]
  },
  {
   "cell_type": "code",
   "execution_count": 4,
   "id": "6ee68906-2730-4ac4-9995-0046720d0e19",
   "metadata": {},
   "outputs": [],
   "source": [
    "#Función que calcula la suma de una serie de números\n",
    "def suma (v):\n",
    "    \n",
    "    sum = 0\n",
    "    for i in range (len(v)):\n",
    "        sum = sum + v[i]\n",
    "    \n",
    "    return sum"
   ]
  },
  {
   "cell_type": "code",
   "execution_count": 5,
   "id": "b98da0e9-cce9-41f3-bdfd-23968d811848",
   "metadata": {},
   "outputs": [],
   "source": [
    "#Función que calcula la media de los elementos de un vector\n",
    "def mean (v):\n",
    "    \n",
    "    media = suma(v)\n",
    "    \n",
    "    return media/8"
   ]
  },
  {
   "cell_type": "code",
   "execution_count": 6,
   "id": "138c2a8d-54b1-47f6-a977-83a9840fa42e",
   "metadata": {},
   "outputs": [],
   "source": [
    "# Definimos de forma simbólica la variable x\n",
    "x=sp.Symbol(\"x\") #Variable Simbólica x"
   ]
  },
  {
   "cell_type": "code",
   "execution_count": 7,
   "id": "7a518b55-d581-4306-9a4f-3f9618712949",
   "metadata": {},
   "outputs": [],
   "source": [
    "# Función destinada al cálculo de las raíces de una ecuación, en una variable dada:\n",
    "def sol_exact(f,x,todas=True):\n",
    "    \n",
    "    try:\n",
    "        soluciones = sp.solve(f(x),x)\n",
    "        num_sols   = len(soluciones)\n",
    "        if todas==True:\n",
    "            print(\"Se han encontrado : {} soluciones\".format(num_sols))\n",
    "            for i in range(num_sols):\n",
    "                print(\"Solución {}: {}\".format(i+1,soluciones[i].evalf()))\n",
    "                \n",
    "        return soluciones,num_sols\n",
    "    \n",
    "    except NotImplementedError:\n",
    "        print(\"No existen soluciones para esta ecuación : {}\".format(f(x))) "
   ]
  },
  {
   "cell_type": "code",
   "execution_count": 17,
   "id": "3d32e779-5df3-4457-ac1b-c05d23b347db",
   "metadata": {},
   "outputs": [],
   "source": [
    "# Función que determina si una función cambia de signo en un intervalo dado:\n",
    "def sgn(f,a,b):\n",
    "    if f(a)*f(b) < 0:\n",
    "        print(\"Sí hay cambio de signo: Hay raíz\")\n",
    "    else:\n",
    "        print(\"No hay cambio de signo: No hay raíz\")"
   ]
  },
  {
   "cell_type": "code",
   "execution_count": 8,
   "id": "cb3556a3-eb15-4a97-9d6b-4e666ca617b6",
   "metadata": {},
   "outputs": [],
   "source": [
    "# Función que, en caso de que en la llamada al método de bisección, no se aporten cifras de precision, calcula\n",
    "# estas en función de la precisión indicada como argumento.\n",
    "def calc_cifras(precision):\n",
    "    \n",
    "    return int(np.ceil(abs(np.log10(precision))))"
   ]
  },
  {
   "cell_type": "code",
   "execution_count": 20,
   "id": "5c6e5d2a-608f-4604-a6b1-5d5fcf9e07de",
   "metadata": {},
   "outputs": [],
   "source": [
    "# Método de bisección\n",
    "# Vamos a encapsular el método de bisección en una función\n",
    "\n",
    "def biseccion (a, b, f, cifras=16,muestra=True, nmax=100, prec=10**(-16)):\n",
    "\n",
    "    niter = 0\n",
    "    terms = []\n",
    "\n",
    "    if (cifras <= 0):\n",
    "        cifras = calc_cifras(prec)\n",
    "     \n",
    "    tol = 10**(-cifras+1)\n",
    "    getcontext().prec = cifras\n",
    "    \n",
    "    a=Decimal(a)\n",
    "    b=Decimal(b)\n",
    "\n",
    "    for i in range(nmax):\n",
    "        niter = niter + 1\n",
    "        c = (a+b)/2\n",
    "        terms.append(float(c))\n",
    "        if (abs(f(c)) < prec):\n",
    "            p = \"Precision\"\n",
    "            break\n",
    "        if (f(a)*f(c) <= 0):\n",
    "            b = c\n",
    "        else: \n",
    "            a = c\n",
    "        if b-a < tol:\n",
    "            p = \"Tolerance\"\n",
    "            break\n",
    "    \n",
    "    if (muestra):\n",
    "        print(\"MÉTODO DE BISECCIÓN APLICADO A LA ECUACIÓN: \", f(x))\n",
    "        \n",
    "        if (p == \"Precision\"):\n",
    "            print(\"Se ha alcanzado la precisión requerida. Posible solución exacta: \", c )\n",
    "        elif niter < nmax:\n",
    "            print(\"Aproximación con decimales: \", c)\n",
    "        else:\n",
    "            print(\"Intervalo con maxima tolerancia. Aproximación solicitada: \", c)\n",
    "\n",
    "        print(\"Numero de iteraciones requerido: \", niter)\n",
    "\n",
    "    return terms"
   ]
  },
  {
   "cell_type": "code",
   "execution_count": 62,
   "id": "ba816296-938e-4b4e-acff-d6f45e950555",
   "metadata": {},
   "outputs": [],
   "source": [
    "# Método de la secante\n",
    "\n",
    "def secante(f,a,b,cifras=16,prec=10**(-16),nmax=100,iter=False):\n",
    "    \n",
    "    x0 = a; x1 = b; sale =''\n",
    "    niter = 0;\n",
    "    tol = 10**(-cifras+1)\n",
    "    \n",
    "    for k in range(nmax):\n",
    "        niter = niter + 1;\n",
    "        c = x1 - (x0-x1)/(f(x0)-f(x1))*f(x1) \n",
    "        if abs(f(c)) < prec:\n",
    "            sale = 'precision'\n",
    "        else:\n",
    "            x1,x0 = c,x1\n",
    "        if abs(x1-x0) < tol:\n",
    "            sale = 'tolerancia'\n",
    "\n",
    "    if sale == 'precision':\n",
    "        print('Posiblemente solución exacta: ', c)\n",
    "    elif niter < nmax:\n",
    "        print('Aproximación solicitada: ', c)\n",
    "    else:\n",
    "        print('Se llegó al número máximo de iteraciones')\n",
    "    print('Número total de iteraciones ', niter)\n",
    "   "
   ]
  },
  {
   "cell_type": "code",
   "execution_count": 29,
   "id": "be8aea05-33ea-4f73-8e88-c538f2284905",
   "metadata": {},
   "outputs": [],
   "source": [
    "#Función que permite calcular el número de iteraciones necesarias en el método de bisección para llegar a la aproximación de la solución, con un\n",
    "#error dado\n",
    "def num_iter(a,b,cifras):\n",
    "    \n",
    "    n = np.log((b-a)/10**(-cifras))/np.log(2) - 1\n",
    "    return ceil(n)\n"
   ]
  },
  {
   "cell_type": "markdown",
   "id": "616dde2d-a810-43db-a167-1449288bd614",
   "metadata": {},
   "source": [
    "--------------------------------------------"
   ]
  },
  {
   "cell_type": "markdown",
   "id": "a722954a-c725-49c6-bf6e-2a4e3f967825",
   "metadata": {},
   "source": [
    "--------------------------------------------"
   ]
  },
  {
   "cell_type": "markdown",
   "id": "bc026d69-5301-4187-ad82-b77a9b3cbf8f",
   "metadata": {},
   "source": [
    "A continuación, una vez definidas las funciones necesarias para el desarrollo del ejercicio, procedo a resolverlo:"
   ]
  },
  {
   "cell_type": "markdown",
   "id": "d524b3e9-5f2f-4c98-8f82-0b68e9b3d58a",
   "metadata": {},
   "source": [
    "### **Definición de la función:**"
   ]
  },
  {
   "cell_type": "code",
   "execution_count": 12,
   "id": "a4818ba7-73d3-4440-828c-b49d3a3c5623",
   "metadata": {},
   "outputs": [],
   "source": [
    "#Defino el DNI\n",
    "DNI = [7,8,0,0,6,0,1,1]"
   ]
  },
  {
   "cell_type": "code",
   "execution_count": 13,
   "id": "6ab8f9fe-328f-4f32-8ec4-429282e86eeb",
   "metadata": {},
   "outputs": [
    {
     "name": "stdout",
     "output_type": "stream",
     "text": [
      "Polinomio asociado al DNI [7, 8, 0, 0, 6, 0, 1, 1]: x**3 + 2.875*x + 23\n"
     ]
    }
   ],
   "source": [
    "#Defino el polinomio asociado a mi DNI\n",
    "def f(x):\n",
    "    \n",
    "    return x**3 + Decimal(mean(DNI))*x + suma(DNI)\n",
    "\n",
    "print(\"Polinomio asociado al DNI {}: {}\".format(DNI,f(x)))"
   ]
  },
  {
   "cell_type": "markdown",
   "id": "ef69dabe-c3b3-4915-bd0e-18601014c204",
   "metadata": {},
   "source": [
    "### **Cálulo exacto de raíces**"
   ]
  },
  {
   "cell_type": "code",
   "execution_count": 14,
   "id": "986cd4eb-8617-4778-b013-5b6cf22d6c8d",
   "metadata": {},
   "outputs": [
    {
     "name": "stdout",
     "output_type": "stream",
     "text": [
      "Se han encontrado : 3 soluciones\n",
      "Solución 1: -2.50864457291083\n",
      "Solución 2: 1.25432228645542 - 2.7558978926833*I\n",
      "Solución 3: 1.25432228645542 + 2.7558978926833*I\n"
     ]
    }
   ],
   "source": [
    "sol,n = sol_exact(f,x)"
   ]
  },
  {
   "cell_type": "markdown",
   "id": "53ce85ae-0a8b-4eb2-beb7-7c9c0bd11b1e",
   "metadata": {},
   "source": [
    "Observamos que solo tiene una raíz real, y en el intervalo $[-3,-2]$. Observémoslo gŕaficamente:"
   ]
  },
  {
   "cell_type": "markdown",
   "id": "2d49fbb1-77a4-41eb-918f-14bac297fb8d",
   "metadata": {},
   "source": [
    "(Podíamos haberlo hecho representando la función previamente en un intervalo amplio y luego acotando dicho intervalo una vez visto el punto de corte de la función con el eje, pero habiendo calculado las raices previamente con nuestra función python, nos podemos ahorrar el trabajo de representarla dos veces)."
   ]
  },
  {
   "cell_type": "code",
   "execution_count": 15,
   "id": "94717148-49ed-4b75-9c14-3531b04958ad",
   "metadata": {},
   "outputs": [
    {
     "data": {
      "image/png": "[encoded data removed]",
      "text/plain": [
       "<Figure size 640x480 with 1 Axes>"
      ]
     },
     "metadata": {},
     "output_type": "display_data"
    },
    {
     "data": {
      "text/plain": [
       "<sympy.plotting.plot.Plot at 0x7f9dccf57730>"
      ]
     },
     "execution_count": 15,
     "metadata": {},
     "output_type": "execute_result"
    }
   ],
   "source": [
    "sp.plot(f(x),xlim=(-5.0,0.0),ylim=(-5.0,5.0))"
   ]
  },
  {
   "cell_type": "markdown",
   "id": "29370871-d470-49f3-ae34-b2abe16a7821",
   "metadata": {},
   "source": [
    "Gráficamente podemos observar que la función corta el eje $OX$ en el intervalo de amplitud unidad $[-3,-2]$"
   ]
  },
  {
   "cell_type": "markdown",
   "id": "c57e14c9-8764-4dcb-b381-7dea71d804a2",
   "metadata": {},
   "source": [
    "## Método de Bisección para aproximar la solución de la ecuación (tolerancia: $10^{-1})$"
   ]
  },
  {
   "cell_type": "markdown",
   "id": "59d43db0-2384-4dd2-a169-1a066447f6a2",
   "metadata": {},
   "source": [
    "Vamos a calcular una aproximación de la solución real anteriormente obtenida en el intervalo $[-3,-2]$, con una toleracia de $10^{-1}$, es decir, con una precisión de $1$ cifras decimales. Pero antes, aunque es obvio, veamos que verifica las condiciones del Teorema de Bolzano para así, poder aplicar Bisección:"
   ]
  },
  {
   "cell_type": "code",
   "execution_count": 18,
   "id": "4dcf504b-56db-45d0-968f-a764d5f1a2ff",
   "metadata": {},
   "outputs": [
    {
     "name": "stdout",
     "output_type": "stream",
     "text": [
      "Sí hay cambio de signo: Hay raíz\n"
     ]
    }
   ],
   "source": [
    "sgn(f, -3,-2)"
   ]
  },
  {
   "cell_type": "markdown",
   "id": "f6dc076d-a54b-43af-bd08-88f4959dcd4a",
   "metadata": {},
   "source": [
    "Como la funcion cambia de signo en dicho intervalo, donde además es continua y derivable por ser una función polinómica, verifica el Teorema de Bolzano."
   ]
  },
  {
   "cell_type": "markdown",
   "id": "3548140a-a81f-4c54-9665-2e1a70439e06",
   "metadata": {},
   "source": [
    "Previamente a la aplicación del método de Bisección, vamos a determinar el número máximo de iteraciones necesario para una tolerancia de $10^{-1]$"
   ]
  },
  {
   "cell_type": "code",
   "execution_count": 31,
   "id": "b3935982-4f5c-4798-bca6-34e820c3b4d4",
   "metadata": {},
   "outputs": [
    {
     "data": {
      "text/plain": [
       "6"
      ]
     },
     "execution_count": 31,
     "metadata": {},
     "output_type": "execute_result"
    }
   ],
   "source": [
    "a,b=-3,-2\n",
    "cifras=2\n",
    "num_iter(a,b,cifras)"
   ]
  },
  {
   "cell_type": "code",
   "execution_count": 30,
   "id": "8fdf8859-363c-43a7-960b-eece79fad5ec",
   "metadata": {},
   "outputs": [
    {
     "name": "stdout",
     "output_type": "stream",
     "text": [
      "MÉTODO DE BISECCIÓN APLICADO A LA ECUACIÓN:  x**3 + 2.875*x + 23\n",
      "Se ha alcanzado la precisión requerida. Posible solución exacta:  -2.5\n",
      "Numero de iteraciones requerido:  1\n"
     ]
    }
   ],
   "source": [
    "#Aplicamos método de Bisección\n",
    "\n",
    "bise = biseccion(a,b,f,cifras,True)"
   ]
  },
  {
   "cell_type": "code",
   "execution_count": null,
   "id": "257e714f-9f7d-432d-8783-48202bda4996",
   "metadata": {},
   "outputs": [],
   "source": [
    "## Método de la secante para aproximar la solución de la ecuación realizando 10 iteraciones$"
   ]
  },
  {
   "cell_type": "markdown",
   "id": "f0727a3e-2974-445d-a36d-07be0e97fc64",
   "metadata": {},
   "source": [
    "### Método de la secante (10 itres)"
   ]
  },
  {
   "cell_type": "markdown",
   "id": "54669548-2953-4cab-b132-3b6d94763c1f",
   "metadata": {},
   "source": [
    "A continuación, realizamos 10 iteraciones del **método de la secante:** en el intervalo obtenido en el apartado de representación gráfica de la raíz."
   ]
  },
  {
   "cell_type": "code",
   "execution_count": 63,
   "id": "15a0daf8-cb14-4d41-b5f5-7a5625b01b7f",
   "metadata": {},
   "outputs": [
    {
     "name": "stdout",
     "output_type": "stream",
     "text": [
      "Posiblemente solución exacta:  -2.508644572910831715297613275\n",
      "Número total de iteraciones  10\n"
     ]
    }
   ],
   "source": [
    "s = secante(f,a,b,nmax=10)\n",
    "s"
   ]
  },
  {
   "cell_type": "markdown",
   "id": "1b387134-a54a-4b47-ae1a-bae00c265ba3",
   "metadata": {},
   "source": [
    "### Comparación de los resultados obtenidos con la solución exacta"
   ]
  },
  {
   "cell_type": "code",
   "execution_count": 66,
   "id": "08306a2b-fec2-4a3c-b645-ffe80842d25e",
   "metadata": {},
   "outputs": [
    {
     "name": "stdout",
     "output_type": "stream",
     "text": [
      "Error entre aprox Bisección y Solución exacta : 0.008644572910830206\n",
      "Error entre aprox Secante y Solución exacta : 1.3322676295501878e-15\n"
     ]
    }
   ],
   "source": [
    "print(\"Error entre aprox Bisección y Solución exacta : {}\".format(abs(-2.5 + 2.50864457291083)))\n",
    "\n",
    "print(\"Error entre aprox Secante y Solución exacta : {}\".format(abs(-2.508644572910831715297613275 + 2.50864457291083)))"
   ]
  }
 ],
 "metadata": {
  "kernelspec": {
   "display_name": "Python 3 (ipykernel)",
   "language": "python",
   "name": "python3"
  },
  "language_info": {
   "codemirror_mode": {
    "name": "ipython",
    "version": 3
   },
   "file_extension": ".py",
   "mimetype": "text/x-python",
   "name": "python",
   "nbconvert_exporter": "python",
   "pygments_lexer": "ipython3",
   "version": "3.9.13"
  }
 },
 "nbformat": 4,
 "nbformat_minor": 5
}
