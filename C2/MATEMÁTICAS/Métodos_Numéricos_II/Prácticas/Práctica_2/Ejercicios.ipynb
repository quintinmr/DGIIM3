{
 "cells": [
  {
   "attachments": {},
   "cell_type": "markdown",
   "metadata": {},
   "source": [
    "# RELACIÓN DE EJERCICIOS"
   ]
  },
  {
   "cell_type": "code",
   "execution_count": 45,
   "metadata": {},
   "outputs": [],
   "source": [
    "import numpy as np\n",
    "import sympy as sp\n",
    "import matplotlib.pyplot as plt\n",
    "from itertools import zip_longest\n",
    "from scipy.integrate import quad"
   ]
  },
  {
   "attachments": {},
   "cell_type": "markdown",
   "metadata": {},
   "source": [
    "## EJERCICIO 1"
   ]
  },
  {
   "attachments": {},
   "cell_type": "markdown",
   "metadata": {},
   "source": [
    "Obtenga mediante interpolación en el espacio $\\mathbb{P}_2$ una fórmula para aproximar $f''(a)$ del tipo combinación\n",
    "de $f(a-h)$, $f(a)$ y $f(a+h)$."
   ]
  },
  {
   "attachments": {},
   "cell_type": "markdown",
   "metadata": {},
   "source": [
    "Podemos hacerlo de varias formas, pero vamos a proceder mediante los polinomios de Lagrange.\n",
    "Definamos en primer lugar todos los símbolos y variables que vamos a emplear:"
   ]
  },
  {
   "cell_type": "code",
   "execution_count": 5,
   "metadata": {},
   "outputs": [],
   "source": [
    "f   = sp.Function('f')\n",
    "a,h = sp.symbols('a,h')\n",
    "\n",
    "x = [a-h, a, a+h] # nodos de interpolación\n",
    "\n",
    "y = [f(a-h),f(a),f(a+h)] # valores interpolados"
   ]
  },
  {
   "attachments": {},
   "cell_type": "markdown",
   "metadata": {},
   "source": [
    "Vamos a ir construyendo el polinomio de interpolación usando la idea de Newton"
   ]
  },
  {
   "cell_type": "code",
   "execution_count": 6,
   "metadata": {},
   "outputs": [
    {
     "data": {
      "text/latex": [
       "$\\displaystyle f{\\left(a - h \\right)} + \\frac{\\left(f{\\left(a \\right)} - f{\\left(a - h \\right)}\\right) \\left(- a + h + z\\right)}{h} + \\frac{\\left(- a + z\\right) \\left(- a + h + z\\right) \\left(- 2 f{\\left(a \\right)} + f{\\left(a - h \\right)} + f{\\left(a + h \\right)}\\right)}{2 h^{2}}$"
      ],
      "text/plain": [
       "f(a - h) + (f(a) - f(a - h))*(-a + h + z)/h + (-a + z)*(-a + h + z)*(-2*f(a) + f(a - h) + f(a + h))/(2*h**2)"
      ]
     },
     "execution_count": 6,
     "metadata": {},
     "output_type": "execute_result"
    }
   ],
   "source": [
    "z  = sp.Symbol('z')\n",
    "p0 = y[0]\n",
    "p1 = p0 + (z-x[0])/(x[1]-x[0])*(y[1]-y[0])\n",
    "D  = sp.Symbol('D')\n",
    "p2 = p1 + (z-x[0])*(z-x[1])*D\n",
    "\n",
    "sol= sp.solve(p2.subs({z:x[2]})-y[2],D)\n",
    "D  = sol[0]\n",
    "\n",
    "p2 = p1 + (z-x[0])*(z-x[1])*D\n",
    "p2  # para obtener el polinomio final de interpolación\n"
   ]
  },
  {
   "attachments": {},
   "cell_type": "markdown",
   "metadata": {},
   "source": [
    "Dado que el polinomio ha de interpolar a la función $f$ en los puntos $a-h, a, a+h$, hacemos:"
   ]
  },
  {
   "cell_type": "code",
   "execution_count": 7,
   "metadata": {},
   "outputs": [
    {
     "data": {
      "text/plain": [
       "[True, True, True]"
      ]
     },
     "execution_count": 7,
     "metadata": {},
     "output_type": "execute_result"
    }
   ],
   "source": [
    "[p2.subs({z:x[i]})==y[i] for i in range(0,3)]"
   ]
  },
  {
   "attachments": {},
   "cell_type": "markdown",
   "metadata": {},
   "source": [
    "Por último, como lo que queremos es aproximar la derivada segunda de $f$, hemos de derivar dos veces la el polinomio, obteniendo así la fórmula:"
   ]
  },
  {
   "cell_type": "code",
   "execution_count": 8,
   "metadata": {},
   "outputs": [
    {
     "data": {
      "text/latex": [
       "$\\displaystyle \\frac{- 2 f{\\left(a \\right)} + f{\\left(a - h \\right)} + f{\\left(a + h \\right)}}{h^{2}}$"
      ],
      "text/plain": [
       "(-2*f(a) + f(a - h) + f(a + h))/h**2"
      ]
     },
     "execution_count": 8,
     "metadata": {},
     "output_type": "execute_result"
    }
   ],
   "source": [
    "sp.diff(p2,z,2).subs({z:a}).simplify()"
   ]
  },
  {
   "attachments": {},
   "cell_type": "markdown",
   "metadata": {},
   "source": [
    "## EJERCICIO 2"
   ]
  },
  {
   "attachments": {},
   "cell_type": "markdown",
   "metadata": {},
   "source": [
    "Con la fórmula obtenida en el ejercicio 1, halle una tabla de aproximaciones y errores de $f_1''(2.5)$, siendo $f_1(x)=x^x$, para $h=10^{-i},\\; i=1,\\ldots,5.$"
   ]
  },
  {
   "attachments": {},
   "cell_type": "markdown",
   "metadata": {},
   "source": [
    "Dado que la letra $x$ la hemos utilizado anterimente como variable en la que guardar los nodos de interpolación, no podemos seleccionarla como variable para definir la función del enunciado. Es por ello que vamos a utilizar la letra $z$ que habiamos definido como símbolo y que ha servido como variable para la contrucción del polinomio de interpolación del ejercicio anterior."
   ]
  },
  {
   "cell_type": "code",
   "execution_count": 10,
   "metadata": {},
   "outputs": [],
   "source": [
    "def f1(z):\n",
    "    return z**z"
   ]
  },
  {
   "attachments": {},
   "cell_type": "markdown",
   "metadata": {},
   "source": [
    "Vemoa cuál es el valor exacto de la derivada segunda de $f1$ en el punto $2.5$:"
   ]
  },
  {
   "cell_type": "code",
   "execution_count": 12,
   "metadata": {},
   "outputs": [
    {
     "data": {
      "text/latex": [
       "$\\displaystyle 40.2416648563875$"
      ],
      "text/plain": [
       "40.2416648563875"
      ]
     },
     "execution_count": 12,
     "metadata": {},
     "output_type": "execute_result"
    }
   ],
   "source": [
    "\n",
    "sec_df_exact = sp.diff(f1(z),z,2).subs({z:2.5})\n",
    "sec_df_exact"
   ]
  },
  {
   "attachments": {},
   "cell_type": "markdown",
   "metadata": {},
   "source": [
    "Como ya conocemos la expresión de la fórmula para la aproximación de $f1''(2.5)$ centrada con 3 nodos, la definimos con código de python y calculamos los valores de las aproximaciones para distintos valores de $h$: $h = 10^{-i}, \\forall i \\in {1,2,3,4,5}$:"
   ]
  },
  {
   "cell_type": "code",
   "execution_count": 13,
   "metadata": {},
   "outputs": [],
   "source": [
    "def f_second(f1,a,h):\n",
    "    return (-2*f1(a)+f1(a-h)+f1(a+h))/h**2"
   ]
  },
  {
   "cell_type": "code",
   "execution_count": 15,
   "metadata": {},
   "outputs": [
    {
     "data": {
      "text/plain": [
       "[40.42056829795832,\n",
       " 40.243450230939004,\n",
       " 40.24168270788664,\n",
       " 40.24166475602442,\n",
       " 40.24164113047845]"
      ]
     },
     "execution_count": 15,
     "metadata": {},
     "output_type": "execute_result"
    }
   ],
   "source": [
    "sec_df_approx = [f_second(f1, a=2.5, h=10**(-i)) for i in range(1,6)]\n",
    "sec_df_approx"
   ]
  },
  {
   "attachments": {},
   "cell_type": "markdown",
   "metadata": {},
   "source": [
    "Una vez halladas las aproximaciones de la segunda derivada de $f1$ en el punto $2.5$ mediante la fórmula anterior, vamos a calcular los errores cometidos en las aproximaciones:"
   ]
  },
  {
   "cell_type": "code",
   "execution_count": 16,
   "metadata": {},
   "outputs": [],
   "source": [
    "errors = []\n",
    "for i in sec_df_approx:\n",
    "    errors.append(abs(i-sec_df_exact))"
   ]
  },
  {
   "cell_type": "code",
   "execution_count": 17,
   "metadata": {},
   "outputs": [
    {
     "name": "stdout",
     "output_type": "stream",
     "text": [
      "Valor exacto:  40.2416648563875\n",
      "h = 10^-1\t Approx = 40.42056829795832\t Error:0.178903441570853\n",
      "h = 10^-2\t Approx = 40.243450230939004\t Error:0.00178537455153815\n",
      "h = 10^-3\t Approx = 40.24168270788664\t Error:0.0000178514991731049\n",
      "h = 10^-4\t Approx = 40.24166475602442\t Error:1.00363045874019E-7\n",
      "h = 10^-5\t Approx = 40.24164113047845\t Error:0.0000237259090170028\n"
     ]
    }
   ],
   "source": [
    "print(\"Valor exacto: \", sec_df_exact)\n",
    "\n",
    "for i in range (1,6):\n",
    "    print(\"h = 10^{}\\t Approx = {}\\t Error:{}\".format(-i,sec_df_approx[i-1],errors[i-1]))"
   ]
  },
  {
   "attachments": {},
   "cell_type": "markdown",
   "metadata": {},
   "source": [
    "## EJERCICIO 3"
   ]
  },
  {
   "attachments": {},
   "cell_type": "markdown",
   "metadata": {},
   "source": [
    "Sea $f_2(x)=\\frac{x^2+40}{x+\\sqrt{5x}+7}$. Calcule una tabla que recoja las derivadas de $f_2$ en $x_i=1,2,\\ldots,10$, utilizando alguna de las fórmulas de derivación numérica de primer orden obtenidas al inicio de la práctica, con $h=10^{-3}$, y muestre al mismo tiempo el error cometido en cada punto. Repita el ejercicio con la fórmula centrada obtenida para la derivada primera y, finalmente, para la obtenida en el ejercicio 1 (con respecto a la segunda derivada)."
   ]
  },
  {
   "attachments": {},
   "cell_type": "markdown",
   "metadata": {},
   "source": [
    "### Utilizando fórmula de diferencia progresiva (a,a+h)\n",
    "\n",
    ">  $f2^{'} \\approx \\frac{f2(x+h)- f2(x)}{h}$"
   ]
  },
  {
   "attachments": {},
   "cell_type": "markdown",
   "metadata": {},
   "source": [
    "Para ello, definiremos la función cuyas derivadas queremos aproximar, así como la fórmula con la que vamos a proceder y, a continuación calcularemos los valores exactos y los aproximados para finalmente calcular los errores cometidos en la aproximación de la derivada en los distintos valores de $x$."
   ]
  },
  {
   "cell_type": "code",
   "execution_count": 18,
   "metadata": {},
   "outputs": [],
   "source": [
    "def f2(z):\n",
    "    return (z**2+40)/(z+(5*z)**(1/2)+7)\n",
    "\n",
    "def f_deriv(f2,a,h):\n",
    "    return (f2(a+h)-f2(a))/h"
   ]
  },
  {
   "attachments": {},
   "cell_type": "markdown",
   "metadata": {},
   "source": [
    "Derivadas exactas"
   ]
  },
  {
   "cell_type": "code",
   "execution_count": 19,
   "metadata": {},
   "outputs": [
    {
     "data": {
      "text/plain": [
       "[-0.633413841504903,\n",
       " -0.203729991363422,\n",
       " 0.0135536765957583,\n",
       " 0.152356382446352,\n",
       " 0.250865051903114,\n",
       " 0.325234486346073,\n",
       " 0.383753089267232,\n",
       " 0.431201820656649,\n",
       " 0.470566739057635,\n",
       " 0.503824070415537]"
      ]
     },
     "execution_count": 19,
     "metadata": {},
     "output_type": "execute_result"
    }
   ],
   "source": [
    "first_df_exact = [sp.diff(f2(z),z).subs({z:i}) for i in range (1,11)]\n",
    "first_df_exact"
   ]
  },
  {
   "attachments": {},
   "cell_type": "markdown",
   "metadata": {},
   "source": [
    "Derivadas aproximadas"
   ]
  },
  {
   "cell_type": "code",
   "execution_count": 21,
   "metadata": {},
   "outputs": [
    {
     "data": {
      "text/plain": [
       "[-0.6330758508230616,\n",
       " -0.20358841102519065,\n",
       " 0.013637834543889227,\n",
       " 0.15241382963759875,\n",
       " 0.2509073591920874,\n",
       " 0.32526720196468517,\n",
       " 0.3837792735330581,\n",
       " 0.43122332479583747,\n",
       " 0.47058475905004116,\n",
       " 0.5038394181333672]"
      ]
     },
     "execution_count": 21,
     "metadata": {},
     "output_type": "execute_result"
    }
   ],
   "source": [
    "first_df_approx = [f_deriv(f2,a=i,h=10**-3) for i in range (1,11)]\n",
    "first_df_approx"
   ]
  },
  {
   "attachments": {},
   "cell_type": "markdown",
   "metadata": {},
   "source": [
    "Errores"
   ]
  },
  {
   "cell_type": "code",
   "execution_count": 25,
   "metadata": {},
   "outputs": [],
   "source": [
    "errors = []\n",
    "for (i,j) in zip_longest(first_df_approx,first_df_exact):\n",
    "    errors.append(abs(i-j))"
   ]
  },
  {
   "attachments": {},
   "cell_type": "markdown",
   "metadata": {},
   "source": [
    "Comparación"
   ]
  },
  {
   "cell_type": "code",
   "execution_count": 27,
   "metadata": {},
   "outputs": [
    {
     "name": "stdout",
     "output_type": "stream",
     "text": [
      "h = 10^-1\t Exact= -0.633413841504903\t Approx = -0.6330758508230616\t Error:0.000337990681841038\n",
      "h = 10^-2\t Exact= -0.203729991363422\t Approx = -0.20358841102519065\t Error:0.000141580338231473\n",
      "h = 10^-3\t Exact= 0.0135536765957583\t Approx = 0.013637834543889227\t Error:0.0000841579481308807\n",
      "h = 10^-4\t Exact= 0.152356382446352\t Approx = 0.15241382963759875\t Error:0.0000574471912467844\n",
      "h = 10^-5\t Exact= 0.250865051903114\t Approx = 0.2509073591920874\t Error:0.0000423072889731979\n"
     ]
    }
   ],
   "source": [
    "for i in range (1,6):\n",
    "    print(\"h = 10^{}\\t Exact= {}\\t Approx = {}\\t Error:{}\".format(-i,first_df_exact[i-1], first_df_approx[i-1],errors[i-1]))"
   ]
  },
  {
   "attachments": {},
   "cell_type": "markdown",
   "metadata": {},
   "source": [
    "### Utilizando fórmula de diferencia centrada (a,a-h)\n",
    "\n",
    ">  $f2^{'} \\approx \\frac{f2(x+h)- f2(x-h)}{2h}$"
   ]
  },
  {
   "cell_type": "code",
   "execution_count": 30,
   "metadata": {},
   "outputs": [],
   "source": [
    "def f_deriv2(f2,a,h):\n",
    "    return (f2(a+h)-f2(a-h))/(2*h)"
   ]
  },
  {
   "attachments": {},
   "cell_type": "markdown",
   "metadata": {},
   "source": [
    "Derivadas aproximadas"
   ]
  },
  {
   "cell_type": "code",
   "execution_count": 31,
   "metadata": {},
   "outputs": [
    {
     "data": {
      "text/plain": [
       "[-0.6334139834538455,\n",
       " -0.20373002121565342,\n",
       " 0.013553664382381925,\n",
       " 0.15235637597976748,\n",
       " 0.25086504797688924,\n",
       " 0.3252344837485488,\n",
       " 0.38375308744642567,\n",
       " 0.4312018193228795,\n",
       " 0.4705667380475731,\n",
       " 0.50382406963001]"
      ]
     },
     "execution_count": 31,
     "metadata": {},
     "output_type": "execute_result"
    }
   ],
   "source": [
    "first_df_approx = [f_deriv2(f2,a=i,h=10**-3) for i in range (1,11)]\n",
    "first_df_approx"
   ]
  },
  {
   "attachments": {},
   "cell_type": "markdown",
   "metadata": {},
   "source": [
    "Errores"
   ]
  },
  {
   "cell_type": "code",
   "execution_count": 32,
   "metadata": {},
   "outputs": [],
   "source": [
    "errors = []\n",
    "for (i,j) in zip_longest(first_df_approx,first_df_exact):\n",
    "    errors.append(abs(i-j))"
   ]
  },
  {
   "attachments": {},
   "cell_type": "markdown",
   "metadata": {},
   "source": [
    "Comparación"
   ]
  },
  {
   "cell_type": "code",
   "execution_count": 33,
   "metadata": {},
   "outputs": [
    {
     "name": "stdout",
     "output_type": "stream",
     "text": [
      "h = 10^-1\t Exact= -0.633413841504903\t Approx = -0.6334139834538455\t Error:1.41948942822268E-7\n",
      "h = 10^-2\t Exact= -0.203729991363422\t Approx = -0.20373002121565342\t Error:2.98522312980332E-8\n",
      "h = 10^-3\t Exact= 0.0135536765957583\t Approx = 0.013553664382381925\t Error:1.22133764213217E-8\n",
      "h = 10^-4\t Exact= 0.152356382446352\t Approx = 0.15235637597976748\t Error:6.46658449010573E-9\n",
      "h = 10^-5\t Exact= 0.250865051903114\t Approx = 0.25086504797688924\t Error:3.92622495626327E-9\n"
     ]
    }
   ],
   "source": [
    "for i in range (1,6):\n",
    "    print(\"h = 10^{}\\t Exact= {}\\t Approx = {}\\t Error:{}\".format(-i,first_df_exact[i-1], first_df_approx[i-1],errors[i-1]))"
   ]
  },
  {
   "attachments": {},
   "cell_type": "markdown",
   "metadata": {},
   "source": [
    "### Utilizando fórmula del ejercicio 1:\n",
    "\n",
    ">  $f2^{''} \\approx \\frac{f2(x-h)- 2f2(x)+f2(x+h)}{h^{2}}$"
   ]
  },
  {
   "cell_type": "code",
   "execution_count": 34,
   "metadata": {},
   "outputs": [],
   "source": [
    "def f_deriv3(f2, a, h):\n",
    "    return (f2(a-h)-2*f2(a)+f2(a+h))/(h**2)"
   ]
  },
  {
   "attachments": {},
   "cell_type": "markdown",
   "metadata": {},
   "source": [
    "Segundas derivadas exactas"
   ]
  },
  {
   "cell_type": "code",
   "execution_count": 38,
   "metadata": {},
   "outputs": [
    {
     "data": {
      "text/plain": [
       "[0.676265098285376,\n",
       " 0.283220364176106,\n",
       " 0.168340319928121,\n",
       " 0.114907312895053,\n",
       " 0.0846224302869937,\n",
       " 0.0654364313639429,\n",
       " 0.0523721743690358,\n",
       " 0.0430109449028751,\n",
       " 0.0360420057237485,\n",
       " 0.0306970066620211]"
      ]
     },
     "execution_count": 38,
     "metadata": {},
     "output_type": "execute_result"
    }
   ],
   "source": [
    "sec_df_exact = [sp.diff(f2(z),z,2).subs({z:i}) for i in range (1,11)]\n",
    "sec_df_exact"
   ]
  },
  {
   "attachments": {},
   "cell_type": "markdown",
   "metadata": {},
   "source": [
    "Derivadas aproximadas"
   ]
  },
  {
   "cell_type": "code",
   "execution_count": 39,
   "metadata": {},
   "outputs": [
    {
     "data": {
      "text/plain": [
       "[0.6762652615677212,\n",
       " 0.2832203809255418,\n",
       " 0.1683403230146041,\n",
       " 0.11490731566254908,\n",
       " 0.08462243039630835,\n",
       " 0.06543643227274742,\n",
       " 0.05237217326481414,\n",
       " 0.04301094591596666,\n",
       " 0.036042004936120975,\n",
       " 0.03069700671431974]"
      ]
     },
     "execution_count": 39,
     "metadata": {},
     "output_type": "execute_result"
    }
   ],
   "source": [
    "sec_df_approx = [f_deriv3(f2,a=i,h=10**-3) for i in range (1,11)]\n",
    "sec_df_approx"
   ]
  },
  {
   "attachments": {},
   "cell_type": "markdown",
   "metadata": {},
   "source": [
    "Errores"
   ]
  },
  {
   "cell_type": "code",
   "execution_count": 40,
   "metadata": {},
   "outputs": [],
   "source": [
    "errors = []\n",
    "for (i,j) in zip_longest(sec_df_approx,sec_df_exact):\n",
    "    errors.append(abs(i-j))"
   ]
  },
  {
   "attachments": {},
   "cell_type": "markdown",
   "metadata": {},
   "source": [
    "Comparación"
   ]
  },
  {
   "cell_type": "code",
   "execution_count": 41,
   "metadata": {},
   "outputs": [
    {
     "name": "stdout",
     "output_type": "stream",
     "text": [
      "h = 10^-1\t Exact= 0.676265098285376\t Approx = 0.6762652615677212\t Error:1.63282345311266E-7\n",
      "h = 10^-2\t Exact= 0.283220364176106\t Approx = 0.2832203809255418\t Error:1.67494356717590E-8\n",
      "h = 10^-3\t Exact= 0.168340319928121\t Approx = 0.1683403230146041\t Error:3.08648318014804E-9\n",
      "h = 10^-4\t Exact= 0.114907312895053\t Approx = 0.11490731566254908\t Error:2.76749589911418E-9\n",
      "h = 10^-5\t Exact= 0.0846224302869937\t Approx = 0.08462243039630835\t Error:1.09314654550552E-10\n"
     ]
    }
   ],
   "source": [
    "for i in range (1,6):\n",
    "    print(\"h = 10^{}\\t Exact= {}\\t Approx = {}\\t Error:{}\".format(-i,sec_df_exact[i-1], sec_df_approx[i-1],errors[i-1]))"
   ]
  },
  {
   "attachments": {},
   "cell_type": "markdown",
   "metadata": {},
   "source": [
    "## EJERCICIO 4"
   ]
  },
  {
   "attachments": {},
   "cell_type": "markdown",
   "metadata": {},
   "source": [
    "Divida el intervalo $[1,2]$ en 100 partes iguales y aplique las fórmulas del rectángulo, Simpson y trapecio compuestas para aproximar la integral en dicho intervalo de $f_1$. Compare dichos resultados."
   ]
  },
  {
   "attachments": {},
   "cell_type": "markdown",
   "metadata": {},
   "source": [
    "Calculemos en primer lugar el valor exacto de la integral en el intervalo $[1,2]$. Para ello, utilizaremos quad:"
   ]
  },
  {
   "cell_type": "code",
   "execution_count": 49,
   "metadata": {},
   "outputs": [
    {
     "data": {
      "text/plain": [
       "2.050446234534731"
      ]
     },
     "execution_count": 49,
     "metadata": {},
     "output_type": "execute_result"
    }
   ],
   "source": [
    "a,b = 1,2\n",
    "valor_exacto = quad(f1, a, b)[0]\n",
    "valor_exacto"
   ]
  },
  {
   "attachments": {},
   "cell_type": "markdown",
   "metadata": {},
   "source": [
    "Comenzaremos definiendo las fórmulas compuestas que nos piden aplicar en el ejercicio para la aproximación de la integral de $f1$ en el intervalo $[1,2]$."
   ]
  },
  {
   "cell_type": "code",
   "execution_count": 42,
   "metadata": {},
   "outputs": [],
   "source": [
    "def left_rectangle_int(f,a,b,nx):\n",
    "    '''fórmula compuesta de los rectangulos a izquierda'''\n",
    "    h = (b-a)/nx\n",
    "    return h*sum([f(a+i*h) for i in range(0,nx)])\n",
    "\n",
    "def right_rectangle_int(f,a,b,nx):\n",
    "    '''fórmula compuesta de los rectangulos a derecha'''\n",
    "    h = (b-a)/nx\n",
    "    return h*sum([f(a+i*h) for i in range(1,nx+1)])\n",
    "\n",
    "def trapezoid_int(f,a,b,nx):\n",
    "    '''fórmula compuesta de los trapecios'''\n",
    "    h = (b-a)/nx\n",
    "    return h*(f(a)+f(b))/2+h*sum([f(a+i*h) for i in range(1,nx)])\n",
    "\n",
    "def simpson_int(f,a,b,m):\n",
    "    '''fórmula compuesta de Simpson'''\n",
    "    h= (b-a)/(2*m)\n",
    "    P = sum([f(a+2*i*h) for i in range(1,m)])\n",
    "    I = sum([f(a+(2*i-1)*h) for i in range(1,m+1)])\n",
    "    E = f(a)+f(b)\n",
    "    return h/3*(E+2*P+4*I)"
   ]
  },
  {
   "attachments": {},
   "cell_type": "markdown",
   "metadata": {},
   "source": [
    "Calculemos las aproximaciones:"
   ]
  },
  {
   "cell_type": "code",
   "execution_count": 52,
   "metadata": {},
   "outputs": [],
   "source": [
    "n = 100\n",
    "approxs = []\n",
    "approxs.append(left_rectangle_int(f1, a, b, n))\n",
    "approxs.append(right_rectangle_int(f1, a, b, n))\n",
    "approxs.append(trapezoid_int(f1, a, b, n))\n",
    "approxs.append(simpson_int(f1, a, b, n))"
   ]
  },
  {
   "attachments": {},
   "cell_type": "markdown",
   "metadata": {},
   "source": [
    "Comparación y errores"
   ]
  },
  {
   "cell_type": "code",
   "execution_count": 54,
   "metadata": {},
   "outputs": [
    {
     "name": "stdout",
     "output_type": "stream",
     "text": [
      "Valor exacto: 2.050446234534731\n",
      "Rectángulo izquierda \t Approx = 2.0354943390855573 \t Error = 0.014951895449173858\n",
      "Rectángulo derecha \t Approx = 2.065494339085557 \t Error = 0.015048104550825947\n",
      "Trapecio \t\t Approx = 2.050494339085557 \t Error = 4.8104550825822656e-05\n",
      "Simpson \t\t Approx = 2.0504462346235295 \t Error = 8.879830204477912e-11\n"
     ]
    }
   ],
   "source": [
    "print(\"Valor exacto: {}\".format(valor_exacto))\n",
    "print(\"Rectángulo izquierda \\t Approx = {} \\t Error = {}\".format(approxs[0],abs(approxs[0]-valor_exacto)))\n",
    "print(\"Rectángulo derecha \\t Approx = {} \\t Error = {}\".format(approxs[1],abs(approxs[1]-valor_exacto)))\n",
    "print(\"Trapecio \\t\\t Approx = {} \\t Error = {}\".format(approxs[2],abs(approxs[2]-valor_exacto)))\n",
    "print(\"Simpson \\t\\t Approx = {} \\t Error = {}\".format(approxs[3],abs(approxs[3]-valor_exacto)))\n"
   ]
  },
  {
   "attachments": {},
   "cell_type": "markdown",
   "metadata": {},
   "source": [
    "Observamos que la fórmula de Simpson ofrece la mejor aproximación."
   ]
  },
  {
   "attachments": {},
   "cell_type": "markdown",
   "metadata": {},
   "source": [
    "## EJERCICIO 5"
   ]
  },
  {
   "attachments": {},
   "cell_type": "markdown",
   "metadata": {},
   "source": [
    "Repita el ejercicio 4 para $f_2$."
   ]
  },
  {
   "attachments": {},
   "cell_type": "markdown",
   "metadata": {},
   "source": [
    "Calculemos el valor exacto de la integral (teniendo en cuenta el pequeño error que quad comete al calcular dicha integral)"
   ]
  },
  {
   "cell_type": "code",
   "execution_count": 56,
   "metadata": {},
   "outputs": [
    {
     "data": {
      "text/plain": [
       "3.77658111776791"
      ]
     },
     "execution_count": 56,
     "metadata": {},
     "output_type": "execute_result"
    }
   ],
   "source": [
    "a,b = 1,2\n",
    "valor_exacto = quad(f2, a, b)[0]\n",
    "valor_exacto"
   ]
  },
  {
   "attachments": {},
   "cell_type": "markdown",
   "metadata": {},
   "source": [
    "Calculemos las aproximaciones"
   ]
  },
  {
   "cell_type": "code",
   "execution_count": 57,
   "metadata": {},
   "outputs": [],
   "source": [
    "n = 100\n",
    "approxs = []\n",
    "approxs.append(left_rectangle_int(f2, a, b, n))\n",
    "approxs.append(right_rectangle_int(f2, a, b, n))\n",
    "approxs.append(trapezoid_int(f2, a, b, n))\n",
    "approxs.append(simpson_int(f2, a, b, n))"
   ]
  },
  {
   "attachments": {},
   "cell_type": "markdown",
   "metadata": {},
   "source": [
    "Comparación y errores"
   ]
  },
  {
   "cell_type": "code",
   "execution_count": 58,
   "metadata": {},
   "outputs": [
    {
     "name": "stdout",
     "output_type": "stream",
     "text": [
      "Valor exacto: 3.77658111776791\n",
      "Rectángulo izquierda \t Approx = 3.778523202782093 \t Error = 0.001942085014183359\n",
      "Rectángulo derecha \t Approx = 3.774646194132547 \t Error = 0.0019349236353627397\n",
      "Trapecio \t\t Approx = 3.77658469845732 \t Error = 3.5806894103096454e-06\n",
      "Simpson \t\t Approx = 3.7765811177702457 \t Error = 2.3359092438113294e-12\n"
     ]
    }
   ],
   "source": [
    "print(\"Valor exacto: {}\".format(valor_exacto))\n",
    "print(\"Rectángulo izquierda \\t Approx = {} \\t Error = {}\".format(approxs[0],abs(approxs[0]-valor_exacto)))\n",
    "print(\"Rectángulo derecha \\t Approx = {} \\t Error = {}\".format(approxs[1],abs(approxs[1]-valor_exacto)))\n",
    "print(\"Trapecio \\t\\t Approx = {} \\t Error = {}\".format(approxs[2],abs(approxs[2]-valor_exacto)))\n",
    "print(\"Simpson \\t\\t Approx = {} \\t Error = {}\".format(approxs[3],abs(approxs[3]-valor_exacto)))"
   ]
  },
  {
   "attachments": {},
   "cell_type": "markdown",
   "metadata": {},
   "source": [
    "Observamos que la fórmula de Simpson da la mejor aproximación."
   ]
  },
  {
   "attachments": {},
   "cell_type": "markdown",
   "metadata": {},
   "source": [
    "## EJERCICIO 6"
   ]
  },
  {
   "attachments": {},
   "cell_type": "markdown",
   "metadata": {},
   "source": [
    "Sea $f_3(x)=x^{15} e^x$ en $[0,2]$. Vamos a dividir el intervalo en $10\\times 2^n$ subintervalos, es decir, $10,\\,20,\\,40,\\, 80,\\ldots $ y a aplicar la fórmula de Simpson compuesta hasta que la diferencia entre dos aproximaciones consecutivas (por ejemplo, podrían\n",
    "ser con $20$ y $40$ subintervalos) sea menor que $10^{-2}$, dando en tal caso por buena la última aproximación obtenida. Programe\n",
    "y calcule dicha aproximación. Compare ambas aproximaciones con\n",
    "el valor exacto."
   ]
  },
  {
   "attachments": {},
   "cell_type": "markdown",
   "metadata": {},
   "source": [
    "Definamos la función $f(x)$ así como todas las variables que vamos a emplear en la resolución del ejercicio:"
   ]
  },
  {
   "cell_type": "code",
   "execution_count": 61,
   "metadata": {},
   "outputs": [],
   "source": [
    "a, b = 0, 2\n",
    "n = 10\n",
    "e = 10**(-2)\n",
    "n = 0\n",
    "nxx = 10*2**(n)\n",
    "\n",
    "def f6(x):\n",
    "    return x**15*sp.exp(x)"
   ]
  },
  {
   "attachments": {},
   "cell_type": "markdown",
   "metadata": {},
   "source": [
    "Vamos a aplicar la fórmula de Simposon compuesta definida en el ejercicio 4 de forma reiterada hasta que la diferencia entre las aproximaciones sea inferior a **e**. Para ello, vamos a hacer un bucle while con el que vamos a calcular en cada iteración, la diferencia entre el resultado actual del valor de la integral empleando $10 \\cdot 2^{n}$ intervalos y el valor anterior, con $10 \\cdot 2^{n-1}$ intervalos. En el momento en el que la diferencia entre dichos valores sea inferior a e, se devuelve el resultado."
   ]
  },
  {
   "cell_type": "code",
   "execution_count": 62,
   "metadata": {},
   "outputs": [],
   "source": [
    "simpson_prev = simpson_int(f6,a,b,int(nxx/2))\n",
    "n = n+1\n",
    "nxx = 10*2**(n)\n",
    "simpson_act = simpson_int(f6,a,b,int(nxx/2))\n",
    "while abs(sp.N(simpson_act) - sp.N(simpson_prev)) >= e:\n",
    "    simpson_prev = simpson_act\n",
    "    n = n+1 ; nxx = 10*2**(n)\n",
    "    simpson_act = simpson_int(f6,a,b,int(nxx/2))"
   ]
  },
  {
   "attachments": {},
   "cell_type": "markdown",
   "metadata": {},
   "source": [
    "Resultados:"
   ]
  },
  {
   "cell_type": "code",
   "execution_count": 66,
   "metadata": {},
   "outputs": [
    {
     "name": "stdout",
     "output_type": "stream",
     "text": [
      "Valor exacto: 27062.70241389961\n",
      "Aproximación obtenida actual: 27062.7024808912\n",
      "Aproximación obtenida anterior: 27062.7034855828\n",
      "Error con actual: 0.0000669916043989360\n",
      "Error con anterior: 0.00107168316390016\n"
     ]
    }
   ],
   "source": [
    "print(\"Valor exacto: {}\".format(quad(f6,a,b)[0]))\n",
    "print(\"Aproximación obtenida actual: {}\".format(sp.N(simpson_act)))\n",
    "print(\"Aproximación obtenida anterior: {}\".format(sp.N(simpson_prev)))\n",
    "print(\"Error con actual: {}\".format(abs(sp.N(simpson_act) - quad(f6,a,b)[0])))\n",
    "print(\"Error con anterior: {}\".format(abs(sp.N(simpson_prev) - quad(f6,a,b)[0])))"
   ]
  },
  {
   "attachments": {},
   "cell_type": "markdown",
   "metadata": {},
   "source": [
    "## EJERCICIO 7"
   ]
  },
  {
   "attachments": {},
   "cell_type": "markdown",
   "metadata": {},
   "source": [
    "Calcule las fórmulas gaussianas con $2$ y $3$ nodos,en el intervalo $[-1,1]$, siendo la función peso el valor absoluto de la variable. Aplíquelas para aproximar la función $x\\; e^x$ en $[-1,1]$ y compare los resultados con el valor exacto (organizando los cálculos de forma adecuada)."
   ]
  },
  {
   "attachments": {},
   "cell_type": "markdown",
   "metadata": {},
   "source": [
    "Definamos la función"
   ]
  },
  {
   "cell_type": "code",
   "execution_count": 88,
   "metadata": {},
   "outputs": [],
   "source": [
    "def f7(x):\n",
    "    return x*np.exp(x)"
   ]
  },
  {
   "cell_type": "code",
   "execution_count": 81,
   "metadata": {},
   "outputs": [],
   "source": [
    "#Intervalo\n",
    "a = -1\n",
    "b = 1"
   ]
  },
  {
   "attachments": {},
   "cell_type": "markdown",
   "metadata": {},
   "source": [
    "Vamos a definir en primer lugar la función peso, $w(x) = | x |$ y la función python para la cuadratura gaussiana, que se ha implementado agrupando las múltiples celdas en las que se desarrolla la gaussiana en los apuntes de la práctica."
   ]
  },
  {
   "attachments": {},
   "cell_type": "markdown",
   "metadata": {},
   "source": [
    "Función peso"
   ]
  },
  {
   "cell_type": "code",
   "execution_count": 82,
   "metadata": {},
   "outputs": [],
   "source": [
    "def w(x):\n",
    "    return abs(x)"
   ]
  },
  {
   "attachments": {},
   "cell_type": "markdown",
   "metadata": {},
   "source": [
    "Cuadratura de la gaussiana"
   ]
  },
  {
   "cell_type": "code",
   "execution_count": 83,
   "metadata": {},
   "outputs": [],
   "source": [
    "def gaussian_quadrature(f,w,a,b,n):\n",
    "    \n",
    "    z = sp.Symbol('z')\n",
    "    x = sp.Symbol('x')\n",
    "    grexact = 2*n-1\n",
    "    p = sp.symbols('p1:'+ str(n+1))\n",
    "    c = sp.symbols('c1:'+ str(n+1))\n",
    "    nodos = list(p)\n",
    "    coefs = list(c)\n",
    "    incogs = coefs + nodos\n",
    "\n",
    "    ecs = [np.dot([(z**i).subs({z:nodos[j]}) for j in range(n)],coefs)-sp.integrate(w(x)*x**i,(x,a,b)) for i in range(grexact+1)]\n",
    "    solsGauss = sp.solve(ecs,incogs)\n",
    "\n",
    "    for i in range(n):\n",
    "        coefs[i] = solsGauss[0][i]\n",
    "        nodos[i] = solsGauss[0][i+n]\n",
    "\n",
    "    return np.dot([f(nodos[i]) for i in range(n)],coefs)"
   ]
  },
  {
   "attachments": {},
   "cell_type": "markdown",
   "metadata": {},
   "source": [
    "Hagámos cálculos"
   ]
  },
  {
   "cell_type": "code",
   "execution_count": 91,
   "metadata": {},
   "outputs": [],
   "source": [
    "sol_exact   = quad(f7,a,b)[0]\n",
    "sol_2_nodos = sp.N(gaussian_quadrature(lambda x:x*sp.exp(x), w, a, b, 2))\n",
    "sol_3_nodos = sp.N(gaussian_quadrature(lambda x:x*sp.exp(x), w, a, b, 3))"
   ]
  },
  {
   "attachments": {},
   "cell_type": "markdown",
   "metadata": {},
   "source": [
    "Comparación de resultados"
   ]
  },
  {
   "cell_type": "code",
   "execution_count": 92,
   "metadata": {},
   "outputs": [
    {
     "name": "stdout",
     "output_type": "stream",
     "text": [
      "Valor exacto:  0.7357588823428846\n",
      "Cuadratura gaussiana con 2 nodos:  0.542720820636303\n",
      "Error cometido:  0.193038061706581\n",
      "Cuadratura gaussiana con 3 nodos:  0.557437075708894\n",
      "Error cometido:  0.178321806633991\n"
     ]
    }
   ],
   "source": [
    "print(\"Valor exacto: \", sol_exact)\n",
    "print(\"Cuadratura gaussiana con 2 nodos: \",str(sol_2_nodos))\n",
    "print(\"Error cometido: \", str(abs(sol_2_nodos-sol_exact)))\n",
    "print(\"Cuadratura gaussiana con 3 nodos: \",str(sol_3_nodos))\n",
    "print(\"Error cometido: \", str(abs(sol_3_nodos-sol_exact)))"
   ]
  },
  {
   "attachments": {},
   "cell_type": "markdown",
   "metadata": {},
   "source": [
    "## EJERCICIO 8"
   ]
  },
  {
   "attachments": {},
   "cell_type": "markdown",
   "metadata": {},
   "source": [
    "Programar las técnicas de integración de Romberg y adaptativa, para después aplicarlas a la aproximación de la siguiente integral $$\\int_a^b p(x)\\, dx$$\n",
    "siendo  $\\;a=\\displaystyle\\min_{0\\leq i\\leq 7}{d_i}$, $\\;b=\\displaystyle\\max_{0\\leq i\\leq 7}{d_i}$ y \n",
    "$$p(x)=d_0 + d_1 x + d_2 x^2 + d_3 x^3+ d_4 x^4 + d_5 x^5 + d_6 x^6 + d_7 x^7 $$\n",
    "(siendo $d_0, d_1, \\ldots, d_7$ los dígitos de su DNI, pasaporte o tarjeta de residente)."
   ]
  },
  {
   "attachments": {},
   "cell_type": "markdown",
   "metadata": {},
   "source": [
    "Definamos en primer lugar los datos del problema de acuerdo con los dígitos de mi DNI: 78006011"
   ]
  },
  {
   "cell_type": "code",
   "execution_count": 94,
   "metadata": {},
   "outputs": [
    {
     "data": {
      "text/latex": [
       "$\\displaystyle x^{7} + x^{6} + 6 x^{4} + 8 x + 7$"
      ],
      "text/plain": [
       "x**7 + x**6 + 6*x**4 + 8*x + 7"
      ]
     },
     "execution_count": 94,
     "metadata": {},
     "output_type": "execute_result"
    }
   ],
   "source": [
    "DNI = [7,8,0,0,6,0,1,1]\n",
    "a   = min(DNI)\n",
    "b   = max(DNI)\n",
    "x   = sp.Symbol('x')\n",
    "def p(x):\n",
    "\n",
    "    return 7+8*x+6*x**4+x**6+x**7\n",
    "\n",
    "p(x)"
   ]
  },
  {
   "attachments": {},
   "cell_type": "markdown",
   "metadata": {},
   "source": [
    "Calculemos en primer lugar el valor exacto de la integral en $[0,8]$ del polinomio:"
   ]
  },
  {
   "cell_type": "code",
   "execution_count": 95,
   "metadata": {},
   "outputs": [
    {
     "data": {
      "text/plain": [
       "2436378.7428571433"
      ]
     },
     "execution_count": 95,
     "metadata": {},
     "output_type": "execute_result"
    }
   ],
   "source": [
    "v_exact = quad(p,a,b)[0]\n",
    "v_exact"
   ]
  },
  {
   "attachments": {},
   "cell_type": "markdown",
   "metadata": {},
   "source": [
    "Vamos a aplicar la técnica de integración Romberg para integrar el polinomio en el intervalo dado. Para ello, vamos a definir una función que calcule $R[N][N]$ para un $N$ concreto:"
   ]
  },
  {
   "cell_type": "code",
   "execution_count": 96,
   "metadata": {},
   "outputs": [],
   "source": [
    "def romberg(f,a,b,N):\n",
    "\n",
    "    R = np.zeros((N+1,N+1))\n",
    "    \n",
    "    for j in range(0,N+1):\n",
    "        R[j][0] = trapezoid_int(f, a, b, 2**j)\n",
    "        for k in range(1, j+1):\n",
    "            R[j][k] = (4**k*R[j][k-1]-R[j-1][k-1])/(4**k-1)\n",
    "    \n",
    "    return R[N][N]"
   ]
  },
  {
   "attachments": {},
   "cell_type": "markdown",
   "metadata": {},
   "source": [
    "Además aplicaremos la técnica de integración adaptativa para integrar el polinomio en dicho intervalo. Es por ello que vamos a definir también el algoritmo de integración adaptativa, basado en la fórmula de Simpson, que vamos a denotar por $S$ a la hora de aplicarla, como indica en los apuntes de teoría. Es un **algoritmo recursivo** que consiste en los siguiente:\n",
    "\n",
    "Si $| S(a,b) - S(a,m) - S(m,b) | < 10 \\epsilon$ se acepta que $\\int_{a}^{b} f(x) dx \\approx S(a,m) + S(m,b)$ con error < $\\epsilon$\n",
    "\n",
    "En caso contrario, se aplica el algoritmo en $[a,m]$ y $[m,b]$ con erro $\\frac{\\epsilon}{2}$ en cada uno de los dos subintervalos.\n",
    "\n"
   ]
  },
  {
   "cell_type": "code",
   "execution_count": 98,
   "metadata": {},
   "outputs": [],
   "source": [
    "def simple_simpson_int(f,a,b):\n",
    "    '''fórmula simple de Simpson'''\n",
    "    return (b-a)*(f(a)+4*f((a+b)/2)+f(b))/6\n",
    "\n",
    "S = simple_simpson_int\n",
    "\n",
    "def adaptativa(f,a,b,tol=10**(-16)):\n",
    "    \n",
    "    m = (a+b)/2\n",
    "    s2 = S(f,a,m) + S(f,m,b)\n",
    "    \n",
    "    if abs(S(f,a,b) - s2) < tol:\n",
    "        return s2\n",
    "    else:\n",
    "        return adaptativa(f,a,m,tol/2)+adaptative_int(f,m,b,tol/2)"
   ]
  },
  {
   "attachments": {},
   "cell_type": "markdown",
   "metadata": {},
   "source": [
    "Cálculo de aproximaciones y comparación"
   ]
  },
  {
   "cell_type": "code",
   "execution_count": 99,
   "metadata": {},
   "outputs": [
    {
     "name": "stdout",
     "output_type": "stream",
     "text": [
      "Valor exacto de la integral 2436378.7428571433\n",
      "Integral aproximada por la fórmula de Romberg:  2436378.742857141\n",
      "Error:  2.3283064365386963e-09\n",
      "Integral aproximada por la fórmula adaptativa:  2436378.7428571633\n",
      "Error:  2.0023435354232788e-08\n"
     ]
    }
   ],
   "source": [
    "# Tomamos N = 10 por ejemplo\n",
    "N = 10\n",
    "tolerancia = 10**(-6)\n",
    "\n",
    "print(\"Valor exacto de la integral\", v_exact)\n",
    "print(\"Integral aproximada por la fórmula de Romberg: \", romberg(p,a,b,N))\n",
    "print(\"Error: \", abs(v_exact - romberg(p,a,b,N)))\n",
    "print(\"Integral aproximada por la fórmula adaptativa: \", adaptativa(p,a,b,tolerancia))\n",
    "print(\"Error: \", abs(v_exact - adaptativa(p,a,b,tolerancia)))"
   ]
  }
 ],
 "metadata": {
  "kernelspec": {
   "display_name": "Python 3",
   "language": "python",
   "name": "python3"
  },
  "language_info": {
   "codemirror_mode": {
    "name": "ipython",
    "version": 3
   },
   "file_extension": ".py",
   "mimetype": "text/x-python",
   "name": "python",
   "nbconvert_exporter": "python",
   "pygments_lexer": "ipython3",
   "version": "3.8.10"
  },
  "orig_nbformat": 4
 },
 "nbformat": 4,
 "nbformat_minor": 2
}
