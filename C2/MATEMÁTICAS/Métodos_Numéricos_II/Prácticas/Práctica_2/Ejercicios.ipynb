{
 "cells": [
  {
   "attachments": {},
   "cell_type": "markdown",
   "metadata": {},
   "source": [
    "# RELACIÓN DE EJERCICIOS"
   ]
  },
  {
   "attachments": {},
   "cell_type": "markdown",
   "metadata": {},
   "source": [
    "Ejercicio Propuesto 1: Pruebe ahora a repetir el mismo proceso, pero con los datos de interpolación (𝑎−ℎ,𝑓(𝑎−ℎ))\n",
    "y (𝑎,𝑓(𝑎)) por un lado y (𝑎−ℎ,𝑓(𝑎−ℎ)) junto con (𝑎+ℎ,𝑓(𝑎+ℎ))\n",
    "\n",
    "por otro. ¿Qué fórmulas de derivación numérica se obtiene en cada caso?\n",
    "\n",
    "A continuación vamos a usar tres nodos en vez de dos, empecemos por ejemplo con 𝑎−ℎ\n",
    ", 𝑎 y 𝑎+ℎ para la derivada primera. Este tipo de fómulas que emplean de manera simétrica puntos a ambos lados del punto de derivación se suelen denominar centradas."
   ]
  },
  {
   "attachments": {},
   "cell_type": "markdown",
   "metadata": {},
   "source": [
    "Ejercicio propuesto 2: En lo que respecta al orden o grado de exactitud (para funciones polinómicas) de las demás fórmulas vistas, realizar las comprobaciones pertinentes para ver si en estos casos coinciden o no con los respectivos órdenes de aproximación (para funciones arbitrarias, suficientemente derivables) obtenidos."
   ]
  },
  {
   "attachments": {},
   "cell_type": "markdown",
   "metadata": {},
   "source": [
    "Ejercicio: Realice una comparativa entre los errores cometidos al aproximar una integral definida concreta (como por ejemplo, potencias sucesivas 𝑥𝑖, con 𝑖=1,2,3,…) mediante las fórmulas de los trapecios y de Simpson compuestas; e inducir de ahí, los posibles órdenes de exactitud (a partir de los valores de 𝑖 que proporcionen valores exactos de la integral) y de aproximación (en función de ℎ=𝑏−𝑎𝑛, con 𝑛=2𝑚 para 𝑚∈ℕ) de ambas fórmulas. No deje de tener en cuenta los posibles errores de redondeo, inevitables en todo cálculo realizado con ordenador."
   ]
  },
  {
   "attachments": {},
   "cell_type": "markdown",
   "metadata": {},
   "source": [
    "**Ejercicio:** Intente integrar en el intervalo $[1,2]$ las funciones $e^x x$ y $\\frac{e^x}{x}$, usando la orden `integrate` y por otro lado calculando previamente una primitiva de la función integrando y aplicando la conocida regla de Barrow. Compare los resultados."
   ]
  },
  {
   "attachments": {},
   "cell_type": "markdown",
   "metadata": {},
   "source": [
    "Terminar ejercicio MN (17).\n",
    "\n",
    "Hacer ejercicios de pizarra MN.\n",
    "\n",
    "Hacer tutorial de IA pŕactica 2 para antes del jueves.\n",
    "\n",
    "Hacer práctica 2.2 de FIS.\n",
    "\n",
    "Empezar a estudiar VCI para examen 09/05/2023.\n",
    "\n",
    "\n"
   ]
  }
 ],
 "metadata": {
  "kernelspec": {
   "display_name": "Python 3",
   "language": "python",
   "name": "python3"
  },
  "language_info": {
   "codemirror_mode": {
    "name": "ipython",
    "version": 3
   },
   "file_extension": ".py",
   "mimetype": "text/x-python",
   "name": "python",
   "nbconvert_exporter": "python",
   "pygments_lexer": "ipython3",
   "version": "3.8.10"
  },
  "orig_nbformat": 4
 },
 "nbformat": 4,
 "nbformat_minor": 2
}
