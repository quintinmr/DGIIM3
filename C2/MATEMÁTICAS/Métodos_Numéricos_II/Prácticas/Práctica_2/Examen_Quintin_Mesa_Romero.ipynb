{
 "cells": [
  {
   "attachments": {},
   "cell_type": "markdown",
   "metadata": {},
   "source": [
    "<div style=\"float: right; margin: 0px 0px 10px 10px\"><img src=\"logo.png\" alt=\"UGR\" width=\"200\"></div>"
   ]
  },
  {
   "attachments": {},
   "cell_type": "markdown",
   "metadata": {},
   "source": [
    "# **EXAMEN PRÁCTICA 2**"
   ]
  },
  {
   "attachments": {},
   "cell_type": "markdown",
   "metadata": {},
   "source": [
    "> **Alumno**: Quintín Mesa Romero\n",
    "\n",
    ">  **Curso**: 3º DGIIM\n",
    "  \n",
    ">  **DNI**: 78006011Q\n",
    "  \n",
    ">  **Correo**: quintinmr@correo.ugr.es"
   ]
  },
  {
   "attachments": {},
   "cell_type": "markdown",
   "metadata": {},
   "source": [
    "Librerías que voy a utilizar durante el desarrollo del ejercicio"
   ]
  },
  {
   "cell_type": "code",
   "execution_count": 2,
   "metadata": {},
   "outputs": [],
   "source": [
    "import math as mt\n",
    "import sympy as sp\n",
    "from scipy.integrate import quad"
   ]
  },
  {
   "attachments": {},
   "cell_type": "markdown",
   "metadata": {},
   "source": [
    "Función que calcula de forma exacta la solucion de una ecuación"
   ]
  },
  {
   "cell_type": "code",
   "execution_count": 1,
   "metadata": {},
   "outputs": [],
   "source": [
    "# Función destinada al cálculo de las raíces de una ecuación, en una variable dada:\n",
    "def sol_exact(f,x,todas=True):\n",
    "    \n",
    "    try:\n",
    "        soluciones = sp.solve(f(x),x)\n",
    "        num_sols   = len(soluciones)\n",
    "        if todas==True:\n",
    "            print(\"Se han encontrado : {} soluciones\".format(num_sols))\n",
    "            for i in range(num_sols):\n",
    "                print(\"Solución {}: {}\".format(i+1,soluciones[i].evalf()))\n",
    "                \n",
    "        return soluciones,num_sols\n",
    "    \n",
    "    except NotImplementedError:\n",
    "        print(\"No existen soluciones para esta ecuación : {}\".format(f(x))) "
   ]
  },
  {
   "attachments": {},
   "cell_type": "markdown",
   "metadata": {},
   "source": [
    "Para la realización del ejercicio propuesto, voy a definir una lista con los dígitos de mi DNI:"
   ]
  },
  {
   "cell_type": "code",
   "execution_count": 11,
   "metadata": {},
   "outputs": [],
   "source": [
    "DNI = [7,8,0,0,6,0,1,1]"
   ]
  },
  {
   "attachments": {},
   "cell_type": "markdown",
   "metadata": {},
   "source": [
    "Definimos las variables necesarias para la elaboración del ejercicio:"
   ]
  },
  {
   "cell_type": "code",
   "execution_count": 12,
   "metadata": {},
   "outputs": [],
   "source": [
    "s = 7+8+0+0+6+0+1+1\n",
    "m = s/8\n",
    "a = min((DNI))\n",
    "b = max((DNI))"
   ]
  },
  {
   "attachments": {},
   "cell_type": "markdown",
   "metadata": {},
   "source": [
    "Una vez hecho esto, definamos la función con la que hemos de trabajar:"
   ]
  },
  {
   "cell_type": "code",
   "execution_count": 9,
   "metadata": {},
   "outputs": [],
   "source": [
    "# Definimos x como un símbolo\n",
    "\n",
    "x = sp.Symbol('x')"
   ]
  },
  {
   "cell_type": "code",
   "execution_count": 6,
   "metadata": {},
   "outputs": [],
   "source": [
    "def f(x):\n",
    "\n",
    "    return s*mt.sinh(x**m)\n"
   ]
  },
  {
   "attachments": {},
   "cell_type": "markdown",
   "metadata": {},
   "source": [
    "Su derivada, tiene la siguiente expresión:\n",
    "\n",
    "$f'(x) = smx^{m-1} \\cdot cosh(x^{m})$"
   ]
  },
  {
   "attachments": {},
   "cell_type": "markdown",
   "metadata": {},
   "source": [
    "Definimos entonces la derivada de la función de la siguiente forma:"
   ]
  },
  {
   "cell_type": "code",
   "execution_count": 13,
   "metadata": {},
   "outputs": [],
   "source": [
    "def df(x):\n",
    "\n",
    "    return s *m*x**(m-1)*mt.cosh(x**m)"
   ]
  },
  {
   "attachments": {},
   "cell_type": "markdown",
   "metadata": {},
   "source": [
    "Queremos integrar en el intervalo [a,b]. Para ello, vamos a dividir dicho intervalo en $10x2^{n}$ subintervalos y aplicaremos la fómrula compuesta del trapecio corregido hasta que la la diferencia en v.abs entre dos aproximaciones sea inferior a $10^{-6}$"
   ]
  },
  {
   "cell_type": "code",
   "execution_count": 38,
   "metadata": {},
   "outputs": [],
   "source": [
    "# Número de subintervalos\n",
    "n   = 0\n",
    "nxx = 10*2**(n)\n",
    "\n",
    "# Tolerancia\n",
    "err = 10**(-6)"
   ]
  },
  {
   "attachments": {},
   "cell_type": "markdown",
   "metadata": {},
   "source": [
    "A continuación implementaremos una función para aplicar la **fórmula compuesta del trapecio corregido**."
   ]
  },
  {
   "cell_type": "code",
   "execution_count": 39,
   "metadata": {},
   "outputs": [],
   "source": [
    "def comp_trapecio_corr(f,df,a,b,nx):\n",
    "    h = (b-a)/nx\n",
    "    return h/2*(f(a)+f(b)+2*sum([f(a+i*h) for i in range(1,nx)]))-h**2/12*(df(b)-df(a))"
   ]
  },
  {
   "cell_type": "code",
   "execution_count": 40,
   "metadata": {},
   "outputs": [
    {
     "name": "stdout",
     "output_type": "stream",
     "text": [
      "Iteracion 1: 0, Iteracion -2.3883443319424908e+173: -9.819966549817834e+173, ERROR : 7.431622217875343e+173\n",
      "Iteracion 2: -5.637624302296387e+172, Iteracion 1: -2.3883443319424908e+173, ERROR : 1.824581901712852e+173\n",
      "Iteracion 3: -1.2427878117935653e+172, Iteracion 2: -5.637624302296387e+172, ERROR : 4.394836490502822e+172\n",
      "Iteracion 4: -2.2738755017536586e+171, Iteracion 3: -1.2427878117935653e+172, ERROR : 1.0154002616181994e+172\n",
      "Iteracion 5: -1.5048114115324323e+170, Iteracion 4: -2.2738755017536586e+171, ERROR : 2.1233943606004156e+171\n",
      "Iteracion 6: 1.9528570450716295e+170, Iteracion 5: -1.5048114115324323e+170, ERROR : 3.4576684566040617e+170\n",
      "Iteracion 7: 2.322401858224212e+170, Iteracion 6: 1.9528570450716295e+170, ERROR : 3.695448131525825e+169\n",
      "Iteracion 8: 2.3505713031873064e+170, Iteracion 7: 2.322401858224212e+170, ERROR : 2.816944496309447e+168\n",
      "Iteracion 9: 2.3524346982867512e+170, Iteracion 8: 2.3505713031873064e+170, ERROR : 1.8633950994447984e+167\n",
      "Iteracion 10: 2.3525528881030208e+170, Iteracion 9: 2.3524346982867512e+170, ERROR : 1.18189816269516e+166\n",
      "Iteracion 11: 2.352560302472487e+170, Iteracion 10: 2.3525528881030208e+170, ERROR : 7.414369466209842e+164\n",
      "Iteracion 12: 2.3525607663023838e+170, Iteracion 11: 2.352560302472487e+170, ERROR : 4.638298968466822e+163\n",
      "Iteracion 13: 2.3525607952985045e+170, Iteracion 12: 2.3525607663023838e+170, ERROR : 2.8996120691471635e+162\n",
      "Iteracion 14: 2.3525607971108674e+170, Iteracion 13: 2.3525607952985045e+170, ERROR : 1.8123628950677867e+161\n",
      "Iteracion 15: 2.3525607972241414e+170, Iteracion 14: 2.3525607971108674e+170, ERROR : 1.1327398820300984e+160\n",
      "Iteracion 16: 2.3525607972312202e+170, Iteracion 15: 2.3525607972241414e+170, ERROR : 7.078786274692494e+158\n",
      "Iteracion 17: 2.352560797231664e+170, Iteracion 16: 2.3525607972312202e+170, ERROR : 4.4379844248109996e+157\n",
      "Iteracion 18: 2.35256079723169e+170, Iteracion 17: 2.352560797231664e+170, ERROR : 2.601114738408864e+156\n",
      "Iteracion 19: 2.3525607972317007e+170, Iteracion 18: 2.35256079723169e+170, ERROR : 1.0726246343954078e+156\n",
      "Iteracion 20: 2.3525607972316876e+170, Iteracion 19: 2.3525607972317007e+170, ERROR : 1.3139651771343745e+156\n",
      "Iteracion 21: 2.352560797231693e+170, Iteracion 20: 2.3525607972316876e+170, ERROR : 5.363123171977039e+155\n",
      "Iteracion 22: 2.352560797231693e+170, Iteracion 21: 2.352560797231693e+170, ERROR : 0.0\n"
     ]
    }
   ],
   "source": [
    "comp_trapecio_corr_before = comp_trapecio_corr(f,df,a,b, int(nxx/2))\n",
    "n = n+1\n",
    "nxx = 10*2**(n)\n",
    "comp_trapecio_corr_aftr = comp_trapecio_corr(f,df,a,b, int(nxx/2))\n",
    "\n",
    "print('Iteracion {}: {}, Iteracion {}: {}, ERROR : {}'.format(n,n-1,comp_trapecio_corr_aftr,comp_trapecio_corr_before,abs(comp_trapecio_corr_aftr-comp_trapecio_corr_before)))\n",
    "while abs(sp.N(comp_trapecio_corr_aftr) - sp.N(comp_trapecio_corr_before)) >= err:\n",
    "    comp_trapecio_corr_before = comp_trapecio_corr_aftr\n",
    "    n = n+1 ; nxx = 10*2**(n)\n",
    "    comp_trapecio_corr_aftr = comp_trapecio_corr(f,df,a,b,int(nxx/2))\n",
    "    print('Iteracion {}: {}, Iteracion {}: {}, ERROR : {}'.format(n,comp_trapecio_corr_aftr,n-1,comp_trapecio_corr_before,abs(comp_trapecio_corr_aftr-comp_trapecio_corr_before)))\n"
   ]
  },
  {
   "attachments": {},
   "cell_type": "markdown",
   "metadata": {},
   "source": [
    "Comparemos entonces los resultados obtenidos:"
   ]
  },
  {
   "cell_type": "code",
   "execution_count": 42,
   "metadata": {},
   "outputs": [
    {
     "name": "stdout",
     "output_type": "stream",
     "text": [
      "Aproximación final obtenida: 2.352560797231693e+170\n",
      "Error entre iteraciones actual 22 y anterior 21: 0.0\n",
      "Solución con la función quad:2.352560797231593e+170\n",
      "Error iteración actual y solución real con quad: 1.0002224715737177e+157\n"
     ]
    }
   ],
   "source": [
    "# Comparación resultados\n",
    "\n",
    "print(\"Aproximación final obtenida:\", comp_trapecio_corr_aftr)\n",
    "print(\"Error entre iteraciones actual {} y anterior {}: {}\".format(n,n-1,abs(comp_trapecio_corr_aftr-comp_trapecio_corr_before)))\n",
    "print(\"Solución con la función quad:{}\".format(quad(f,a,b)[0]))\n",
    "print(\"Error iteración actual y solución real con quad: {}\".format(abs(quad(f,a,b)[0]-comp_trapecio_corr_aftr)))\n"
   ]
  },
  {
   "attachments": {},
   "cell_type": "markdown",
   "metadata": {},
   "source": []
  },
  {
   "cell_type": "code",
   "execution_count": null,
   "metadata": {},
   "outputs": [],
   "source": []
  }
 ],
 "metadata": {
  "kernelspec": {
   "display_name": "Python 3",
   "language": "python",
   "name": "python3"
  },
  "language_info": {
   "codemirror_mode": {
    "name": "ipython",
    "version": 3
   },
   "file_extension": ".py",
   "mimetype": "text/x-python",
   "name": "python",
   "nbconvert_exporter": "python",
   "pygments_lexer": "ipython3",
   "version": "3.8.10"
  },
  "orig_nbformat": 4
 },
 "nbformat": 4,
 "nbformat_minor": 2
}
