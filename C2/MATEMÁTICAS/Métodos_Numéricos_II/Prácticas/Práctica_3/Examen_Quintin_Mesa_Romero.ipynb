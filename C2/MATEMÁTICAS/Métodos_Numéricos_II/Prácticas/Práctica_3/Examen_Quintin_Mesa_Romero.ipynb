{
 "cells": [
  {
   "attachments": {},
   "cell_type": "markdown",
   "metadata": {},
   "source": [
    "<div style=\"float: right; margin: 0px 0px 10px 10px\"><img src=\"logo.png\" alt=\"UGR\" width=\"200\"></div>"
   ]
  },
  {
   "attachments": {},
   "cell_type": "markdown",
   "metadata": {},
   "source": [
    "# **EXAMEN PRÁCTICA 3**"
   ]
  },
  {
   "attachments": {},
   "cell_type": "markdown",
   "metadata": {},
   "source": [
    "> **Alumno**: Quintín Mesa Romero\n",
    "\n",
    ">  **Curso**: 3º DGIIM\n",
    "  \n",
    ">  **DNI**: \n",
    "  \n",
    ">  **Correo**: "
   ]
  },
  {
   "attachments": {},
   "cell_type": "markdown",
   "metadata": {},
   "source": [
    "En primer lugar importamos todas las librerías que van a ser utilizadas en el desarrollo del examen:"
   ]
  },
  {
   "cell_type": "code",
   "execution_count": 4,
   "metadata": {},
   "outputs": [],
   "source": [
    "import sympy as sp\n",
    "import numpy as np\n",
    "from tabulate import tabulate\n",
    "%matplotlib inline\n",
    "import matplotlib.pyplot as plt"
   ]
  },
  {
   "attachments": {},
   "cell_type": "markdown",
   "metadata": {},
   "source": [
    "En primer lugar, vamos a definir la función y obtener su solución exacta:"
   ]
  },
  {
   "cell_type": "code",
   "execution_count": 7,
   "metadata": {},
   "outputs": [],
   "source": [
    "a, b = 0, 1\n",
    "ya = 1\n",
    "ab1, ab2, ab3 = [], [], []  # Adam-Bashfort para k=1, k=2, k=3\n",
    "t, y0, z = sp.symbols('t, y_0,  z')\n",
    "\n",
    "def f(t,z):\n",
    "    return (t-z)/2"
   ]
  },
  {
   "cell_type": "code",
   "execution_count": 8,
   "metadata": {},
   "outputs": [],
   "source": [
    "# Vamos a empezar definiendo la Ec. Dif. Ordinaria (edo) a resolver\n",
    "y = sp.Function('y')\n",
    "edo = y(t).diff(t)-f(t,y(t))\n",
    "sp.Eq(edo,0)\n",
    "# y la resolvemos simbólicamente mediante la orden dsolve de SymPy\n",
    "edo_sol = sp.dsolve(edo)\n",
    "# Imonemos las condiciones iniciales\n",
    "ics = {y(0): y0}\n",
    "CI_eq = sp.Eq(edo_sol.lhs.subs(t, 0).subs(ics),edo_sol.rhs.subs(t, 0)) #la ecuación asociada \n",
    "# a la imposición de la condición inicial del PVI\n",
    "CI_sol = sp.solve(CI_eq) # que resolvemos mediante la orden solve\n",
    "# para obtener la única solución exacta de nuestro PVI \n",
    "sol_exacta = edo_sol.rhs.subs(CI_sol[0]).subs({y0:ya})\n",
    "\n",
    "y_x = sp.lambdify(t, sol_exacta, 'numpy')\n",
    "xx = np.linspace(a,b,100)"
   ]
  },
  {
   "attachments": {},
   "cell_type": "markdown",
   "metadata": {},
   "source": [
    "Una vez definido todo lo relativo a la función del PVI y su solución exacta, voy a implementar los tres métodos **Adam-Bashfort** con **k=1, k=2,k=3**"
   ]
  },
  {
   "attachments": {},
   "cell_type": "markdown",
   "metadata": {},
   "source": [
    "### K=1\n",
    "\n",
    "Para k=1, tenemos el método de Euler explícito:"
   ]
  },
  {
   "cell_type": "code",
   "execution_count": 29,
   "metadata": {},
   "outputs": [],
   "source": [
    "def integrateAB1(F,x0,y0,xfinal,N):    \n",
    "    X = np.linspace(x0,xfinal,N+1)\n",
    "    Y = [y0]; h = (xfinal-x0)/N\n",
    "    for n in range(N):\n",
    "        Y.append(Y[n] + h*F(X[n],Y[n]))\n",
    "    return np.array(X),np.array(Y)"
   ]
  },
  {
   "attachments": {},
   "cell_type": "markdown",
   "metadata": {},
   "source": [
    "### K=2\n",
    "\n",
    "$y_{n+2} = y_{n+1} + \\frac{h}{2} (3 f_{n+1} - f_{n})$"
   ]
  },
  {
   "cell_type": "code",
   "execution_count": 30,
   "metadata": {},
   "outputs": [],
   "source": [
    "def AB2(F,x0,y0,y1,h):\n",
    "        return (3*F(x0+h,y1)-F(x0,y0))/2 "
   ]
  },
  {
   "cell_type": "code",
   "execution_count": 31,
   "metadata": {},
   "outputs": [],
   "source": [
    "def integrateAB2(F,x0,y0,xfinal,N):\n",
    "    \n",
    "    import numpy as np   \n",
    "    \n",
    "    X = np.linspace(x0,xfinal,N+1)\n",
    "    h = (xfinal-x0)/N\n",
    "    y1 = y0 + h*F(x0,y0); Y = [y0,y1]\n",
    "    for n in range(N-1):\n",
    "        Y.append(Y[n+1] + h*AB2(F,X[n],Y[n],Y[n+1],h))\n",
    "    return np.array(X),np.array(Y)"
   ]
  },
  {
   "attachments": {},
   "cell_type": "markdown",
   "metadata": {},
   "source": [
    "### K=3\n",
    "\n",
    "$ y_{n+3} = y_{n+2} + \\frac{h}{12}(23f_{n+2}-16f_{n+1}+5f_{n})$"
   ]
  },
  {
   "cell_type": "code",
   "execution_count": 49,
   "metadata": {},
   "outputs": [],
   "source": [
    "def integrateAB3(F,x0,y0,xfinal,N):\n",
    "    \n",
    "    import numpy as np\n",
    "    \n",
    "    def AB3(F,x0,y0,y1,y2,h):\n",
    "        return (23*F(x0+2*h,y2)-16*F(x0+h,y1)+5*F(x0,y0))/12  \n",
    "    \n",
    "    X = np.linspace(x0,xfinal,N+1)\n",
    "    h = (xfinal-x0)/N\n",
    "    y1 = y0 + h*F(x0,y0); \n",
    "    y2 = y1 + h*AB2(F,x0,y0,y1,h)\n",
    "    Y = [y0,y1,y2]\n",
    "    for n in range(N-2):\n",
    "        Y.append(Y[n+2] + h*AB3(F,X[n],Y[n],Y[n+1],Y[n+2],h))\n",
    "    return np.array(X),np.array(Y)"
   ]
  },
  {
   "attachments": {},
   "cell_type": "markdown",
   "metadata": {},
   "source": [
    "Se nos pide que el paso sea de $h=0.1$, entonces, teniendo en cuenta que \n",
    "\n",
    "\n",
    "$$h=\\frac{b-a}{N} \\Longleftrightarrow 0.1= \\frac{1}{N}$$\n",
    "\n",
    "\n",
    "obtenemos que se requiere una partición del intervalo de $10$ subintervalos"
   ]
  },
  {
   "cell_type": "code",
   "execution_count": 50,
   "metadata": {},
   "outputs": [],
   "source": [
    "N = 10 # Número de iteraciones\n",
    "err_ab1, err_ab2, err_ab3 = ['ERROR Adam-Bashfort k=1'],['ERROR Adam-Bashfort k=2'],['ERROR Adam-Bashfort k=3']\n",
    "\n",
    "adamBash1 = {'xx': integrateAB1(f,a,ya,b,N)[0], 'yy': integrateAB1(f,a,ya,b,N)[1]}\n",
    "adamBash2 = {'xx': integrateAB2(f,a,ya,b,N)[0], 'yy': integrateAB2(f,a,ya,b,N)[1]}\n",
    "adamBash3 = {'xx': integrateAB3(f,a,ya,b,N)[0], 'yy': integrateAB3(f,a,ya,b,N)[1]}\n"
   ]
  },
  {
   "cell_type": "code",
   "execution_count": 51,
   "metadata": {},
   "outputs": [
    {
     "name": "stdout",
     "output_type": "stream",
     "text": [
      "ERRORES                      N = 10\n",
      "-----------------------  ----------\n",
      "ERROR Adam-Bashfort k=1  0.0233812\n",
      "ERROR Adam-Bashfort k=2  0.00368827\n",
      "ERROR Adam-Bashfort k=3  0.00368827\n"
     ]
    }
   ],
   "source": [
    "head = ['ERRORES', 'N = 10', '']\n",
    "err_ab1.append(max(abs(adamBash1['yy']-y_x(adamBash1['xx']))))\n",
    "err_ab2.append(max(abs(adamBash2['yy']-y_x(adamBash2['xx']))))\n",
    "err_ab3.append(max(abs(adamBash3['yy']-y_x(adamBash3['xx']))))\n",
    "\n",
    "print(tabulate([err_ab1, err_ab2, err_ab3],head))"
   ]
  },
  {
   "cell_type": "code",
   "execution_count": 52,
   "metadata": {},
   "outputs": [
    {
     "name": "stdout",
     "output_type": "stream",
     "text": [
      "31.1 µs ± 2.23 µs per loop (mean ± std. dev. of 7 runs, 10000 loops each)\n"
     ]
    }
   ],
   "source": [
    "%%timeit\n",
    "integrateAB1(f,a,ya,b,N)"
   ]
  },
  {
   "cell_type": "code",
   "execution_count": 53,
   "metadata": {},
   "outputs": [
    {
     "name": "stdout",
     "output_type": "stream",
     "text": [
      "42.1 µs ± 1.72 µs per loop (mean ± std. dev. of 7 runs, 10000 loops each)\n"
     ]
    }
   ],
   "source": [
    "%%timeit\n",
    "integrateAB2(f,a,ya,b,N)"
   ]
  },
  {
   "cell_type": "code",
   "execution_count": 54,
   "metadata": {},
   "outputs": [
    {
     "name": "stdout",
     "output_type": "stream",
     "text": [
      "50.8 µs ± 2.39 µs per loop (mean ± std. dev. of 7 runs, 10000 loops each)\n"
     ]
    }
   ],
   "source": [
    "%%timeit\n",
    "integrateAB3(f,a,ya,b,N)"
   ]
  },
  {
   "attachments": {},
   "cell_type": "markdown",
   "metadata": {},
   "source": [
    "Comparación con la solución exacta"
   ]
  },
  {
   "cell_type": "code",
   "execution_count": 56,
   "metadata": {},
   "outputs": [
    {
     "data": {
      "image/png": "[encoded data removed]",
      "text/plain": [
       "<Figure size 576x288 with 1 Axes>"
      ]
     },
     "metadata": {
      "needs_background": "light"
     },
     "output_type": "display_data"
    }
   ],
   "source": [
    "fig, ax = plt.subplots(figsize=(8, 4))\n",
    "ax.plot(adamBash1['xx'],adamBash1['yy'], 'yo',label = \"AB1 N={}\".format(N))\n",
    "ax.plot(adamBash2['xx'],adamBash2['yy'], 'co',label = \"AB2 N={}\".format(N))\n",
    "ax.plot(adamBash3['xx'],adamBash3['yy'], 'co',label = \"AB2 N={}\".format(N))\n",
    "ax.plot(xx, y_x(xx), label=\"sol. exacta\")\n",
    "ax.set_title(r\"Sol. exacta:  $y(t)=%s$\" % sp.latex(sol_exacta), fontsize=18)\n",
    "ax.set_xlabel(r\"$t$\", fontsize=18)\n",
    "ax.set_ylabel(r\"$y$\", fontsize=18)\n",
    "ax.legend()\n",
    "fig.tight_layout()"
   ]
  },
  {
   "attachments": {},
   "cell_type": "markdown",
   "metadata": {},
   "source": [
    "### Observaciones\n",
    "Se observa claramente tanto en los errores cometidos, como gráficamente que los métodos AB2 y AB3 aproximan mejor la solución (y de la misma manera) que el método AB1.\n",
    "Anque los primeros suponen mayor coste computacional."
   ]
  }
 ],
 "metadata": {
  "kernelspec": {
   "display_name": "Python 3",
   "language": "python",
   "name": "python3"
  },
  "language_info": {
   "codemirror_mode": {
    "name": "ipython",
    "version": 3
   },
   "file_extension": ".py",
   "mimetype": "text/x-python",
   "name": "python",
   "nbconvert_exporter": "python",
   "pygments_lexer": "ipython3",
   "version": "3.8.10"
  },
  "orig_nbformat": 4
 },
 "nbformat": 4,
 "nbformat_minor": 2
}
